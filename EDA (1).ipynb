{
  "nbformat": 4,
  "nbformat_minor": 0,
  "metadata": {
    "colab": {
      "provenance": []
    },
    "kernelspec": {
      "name": "python3",
      "display_name": "Python 3"
    },
    "language_info": {
      "name": "python"
    }
  },
  "cells": [
    {
      "cell_type": "code",
      "execution_count": 2,
      "metadata": {
        "id": "9EhNL48u2Ozn"
      },
      "outputs": [],
      "source": [
        "import pandas as pd\n",
        "import numpy as np\n",
        "import plotly.express as px\n",
        "import seaborn as sns\n"
      ]
    },
    {
      "cell_type": "code",
      "source": [
        "df=pd.read_csv(\"/content/adult.csv\",names=['age',\"workclass\",\"fnlwgt\",\"education\",\"education-num\",\"marital-status\",\"occupation\",\"relationship\",\"race\",\"sex\",\"capital-gain\",\"capital-loss\",\"hours-per-week\",\"native-country\",\"class\"])"
      ],
      "metadata": {
        "id": "Ox5Pob7y-2w9"
      },
      "execution_count": 5,
      "outputs": []
    },
    {
      "cell_type": "code",
      "source": [
        "df.head(2)"
      ],
      "metadata": {
        "colab": {
          "base_uri": "https://localhost:8080/",
          "height": 263
        },
        "id": "LSJu5LSF_nSH",
        "outputId": "c4d0106c-55f5-4bd7-a067-aedd2019b0c6"
      },
      "execution_count": 6,
      "outputs": [
        {
          "output_type": "execute_result",
          "data": {
            "text/plain": [
              "   age          workclass  fnlwgt   education  education-num  \\\n",
              "0   39          State-gov   77516   Bachelors             13   \n",
              "1   50   Self-emp-not-inc   83311   Bachelors             13   \n",
              "\n",
              "        marital-status        occupation    relationship    race    sex  \\\n",
              "0        Never-married      Adm-clerical   Not-in-family   White   Male   \n",
              "1   Married-civ-spouse   Exec-managerial         Husband   White   Male   \n",
              "\n",
              "   capital-gain  capital-loss  hours-per-week  native-country   class  \n",
              "0          2174             0              40   United-States   <=50K  \n",
              "1             0             0              13   United-States   <=50K  "
            ],
            "text/html": [
              "\n",
              "  <div id=\"df-f5644b77-7215-4590-98fb-095bef0c953c\">\n",
              "    <div class=\"colab-df-container\">\n",
              "      <div>\n",
              "<style scoped>\n",
              "    .dataframe tbody tr th:only-of-type {\n",
              "        vertical-align: middle;\n",
              "    }\n",
              "\n",
              "    .dataframe tbody tr th {\n",
              "        vertical-align: top;\n",
              "    }\n",
              "\n",
              "    .dataframe thead th {\n",
              "        text-align: right;\n",
              "    }\n",
              "</style>\n",
              "<table border=\"1\" class=\"dataframe\">\n",
              "  <thead>\n",
              "    <tr style=\"text-align: right;\">\n",
              "      <th></th>\n",
              "      <th>age</th>\n",
              "      <th>workclass</th>\n",
              "      <th>fnlwgt</th>\n",
              "      <th>education</th>\n",
              "      <th>education-num</th>\n",
              "      <th>marital-status</th>\n",
              "      <th>occupation</th>\n",
              "      <th>relationship</th>\n",
              "      <th>race</th>\n",
              "      <th>sex</th>\n",
              "      <th>capital-gain</th>\n",
              "      <th>capital-loss</th>\n",
              "      <th>hours-per-week</th>\n",
              "      <th>native-country</th>\n",
              "      <th>class</th>\n",
              "    </tr>\n",
              "  </thead>\n",
              "  <tbody>\n",
              "    <tr>\n",
              "      <th>0</th>\n",
              "      <td>39</td>\n",
              "      <td>State-gov</td>\n",
              "      <td>77516</td>\n",
              "      <td>Bachelors</td>\n",
              "      <td>13</td>\n",
              "      <td>Never-married</td>\n",
              "      <td>Adm-clerical</td>\n",
              "      <td>Not-in-family</td>\n",
              "      <td>White</td>\n",
              "      <td>Male</td>\n",
              "      <td>2174</td>\n",
              "      <td>0</td>\n",
              "      <td>40</td>\n",
              "      <td>United-States</td>\n",
              "      <td>&lt;=50K</td>\n",
              "    </tr>\n",
              "    <tr>\n",
              "      <th>1</th>\n",
              "      <td>50</td>\n",
              "      <td>Self-emp-not-inc</td>\n",
              "      <td>83311</td>\n",
              "      <td>Bachelors</td>\n",
              "      <td>13</td>\n",
              "      <td>Married-civ-spouse</td>\n",
              "      <td>Exec-managerial</td>\n",
              "      <td>Husband</td>\n",
              "      <td>White</td>\n",
              "      <td>Male</td>\n",
              "      <td>0</td>\n",
              "      <td>0</td>\n",
              "      <td>13</td>\n",
              "      <td>United-States</td>\n",
              "      <td>&lt;=50K</td>\n",
              "    </tr>\n",
              "  </tbody>\n",
              "</table>\n",
              "</div>\n",
              "      <button class=\"colab-df-convert\" onclick=\"convertToInteractive('df-f5644b77-7215-4590-98fb-095bef0c953c')\"\n",
              "              title=\"Convert this dataframe to an interactive table.\"\n",
              "              style=\"display:none;\">\n",
              "        \n",
              "  <svg xmlns=\"http://www.w3.org/2000/svg\" height=\"24px\"viewBox=\"0 0 24 24\"\n",
              "       width=\"24px\">\n",
              "    <path d=\"M0 0h24v24H0V0z\" fill=\"none\"/>\n",
              "    <path d=\"M18.56 5.44l.94 2.06.94-2.06 2.06-.94-2.06-.94-.94-2.06-.94 2.06-2.06.94zm-11 1L8.5 8.5l.94-2.06 2.06-.94-2.06-.94L8.5 2.5l-.94 2.06-2.06.94zm10 10l.94 2.06.94-2.06 2.06-.94-2.06-.94-.94-2.06-.94 2.06-2.06.94z\"/><path d=\"M17.41 7.96l-1.37-1.37c-.4-.4-.92-.59-1.43-.59-.52 0-1.04.2-1.43.59L10.3 9.45l-7.72 7.72c-.78.78-.78 2.05 0 2.83L4 21.41c.39.39.9.59 1.41.59.51 0 1.02-.2 1.41-.59l7.78-7.78 2.81-2.81c.8-.78.8-2.07 0-2.86zM5.41 20L4 18.59l7.72-7.72 1.47 1.35L5.41 20z\"/>\n",
              "  </svg>\n",
              "      </button>\n",
              "      \n",
              "  <style>\n",
              "    .colab-df-container {\n",
              "      display:flex;\n",
              "      flex-wrap:wrap;\n",
              "      gap: 12px;\n",
              "    }\n",
              "\n",
              "    .colab-df-convert {\n",
              "      background-color: #E8F0FE;\n",
              "      border: none;\n",
              "      border-radius: 50%;\n",
              "      cursor: pointer;\n",
              "      display: none;\n",
              "      fill: #1967D2;\n",
              "      height: 32px;\n",
              "      padding: 0 0 0 0;\n",
              "      width: 32px;\n",
              "    }\n",
              "\n",
              "    .colab-df-convert:hover {\n",
              "      background-color: #E2EBFA;\n",
              "      box-shadow: 0px 1px 2px rgba(60, 64, 67, 0.3), 0px 1px 3px 1px rgba(60, 64, 67, 0.15);\n",
              "      fill: #174EA6;\n",
              "    }\n",
              "\n",
              "    [theme=dark] .colab-df-convert {\n",
              "      background-color: #3B4455;\n",
              "      fill: #D2E3FC;\n",
              "    }\n",
              "\n",
              "    [theme=dark] .colab-df-convert:hover {\n",
              "      background-color: #434B5C;\n",
              "      box-shadow: 0px 1px 3px 1px rgba(0, 0, 0, 0.15);\n",
              "      filter: drop-shadow(0px 1px 2px rgba(0, 0, 0, 0.3));\n",
              "      fill: #FFFFFF;\n",
              "    }\n",
              "  </style>\n",
              "\n",
              "      <script>\n",
              "        const buttonEl =\n",
              "          document.querySelector('#df-f5644b77-7215-4590-98fb-095bef0c953c button.colab-df-convert');\n",
              "        buttonEl.style.display =\n",
              "          google.colab.kernel.accessAllowed ? 'block' : 'none';\n",
              "\n",
              "        async function convertToInteractive(key) {\n",
              "          const element = document.querySelector('#df-f5644b77-7215-4590-98fb-095bef0c953c');\n",
              "          const dataTable =\n",
              "            await google.colab.kernel.invokeFunction('convertToInteractive',\n",
              "                                                     [key], {});\n",
              "          if (!dataTable) return;\n",
              "\n",
              "          const docLinkHtml = 'Like what you see? Visit the ' +\n",
              "            '<a target=\"_blank\" href=https://colab.research.google.com/notebooks/data_table.ipynb>data table notebook</a>'\n",
              "            + ' to learn more about interactive tables.';\n",
              "          element.innerHTML = '';\n",
              "          dataTable['output_type'] = 'display_data';\n",
              "          await google.colab.output.renderOutput(dataTable, element);\n",
              "          const docLink = document.createElement('div');\n",
              "          docLink.innerHTML = docLinkHtml;\n",
              "          element.appendChild(docLink);\n",
              "        }\n",
              "      </script>\n",
              "    </div>\n",
              "  </div>\n",
              "  "
            ]
          },
          "metadata": {},
          "execution_count": 6
        }
      ]
    },
    {
      "cell_type": "code",
      "source": [
        "df.tail(2)"
      ],
      "metadata": {
        "colab": {
          "base_uri": "https://localhost:8080/",
          "height": 263
        },
        "id": "eHe3xRItEGbD",
        "outputId": "f42c70f4-1c08-4808-c98d-7402e37ce7f5"
      },
      "execution_count": 7,
      "outputs": [
        {
          "output_type": "execute_result",
          "data": {
            "text/plain": [
              "       age      workclass  fnlwgt education  education-num  \\\n",
              "32559   22        Private  201490   HS-grad              9   \n",
              "32560   52   Self-emp-inc  287927   HS-grad              9   \n",
              "\n",
              "            marital-status        occupation relationship    race      sex  \\\n",
              "32559        Never-married      Adm-clerical    Own-child   White     Male   \n",
              "32560   Married-civ-spouse   Exec-managerial         Wife   White   Female   \n",
              "\n",
              "       capital-gain  capital-loss  hours-per-week  native-country   class  \n",
              "32559             0             0              20   United-States   <=50K  \n",
              "32560         15024             0              40   United-States    >50K  "
            ],
            "text/html": [
              "\n",
              "  <div id=\"df-fdde692b-72e8-41db-84cb-0696e4347f32\">\n",
              "    <div class=\"colab-df-container\">\n",
              "      <div>\n",
              "<style scoped>\n",
              "    .dataframe tbody tr th:only-of-type {\n",
              "        vertical-align: middle;\n",
              "    }\n",
              "\n",
              "    .dataframe tbody tr th {\n",
              "        vertical-align: top;\n",
              "    }\n",
              "\n",
              "    .dataframe thead th {\n",
              "        text-align: right;\n",
              "    }\n",
              "</style>\n",
              "<table border=\"1\" class=\"dataframe\">\n",
              "  <thead>\n",
              "    <tr style=\"text-align: right;\">\n",
              "      <th></th>\n",
              "      <th>age</th>\n",
              "      <th>workclass</th>\n",
              "      <th>fnlwgt</th>\n",
              "      <th>education</th>\n",
              "      <th>education-num</th>\n",
              "      <th>marital-status</th>\n",
              "      <th>occupation</th>\n",
              "      <th>relationship</th>\n",
              "      <th>race</th>\n",
              "      <th>sex</th>\n",
              "      <th>capital-gain</th>\n",
              "      <th>capital-loss</th>\n",
              "      <th>hours-per-week</th>\n",
              "      <th>native-country</th>\n",
              "      <th>class</th>\n",
              "    </tr>\n",
              "  </thead>\n",
              "  <tbody>\n",
              "    <tr>\n",
              "      <th>32559</th>\n",
              "      <td>22</td>\n",
              "      <td>Private</td>\n",
              "      <td>201490</td>\n",
              "      <td>HS-grad</td>\n",
              "      <td>9</td>\n",
              "      <td>Never-married</td>\n",
              "      <td>Adm-clerical</td>\n",
              "      <td>Own-child</td>\n",
              "      <td>White</td>\n",
              "      <td>Male</td>\n",
              "      <td>0</td>\n",
              "      <td>0</td>\n",
              "      <td>20</td>\n",
              "      <td>United-States</td>\n",
              "      <td>&lt;=50K</td>\n",
              "    </tr>\n",
              "    <tr>\n",
              "      <th>32560</th>\n",
              "      <td>52</td>\n",
              "      <td>Self-emp-inc</td>\n",
              "      <td>287927</td>\n",
              "      <td>HS-grad</td>\n",
              "      <td>9</td>\n",
              "      <td>Married-civ-spouse</td>\n",
              "      <td>Exec-managerial</td>\n",
              "      <td>Wife</td>\n",
              "      <td>White</td>\n",
              "      <td>Female</td>\n",
              "      <td>15024</td>\n",
              "      <td>0</td>\n",
              "      <td>40</td>\n",
              "      <td>United-States</td>\n",
              "      <td>&gt;50K</td>\n",
              "    </tr>\n",
              "  </tbody>\n",
              "</table>\n",
              "</div>\n",
              "      <button class=\"colab-df-convert\" onclick=\"convertToInteractive('df-fdde692b-72e8-41db-84cb-0696e4347f32')\"\n",
              "              title=\"Convert this dataframe to an interactive table.\"\n",
              "              style=\"display:none;\">\n",
              "        \n",
              "  <svg xmlns=\"http://www.w3.org/2000/svg\" height=\"24px\"viewBox=\"0 0 24 24\"\n",
              "       width=\"24px\">\n",
              "    <path d=\"M0 0h24v24H0V0z\" fill=\"none\"/>\n",
              "    <path d=\"M18.56 5.44l.94 2.06.94-2.06 2.06-.94-2.06-.94-.94-2.06-.94 2.06-2.06.94zm-11 1L8.5 8.5l.94-2.06 2.06-.94-2.06-.94L8.5 2.5l-.94 2.06-2.06.94zm10 10l.94 2.06.94-2.06 2.06-.94-2.06-.94-.94-2.06-.94 2.06-2.06.94z\"/><path d=\"M17.41 7.96l-1.37-1.37c-.4-.4-.92-.59-1.43-.59-.52 0-1.04.2-1.43.59L10.3 9.45l-7.72 7.72c-.78.78-.78 2.05 0 2.83L4 21.41c.39.39.9.59 1.41.59.51 0 1.02-.2 1.41-.59l7.78-7.78 2.81-2.81c.8-.78.8-2.07 0-2.86zM5.41 20L4 18.59l7.72-7.72 1.47 1.35L5.41 20z\"/>\n",
              "  </svg>\n",
              "      </button>\n",
              "      \n",
              "  <style>\n",
              "    .colab-df-container {\n",
              "      display:flex;\n",
              "      flex-wrap:wrap;\n",
              "      gap: 12px;\n",
              "    }\n",
              "\n",
              "    .colab-df-convert {\n",
              "      background-color: #E8F0FE;\n",
              "      border: none;\n",
              "      border-radius: 50%;\n",
              "      cursor: pointer;\n",
              "      display: none;\n",
              "      fill: #1967D2;\n",
              "      height: 32px;\n",
              "      padding: 0 0 0 0;\n",
              "      width: 32px;\n",
              "    }\n",
              "\n",
              "    .colab-df-convert:hover {\n",
              "      background-color: #E2EBFA;\n",
              "      box-shadow: 0px 1px 2px rgba(60, 64, 67, 0.3), 0px 1px 3px 1px rgba(60, 64, 67, 0.15);\n",
              "      fill: #174EA6;\n",
              "    }\n",
              "\n",
              "    [theme=dark] .colab-df-convert {\n",
              "      background-color: #3B4455;\n",
              "      fill: #D2E3FC;\n",
              "    }\n",
              "\n",
              "    [theme=dark] .colab-df-convert:hover {\n",
              "      background-color: #434B5C;\n",
              "      box-shadow: 0px 1px 3px 1px rgba(0, 0, 0, 0.15);\n",
              "      filter: drop-shadow(0px 1px 2px rgba(0, 0, 0, 0.3));\n",
              "      fill: #FFFFFF;\n",
              "    }\n",
              "  </style>\n",
              "\n",
              "      <script>\n",
              "        const buttonEl =\n",
              "          document.querySelector('#df-fdde692b-72e8-41db-84cb-0696e4347f32 button.colab-df-convert');\n",
              "        buttonEl.style.display =\n",
              "          google.colab.kernel.accessAllowed ? 'block' : 'none';\n",
              "\n",
              "        async function convertToInteractive(key) {\n",
              "          const element = document.querySelector('#df-fdde692b-72e8-41db-84cb-0696e4347f32');\n",
              "          const dataTable =\n",
              "            await google.colab.kernel.invokeFunction('convertToInteractive',\n",
              "                                                     [key], {});\n",
              "          if (!dataTable) return;\n",
              "\n",
              "          const docLinkHtml = 'Like what you see? Visit the ' +\n",
              "            '<a target=\"_blank\" href=https://colab.research.google.com/notebooks/data_table.ipynb>data table notebook</a>'\n",
              "            + ' to learn more about interactive tables.';\n",
              "          element.innerHTML = '';\n",
              "          dataTable['output_type'] = 'display_data';\n",
              "          await google.colab.output.renderOutput(dataTable, element);\n",
              "          const docLink = document.createElement('div');\n",
              "          docLink.innerHTML = docLinkHtml;\n",
              "          element.appendChild(docLink);\n",
              "        }\n",
              "      </script>\n",
              "    </div>\n",
              "  </div>\n",
              "  "
            ]
          },
          "metadata": {},
          "execution_count": 7
        }
      ]
    },
    {
      "cell_type": "code",
      "source": [
        "df.info()"
      ],
      "metadata": {
        "colab": {
          "base_uri": "https://localhost:8080/"
        },
        "id": "IVUAAhgiEM6B",
        "outputId": "53a45983-d7ed-4825-9ebc-7d8004ed273a"
      },
      "execution_count": 8,
      "outputs": [
        {
          "output_type": "stream",
          "name": "stdout",
          "text": [
            "<class 'pandas.core.frame.DataFrame'>\n",
            "RangeIndex: 32561 entries, 0 to 32560\n",
            "Data columns (total 15 columns):\n",
            " #   Column          Non-Null Count  Dtype \n",
            "---  ------          --------------  ----- \n",
            " 0   age             32561 non-null  int64 \n",
            " 1   workclass       32561 non-null  object\n",
            " 2   fnlwgt          32561 non-null  int64 \n",
            " 3   education       32561 non-null  object\n",
            " 4   education-num   32561 non-null  int64 \n",
            " 5   marital-status  32561 non-null  object\n",
            " 6   occupation      32561 non-null  object\n",
            " 7   relationship    32561 non-null  object\n",
            " 8   race            32561 non-null  object\n",
            " 9   sex             32561 non-null  object\n",
            " 10  capital-gain    32561 non-null  int64 \n",
            " 11  capital-loss    32561 non-null  int64 \n",
            " 12  hours-per-week  32561 non-null  int64 \n",
            " 13  native-country  32561 non-null  object\n",
            " 14  class           32561 non-null  object\n",
            "dtypes: int64(6), object(9)\n",
            "memory usage: 3.7+ MB\n"
          ]
        }
      ]
    },
    {
      "cell_type": "code",
      "source": [
        "df.describe()"
      ],
      "metadata": {
        "colab": {
          "base_uri": "https://localhost:8080/",
          "height": 300
        },
        "id": "1o0XB1leETHx",
        "outputId": "cd8689ad-eb4d-46bc-9f0b-f74985bb89bc"
      },
      "execution_count": 9,
      "outputs": [
        {
          "output_type": "execute_result",
          "data": {
            "text/plain": [
              "                age        fnlwgt  education-num  capital-gain  capital-loss  \\\n",
              "count  32561.000000  3.256100e+04   32561.000000  32561.000000  32561.000000   \n",
              "mean      38.581647  1.897784e+05      10.080679   1077.648844     87.303830   \n",
              "std       13.640433  1.055500e+05       2.572720   7385.292085    402.960219   \n",
              "min       17.000000  1.228500e+04       1.000000      0.000000      0.000000   \n",
              "25%       28.000000  1.178270e+05       9.000000      0.000000      0.000000   \n",
              "50%       37.000000  1.783560e+05      10.000000      0.000000      0.000000   \n",
              "75%       48.000000  2.370510e+05      12.000000      0.000000      0.000000   \n",
              "max       90.000000  1.484705e+06      16.000000  99999.000000   4356.000000   \n",
              "\n",
              "       hours-per-week  \n",
              "count    32561.000000  \n",
              "mean        40.437456  \n",
              "std         12.347429  \n",
              "min          1.000000  \n",
              "25%         40.000000  \n",
              "50%         40.000000  \n",
              "75%         45.000000  \n",
              "max         99.000000  "
            ],
            "text/html": [
              "\n",
              "  <div id=\"df-76f16d76-644b-41f9-8621-30ffe42791bf\">\n",
              "    <div class=\"colab-df-container\">\n",
              "      <div>\n",
              "<style scoped>\n",
              "    .dataframe tbody tr th:only-of-type {\n",
              "        vertical-align: middle;\n",
              "    }\n",
              "\n",
              "    .dataframe tbody tr th {\n",
              "        vertical-align: top;\n",
              "    }\n",
              "\n",
              "    .dataframe thead th {\n",
              "        text-align: right;\n",
              "    }\n",
              "</style>\n",
              "<table border=\"1\" class=\"dataframe\">\n",
              "  <thead>\n",
              "    <tr style=\"text-align: right;\">\n",
              "      <th></th>\n",
              "      <th>age</th>\n",
              "      <th>fnlwgt</th>\n",
              "      <th>education-num</th>\n",
              "      <th>capital-gain</th>\n",
              "      <th>capital-loss</th>\n",
              "      <th>hours-per-week</th>\n",
              "    </tr>\n",
              "  </thead>\n",
              "  <tbody>\n",
              "    <tr>\n",
              "      <th>count</th>\n",
              "      <td>32561.000000</td>\n",
              "      <td>3.256100e+04</td>\n",
              "      <td>32561.000000</td>\n",
              "      <td>32561.000000</td>\n",
              "      <td>32561.000000</td>\n",
              "      <td>32561.000000</td>\n",
              "    </tr>\n",
              "    <tr>\n",
              "      <th>mean</th>\n",
              "      <td>38.581647</td>\n",
              "      <td>1.897784e+05</td>\n",
              "      <td>10.080679</td>\n",
              "      <td>1077.648844</td>\n",
              "      <td>87.303830</td>\n",
              "      <td>40.437456</td>\n",
              "    </tr>\n",
              "    <tr>\n",
              "      <th>std</th>\n",
              "      <td>13.640433</td>\n",
              "      <td>1.055500e+05</td>\n",
              "      <td>2.572720</td>\n",
              "      <td>7385.292085</td>\n",
              "      <td>402.960219</td>\n",
              "      <td>12.347429</td>\n",
              "    </tr>\n",
              "    <tr>\n",
              "      <th>min</th>\n",
              "      <td>17.000000</td>\n",
              "      <td>1.228500e+04</td>\n",
              "      <td>1.000000</td>\n",
              "      <td>0.000000</td>\n",
              "      <td>0.000000</td>\n",
              "      <td>1.000000</td>\n",
              "    </tr>\n",
              "    <tr>\n",
              "      <th>25%</th>\n",
              "      <td>28.000000</td>\n",
              "      <td>1.178270e+05</td>\n",
              "      <td>9.000000</td>\n",
              "      <td>0.000000</td>\n",
              "      <td>0.000000</td>\n",
              "      <td>40.000000</td>\n",
              "    </tr>\n",
              "    <tr>\n",
              "      <th>50%</th>\n",
              "      <td>37.000000</td>\n",
              "      <td>1.783560e+05</td>\n",
              "      <td>10.000000</td>\n",
              "      <td>0.000000</td>\n",
              "      <td>0.000000</td>\n",
              "      <td>40.000000</td>\n",
              "    </tr>\n",
              "    <tr>\n",
              "      <th>75%</th>\n",
              "      <td>48.000000</td>\n",
              "      <td>2.370510e+05</td>\n",
              "      <td>12.000000</td>\n",
              "      <td>0.000000</td>\n",
              "      <td>0.000000</td>\n",
              "      <td>45.000000</td>\n",
              "    </tr>\n",
              "    <tr>\n",
              "      <th>max</th>\n",
              "      <td>90.000000</td>\n",
              "      <td>1.484705e+06</td>\n",
              "      <td>16.000000</td>\n",
              "      <td>99999.000000</td>\n",
              "      <td>4356.000000</td>\n",
              "      <td>99.000000</td>\n",
              "    </tr>\n",
              "  </tbody>\n",
              "</table>\n",
              "</div>\n",
              "      <button class=\"colab-df-convert\" onclick=\"convertToInteractive('df-76f16d76-644b-41f9-8621-30ffe42791bf')\"\n",
              "              title=\"Convert this dataframe to an interactive table.\"\n",
              "              style=\"display:none;\">\n",
              "        \n",
              "  <svg xmlns=\"http://www.w3.org/2000/svg\" height=\"24px\"viewBox=\"0 0 24 24\"\n",
              "       width=\"24px\">\n",
              "    <path d=\"M0 0h24v24H0V0z\" fill=\"none\"/>\n",
              "    <path d=\"M18.56 5.44l.94 2.06.94-2.06 2.06-.94-2.06-.94-.94-2.06-.94 2.06-2.06.94zm-11 1L8.5 8.5l.94-2.06 2.06-.94-2.06-.94L8.5 2.5l-.94 2.06-2.06.94zm10 10l.94 2.06.94-2.06 2.06-.94-2.06-.94-.94-2.06-.94 2.06-2.06.94z\"/><path d=\"M17.41 7.96l-1.37-1.37c-.4-.4-.92-.59-1.43-.59-.52 0-1.04.2-1.43.59L10.3 9.45l-7.72 7.72c-.78.78-.78 2.05 0 2.83L4 21.41c.39.39.9.59 1.41.59.51 0 1.02-.2 1.41-.59l7.78-7.78 2.81-2.81c.8-.78.8-2.07 0-2.86zM5.41 20L4 18.59l7.72-7.72 1.47 1.35L5.41 20z\"/>\n",
              "  </svg>\n",
              "      </button>\n",
              "      \n",
              "  <style>\n",
              "    .colab-df-container {\n",
              "      display:flex;\n",
              "      flex-wrap:wrap;\n",
              "      gap: 12px;\n",
              "    }\n",
              "\n",
              "    .colab-df-convert {\n",
              "      background-color: #E8F0FE;\n",
              "      border: none;\n",
              "      border-radius: 50%;\n",
              "      cursor: pointer;\n",
              "      display: none;\n",
              "      fill: #1967D2;\n",
              "      height: 32px;\n",
              "      padding: 0 0 0 0;\n",
              "      width: 32px;\n",
              "    }\n",
              "\n",
              "    .colab-df-convert:hover {\n",
              "      background-color: #E2EBFA;\n",
              "      box-shadow: 0px 1px 2px rgba(60, 64, 67, 0.3), 0px 1px 3px 1px rgba(60, 64, 67, 0.15);\n",
              "      fill: #174EA6;\n",
              "    }\n",
              "\n",
              "    [theme=dark] .colab-df-convert {\n",
              "      background-color: #3B4455;\n",
              "      fill: #D2E3FC;\n",
              "    }\n",
              "\n",
              "    [theme=dark] .colab-df-convert:hover {\n",
              "      background-color: #434B5C;\n",
              "      box-shadow: 0px 1px 3px 1px rgba(0, 0, 0, 0.15);\n",
              "      filter: drop-shadow(0px 1px 2px rgba(0, 0, 0, 0.3));\n",
              "      fill: #FFFFFF;\n",
              "    }\n",
              "  </style>\n",
              "\n",
              "      <script>\n",
              "        const buttonEl =\n",
              "          document.querySelector('#df-76f16d76-644b-41f9-8621-30ffe42791bf button.colab-df-convert');\n",
              "        buttonEl.style.display =\n",
              "          google.colab.kernel.accessAllowed ? 'block' : 'none';\n",
              "\n",
              "        async function convertToInteractive(key) {\n",
              "          const element = document.querySelector('#df-76f16d76-644b-41f9-8621-30ffe42791bf');\n",
              "          const dataTable =\n",
              "            await google.colab.kernel.invokeFunction('convertToInteractive',\n",
              "                                                     [key], {});\n",
              "          if (!dataTable) return;\n",
              "\n",
              "          const docLinkHtml = 'Like what you see? Visit the ' +\n",
              "            '<a target=\"_blank\" href=https://colab.research.google.com/notebooks/data_table.ipynb>data table notebook</a>'\n",
              "            + ' to learn more about interactive tables.';\n",
              "          element.innerHTML = '';\n",
              "          dataTable['output_type'] = 'display_data';\n",
              "          await google.colab.output.renderOutput(dataTable, element);\n",
              "          const docLink = document.createElement('div');\n",
              "          docLink.innerHTML = docLinkHtml;\n",
              "          element.appendChild(docLink);\n",
              "        }\n",
              "      </script>\n",
              "    </div>\n",
              "  </div>\n",
              "  "
            ]
          },
          "metadata": {},
          "execution_count": 9
        }
      ]
    },
    {
      "cell_type": "code",
      "source": [
        "df.shape"
      ],
      "metadata": {
        "colab": {
          "base_uri": "https://localhost:8080/"
        },
        "id": "-MdVTisrEahB",
        "outputId": "55e75369-b182-41de-ce0d-268379b790ca"
      },
      "execution_count": 10,
      "outputs": [
        {
          "output_type": "execute_result",
          "data": {
            "text/plain": [
              "(32561, 15)"
            ]
          },
          "metadata": {},
          "execution_count": 10
        }
      ]
    },
    {
      "cell_type": "markdown",
      "source": [
        "To find the null values"
      ],
      "metadata": {
        "id": "vZOLYBWiEtzg"
      }
    },
    {
      "cell_type": "code",
      "source": [
        "df.isnull().sum()"
      ],
      "metadata": {
        "colab": {
          "base_uri": "https://localhost:8080/"
        },
        "id": "l4JUgoRqEwag",
        "outputId": "9c39cf80-eb90-463d-b0b2-a9f7b0138a3b"
      },
      "execution_count": 11,
      "outputs": [
        {
          "output_type": "execute_result",
          "data": {
            "text/plain": [
              "age               0\n",
              "workclass         0\n",
              "fnlwgt            0\n",
              "education         0\n",
              "education-num     0\n",
              "marital-status    0\n",
              "occupation        0\n",
              "relationship      0\n",
              "race              0\n",
              "sex               0\n",
              "capital-gain      0\n",
              "capital-loss      0\n",
              "hours-per-week    0\n",
              "native-country    0\n",
              "class             0\n",
              "dtype: int64"
            ]
          },
          "metadata": {},
          "execution_count": 11
        }
      ]
    },
    {
      "cell_type": "markdown",
      "source": [
        "#Conclusion\n",
        "1. The size of data is 32561 rows and 15 column\n",
        "2.Their are no null value present in any of the columns.\n",
        "3.Their are 6 numerical data and 9 non numerical"
      ],
      "metadata": {
        "id": "3RBPLYAcE7fv"
      }
    },
    {
      "cell_type": "code",
      "source": [
        "numerical_column=list()\n",
        "categorical_column=list()\n",
        "\n",
        "for i in df.columns:\n",
        "  if(df[i].dtype=='object'):\n",
        "    categorical_column.append(i)\n",
        "  else:\n",
        "    numerical_column.append(i)"
      ],
      "metadata": {
        "id": "WAKAJ_U0E29D"
      },
      "execution_count": 12,
      "outputs": []
    },
    {
      "cell_type": "code",
      "source": [
        "#mean of every numerical column\n",
        "for i in numerical_column:\n",
        "  print(round(np.mean(df[i]),2))"
      ],
      "metadata": {
        "colab": {
          "base_uri": "https://localhost:8080/"
        },
        "id": "21ekiypiGDpp",
        "outputId": "c2529326-d5c6-45a2-d8b4-82c4ce455754"
      },
      "execution_count": 13,
      "outputs": [
        {
          "output_type": "stream",
          "name": "stdout",
          "text": [
            "38.58\n",
            "189778.37\n",
            "10.08\n",
            "1077.65\n",
            "87.3\n",
            "40.44\n"
          ]
        }
      ]
    },
    {
      "cell_type": "markdown",
      "source": [
        "#Duplicate rows"
      ],
      "metadata": {
        "id": "Mwk0wNx8HRP2"
      }
    },
    {
      "cell_type": "code",
      "source": [
        "df[df.duplicated()]"
      ],
      "metadata": {
        "colab": {
          "base_uri": "https://localhost:8080/",
          "height": 1000
        },
        "id": "1upCVMRuG5P5",
        "outputId": "109953c0-6902-4484-a2e4-88bf2b2d9ee8"
      },
      "execution_count": 14,
      "outputs": [
        {
          "output_type": "execute_result",
          "data": {
            "text/plain": [
              "       age          workclass  fnlwgt      education  education-num  \\\n",
              "4881    25            Private  308144      Bachelors             13   \n",
              "5104    90            Private   52386   Some-college             10   \n",
              "9171    21            Private  250051   Some-college             10   \n",
              "11631   20            Private  107658   Some-college             10   \n",
              "13084   25            Private  195994        1st-4th              2   \n",
              "15059   21            Private  243368      Preschool              1   \n",
              "17040   46            Private  173243        HS-grad              9   \n",
              "18555   30            Private  144593        HS-grad              9   \n",
              "18698   19            Private   97261        HS-grad              9   \n",
              "21318   19            Private  138153   Some-college             10   \n",
              "21490   19            Private  146679   Some-college             10   \n",
              "21875   49            Private   31267        7th-8th              4   \n",
              "22300   25            Private  195994        1st-4th              2   \n",
              "22367   44            Private  367749      Bachelors             13   \n",
              "22494   49   Self-emp-not-inc   43479   Some-college             10   \n",
              "25872   23            Private  240137        5th-6th              3   \n",
              "26313   28            Private  274679        Masters             14   \n",
              "28230   27            Private  255582        HS-grad              9   \n",
              "28522   42            Private  204235   Some-college             10   \n",
              "28846   39            Private   30916        HS-grad              9   \n",
              "29157   38            Private  207202        HS-grad              9   \n",
              "30845   46            Private  133616   Some-college             10   \n",
              "31993   19            Private  251579   Some-college             10   \n",
              "32404   35            Private  379959        HS-grad              9   \n",
              "\n",
              "            marital-status          occupation    relationship  \\\n",
              "4881         Never-married        Craft-repair   Not-in-family   \n",
              "5104         Never-married       Other-service   Not-in-family   \n",
              "9171         Never-married      Prof-specialty       Own-child   \n",
              "11631        Never-married        Tech-support   Not-in-family   \n",
              "13084        Never-married     Priv-house-serv   Not-in-family   \n",
              "15059        Never-married     Farming-fishing   Not-in-family   \n",
              "17040   Married-civ-spouse        Craft-repair         Husband   \n",
              "18555        Never-married       Other-service   Not-in-family   \n",
              "18698        Never-married     Farming-fishing   Not-in-family   \n",
              "21318        Never-married        Adm-clerical       Own-child   \n",
              "21490        Never-married     Exec-managerial       Own-child   \n",
              "21875   Married-civ-spouse        Craft-repair         Husband   \n",
              "22300        Never-married     Priv-house-serv   Not-in-family   \n",
              "22367        Never-married      Prof-specialty   Not-in-family   \n",
              "22494   Married-civ-spouse        Craft-repair         Husband   \n",
              "25872        Never-married   Handlers-cleaners   Not-in-family   \n",
              "26313        Never-married      Prof-specialty   Not-in-family   \n",
              "28230        Never-married   Machine-op-inspct   Not-in-family   \n",
              "28522   Married-civ-spouse      Prof-specialty         Husband   \n",
              "28846   Married-civ-spouse        Craft-repair         Husband   \n",
              "29157   Married-civ-spouse   Machine-op-inspct         Husband   \n",
              "30845             Divorced        Adm-clerical       Unmarried   \n",
              "31993        Never-married       Other-service       Own-child   \n",
              "32404             Divorced       Other-service   Not-in-family   \n",
              "\n",
              "                      race      sex  capital-gain  capital-loss  \\\n",
              "4881                 White     Male             0             0   \n",
              "5104    Asian-Pac-Islander     Male             0             0   \n",
              "9171                 White   Female             0             0   \n",
              "11631                White   Female             0             0   \n",
              "13084                White   Female             0             0   \n",
              "15059                White     Male             0             0   \n",
              "17040                White     Male             0             0   \n",
              "18555                Black     Male             0             0   \n",
              "18698                White     Male             0             0   \n",
              "21318                White   Female             0             0   \n",
              "21490                Black     Male             0             0   \n",
              "21875                White     Male             0             0   \n",
              "22300                White   Female             0             0   \n",
              "22367                White   Female             0             0   \n",
              "22494                White     Male             0             0   \n",
              "25872                White     Male             0             0   \n",
              "26313                White     Male             0             0   \n",
              "28230                White   Female             0             0   \n",
              "28522                White     Male             0             0   \n",
              "28846                White     Male             0             0   \n",
              "29157                White     Male             0             0   \n",
              "30845                White   Female             0             0   \n",
              "31993                White     Male             0             0   \n",
              "32404                White   Female             0             0   \n",
              "\n",
              "       hours-per-week  native-country   class  \n",
              "4881               40          Mexico   <=50K  \n",
              "5104               35   United-States   <=50K  \n",
              "9171               10   United-States   <=50K  \n",
              "11631              10   United-States   <=50K  \n",
              "13084              40       Guatemala   <=50K  \n",
              "15059              50          Mexico   <=50K  \n",
              "17040              40   United-States   <=50K  \n",
              "18555              40               ?   <=50K  \n",
              "18698              40   United-States   <=50K  \n",
              "21318              10   United-States   <=50K  \n",
              "21490              30   United-States   <=50K  \n",
              "21875              40   United-States   <=50K  \n",
              "22300              40       Guatemala   <=50K  \n",
              "22367              45          Mexico   <=50K  \n",
              "22494              40   United-States   <=50K  \n",
              "25872              55          Mexico   <=50K  \n",
              "26313              50   United-States   <=50K  \n",
              "28230              40   United-States   <=50K  \n",
              "28522              40   United-States    >50K  \n",
              "28846              40   United-States   <=50K  \n",
              "29157              48   United-States    >50K  \n",
              "30845              40   United-States   <=50K  \n",
              "31993              14   United-States   <=50K  \n",
              "32404              40   United-States   <=50K  "
            ],
            "text/html": [
              "\n",
              "  <div id=\"df-9d9d7c89-770d-475b-930f-a078eae890c8\">\n",
              "    <div class=\"colab-df-container\">\n",
              "      <div>\n",
              "<style scoped>\n",
              "    .dataframe tbody tr th:only-of-type {\n",
              "        vertical-align: middle;\n",
              "    }\n",
              "\n",
              "    .dataframe tbody tr th {\n",
              "        vertical-align: top;\n",
              "    }\n",
              "\n",
              "    .dataframe thead th {\n",
              "        text-align: right;\n",
              "    }\n",
              "</style>\n",
              "<table border=\"1\" class=\"dataframe\">\n",
              "  <thead>\n",
              "    <tr style=\"text-align: right;\">\n",
              "      <th></th>\n",
              "      <th>age</th>\n",
              "      <th>workclass</th>\n",
              "      <th>fnlwgt</th>\n",
              "      <th>education</th>\n",
              "      <th>education-num</th>\n",
              "      <th>marital-status</th>\n",
              "      <th>occupation</th>\n",
              "      <th>relationship</th>\n",
              "      <th>race</th>\n",
              "      <th>sex</th>\n",
              "      <th>capital-gain</th>\n",
              "      <th>capital-loss</th>\n",
              "      <th>hours-per-week</th>\n",
              "      <th>native-country</th>\n",
              "      <th>class</th>\n",
              "    </tr>\n",
              "  </thead>\n",
              "  <tbody>\n",
              "    <tr>\n",
              "      <th>4881</th>\n",
              "      <td>25</td>\n",
              "      <td>Private</td>\n",
              "      <td>308144</td>\n",
              "      <td>Bachelors</td>\n",
              "      <td>13</td>\n",
              "      <td>Never-married</td>\n",
              "      <td>Craft-repair</td>\n",
              "      <td>Not-in-family</td>\n",
              "      <td>White</td>\n",
              "      <td>Male</td>\n",
              "      <td>0</td>\n",
              "      <td>0</td>\n",
              "      <td>40</td>\n",
              "      <td>Mexico</td>\n",
              "      <td>&lt;=50K</td>\n",
              "    </tr>\n",
              "    <tr>\n",
              "      <th>5104</th>\n",
              "      <td>90</td>\n",
              "      <td>Private</td>\n",
              "      <td>52386</td>\n",
              "      <td>Some-college</td>\n",
              "      <td>10</td>\n",
              "      <td>Never-married</td>\n",
              "      <td>Other-service</td>\n",
              "      <td>Not-in-family</td>\n",
              "      <td>Asian-Pac-Islander</td>\n",
              "      <td>Male</td>\n",
              "      <td>0</td>\n",
              "      <td>0</td>\n",
              "      <td>35</td>\n",
              "      <td>United-States</td>\n",
              "      <td>&lt;=50K</td>\n",
              "    </tr>\n",
              "    <tr>\n",
              "      <th>9171</th>\n",
              "      <td>21</td>\n",
              "      <td>Private</td>\n",
              "      <td>250051</td>\n",
              "      <td>Some-college</td>\n",
              "      <td>10</td>\n",
              "      <td>Never-married</td>\n",
              "      <td>Prof-specialty</td>\n",
              "      <td>Own-child</td>\n",
              "      <td>White</td>\n",
              "      <td>Female</td>\n",
              "      <td>0</td>\n",
              "      <td>0</td>\n",
              "      <td>10</td>\n",
              "      <td>United-States</td>\n",
              "      <td>&lt;=50K</td>\n",
              "    </tr>\n",
              "    <tr>\n",
              "      <th>11631</th>\n",
              "      <td>20</td>\n",
              "      <td>Private</td>\n",
              "      <td>107658</td>\n",
              "      <td>Some-college</td>\n",
              "      <td>10</td>\n",
              "      <td>Never-married</td>\n",
              "      <td>Tech-support</td>\n",
              "      <td>Not-in-family</td>\n",
              "      <td>White</td>\n",
              "      <td>Female</td>\n",
              "      <td>0</td>\n",
              "      <td>0</td>\n",
              "      <td>10</td>\n",
              "      <td>United-States</td>\n",
              "      <td>&lt;=50K</td>\n",
              "    </tr>\n",
              "    <tr>\n",
              "      <th>13084</th>\n",
              "      <td>25</td>\n",
              "      <td>Private</td>\n",
              "      <td>195994</td>\n",
              "      <td>1st-4th</td>\n",
              "      <td>2</td>\n",
              "      <td>Never-married</td>\n",
              "      <td>Priv-house-serv</td>\n",
              "      <td>Not-in-family</td>\n",
              "      <td>White</td>\n",
              "      <td>Female</td>\n",
              "      <td>0</td>\n",
              "      <td>0</td>\n",
              "      <td>40</td>\n",
              "      <td>Guatemala</td>\n",
              "      <td>&lt;=50K</td>\n",
              "    </tr>\n",
              "    <tr>\n",
              "      <th>15059</th>\n",
              "      <td>21</td>\n",
              "      <td>Private</td>\n",
              "      <td>243368</td>\n",
              "      <td>Preschool</td>\n",
              "      <td>1</td>\n",
              "      <td>Never-married</td>\n",
              "      <td>Farming-fishing</td>\n",
              "      <td>Not-in-family</td>\n",
              "      <td>White</td>\n",
              "      <td>Male</td>\n",
              "      <td>0</td>\n",
              "      <td>0</td>\n",
              "      <td>50</td>\n",
              "      <td>Mexico</td>\n",
              "      <td>&lt;=50K</td>\n",
              "    </tr>\n",
              "    <tr>\n",
              "      <th>17040</th>\n",
              "      <td>46</td>\n",
              "      <td>Private</td>\n",
              "      <td>173243</td>\n",
              "      <td>HS-grad</td>\n",
              "      <td>9</td>\n",
              "      <td>Married-civ-spouse</td>\n",
              "      <td>Craft-repair</td>\n",
              "      <td>Husband</td>\n",
              "      <td>White</td>\n",
              "      <td>Male</td>\n",
              "      <td>0</td>\n",
              "      <td>0</td>\n",
              "      <td>40</td>\n",
              "      <td>United-States</td>\n",
              "      <td>&lt;=50K</td>\n",
              "    </tr>\n",
              "    <tr>\n",
              "      <th>18555</th>\n",
              "      <td>30</td>\n",
              "      <td>Private</td>\n",
              "      <td>144593</td>\n",
              "      <td>HS-grad</td>\n",
              "      <td>9</td>\n",
              "      <td>Never-married</td>\n",
              "      <td>Other-service</td>\n",
              "      <td>Not-in-family</td>\n",
              "      <td>Black</td>\n",
              "      <td>Male</td>\n",
              "      <td>0</td>\n",
              "      <td>0</td>\n",
              "      <td>40</td>\n",
              "      <td>?</td>\n",
              "      <td>&lt;=50K</td>\n",
              "    </tr>\n",
              "    <tr>\n",
              "      <th>18698</th>\n",
              "      <td>19</td>\n",
              "      <td>Private</td>\n",
              "      <td>97261</td>\n",
              "      <td>HS-grad</td>\n",
              "      <td>9</td>\n",
              "      <td>Never-married</td>\n",
              "      <td>Farming-fishing</td>\n",
              "      <td>Not-in-family</td>\n",
              "      <td>White</td>\n",
              "      <td>Male</td>\n",
              "      <td>0</td>\n",
              "      <td>0</td>\n",
              "      <td>40</td>\n",
              "      <td>United-States</td>\n",
              "      <td>&lt;=50K</td>\n",
              "    </tr>\n",
              "    <tr>\n",
              "      <th>21318</th>\n",
              "      <td>19</td>\n",
              "      <td>Private</td>\n",
              "      <td>138153</td>\n",
              "      <td>Some-college</td>\n",
              "      <td>10</td>\n",
              "      <td>Never-married</td>\n",
              "      <td>Adm-clerical</td>\n",
              "      <td>Own-child</td>\n",
              "      <td>White</td>\n",
              "      <td>Female</td>\n",
              "      <td>0</td>\n",
              "      <td>0</td>\n",
              "      <td>10</td>\n",
              "      <td>United-States</td>\n",
              "      <td>&lt;=50K</td>\n",
              "    </tr>\n",
              "    <tr>\n",
              "      <th>21490</th>\n",
              "      <td>19</td>\n",
              "      <td>Private</td>\n",
              "      <td>146679</td>\n",
              "      <td>Some-college</td>\n",
              "      <td>10</td>\n",
              "      <td>Never-married</td>\n",
              "      <td>Exec-managerial</td>\n",
              "      <td>Own-child</td>\n",
              "      <td>Black</td>\n",
              "      <td>Male</td>\n",
              "      <td>0</td>\n",
              "      <td>0</td>\n",
              "      <td>30</td>\n",
              "      <td>United-States</td>\n",
              "      <td>&lt;=50K</td>\n",
              "    </tr>\n",
              "    <tr>\n",
              "      <th>21875</th>\n",
              "      <td>49</td>\n",
              "      <td>Private</td>\n",
              "      <td>31267</td>\n",
              "      <td>7th-8th</td>\n",
              "      <td>4</td>\n",
              "      <td>Married-civ-spouse</td>\n",
              "      <td>Craft-repair</td>\n",
              "      <td>Husband</td>\n",
              "      <td>White</td>\n",
              "      <td>Male</td>\n",
              "      <td>0</td>\n",
              "      <td>0</td>\n",
              "      <td>40</td>\n",
              "      <td>United-States</td>\n",
              "      <td>&lt;=50K</td>\n",
              "    </tr>\n",
              "    <tr>\n",
              "      <th>22300</th>\n",
              "      <td>25</td>\n",
              "      <td>Private</td>\n",
              "      <td>195994</td>\n",
              "      <td>1st-4th</td>\n",
              "      <td>2</td>\n",
              "      <td>Never-married</td>\n",
              "      <td>Priv-house-serv</td>\n",
              "      <td>Not-in-family</td>\n",
              "      <td>White</td>\n",
              "      <td>Female</td>\n",
              "      <td>0</td>\n",
              "      <td>0</td>\n",
              "      <td>40</td>\n",
              "      <td>Guatemala</td>\n",
              "      <td>&lt;=50K</td>\n",
              "    </tr>\n",
              "    <tr>\n",
              "      <th>22367</th>\n",
              "      <td>44</td>\n",
              "      <td>Private</td>\n",
              "      <td>367749</td>\n",
              "      <td>Bachelors</td>\n",
              "      <td>13</td>\n",
              "      <td>Never-married</td>\n",
              "      <td>Prof-specialty</td>\n",
              "      <td>Not-in-family</td>\n",
              "      <td>White</td>\n",
              "      <td>Female</td>\n",
              "      <td>0</td>\n",
              "      <td>0</td>\n",
              "      <td>45</td>\n",
              "      <td>Mexico</td>\n",
              "      <td>&lt;=50K</td>\n",
              "    </tr>\n",
              "    <tr>\n",
              "      <th>22494</th>\n",
              "      <td>49</td>\n",
              "      <td>Self-emp-not-inc</td>\n",
              "      <td>43479</td>\n",
              "      <td>Some-college</td>\n",
              "      <td>10</td>\n",
              "      <td>Married-civ-spouse</td>\n",
              "      <td>Craft-repair</td>\n",
              "      <td>Husband</td>\n",
              "      <td>White</td>\n",
              "      <td>Male</td>\n",
              "      <td>0</td>\n",
              "      <td>0</td>\n",
              "      <td>40</td>\n",
              "      <td>United-States</td>\n",
              "      <td>&lt;=50K</td>\n",
              "    </tr>\n",
              "    <tr>\n",
              "      <th>25872</th>\n",
              "      <td>23</td>\n",
              "      <td>Private</td>\n",
              "      <td>240137</td>\n",
              "      <td>5th-6th</td>\n",
              "      <td>3</td>\n",
              "      <td>Never-married</td>\n",
              "      <td>Handlers-cleaners</td>\n",
              "      <td>Not-in-family</td>\n",
              "      <td>White</td>\n",
              "      <td>Male</td>\n",
              "      <td>0</td>\n",
              "      <td>0</td>\n",
              "      <td>55</td>\n",
              "      <td>Mexico</td>\n",
              "      <td>&lt;=50K</td>\n",
              "    </tr>\n",
              "    <tr>\n",
              "      <th>26313</th>\n",
              "      <td>28</td>\n",
              "      <td>Private</td>\n",
              "      <td>274679</td>\n",
              "      <td>Masters</td>\n",
              "      <td>14</td>\n",
              "      <td>Never-married</td>\n",
              "      <td>Prof-specialty</td>\n",
              "      <td>Not-in-family</td>\n",
              "      <td>White</td>\n",
              "      <td>Male</td>\n",
              "      <td>0</td>\n",
              "      <td>0</td>\n",
              "      <td>50</td>\n",
              "      <td>United-States</td>\n",
              "      <td>&lt;=50K</td>\n",
              "    </tr>\n",
              "    <tr>\n",
              "      <th>28230</th>\n",
              "      <td>27</td>\n",
              "      <td>Private</td>\n",
              "      <td>255582</td>\n",
              "      <td>HS-grad</td>\n",
              "      <td>9</td>\n",
              "      <td>Never-married</td>\n",
              "      <td>Machine-op-inspct</td>\n",
              "      <td>Not-in-family</td>\n",
              "      <td>White</td>\n",
              "      <td>Female</td>\n",
              "      <td>0</td>\n",
              "      <td>0</td>\n",
              "      <td>40</td>\n",
              "      <td>United-States</td>\n",
              "      <td>&lt;=50K</td>\n",
              "    </tr>\n",
              "    <tr>\n",
              "      <th>28522</th>\n",
              "      <td>42</td>\n",
              "      <td>Private</td>\n",
              "      <td>204235</td>\n",
              "      <td>Some-college</td>\n",
              "      <td>10</td>\n",
              "      <td>Married-civ-spouse</td>\n",
              "      <td>Prof-specialty</td>\n",
              "      <td>Husband</td>\n",
              "      <td>White</td>\n",
              "      <td>Male</td>\n",
              "      <td>0</td>\n",
              "      <td>0</td>\n",
              "      <td>40</td>\n",
              "      <td>United-States</td>\n",
              "      <td>&gt;50K</td>\n",
              "    </tr>\n",
              "    <tr>\n",
              "      <th>28846</th>\n",
              "      <td>39</td>\n",
              "      <td>Private</td>\n",
              "      <td>30916</td>\n",
              "      <td>HS-grad</td>\n",
              "      <td>9</td>\n",
              "      <td>Married-civ-spouse</td>\n",
              "      <td>Craft-repair</td>\n",
              "      <td>Husband</td>\n",
              "      <td>White</td>\n",
              "      <td>Male</td>\n",
              "      <td>0</td>\n",
              "      <td>0</td>\n",
              "      <td>40</td>\n",
              "      <td>United-States</td>\n",
              "      <td>&lt;=50K</td>\n",
              "    </tr>\n",
              "    <tr>\n",
              "      <th>29157</th>\n",
              "      <td>38</td>\n",
              "      <td>Private</td>\n",
              "      <td>207202</td>\n",
              "      <td>HS-grad</td>\n",
              "      <td>9</td>\n",
              "      <td>Married-civ-spouse</td>\n",
              "      <td>Machine-op-inspct</td>\n",
              "      <td>Husband</td>\n",
              "      <td>White</td>\n",
              "      <td>Male</td>\n",
              "      <td>0</td>\n",
              "      <td>0</td>\n",
              "      <td>48</td>\n",
              "      <td>United-States</td>\n",
              "      <td>&gt;50K</td>\n",
              "    </tr>\n",
              "    <tr>\n",
              "      <th>30845</th>\n",
              "      <td>46</td>\n",
              "      <td>Private</td>\n",
              "      <td>133616</td>\n",
              "      <td>Some-college</td>\n",
              "      <td>10</td>\n",
              "      <td>Divorced</td>\n",
              "      <td>Adm-clerical</td>\n",
              "      <td>Unmarried</td>\n",
              "      <td>White</td>\n",
              "      <td>Female</td>\n",
              "      <td>0</td>\n",
              "      <td>0</td>\n",
              "      <td>40</td>\n",
              "      <td>United-States</td>\n",
              "      <td>&lt;=50K</td>\n",
              "    </tr>\n",
              "    <tr>\n",
              "      <th>31993</th>\n",
              "      <td>19</td>\n",
              "      <td>Private</td>\n",
              "      <td>251579</td>\n",
              "      <td>Some-college</td>\n",
              "      <td>10</td>\n",
              "      <td>Never-married</td>\n",
              "      <td>Other-service</td>\n",
              "      <td>Own-child</td>\n",
              "      <td>White</td>\n",
              "      <td>Male</td>\n",
              "      <td>0</td>\n",
              "      <td>0</td>\n",
              "      <td>14</td>\n",
              "      <td>United-States</td>\n",
              "      <td>&lt;=50K</td>\n",
              "    </tr>\n",
              "    <tr>\n",
              "      <th>32404</th>\n",
              "      <td>35</td>\n",
              "      <td>Private</td>\n",
              "      <td>379959</td>\n",
              "      <td>HS-grad</td>\n",
              "      <td>9</td>\n",
              "      <td>Divorced</td>\n",
              "      <td>Other-service</td>\n",
              "      <td>Not-in-family</td>\n",
              "      <td>White</td>\n",
              "      <td>Female</td>\n",
              "      <td>0</td>\n",
              "      <td>0</td>\n",
              "      <td>40</td>\n",
              "      <td>United-States</td>\n",
              "      <td>&lt;=50K</td>\n",
              "    </tr>\n",
              "  </tbody>\n",
              "</table>\n",
              "</div>\n",
              "      <button class=\"colab-df-convert\" onclick=\"convertToInteractive('df-9d9d7c89-770d-475b-930f-a078eae890c8')\"\n",
              "              title=\"Convert this dataframe to an interactive table.\"\n",
              "              style=\"display:none;\">\n",
              "        \n",
              "  <svg xmlns=\"http://www.w3.org/2000/svg\" height=\"24px\"viewBox=\"0 0 24 24\"\n",
              "       width=\"24px\">\n",
              "    <path d=\"M0 0h24v24H0V0z\" fill=\"none\"/>\n",
              "    <path d=\"M18.56 5.44l.94 2.06.94-2.06 2.06-.94-2.06-.94-.94-2.06-.94 2.06-2.06.94zm-11 1L8.5 8.5l.94-2.06 2.06-.94-2.06-.94L8.5 2.5l-.94 2.06-2.06.94zm10 10l.94 2.06.94-2.06 2.06-.94-2.06-.94-.94-2.06-.94 2.06-2.06.94z\"/><path d=\"M17.41 7.96l-1.37-1.37c-.4-.4-.92-.59-1.43-.59-.52 0-1.04.2-1.43.59L10.3 9.45l-7.72 7.72c-.78.78-.78 2.05 0 2.83L4 21.41c.39.39.9.59 1.41.59.51 0 1.02-.2 1.41-.59l7.78-7.78 2.81-2.81c.8-.78.8-2.07 0-2.86zM5.41 20L4 18.59l7.72-7.72 1.47 1.35L5.41 20z\"/>\n",
              "  </svg>\n",
              "      </button>\n",
              "      \n",
              "  <style>\n",
              "    .colab-df-container {\n",
              "      display:flex;\n",
              "      flex-wrap:wrap;\n",
              "      gap: 12px;\n",
              "    }\n",
              "\n",
              "    .colab-df-convert {\n",
              "      background-color: #E8F0FE;\n",
              "      border: none;\n",
              "      border-radius: 50%;\n",
              "      cursor: pointer;\n",
              "      display: none;\n",
              "      fill: #1967D2;\n",
              "      height: 32px;\n",
              "      padding: 0 0 0 0;\n",
              "      width: 32px;\n",
              "    }\n",
              "\n",
              "    .colab-df-convert:hover {\n",
              "      background-color: #E2EBFA;\n",
              "      box-shadow: 0px 1px 2px rgba(60, 64, 67, 0.3), 0px 1px 3px 1px rgba(60, 64, 67, 0.15);\n",
              "      fill: #174EA6;\n",
              "    }\n",
              "\n",
              "    [theme=dark] .colab-df-convert {\n",
              "      background-color: #3B4455;\n",
              "      fill: #D2E3FC;\n",
              "    }\n",
              "\n",
              "    [theme=dark] .colab-df-convert:hover {\n",
              "      background-color: #434B5C;\n",
              "      box-shadow: 0px 1px 3px 1px rgba(0, 0, 0, 0.15);\n",
              "      filter: drop-shadow(0px 1px 2px rgba(0, 0, 0, 0.3));\n",
              "      fill: #FFFFFF;\n",
              "    }\n",
              "  </style>\n",
              "\n",
              "      <script>\n",
              "        const buttonEl =\n",
              "          document.querySelector('#df-9d9d7c89-770d-475b-930f-a078eae890c8 button.colab-df-convert');\n",
              "        buttonEl.style.display =\n",
              "          google.colab.kernel.accessAllowed ? 'block' : 'none';\n",
              "\n",
              "        async function convertToInteractive(key) {\n",
              "          const element = document.querySelector('#df-9d9d7c89-770d-475b-930f-a078eae890c8');\n",
              "          const dataTable =\n",
              "            await google.colab.kernel.invokeFunction('convertToInteractive',\n",
              "                                                     [key], {});\n",
              "          if (!dataTable) return;\n",
              "\n",
              "          const docLinkHtml = 'Like what you see? Visit the ' +\n",
              "            '<a target=\"_blank\" href=https://colab.research.google.com/notebooks/data_table.ipynb>data table notebook</a>'\n",
              "            + ' to learn more about interactive tables.';\n",
              "          element.innerHTML = '';\n",
              "          dataTable['output_type'] = 'display_data';\n",
              "          await google.colab.output.renderOutput(dataTable, element);\n",
              "          const docLink = document.createElement('div');\n",
              "          docLink.innerHTML = docLinkHtml;\n",
              "          element.appendChild(docLink);\n",
              "        }\n",
              "      </script>\n",
              "    </div>\n",
              "  </div>\n",
              "  "
            ]
          },
          "metadata": {},
          "execution_count": 14
        }
      ]
    },
    {
      "cell_type": "markdown",
      "source": [
        "#Count of duplicate rows"
      ],
      "metadata": {
        "id": "mdOiIr7SHWsm"
      }
    },
    {
      "cell_type": "code",
      "source": [
        "len(df[df.duplicated()])"
      ],
      "metadata": {
        "colab": {
          "base_uri": "https://localhost:8080/"
        },
        "id": "ed3mczMgHMHx",
        "outputId": "b8515f61-faa5-434d-c2b2-fe544b28be4c"
      },
      "execution_count": 15,
      "outputs": [
        {
          "output_type": "execute_result",
          "data": {
            "text/plain": [
              "24"
            ]
          },
          "metadata": {},
          "execution_count": 15
        }
      ]
    },
    {
      "cell_type": "markdown",
      "source": [
        "#Avg age of people involved in datset"
      ],
      "metadata": {
        "id": "vmER0oUJHnL1"
      }
    },
    {
      "cell_type": "code",
      "source": [
        "round(np.mean(df['age']))"
      ],
      "metadata": {
        "colab": {
          "base_uri": "https://localhost:8080/"
        },
        "id": "C-LUbqtUHeoT",
        "outputId": "8d960320-e195-4f9f-cd20-0e527b8ea3b8"
      },
      "execution_count": 16,
      "outputs": [
        {
          "output_type": "execute_result",
          "data": {
            "text/plain": [
              "39"
            ]
          },
          "metadata": {},
          "execution_count": 16
        }
      ]
    },
    {
      "cell_type": "markdown",
      "source": [
        "#People belonging to which workclass"
      ],
      "metadata": {
        "id": "lA_ndSnRH5cx"
      }
    },
    {
      "cell_type": "code",
      "source": [
        "df['workclass'].value_counts()"
      ],
      "metadata": {
        "colab": {
          "base_uri": "https://localhost:8080/"
        },
        "id": "IOR4P6LxHvsM",
        "outputId": "a2b25ae1-4346-448b-f19d-05e91e7d9a03"
      },
      "execution_count": 17,
      "outputs": [
        {
          "output_type": "execute_result",
          "data": {
            "text/plain": [
              " Private             22696\n",
              " Self-emp-not-inc     2541\n",
              " Local-gov            2093\n",
              " ?                    1836\n",
              " State-gov            1298\n",
              " Self-emp-inc         1116\n",
              " Federal-gov           960\n",
              " Without-pay            14\n",
              " Never-worked            7\n",
              "Name: workclass, dtype: int64"
            ]
          },
          "metadata": {},
          "execution_count": 17
        }
      ]
    },
    {
      "cell_type": "markdown",
      "source": [
        "#Education qualication of people"
      ],
      "metadata": {
        "id": "D_STP7xzIUVC"
      }
    },
    {
      "cell_type": "code",
      "source": [
        "df['education'].value_counts()"
      ],
      "metadata": {
        "colab": {
          "base_uri": "https://localhost:8080/"
        },
        "id": "eLDLxPQnIEaw",
        "outputId": "637bce99-e3f5-4e49-c589-9caadf2c5667"
      },
      "execution_count": 18,
      "outputs": [
        {
          "output_type": "execute_result",
          "data": {
            "text/plain": [
              " HS-grad         10501\n",
              " Some-college     7291\n",
              " Bachelors        5355\n",
              " Masters          1723\n",
              " Assoc-voc        1382\n",
              " 11th             1175\n",
              " Assoc-acdm       1067\n",
              " 10th              933\n",
              " 7th-8th           646\n",
              " Prof-school       576\n",
              " 9th               514\n",
              " 12th              433\n",
              " Doctorate         413\n",
              " 5th-6th           333\n",
              " 1st-4th           168\n",
              " Preschool          51\n",
              "Name: education, dtype: int64"
            ]
          },
          "metadata": {},
          "execution_count": 18
        }
      ]
    },
    {
      "cell_type": "markdown",
      "source": [
        "#Avg number of hours working in a week\n"
      ],
      "metadata": {
        "id": "mLgheBJUIlXZ"
      }
    },
    {
      "cell_type": "code",
      "source": [
        "round(np.mean(df['hours-per-week']))"
      ],
      "metadata": {
        "colab": {
          "base_uri": "https://localhost:8080/"
        },
        "id": "DE0X-osJIZ8y",
        "outputId": "7f24898a-d2a5-46ba-8c31-2182ee0e9c9f"
      },
      "execution_count": 19,
      "outputs": [
        {
          "output_type": "execute_result",
          "data": {
            "text/plain": [
              "40"
            ]
          },
          "metadata": {},
          "execution_count": 19
        }
      ]
    },
    {
      "cell_type": "markdown",
      "source": [
        "#People belonging to which country?"
      ],
      "metadata": {
        "id": "wh68ibbDI7fF"
      }
    },
    {
      "cell_type": "code",
      "source": [
        "df['native-country'].value_counts()"
      ],
      "metadata": {
        "colab": {
          "base_uri": "https://localhost:8080/"
        },
        "id": "DFFm2B0NIuWp",
        "outputId": "03a37204-ef3c-4b72-d032-4f7dd7e7e00a"
      },
      "execution_count": 20,
      "outputs": [
        {
          "output_type": "execute_result",
          "data": {
            "text/plain": [
              " United-States                 29170\n",
              " Mexico                          643\n",
              " ?                               583\n",
              " Philippines                     198\n",
              " Germany                         137\n",
              " Canada                          121\n",
              " Puerto-Rico                     114\n",
              " El-Salvador                     106\n",
              " India                           100\n",
              " Cuba                             95\n",
              " England                          90\n",
              " Jamaica                          81\n",
              " South                            80\n",
              " China                            75\n",
              " Italy                            73\n",
              " Dominican-Republic               70\n",
              " Vietnam                          67\n",
              " Guatemala                        64\n",
              " Japan                            62\n",
              " Poland                           60\n",
              " Columbia                         59\n",
              " Taiwan                           51\n",
              " Haiti                            44\n",
              " Iran                             43\n",
              " Portugal                         37\n",
              " Nicaragua                        34\n",
              " Peru                             31\n",
              " France                           29\n",
              " Greece                           29\n",
              " Ecuador                          28\n",
              " Ireland                          24\n",
              " Hong                             20\n",
              " Cambodia                         19\n",
              " Trinadad&Tobago                  19\n",
              " Laos                             18\n",
              " Thailand                         18\n",
              " Yugoslavia                       16\n",
              " Outlying-US(Guam-USVI-etc)       14\n",
              " Honduras                         13\n",
              " Hungary                          13\n",
              " Scotland                         12\n",
              " Holand-Netherlands                1\n",
              "Name: native-country, dtype: int64"
            ]
          },
          "metadata": {},
          "execution_count": 20
        }
      ]
    },
    {
      "cell_type": "markdown",
      "source": [
        "#Changing value of '<=50K' to 'A' and '>50K' to 'B' to make analysis easier using map function\n"
      ],
      "metadata": {
        "id": "QuW8cXDtJ7FW"
      }
    },
    {
      "cell_type": "code",
      "source": [
        "df['class']=df['class'].map({\" <=50K\":\"A\",\" >50K\":\"B\"})"
      ],
      "metadata": {
        "id": "McjZsKdaJFi-"
      },
      "execution_count": 21,
      "outputs": []
    },
    {
      "cell_type": "markdown",
      "source": [
        "#Number of male and female in dataset"
      ],
      "metadata": {
        "id": "SzUIjtxNKgU9"
      }
    },
    {
      "cell_type": "code",
      "source": [
        "df['sex'].value_counts()"
      ],
      "metadata": {
        "colab": {
          "base_uri": "https://localhost:8080/"
        },
        "id": "OtrrAwdlKf6K",
        "outputId": "7be9a7d3-a3b9-4b48-a1a9-633f663add8c"
      },
      "execution_count": 22,
      "outputs": [
        {
          "output_type": "execute_result",
          "data": {
            "text/plain": [
              " Male      21790\n",
              " Female    10771\n",
              "Name: sex, dtype: int64"
            ]
          },
          "metadata": {},
          "execution_count": 22
        }
      ]
    },
    {
      "cell_type": "markdown",
      "source": [
        "#Does age plays an important role in deciding the class of people?"
      ],
      "metadata": {
        "id": "rj5ch5fXK1h5"
      }
    },
    {
      "cell_type": "code",
      "source": [
        "df.groupby('class').mean()['age'].reset_index()"
      ],
      "metadata": {
        "colab": {
          "base_uri": "https://localhost:8080/",
          "height": 112
        },
        "id": "0ZhH2hNwKJib",
        "outputId": "a2c0b607-1471-4e60-bf44-f6c98155a2ea"
      },
      "execution_count": 23,
      "outputs": [
        {
          "output_type": "execute_result",
          "data": {
            "text/plain": [
              "  class        age\n",
              "0     A  36.783738\n",
              "1     B  44.249841"
            ],
            "text/html": [
              "\n",
              "  <div id=\"df-d8aec450-01f9-4bc0-a357-7a490098e255\">\n",
              "    <div class=\"colab-df-container\">\n",
              "      <div>\n",
              "<style scoped>\n",
              "    .dataframe tbody tr th:only-of-type {\n",
              "        vertical-align: middle;\n",
              "    }\n",
              "\n",
              "    .dataframe tbody tr th {\n",
              "        vertical-align: top;\n",
              "    }\n",
              "\n",
              "    .dataframe thead th {\n",
              "        text-align: right;\n",
              "    }\n",
              "</style>\n",
              "<table border=\"1\" class=\"dataframe\">\n",
              "  <thead>\n",
              "    <tr style=\"text-align: right;\">\n",
              "      <th></th>\n",
              "      <th>class</th>\n",
              "      <th>age</th>\n",
              "    </tr>\n",
              "  </thead>\n",
              "  <tbody>\n",
              "    <tr>\n",
              "      <th>0</th>\n",
              "      <td>A</td>\n",
              "      <td>36.783738</td>\n",
              "    </tr>\n",
              "    <tr>\n",
              "      <th>1</th>\n",
              "      <td>B</td>\n",
              "      <td>44.249841</td>\n",
              "    </tr>\n",
              "  </tbody>\n",
              "</table>\n",
              "</div>\n",
              "      <button class=\"colab-df-convert\" onclick=\"convertToInteractive('df-d8aec450-01f9-4bc0-a357-7a490098e255')\"\n",
              "              title=\"Convert this dataframe to an interactive table.\"\n",
              "              style=\"display:none;\">\n",
              "        \n",
              "  <svg xmlns=\"http://www.w3.org/2000/svg\" height=\"24px\"viewBox=\"0 0 24 24\"\n",
              "       width=\"24px\">\n",
              "    <path d=\"M0 0h24v24H0V0z\" fill=\"none\"/>\n",
              "    <path d=\"M18.56 5.44l.94 2.06.94-2.06 2.06-.94-2.06-.94-.94-2.06-.94 2.06-2.06.94zm-11 1L8.5 8.5l.94-2.06 2.06-.94-2.06-.94L8.5 2.5l-.94 2.06-2.06.94zm10 10l.94 2.06.94-2.06 2.06-.94-2.06-.94-.94-2.06-.94 2.06-2.06.94z\"/><path d=\"M17.41 7.96l-1.37-1.37c-.4-.4-.92-.59-1.43-.59-.52 0-1.04.2-1.43.59L10.3 9.45l-7.72 7.72c-.78.78-.78 2.05 0 2.83L4 21.41c.39.39.9.59 1.41.59.51 0 1.02-.2 1.41-.59l7.78-7.78 2.81-2.81c.8-.78.8-2.07 0-2.86zM5.41 20L4 18.59l7.72-7.72 1.47 1.35L5.41 20z\"/>\n",
              "  </svg>\n",
              "      </button>\n",
              "      \n",
              "  <style>\n",
              "    .colab-df-container {\n",
              "      display:flex;\n",
              "      flex-wrap:wrap;\n",
              "      gap: 12px;\n",
              "    }\n",
              "\n",
              "    .colab-df-convert {\n",
              "      background-color: #E8F0FE;\n",
              "      border: none;\n",
              "      border-radius: 50%;\n",
              "      cursor: pointer;\n",
              "      display: none;\n",
              "      fill: #1967D2;\n",
              "      height: 32px;\n",
              "      padding: 0 0 0 0;\n",
              "      width: 32px;\n",
              "    }\n",
              "\n",
              "    .colab-df-convert:hover {\n",
              "      background-color: #E2EBFA;\n",
              "      box-shadow: 0px 1px 2px rgba(60, 64, 67, 0.3), 0px 1px 3px 1px rgba(60, 64, 67, 0.15);\n",
              "      fill: #174EA6;\n",
              "    }\n",
              "\n",
              "    [theme=dark] .colab-df-convert {\n",
              "      background-color: #3B4455;\n",
              "      fill: #D2E3FC;\n",
              "    }\n",
              "\n",
              "    [theme=dark] .colab-df-convert:hover {\n",
              "      background-color: #434B5C;\n",
              "      box-shadow: 0px 1px 3px 1px rgba(0, 0, 0, 0.15);\n",
              "      filter: drop-shadow(0px 1px 2px rgba(0, 0, 0, 0.3));\n",
              "      fill: #FFFFFF;\n",
              "    }\n",
              "  </style>\n",
              "\n",
              "      <script>\n",
              "        const buttonEl =\n",
              "          document.querySelector('#df-d8aec450-01f9-4bc0-a357-7a490098e255 button.colab-df-convert');\n",
              "        buttonEl.style.display =\n",
              "          google.colab.kernel.accessAllowed ? 'block' : 'none';\n",
              "\n",
              "        async function convertToInteractive(key) {\n",
              "          const element = document.querySelector('#df-d8aec450-01f9-4bc0-a357-7a490098e255');\n",
              "          const dataTable =\n",
              "            await google.colab.kernel.invokeFunction('convertToInteractive',\n",
              "                                                     [key], {});\n",
              "          if (!dataTable) return;\n",
              "\n",
              "          const docLinkHtml = 'Like what you see? Visit the ' +\n",
              "            '<a target=\"_blank\" href=https://colab.research.google.com/notebooks/data_table.ipynb>data table notebook</a>'\n",
              "            + ' to learn more about interactive tables.';\n",
              "          element.innerHTML = '';\n",
              "          dataTable['output_type'] = 'display_data';\n",
              "          await google.colab.output.renderOutput(dataTable, element);\n",
              "          const docLink = document.createElement('div');\n",
              "          docLink.innerHTML = docLinkHtml;\n",
              "          element.appendChild(docLink);\n",
              "        }\n",
              "      </script>\n",
              "    </div>\n",
              "  </div>\n",
              "  "
            ]
          },
          "metadata": {},
          "execution_count": 23
        }
      ]
    },
    {
      "cell_type": "code",
      "source": [
        "#graphical reprsentation \n",
        "clas=df.groupby('class').mean()['age'].reset_index()['class']\n",
        "age=df.groupby('class').mean()['age'].reset_index()['age']\n",
        "px.bar(x=clas,y=age,labels={'x': 'class', 'y':'Average Age'})\n",
        "\n"
      ],
      "metadata": {
        "colab": {
          "base_uri": "https://localhost:8080/",
          "height": 542
        },
        "id": "VJLcNbPILCXG",
        "outputId": "166af654-89d3-41e9-a6b7-07a1b8ad412b"
      },
      "execution_count": 24,
      "outputs": [
        {
          "output_type": "display_data",
          "data": {
            "text/html": [
              "<html>\n",
              "<head><meta charset=\"utf-8\" /></head>\n",
              "<body>\n",
              "    <div>            <script src=\"https://cdnjs.cloudflare.com/ajax/libs/mathjax/2.7.5/MathJax.js?config=TeX-AMS-MML_SVG\"></script><script type=\"text/javascript\">if (window.MathJax) {MathJax.Hub.Config({SVG: {font: \"STIX-Web\"}});}</script>                <script type=\"text/javascript\">window.PlotlyConfig = {MathJaxConfig: 'local'};</script>\n",
              "        <script src=\"https://cdn.plot.ly/plotly-2.8.3.min.js\"></script>                <div id=\"decb3e31-9af6-4b11-adc0-d94c69c2b6fe\" class=\"plotly-graph-div\" style=\"height:525px; width:100%;\"></div>            <script type=\"text/javascript\">                                    window.PLOTLYENV=window.PLOTLYENV || {};                                    if (document.getElementById(\"decb3e31-9af6-4b11-adc0-d94c69c2b6fe\")) {                    Plotly.newPlot(                        \"decb3e31-9af6-4b11-adc0-d94c69c2b6fe\",                        [{\"alignmentgroup\":\"True\",\"hovertemplate\":\"class=%{x}<br>Average Age=%{y}<extra></extra>\",\"legendgroup\":\"\",\"marker\":{\"color\":\"#636efa\",\"pattern\":{\"shape\":\"\"}},\"name\":\"\",\"offsetgroup\":\"\",\"orientation\":\"v\",\"showlegend\":false,\"textposition\":\"auto\",\"x\":[\"A\",\"B\"],\"xaxis\":\"x\",\"y\":[36.78373786407767,44.24984058155847],\"yaxis\":\"y\",\"type\":\"bar\"}],                        {\"template\":{\"data\":{\"bar\":[{\"error_x\":{\"color\":\"#2a3f5f\"},\"error_y\":{\"color\":\"#2a3f5f\"},\"marker\":{\"line\":{\"color\":\"#E5ECF6\",\"width\":0.5},\"pattern\":{\"fillmode\":\"overlay\",\"size\":10,\"solidity\":0.2}},\"type\":\"bar\"}],\"barpolar\":[{\"marker\":{\"line\":{\"color\":\"#E5ECF6\",\"width\":0.5},\"pattern\":{\"fillmode\":\"overlay\",\"size\":10,\"solidity\":0.2}},\"type\":\"barpolar\"}],\"carpet\":[{\"aaxis\":{\"endlinecolor\":\"#2a3f5f\",\"gridcolor\":\"white\",\"linecolor\":\"white\",\"minorgridcolor\":\"white\",\"startlinecolor\":\"#2a3f5f\"},\"baxis\":{\"endlinecolor\":\"#2a3f5f\",\"gridcolor\":\"white\",\"linecolor\":\"white\",\"minorgridcolor\":\"white\",\"startlinecolor\":\"#2a3f5f\"},\"type\":\"carpet\"}],\"choropleth\":[{\"colorbar\":{\"outlinewidth\":0,\"ticks\":\"\"},\"type\":\"choropleth\"}],\"contour\":[{\"colorbar\":{\"outlinewidth\":0,\"ticks\":\"\"},\"colorscale\":[[0.0,\"#0d0887\"],[0.1111111111111111,\"#46039f\"],[0.2222222222222222,\"#7201a8\"],[0.3333333333333333,\"#9c179e\"],[0.4444444444444444,\"#bd3786\"],[0.5555555555555556,\"#d8576b\"],[0.6666666666666666,\"#ed7953\"],[0.7777777777777778,\"#fb9f3a\"],[0.8888888888888888,\"#fdca26\"],[1.0,\"#f0f921\"]],\"type\":\"contour\"}],\"contourcarpet\":[{\"colorbar\":{\"outlinewidth\":0,\"ticks\":\"\"},\"type\":\"contourcarpet\"}],\"heatmap\":[{\"colorbar\":{\"outlinewidth\":0,\"ticks\":\"\"},\"colorscale\":[[0.0,\"#0d0887\"],[0.1111111111111111,\"#46039f\"],[0.2222222222222222,\"#7201a8\"],[0.3333333333333333,\"#9c179e\"],[0.4444444444444444,\"#bd3786\"],[0.5555555555555556,\"#d8576b\"],[0.6666666666666666,\"#ed7953\"],[0.7777777777777778,\"#fb9f3a\"],[0.8888888888888888,\"#fdca26\"],[1.0,\"#f0f921\"]],\"type\":\"heatmap\"}],\"heatmapgl\":[{\"colorbar\":{\"outlinewidth\":0,\"ticks\":\"\"},\"colorscale\":[[0.0,\"#0d0887\"],[0.1111111111111111,\"#46039f\"],[0.2222222222222222,\"#7201a8\"],[0.3333333333333333,\"#9c179e\"],[0.4444444444444444,\"#bd3786\"],[0.5555555555555556,\"#d8576b\"],[0.6666666666666666,\"#ed7953\"],[0.7777777777777778,\"#fb9f3a\"],[0.8888888888888888,\"#fdca26\"],[1.0,\"#f0f921\"]],\"type\":\"heatmapgl\"}],\"histogram\":[{\"marker\":{\"pattern\":{\"fillmode\":\"overlay\",\"size\":10,\"solidity\":0.2}},\"type\":\"histogram\"}],\"histogram2d\":[{\"colorbar\":{\"outlinewidth\":0,\"ticks\":\"\"},\"colorscale\":[[0.0,\"#0d0887\"],[0.1111111111111111,\"#46039f\"],[0.2222222222222222,\"#7201a8\"],[0.3333333333333333,\"#9c179e\"],[0.4444444444444444,\"#bd3786\"],[0.5555555555555556,\"#d8576b\"],[0.6666666666666666,\"#ed7953\"],[0.7777777777777778,\"#fb9f3a\"],[0.8888888888888888,\"#fdca26\"],[1.0,\"#f0f921\"]],\"type\":\"histogram2d\"}],\"histogram2dcontour\":[{\"colorbar\":{\"outlinewidth\":0,\"ticks\":\"\"},\"colorscale\":[[0.0,\"#0d0887\"],[0.1111111111111111,\"#46039f\"],[0.2222222222222222,\"#7201a8\"],[0.3333333333333333,\"#9c179e\"],[0.4444444444444444,\"#bd3786\"],[0.5555555555555556,\"#d8576b\"],[0.6666666666666666,\"#ed7953\"],[0.7777777777777778,\"#fb9f3a\"],[0.8888888888888888,\"#fdca26\"],[1.0,\"#f0f921\"]],\"type\":\"histogram2dcontour\"}],\"mesh3d\":[{\"colorbar\":{\"outlinewidth\":0,\"ticks\":\"\"},\"type\":\"mesh3d\"}],\"parcoords\":[{\"line\":{\"colorbar\":{\"outlinewidth\":0,\"ticks\":\"\"}},\"type\":\"parcoords\"}],\"pie\":[{\"automargin\":true,\"type\":\"pie\"}],\"scatter\":[{\"marker\":{\"colorbar\":{\"outlinewidth\":0,\"ticks\":\"\"}},\"type\":\"scatter\"}],\"scatter3d\":[{\"line\":{\"colorbar\":{\"outlinewidth\":0,\"ticks\":\"\"}},\"marker\":{\"colorbar\":{\"outlinewidth\":0,\"ticks\":\"\"}},\"type\":\"scatter3d\"}],\"scattercarpet\":[{\"marker\":{\"colorbar\":{\"outlinewidth\":0,\"ticks\":\"\"}},\"type\":\"scattercarpet\"}],\"scattergeo\":[{\"marker\":{\"colorbar\":{\"outlinewidth\":0,\"ticks\":\"\"}},\"type\":\"scattergeo\"}],\"scattergl\":[{\"marker\":{\"colorbar\":{\"outlinewidth\":0,\"ticks\":\"\"}},\"type\":\"scattergl\"}],\"scattermapbox\":[{\"marker\":{\"colorbar\":{\"outlinewidth\":0,\"ticks\":\"\"}},\"type\":\"scattermapbox\"}],\"scatterpolar\":[{\"marker\":{\"colorbar\":{\"outlinewidth\":0,\"ticks\":\"\"}},\"type\":\"scatterpolar\"}],\"scatterpolargl\":[{\"marker\":{\"colorbar\":{\"outlinewidth\":0,\"ticks\":\"\"}},\"type\":\"scatterpolargl\"}],\"scatterternary\":[{\"marker\":{\"colorbar\":{\"outlinewidth\":0,\"ticks\":\"\"}},\"type\":\"scatterternary\"}],\"surface\":[{\"colorbar\":{\"outlinewidth\":0,\"ticks\":\"\"},\"colorscale\":[[0.0,\"#0d0887\"],[0.1111111111111111,\"#46039f\"],[0.2222222222222222,\"#7201a8\"],[0.3333333333333333,\"#9c179e\"],[0.4444444444444444,\"#bd3786\"],[0.5555555555555556,\"#d8576b\"],[0.6666666666666666,\"#ed7953\"],[0.7777777777777778,\"#fb9f3a\"],[0.8888888888888888,\"#fdca26\"],[1.0,\"#f0f921\"]],\"type\":\"surface\"}],\"table\":[{\"cells\":{\"fill\":{\"color\":\"#EBF0F8\"},\"line\":{\"color\":\"white\"}},\"header\":{\"fill\":{\"color\":\"#C8D4E3\"},\"line\":{\"color\":\"white\"}},\"type\":\"table\"}]},\"layout\":{\"annotationdefaults\":{\"arrowcolor\":\"#2a3f5f\",\"arrowhead\":0,\"arrowwidth\":1},\"autotypenumbers\":\"strict\",\"coloraxis\":{\"colorbar\":{\"outlinewidth\":0,\"ticks\":\"\"}},\"colorscale\":{\"diverging\":[[0,\"#8e0152\"],[0.1,\"#c51b7d\"],[0.2,\"#de77ae\"],[0.3,\"#f1b6da\"],[0.4,\"#fde0ef\"],[0.5,\"#f7f7f7\"],[0.6,\"#e6f5d0\"],[0.7,\"#b8e186\"],[0.8,\"#7fbc41\"],[0.9,\"#4d9221\"],[1,\"#276419\"]],\"sequential\":[[0.0,\"#0d0887\"],[0.1111111111111111,\"#46039f\"],[0.2222222222222222,\"#7201a8\"],[0.3333333333333333,\"#9c179e\"],[0.4444444444444444,\"#bd3786\"],[0.5555555555555556,\"#d8576b\"],[0.6666666666666666,\"#ed7953\"],[0.7777777777777778,\"#fb9f3a\"],[0.8888888888888888,\"#fdca26\"],[1.0,\"#f0f921\"]],\"sequentialminus\":[[0.0,\"#0d0887\"],[0.1111111111111111,\"#46039f\"],[0.2222222222222222,\"#7201a8\"],[0.3333333333333333,\"#9c179e\"],[0.4444444444444444,\"#bd3786\"],[0.5555555555555556,\"#d8576b\"],[0.6666666666666666,\"#ed7953\"],[0.7777777777777778,\"#fb9f3a\"],[0.8888888888888888,\"#fdca26\"],[1.0,\"#f0f921\"]]},\"colorway\":[\"#636efa\",\"#EF553B\",\"#00cc96\",\"#ab63fa\",\"#FFA15A\",\"#19d3f3\",\"#FF6692\",\"#B6E880\",\"#FF97FF\",\"#FECB52\"],\"font\":{\"color\":\"#2a3f5f\"},\"geo\":{\"bgcolor\":\"white\",\"lakecolor\":\"white\",\"landcolor\":\"#E5ECF6\",\"showlakes\":true,\"showland\":true,\"subunitcolor\":\"white\"},\"hoverlabel\":{\"align\":\"left\"},\"hovermode\":\"closest\",\"mapbox\":{\"style\":\"light\"},\"paper_bgcolor\":\"white\",\"plot_bgcolor\":\"#E5ECF6\",\"polar\":{\"angularaxis\":{\"gridcolor\":\"white\",\"linecolor\":\"white\",\"ticks\":\"\"},\"bgcolor\":\"#E5ECF6\",\"radialaxis\":{\"gridcolor\":\"white\",\"linecolor\":\"white\",\"ticks\":\"\"}},\"scene\":{\"xaxis\":{\"backgroundcolor\":\"#E5ECF6\",\"gridcolor\":\"white\",\"gridwidth\":2,\"linecolor\":\"white\",\"showbackground\":true,\"ticks\":\"\",\"zerolinecolor\":\"white\"},\"yaxis\":{\"backgroundcolor\":\"#E5ECF6\",\"gridcolor\":\"white\",\"gridwidth\":2,\"linecolor\":\"white\",\"showbackground\":true,\"ticks\":\"\",\"zerolinecolor\":\"white\"},\"zaxis\":{\"backgroundcolor\":\"#E5ECF6\",\"gridcolor\":\"white\",\"gridwidth\":2,\"linecolor\":\"white\",\"showbackground\":true,\"ticks\":\"\",\"zerolinecolor\":\"white\"}},\"shapedefaults\":{\"line\":{\"color\":\"#2a3f5f\"}},\"ternary\":{\"aaxis\":{\"gridcolor\":\"white\",\"linecolor\":\"white\",\"ticks\":\"\"},\"baxis\":{\"gridcolor\":\"white\",\"linecolor\":\"white\",\"ticks\":\"\"},\"bgcolor\":\"#E5ECF6\",\"caxis\":{\"gridcolor\":\"white\",\"linecolor\":\"white\",\"ticks\":\"\"}},\"title\":{\"x\":0.05},\"xaxis\":{\"automargin\":true,\"gridcolor\":\"white\",\"linecolor\":\"white\",\"ticks\":\"\",\"title\":{\"standoff\":15},\"zerolinecolor\":\"white\",\"zerolinewidth\":2},\"yaxis\":{\"automargin\":true,\"gridcolor\":\"white\",\"linecolor\":\"white\",\"ticks\":\"\",\"title\":{\"standoff\":15},\"zerolinecolor\":\"white\",\"zerolinewidth\":2}}},\"xaxis\":{\"anchor\":\"y\",\"domain\":[0.0,1.0],\"title\":{\"text\":\"class\"}},\"yaxis\":{\"anchor\":\"x\",\"domain\":[0.0,1.0],\"title\":{\"text\":\"Average Age\"}},\"legend\":{\"tracegroupgap\":0},\"margin\":{\"t\":60},\"barmode\":\"relative\"},                        {\"responsive\": true}                    ).then(function(){\n",
              "                            \n",
              "var gd = document.getElementById('decb3e31-9af6-4b11-adc0-d94c69c2b6fe');\n",
              "var x = new MutationObserver(function (mutations, observer) {{\n",
              "        var display = window.getComputedStyle(gd).display;\n",
              "        if (!display || display === 'none') {{\n",
              "            console.log([gd, 'removed!']);\n",
              "            Plotly.purge(gd);\n",
              "            observer.disconnect();\n",
              "        }}\n",
              "}});\n",
              "\n",
              "// Listen for the removal of the full notebook cells\n",
              "var notebookContainer = gd.closest('#notebook-container');\n",
              "if (notebookContainer) {{\n",
              "    x.observe(notebookContainer, {childList: true});\n",
              "}}\n",
              "\n",
              "// Listen for the clearing of the current output cell\n",
              "var outputEl = gd.closest('.output');\n",
              "if (outputEl) {{\n",
              "    x.observe(outputEl, {childList: true});\n",
              "}}\n",
              "\n",
              "                        })                };                            </script>        </div>\n",
              "</body>\n",
              "</html>"
            ]
          },
          "metadata": {}
        }
      ]
    },
    {
      "cell_type": "markdown",
      "source": [
        "#Handle '?' in column WORKING CLASS"
      ],
      "metadata": {
        "id": "wqYMRHEZT4Qq"
      }
    },
    {
      "cell_type": "code",
      "source": [
        "df['workclass'].unique()"
      ],
      "metadata": {
        "colab": {
          "base_uri": "https://localhost:8080/"
        },
        "id": "hs_0QSfsUAVi",
        "outputId": "77d8d0a9-9d87-4321-a325-96a269c1167f"
      },
      "execution_count": 25,
      "outputs": [
        {
          "output_type": "execute_result",
          "data": {
            "text/plain": [
              "array([' State-gov', ' Self-emp-not-inc', ' Private', ' Federal-gov',\n",
              "       ' Local-gov', ' ?', ' Self-emp-inc', ' Without-pay',\n",
              "       ' Never-worked'], dtype=object)"
            ]
          },
          "metadata": {},
          "execution_count": 25
        }
      ]
    },
    {
      "cell_type": "code",
      "source": [
        "df_class=df[df['workclass']==' ?']\n",
        "len(df_class)"
      ],
      "metadata": {
        "colab": {
          "base_uri": "https://localhost:8080/"
        },
        "id": "wBxFXPLqUF8Z",
        "outputId": "62d0e73d-5675-4214-9f4a-d30ff40ddacf"
      },
      "execution_count": 26,
      "outputs": [
        {
          "output_type": "execute_result",
          "data": {
            "text/plain": [
              "1836"
            ]
          },
          "metadata": {},
          "execution_count": 26
        }
      ]
    },
    {
      "cell_type": "markdown",
      "source": [
        "Since 1800+ rows have '?' in them it is not feasible to drop all 1800 columns , instead we will be replacing it will 'Unkonwn' value"
      ],
      "metadata": {
        "id": "JX6B8D2aUjVc"
      }
    },
    {
      "cell_type": "code",
      "source": [
        "def replace_question_mark(a):\n",
        "  if(a==' ?'):\n",
        "    return 'unknown'\n",
        "  return a"
      ],
      "metadata": {
        "id": "_-mkBxNsUF_7"
      },
      "execution_count": 27,
      "outputs": []
    },
    {
      "cell_type": "code",
      "source": [
        "df['workclass']=df['workclass'].apply(replace_question_mark)"
      ],
      "metadata": {
        "id": "VKlVypCQVoAy"
      },
      "execution_count": 28,
      "outputs": []
    },
    {
      "cell_type": "markdown",
      "source": [
        "#Which working class people mostly belong to class A"
      ],
      "metadata": {
        "id": "Z_3O4aC_TfpC"
      }
    },
    {
      "cell_type": "code",
      "source": [
        "df3=df.groupby(['workclass','class']).count().reset_index()"
      ],
      "metadata": {
        "id": "Slau0tfIR8VX"
      },
      "execution_count": 45,
      "outputs": []
    },
    {
      "cell_type": "code",
      "source": [
        "df3=df3[df3['class']=='A']\n",
        "df3[['workclass','class','occupation']].sort_values(by='occupation')[::-1]"
      ],
      "metadata": {
        "colab": {
          "base_uri": "https://localhost:8080/",
          "height": 331
        },
        "id": "lK6WrVUNyr8d",
        "outputId": "a37cdda6-66e3-433e-dce3-24f8a226e7ee"
      },
      "execution_count": 58,
      "outputs": [
        {
          "output_type": "execute_result",
          "data": {
            "text/plain": [
              "            workclass class  occupation\n",
              "5             Private     A       17733\n",
              "9    Self-emp-not-inc     A        1817\n",
              "14            unknown     A        1645\n",
              "2           Local-gov     A        1476\n",
              "11          State-gov     A         945\n",
              "0         Federal-gov     A         589\n",
              "7        Self-emp-inc     A         494\n",
              "13        Without-pay     A          14\n",
              "4        Never-worked     A           7"
            ],
            "text/html": [
              "\n",
              "  <div id=\"df-333f4ba7-f28b-4b11-a156-04051dbd4237\">\n",
              "    <div class=\"colab-df-container\">\n",
              "      <div>\n",
              "<style scoped>\n",
              "    .dataframe tbody tr th:only-of-type {\n",
              "        vertical-align: middle;\n",
              "    }\n",
              "\n",
              "    .dataframe tbody tr th {\n",
              "        vertical-align: top;\n",
              "    }\n",
              "\n",
              "    .dataframe thead th {\n",
              "        text-align: right;\n",
              "    }\n",
              "</style>\n",
              "<table border=\"1\" class=\"dataframe\">\n",
              "  <thead>\n",
              "    <tr style=\"text-align: right;\">\n",
              "      <th></th>\n",
              "      <th>workclass</th>\n",
              "      <th>class</th>\n",
              "      <th>occupation</th>\n",
              "    </tr>\n",
              "  </thead>\n",
              "  <tbody>\n",
              "    <tr>\n",
              "      <th>5</th>\n",
              "      <td>Private</td>\n",
              "      <td>A</td>\n",
              "      <td>17733</td>\n",
              "    </tr>\n",
              "    <tr>\n",
              "      <th>9</th>\n",
              "      <td>Self-emp-not-inc</td>\n",
              "      <td>A</td>\n",
              "      <td>1817</td>\n",
              "    </tr>\n",
              "    <tr>\n",
              "      <th>14</th>\n",
              "      <td>unknown</td>\n",
              "      <td>A</td>\n",
              "      <td>1645</td>\n",
              "    </tr>\n",
              "    <tr>\n",
              "      <th>2</th>\n",
              "      <td>Local-gov</td>\n",
              "      <td>A</td>\n",
              "      <td>1476</td>\n",
              "    </tr>\n",
              "    <tr>\n",
              "      <th>11</th>\n",
              "      <td>State-gov</td>\n",
              "      <td>A</td>\n",
              "      <td>945</td>\n",
              "    </tr>\n",
              "    <tr>\n",
              "      <th>0</th>\n",
              "      <td>Federal-gov</td>\n",
              "      <td>A</td>\n",
              "      <td>589</td>\n",
              "    </tr>\n",
              "    <tr>\n",
              "      <th>7</th>\n",
              "      <td>Self-emp-inc</td>\n",
              "      <td>A</td>\n",
              "      <td>494</td>\n",
              "    </tr>\n",
              "    <tr>\n",
              "      <th>13</th>\n",
              "      <td>Without-pay</td>\n",
              "      <td>A</td>\n",
              "      <td>14</td>\n",
              "    </tr>\n",
              "    <tr>\n",
              "      <th>4</th>\n",
              "      <td>Never-worked</td>\n",
              "      <td>A</td>\n",
              "      <td>7</td>\n",
              "    </tr>\n",
              "  </tbody>\n",
              "</table>\n",
              "</div>\n",
              "      <button class=\"colab-df-convert\" onclick=\"convertToInteractive('df-333f4ba7-f28b-4b11-a156-04051dbd4237')\"\n",
              "              title=\"Convert this dataframe to an interactive table.\"\n",
              "              style=\"display:none;\">\n",
              "        \n",
              "  <svg xmlns=\"http://www.w3.org/2000/svg\" height=\"24px\"viewBox=\"0 0 24 24\"\n",
              "       width=\"24px\">\n",
              "    <path d=\"M0 0h24v24H0V0z\" fill=\"none\"/>\n",
              "    <path d=\"M18.56 5.44l.94 2.06.94-2.06 2.06-.94-2.06-.94-.94-2.06-.94 2.06-2.06.94zm-11 1L8.5 8.5l.94-2.06 2.06-.94-2.06-.94L8.5 2.5l-.94 2.06-2.06.94zm10 10l.94 2.06.94-2.06 2.06-.94-2.06-.94-.94-2.06-.94 2.06-2.06.94z\"/><path d=\"M17.41 7.96l-1.37-1.37c-.4-.4-.92-.59-1.43-.59-.52 0-1.04.2-1.43.59L10.3 9.45l-7.72 7.72c-.78.78-.78 2.05 0 2.83L4 21.41c.39.39.9.59 1.41.59.51 0 1.02-.2 1.41-.59l7.78-7.78 2.81-2.81c.8-.78.8-2.07 0-2.86zM5.41 20L4 18.59l7.72-7.72 1.47 1.35L5.41 20z\"/>\n",
              "  </svg>\n",
              "      </button>\n",
              "      \n",
              "  <style>\n",
              "    .colab-df-container {\n",
              "      display:flex;\n",
              "      flex-wrap:wrap;\n",
              "      gap: 12px;\n",
              "    }\n",
              "\n",
              "    .colab-df-convert {\n",
              "      background-color: #E8F0FE;\n",
              "      border: none;\n",
              "      border-radius: 50%;\n",
              "      cursor: pointer;\n",
              "      display: none;\n",
              "      fill: #1967D2;\n",
              "      height: 32px;\n",
              "      padding: 0 0 0 0;\n",
              "      width: 32px;\n",
              "    }\n",
              "\n",
              "    .colab-df-convert:hover {\n",
              "      background-color: #E2EBFA;\n",
              "      box-shadow: 0px 1px 2px rgba(60, 64, 67, 0.3), 0px 1px 3px 1px rgba(60, 64, 67, 0.15);\n",
              "      fill: #174EA6;\n",
              "    }\n",
              "\n",
              "    [theme=dark] .colab-df-convert {\n",
              "      background-color: #3B4455;\n",
              "      fill: #D2E3FC;\n",
              "    }\n",
              "\n",
              "    [theme=dark] .colab-df-convert:hover {\n",
              "      background-color: #434B5C;\n",
              "      box-shadow: 0px 1px 3px 1px rgba(0, 0, 0, 0.15);\n",
              "      filter: drop-shadow(0px 1px 2px rgba(0, 0, 0, 0.3));\n",
              "      fill: #FFFFFF;\n",
              "    }\n",
              "  </style>\n",
              "\n",
              "      <script>\n",
              "        const buttonEl =\n",
              "          document.querySelector('#df-333f4ba7-f28b-4b11-a156-04051dbd4237 button.colab-df-convert');\n",
              "        buttonEl.style.display =\n",
              "          google.colab.kernel.accessAllowed ? 'block' : 'none';\n",
              "\n",
              "        async function convertToInteractive(key) {\n",
              "          const element = document.querySelector('#df-333f4ba7-f28b-4b11-a156-04051dbd4237');\n",
              "          const dataTable =\n",
              "            await google.colab.kernel.invokeFunction('convertToInteractive',\n",
              "                                                     [key], {});\n",
              "          if (!dataTable) return;\n",
              "\n",
              "          const docLinkHtml = 'Like what you see? Visit the ' +\n",
              "            '<a target=\"_blank\" href=https://colab.research.google.com/notebooks/data_table.ipynb>data table notebook</a>'\n",
              "            + ' to learn more about interactive tables.';\n",
              "          element.innerHTML = '';\n",
              "          dataTable['output_type'] = 'display_data';\n",
              "          await google.colab.output.renderOutput(dataTable, element);\n",
              "          const docLink = document.createElement('div');\n",
              "          docLink.innerHTML = docLinkHtml;\n",
              "          element.appendChild(docLink);\n",
              "        }\n",
              "      </script>\n",
              "    </div>\n",
              "  </div>\n",
              "  "
            ]
          },
          "metadata": {},
          "execution_count": 58
        }
      ]
    },
    {
      "cell_type": "code",
      "source": [
        "clas=df3['occupation']\n",
        "workclass=df3['workclass']\n",
        "px.bar(x=workclass,y=clas,labels={'x':\"workclass\",'y':'count of people in A class'})"
      ],
      "metadata": {
        "colab": {
          "base_uri": "https://localhost:8080/",
          "height": 542
        },
        "id": "NmbkaCuaTtVI",
        "outputId": "d886df51-91bc-4116-a184-1d90d130180e"
      },
      "execution_count": 56,
      "outputs": [
        {
          "output_type": "display_data",
          "data": {
            "text/html": [
              "<html>\n",
              "<head><meta charset=\"utf-8\" /></head>\n",
              "<body>\n",
              "    <div>            <script src=\"https://cdnjs.cloudflare.com/ajax/libs/mathjax/2.7.5/MathJax.js?config=TeX-AMS-MML_SVG\"></script><script type=\"text/javascript\">if (window.MathJax) {MathJax.Hub.Config({SVG: {font: \"STIX-Web\"}});}</script>                <script type=\"text/javascript\">window.PlotlyConfig = {MathJaxConfig: 'local'};</script>\n",
              "        <script src=\"https://cdn.plot.ly/plotly-2.8.3.min.js\"></script>                <div id=\"d2846763-8e5e-4b33-9a29-14e282a3e71e\" class=\"plotly-graph-div\" style=\"height:525px; width:100%;\"></div>            <script type=\"text/javascript\">                                    window.PLOTLYENV=window.PLOTLYENV || {};                                    if (document.getElementById(\"d2846763-8e5e-4b33-9a29-14e282a3e71e\")) {                    Plotly.newPlot(                        \"d2846763-8e5e-4b33-9a29-14e282a3e71e\",                        [{\"alignmentgroup\":\"True\",\"hovertemplate\":\"workclass=%{x}<br>count of people in A class=%{y}<extra></extra>\",\"legendgroup\":\"\",\"marker\":{\"color\":\"#636efa\",\"pattern\":{\"shape\":\"\"}},\"name\":\"\",\"offsetgroup\":\"\",\"orientation\":\"v\",\"showlegend\":false,\"textposition\":\"auto\",\"x\":[\" Federal-gov\",\" Local-gov\",\" Never-worked\",\" Private\",\" Self-emp-inc\",\" Self-emp-not-inc\",\" State-gov\",\" Without-pay\",\"unknown\"],\"xaxis\":\"x\",\"y\":[589,1476,7,17733,494,1817,945,14,1645],\"yaxis\":\"y\",\"type\":\"bar\"}],                        {\"template\":{\"data\":{\"bar\":[{\"error_x\":{\"color\":\"#2a3f5f\"},\"error_y\":{\"color\":\"#2a3f5f\"},\"marker\":{\"line\":{\"color\":\"#E5ECF6\",\"width\":0.5},\"pattern\":{\"fillmode\":\"overlay\",\"size\":10,\"solidity\":0.2}},\"type\":\"bar\"}],\"barpolar\":[{\"marker\":{\"line\":{\"color\":\"#E5ECF6\",\"width\":0.5},\"pattern\":{\"fillmode\":\"overlay\",\"size\":10,\"solidity\":0.2}},\"type\":\"barpolar\"}],\"carpet\":[{\"aaxis\":{\"endlinecolor\":\"#2a3f5f\",\"gridcolor\":\"white\",\"linecolor\":\"white\",\"minorgridcolor\":\"white\",\"startlinecolor\":\"#2a3f5f\"},\"baxis\":{\"endlinecolor\":\"#2a3f5f\",\"gridcolor\":\"white\",\"linecolor\":\"white\",\"minorgridcolor\":\"white\",\"startlinecolor\":\"#2a3f5f\"},\"type\":\"carpet\"}],\"choropleth\":[{\"colorbar\":{\"outlinewidth\":0,\"ticks\":\"\"},\"type\":\"choropleth\"}],\"contour\":[{\"colorbar\":{\"outlinewidth\":0,\"ticks\":\"\"},\"colorscale\":[[0.0,\"#0d0887\"],[0.1111111111111111,\"#46039f\"],[0.2222222222222222,\"#7201a8\"],[0.3333333333333333,\"#9c179e\"],[0.4444444444444444,\"#bd3786\"],[0.5555555555555556,\"#d8576b\"],[0.6666666666666666,\"#ed7953\"],[0.7777777777777778,\"#fb9f3a\"],[0.8888888888888888,\"#fdca26\"],[1.0,\"#f0f921\"]],\"type\":\"contour\"}],\"contourcarpet\":[{\"colorbar\":{\"outlinewidth\":0,\"ticks\":\"\"},\"type\":\"contourcarpet\"}],\"heatmap\":[{\"colorbar\":{\"outlinewidth\":0,\"ticks\":\"\"},\"colorscale\":[[0.0,\"#0d0887\"],[0.1111111111111111,\"#46039f\"],[0.2222222222222222,\"#7201a8\"],[0.3333333333333333,\"#9c179e\"],[0.4444444444444444,\"#bd3786\"],[0.5555555555555556,\"#d8576b\"],[0.6666666666666666,\"#ed7953\"],[0.7777777777777778,\"#fb9f3a\"],[0.8888888888888888,\"#fdca26\"],[1.0,\"#f0f921\"]],\"type\":\"heatmap\"}],\"heatmapgl\":[{\"colorbar\":{\"outlinewidth\":0,\"ticks\":\"\"},\"colorscale\":[[0.0,\"#0d0887\"],[0.1111111111111111,\"#46039f\"],[0.2222222222222222,\"#7201a8\"],[0.3333333333333333,\"#9c179e\"],[0.4444444444444444,\"#bd3786\"],[0.5555555555555556,\"#d8576b\"],[0.6666666666666666,\"#ed7953\"],[0.7777777777777778,\"#fb9f3a\"],[0.8888888888888888,\"#fdca26\"],[1.0,\"#f0f921\"]],\"type\":\"heatmapgl\"}],\"histogram\":[{\"marker\":{\"pattern\":{\"fillmode\":\"overlay\",\"size\":10,\"solidity\":0.2}},\"type\":\"histogram\"}],\"histogram2d\":[{\"colorbar\":{\"outlinewidth\":0,\"ticks\":\"\"},\"colorscale\":[[0.0,\"#0d0887\"],[0.1111111111111111,\"#46039f\"],[0.2222222222222222,\"#7201a8\"],[0.3333333333333333,\"#9c179e\"],[0.4444444444444444,\"#bd3786\"],[0.5555555555555556,\"#d8576b\"],[0.6666666666666666,\"#ed7953\"],[0.7777777777777778,\"#fb9f3a\"],[0.8888888888888888,\"#fdca26\"],[1.0,\"#f0f921\"]],\"type\":\"histogram2d\"}],\"histogram2dcontour\":[{\"colorbar\":{\"outlinewidth\":0,\"ticks\":\"\"},\"colorscale\":[[0.0,\"#0d0887\"],[0.1111111111111111,\"#46039f\"],[0.2222222222222222,\"#7201a8\"],[0.3333333333333333,\"#9c179e\"],[0.4444444444444444,\"#bd3786\"],[0.5555555555555556,\"#d8576b\"],[0.6666666666666666,\"#ed7953\"],[0.7777777777777778,\"#fb9f3a\"],[0.8888888888888888,\"#fdca26\"],[1.0,\"#f0f921\"]],\"type\":\"histogram2dcontour\"}],\"mesh3d\":[{\"colorbar\":{\"outlinewidth\":0,\"ticks\":\"\"},\"type\":\"mesh3d\"}],\"parcoords\":[{\"line\":{\"colorbar\":{\"outlinewidth\":0,\"ticks\":\"\"}},\"type\":\"parcoords\"}],\"pie\":[{\"automargin\":true,\"type\":\"pie\"}],\"scatter\":[{\"marker\":{\"colorbar\":{\"outlinewidth\":0,\"ticks\":\"\"}},\"type\":\"scatter\"}],\"scatter3d\":[{\"line\":{\"colorbar\":{\"outlinewidth\":0,\"ticks\":\"\"}},\"marker\":{\"colorbar\":{\"outlinewidth\":0,\"ticks\":\"\"}},\"type\":\"scatter3d\"}],\"scattercarpet\":[{\"marker\":{\"colorbar\":{\"outlinewidth\":0,\"ticks\":\"\"}},\"type\":\"scattercarpet\"}],\"scattergeo\":[{\"marker\":{\"colorbar\":{\"outlinewidth\":0,\"ticks\":\"\"}},\"type\":\"scattergeo\"}],\"scattergl\":[{\"marker\":{\"colorbar\":{\"outlinewidth\":0,\"ticks\":\"\"}},\"type\":\"scattergl\"}],\"scattermapbox\":[{\"marker\":{\"colorbar\":{\"outlinewidth\":0,\"ticks\":\"\"}},\"type\":\"scattermapbox\"}],\"scatterpolar\":[{\"marker\":{\"colorbar\":{\"outlinewidth\":0,\"ticks\":\"\"}},\"type\":\"scatterpolar\"}],\"scatterpolargl\":[{\"marker\":{\"colorbar\":{\"outlinewidth\":0,\"ticks\":\"\"}},\"type\":\"scatterpolargl\"}],\"scatterternary\":[{\"marker\":{\"colorbar\":{\"outlinewidth\":0,\"ticks\":\"\"}},\"type\":\"scatterternary\"}],\"surface\":[{\"colorbar\":{\"outlinewidth\":0,\"ticks\":\"\"},\"colorscale\":[[0.0,\"#0d0887\"],[0.1111111111111111,\"#46039f\"],[0.2222222222222222,\"#7201a8\"],[0.3333333333333333,\"#9c179e\"],[0.4444444444444444,\"#bd3786\"],[0.5555555555555556,\"#d8576b\"],[0.6666666666666666,\"#ed7953\"],[0.7777777777777778,\"#fb9f3a\"],[0.8888888888888888,\"#fdca26\"],[1.0,\"#f0f921\"]],\"type\":\"surface\"}],\"table\":[{\"cells\":{\"fill\":{\"color\":\"#EBF0F8\"},\"line\":{\"color\":\"white\"}},\"header\":{\"fill\":{\"color\":\"#C8D4E3\"},\"line\":{\"color\":\"white\"}},\"type\":\"table\"}]},\"layout\":{\"annotationdefaults\":{\"arrowcolor\":\"#2a3f5f\",\"arrowhead\":0,\"arrowwidth\":1},\"autotypenumbers\":\"strict\",\"coloraxis\":{\"colorbar\":{\"outlinewidth\":0,\"ticks\":\"\"}},\"colorscale\":{\"diverging\":[[0,\"#8e0152\"],[0.1,\"#c51b7d\"],[0.2,\"#de77ae\"],[0.3,\"#f1b6da\"],[0.4,\"#fde0ef\"],[0.5,\"#f7f7f7\"],[0.6,\"#e6f5d0\"],[0.7,\"#b8e186\"],[0.8,\"#7fbc41\"],[0.9,\"#4d9221\"],[1,\"#276419\"]],\"sequential\":[[0.0,\"#0d0887\"],[0.1111111111111111,\"#46039f\"],[0.2222222222222222,\"#7201a8\"],[0.3333333333333333,\"#9c179e\"],[0.4444444444444444,\"#bd3786\"],[0.5555555555555556,\"#d8576b\"],[0.6666666666666666,\"#ed7953\"],[0.7777777777777778,\"#fb9f3a\"],[0.8888888888888888,\"#fdca26\"],[1.0,\"#f0f921\"]],\"sequentialminus\":[[0.0,\"#0d0887\"],[0.1111111111111111,\"#46039f\"],[0.2222222222222222,\"#7201a8\"],[0.3333333333333333,\"#9c179e\"],[0.4444444444444444,\"#bd3786\"],[0.5555555555555556,\"#d8576b\"],[0.6666666666666666,\"#ed7953\"],[0.7777777777777778,\"#fb9f3a\"],[0.8888888888888888,\"#fdca26\"],[1.0,\"#f0f921\"]]},\"colorway\":[\"#636efa\",\"#EF553B\",\"#00cc96\",\"#ab63fa\",\"#FFA15A\",\"#19d3f3\",\"#FF6692\",\"#B6E880\",\"#FF97FF\",\"#FECB52\"],\"font\":{\"color\":\"#2a3f5f\"},\"geo\":{\"bgcolor\":\"white\",\"lakecolor\":\"white\",\"landcolor\":\"#E5ECF6\",\"showlakes\":true,\"showland\":true,\"subunitcolor\":\"white\"},\"hoverlabel\":{\"align\":\"left\"},\"hovermode\":\"closest\",\"mapbox\":{\"style\":\"light\"},\"paper_bgcolor\":\"white\",\"plot_bgcolor\":\"#E5ECF6\",\"polar\":{\"angularaxis\":{\"gridcolor\":\"white\",\"linecolor\":\"white\",\"ticks\":\"\"},\"bgcolor\":\"#E5ECF6\",\"radialaxis\":{\"gridcolor\":\"white\",\"linecolor\":\"white\",\"ticks\":\"\"}},\"scene\":{\"xaxis\":{\"backgroundcolor\":\"#E5ECF6\",\"gridcolor\":\"white\",\"gridwidth\":2,\"linecolor\":\"white\",\"showbackground\":true,\"ticks\":\"\",\"zerolinecolor\":\"white\"},\"yaxis\":{\"backgroundcolor\":\"#E5ECF6\",\"gridcolor\":\"white\",\"gridwidth\":2,\"linecolor\":\"white\",\"showbackground\":true,\"ticks\":\"\",\"zerolinecolor\":\"white\"},\"zaxis\":{\"backgroundcolor\":\"#E5ECF6\",\"gridcolor\":\"white\",\"gridwidth\":2,\"linecolor\":\"white\",\"showbackground\":true,\"ticks\":\"\",\"zerolinecolor\":\"white\"}},\"shapedefaults\":{\"line\":{\"color\":\"#2a3f5f\"}},\"ternary\":{\"aaxis\":{\"gridcolor\":\"white\",\"linecolor\":\"white\",\"ticks\":\"\"},\"baxis\":{\"gridcolor\":\"white\",\"linecolor\":\"white\",\"ticks\":\"\"},\"bgcolor\":\"#E5ECF6\",\"caxis\":{\"gridcolor\":\"white\",\"linecolor\":\"white\",\"ticks\":\"\"}},\"title\":{\"x\":0.05},\"xaxis\":{\"automargin\":true,\"gridcolor\":\"white\",\"linecolor\":\"white\",\"ticks\":\"\",\"title\":{\"standoff\":15},\"zerolinecolor\":\"white\",\"zerolinewidth\":2},\"yaxis\":{\"automargin\":true,\"gridcolor\":\"white\",\"linecolor\":\"white\",\"ticks\":\"\",\"title\":{\"standoff\":15},\"zerolinecolor\":\"white\",\"zerolinewidth\":2}}},\"xaxis\":{\"anchor\":\"y\",\"domain\":[0.0,1.0],\"title\":{\"text\":\"workclass\"}},\"yaxis\":{\"anchor\":\"x\",\"domain\":[0.0,1.0],\"title\":{\"text\":\"count of people in A class\"}},\"legend\":{\"tracegroupgap\":0},\"margin\":{\"t\":60},\"barmode\":\"relative\"},                        {\"responsive\": true}                    ).then(function(){\n",
              "                            \n",
              "var gd = document.getElementById('d2846763-8e5e-4b33-9a29-14e282a3e71e');\n",
              "var x = new MutationObserver(function (mutations, observer) {{\n",
              "        var display = window.getComputedStyle(gd).display;\n",
              "        if (!display || display === 'none') {{\n",
              "            console.log([gd, 'removed!']);\n",
              "            Plotly.purge(gd);\n",
              "            observer.disconnect();\n",
              "        }}\n",
              "}});\n",
              "\n",
              "// Listen for the removal of the full notebook cells\n",
              "var notebookContainer = gd.closest('#notebook-container');\n",
              "if (notebookContainer) {{\n",
              "    x.observe(notebookContainer, {childList: true});\n",
              "}}\n",
              "\n",
              "// Listen for the clearing of the current output cell\n",
              "var outputEl = gd.closest('.output');\n",
              "if (outputEl) {{\n",
              "    x.observe(outputEl, {childList: true});\n",
              "}}\n",
              "\n",
              "                        })                };                            </script>        </div>\n",
              "</body>\n",
              "</html>"
            ]
          },
          "metadata": {}
        }
      ]
    },
    {
      "cell_type": "markdown",
      "source": [
        "#which workclass people are the most hard working (max number of working hours)"
      ],
      "metadata": {
        "id": "UVn1DF4zXGZg"
      }
    },
    {
      "cell_type": "code",
      "source": [
        "df.groupby('workclass').mean()['hours-per-week'].reset_index()"
      ],
      "metadata": {
        "id": "QUmy4QTyWnY3"
      },
      "execution_count": null,
      "outputs": []
    },
    {
      "cell_type": "code",
      "source": [
        "workclass=df.groupby('workclass').mean()['hours-per-week'].reset_index()['workclass']\n",
        "work=df.groupby('workclass').mean()['hours-per-week'].reset_index()['hours-per-week']\n",
        "\n",
        "px.histogram(x=workclass,y=work,labels={'x':\"workclass\",'y':\"avg number of hours\"})"
      ],
      "metadata": {
        "colab": {
          "base_uri": "https://localhost:8080/",
          "height": 542
        },
        "id": "6cvgipMXXX3_",
        "outputId": "ef71b0ee-a306-4262-e2d1-a9615fe40349"
      },
      "execution_count": 30,
      "outputs": [
        {
          "output_type": "display_data",
          "data": {
            "text/html": [
              "<html>\n",
              "<head><meta charset=\"utf-8\" /></head>\n",
              "<body>\n",
              "    <div>            <script src=\"https://cdnjs.cloudflare.com/ajax/libs/mathjax/2.7.5/MathJax.js?config=TeX-AMS-MML_SVG\"></script><script type=\"text/javascript\">if (window.MathJax) {MathJax.Hub.Config({SVG: {font: \"STIX-Web\"}});}</script>                <script type=\"text/javascript\">window.PlotlyConfig = {MathJaxConfig: 'local'};</script>\n",
              "        <script src=\"https://cdn.plot.ly/plotly-2.8.3.min.js\"></script>                <div id=\"438119d0-18a1-4851-88ca-07f7258b1805\" class=\"plotly-graph-div\" style=\"height:525px; width:100%;\"></div>            <script type=\"text/javascript\">                                    window.PLOTLYENV=window.PLOTLYENV || {};                                    if (document.getElementById(\"438119d0-18a1-4851-88ca-07f7258b1805\")) {                    Plotly.newPlot(                        \"438119d0-18a1-4851-88ca-07f7258b1805\",                        [{\"alignmentgroup\":\"True\",\"bingroup\":\"x\",\"histfunc\":\"sum\",\"hovertemplate\":\"workclass=%{x}<br>sum of avg number of hours=%{y}<extra></extra>\",\"legendgroup\":\"\",\"marker\":{\"color\":\"#636efa\",\"pattern\":{\"shape\":\"\"}},\"name\":\"\",\"offsetgroup\":\"\",\"orientation\":\"v\",\"showlegend\":false,\"x\":[\" Federal-gov\",\" Local-gov\",\" Never-worked\",\" Private\",\" Self-emp-inc\",\" Self-emp-not-inc\",\" State-gov\",\" Without-pay\",\"unknown\"],\"xaxis\":\"x\",\"y\":[41.37916666666667,40.98279980888677,28.428571428571427,40.267095523440254,48.81810035842294,44.421881149153876,39.03158705701079,32.714285714285715,31.91938997821351],\"yaxis\":\"y\",\"type\":\"histogram\"}],                        {\"template\":{\"data\":{\"bar\":[{\"error_x\":{\"color\":\"#2a3f5f\"},\"error_y\":{\"color\":\"#2a3f5f\"},\"marker\":{\"line\":{\"color\":\"#E5ECF6\",\"width\":0.5},\"pattern\":{\"fillmode\":\"overlay\",\"size\":10,\"solidity\":0.2}},\"type\":\"bar\"}],\"barpolar\":[{\"marker\":{\"line\":{\"color\":\"#E5ECF6\",\"width\":0.5},\"pattern\":{\"fillmode\":\"overlay\",\"size\":10,\"solidity\":0.2}},\"type\":\"barpolar\"}],\"carpet\":[{\"aaxis\":{\"endlinecolor\":\"#2a3f5f\",\"gridcolor\":\"white\",\"linecolor\":\"white\",\"minorgridcolor\":\"white\",\"startlinecolor\":\"#2a3f5f\"},\"baxis\":{\"endlinecolor\":\"#2a3f5f\",\"gridcolor\":\"white\",\"linecolor\":\"white\",\"minorgridcolor\":\"white\",\"startlinecolor\":\"#2a3f5f\"},\"type\":\"carpet\"}],\"choropleth\":[{\"colorbar\":{\"outlinewidth\":0,\"ticks\":\"\"},\"type\":\"choropleth\"}],\"contour\":[{\"colorbar\":{\"outlinewidth\":0,\"ticks\":\"\"},\"colorscale\":[[0.0,\"#0d0887\"],[0.1111111111111111,\"#46039f\"],[0.2222222222222222,\"#7201a8\"],[0.3333333333333333,\"#9c179e\"],[0.4444444444444444,\"#bd3786\"],[0.5555555555555556,\"#d8576b\"],[0.6666666666666666,\"#ed7953\"],[0.7777777777777778,\"#fb9f3a\"],[0.8888888888888888,\"#fdca26\"],[1.0,\"#f0f921\"]],\"type\":\"contour\"}],\"contourcarpet\":[{\"colorbar\":{\"outlinewidth\":0,\"ticks\":\"\"},\"type\":\"contourcarpet\"}],\"heatmap\":[{\"colorbar\":{\"outlinewidth\":0,\"ticks\":\"\"},\"colorscale\":[[0.0,\"#0d0887\"],[0.1111111111111111,\"#46039f\"],[0.2222222222222222,\"#7201a8\"],[0.3333333333333333,\"#9c179e\"],[0.4444444444444444,\"#bd3786\"],[0.5555555555555556,\"#d8576b\"],[0.6666666666666666,\"#ed7953\"],[0.7777777777777778,\"#fb9f3a\"],[0.8888888888888888,\"#fdca26\"],[1.0,\"#f0f921\"]],\"type\":\"heatmap\"}],\"heatmapgl\":[{\"colorbar\":{\"outlinewidth\":0,\"ticks\":\"\"},\"colorscale\":[[0.0,\"#0d0887\"],[0.1111111111111111,\"#46039f\"],[0.2222222222222222,\"#7201a8\"],[0.3333333333333333,\"#9c179e\"],[0.4444444444444444,\"#bd3786\"],[0.5555555555555556,\"#d8576b\"],[0.6666666666666666,\"#ed7953\"],[0.7777777777777778,\"#fb9f3a\"],[0.8888888888888888,\"#fdca26\"],[1.0,\"#f0f921\"]],\"type\":\"heatmapgl\"}],\"histogram\":[{\"marker\":{\"pattern\":{\"fillmode\":\"overlay\",\"size\":10,\"solidity\":0.2}},\"type\":\"histogram\"}],\"histogram2d\":[{\"colorbar\":{\"outlinewidth\":0,\"ticks\":\"\"},\"colorscale\":[[0.0,\"#0d0887\"],[0.1111111111111111,\"#46039f\"],[0.2222222222222222,\"#7201a8\"],[0.3333333333333333,\"#9c179e\"],[0.4444444444444444,\"#bd3786\"],[0.5555555555555556,\"#d8576b\"],[0.6666666666666666,\"#ed7953\"],[0.7777777777777778,\"#fb9f3a\"],[0.8888888888888888,\"#fdca26\"],[1.0,\"#f0f921\"]],\"type\":\"histogram2d\"}],\"histogram2dcontour\":[{\"colorbar\":{\"outlinewidth\":0,\"ticks\":\"\"},\"colorscale\":[[0.0,\"#0d0887\"],[0.1111111111111111,\"#46039f\"],[0.2222222222222222,\"#7201a8\"],[0.3333333333333333,\"#9c179e\"],[0.4444444444444444,\"#bd3786\"],[0.5555555555555556,\"#d8576b\"],[0.6666666666666666,\"#ed7953\"],[0.7777777777777778,\"#fb9f3a\"],[0.8888888888888888,\"#fdca26\"],[1.0,\"#f0f921\"]],\"type\":\"histogram2dcontour\"}],\"mesh3d\":[{\"colorbar\":{\"outlinewidth\":0,\"ticks\":\"\"},\"type\":\"mesh3d\"}],\"parcoords\":[{\"line\":{\"colorbar\":{\"outlinewidth\":0,\"ticks\":\"\"}},\"type\":\"parcoords\"}],\"pie\":[{\"automargin\":true,\"type\":\"pie\"}],\"scatter\":[{\"marker\":{\"colorbar\":{\"outlinewidth\":0,\"ticks\":\"\"}},\"type\":\"scatter\"}],\"scatter3d\":[{\"line\":{\"colorbar\":{\"outlinewidth\":0,\"ticks\":\"\"}},\"marker\":{\"colorbar\":{\"outlinewidth\":0,\"ticks\":\"\"}},\"type\":\"scatter3d\"}],\"scattercarpet\":[{\"marker\":{\"colorbar\":{\"outlinewidth\":0,\"ticks\":\"\"}},\"type\":\"scattercarpet\"}],\"scattergeo\":[{\"marker\":{\"colorbar\":{\"outlinewidth\":0,\"ticks\":\"\"}},\"type\":\"scattergeo\"}],\"scattergl\":[{\"marker\":{\"colorbar\":{\"outlinewidth\":0,\"ticks\":\"\"}},\"type\":\"scattergl\"}],\"scattermapbox\":[{\"marker\":{\"colorbar\":{\"outlinewidth\":0,\"ticks\":\"\"}},\"type\":\"scattermapbox\"}],\"scatterpolar\":[{\"marker\":{\"colorbar\":{\"outlinewidth\":0,\"ticks\":\"\"}},\"type\":\"scatterpolar\"}],\"scatterpolargl\":[{\"marker\":{\"colorbar\":{\"outlinewidth\":0,\"ticks\":\"\"}},\"type\":\"scatterpolargl\"}],\"scatterternary\":[{\"marker\":{\"colorbar\":{\"outlinewidth\":0,\"ticks\":\"\"}},\"type\":\"scatterternary\"}],\"surface\":[{\"colorbar\":{\"outlinewidth\":0,\"ticks\":\"\"},\"colorscale\":[[0.0,\"#0d0887\"],[0.1111111111111111,\"#46039f\"],[0.2222222222222222,\"#7201a8\"],[0.3333333333333333,\"#9c179e\"],[0.4444444444444444,\"#bd3786\"],[0.5555555555555556,\"#d8576b\"],[0.6666666666666666,\"#ed7953\"],[0.7777777777777778,\"#fb9f3a\"],[0.8888888888888888,\"#fdca26\"],[1.0,\"#f0f921\"]],\"type\":\"surface\"}],\"table\":[{\"cells\":{\"fill\":{\"color\":\"#EBF0F8\"},\"line\":{\"color\":\"white\"}},\"header\":{\"fill\":{\"color\":\"#C8D4E3\"},\"line\":{\"color\":\"white\"}},\"type\":\"table\"}]},\"layout\":{\"annotationdefaults\":{\"arrowcolor\":\"#2a3f5f\",\"arrowhead\":0,\"arrowwidth\":1},\"autotypenumbers\":\"strict\",\"coloraxis\":{\"colorbar\":{\"outlinewidth\":0,\"ticks\":\"\"}},\"colorscale\":{\"diverging\":[[0,\"#8e0152\"],[0.1,\"#c51b7d\"],[0.2,\"#de77ae\"],[0.3,\"#f1b6da\"],[0.4,\"#fde0ef\"],[0.5,\"#f7f7f7\"],[0.6,\"#e6f5d0\"],[0.7,\"#b8e186\"],[0.8,\"#7fbc41\"],[0.9,\"#4d9221\"],[1,\"#276419\"]],\"sequential\":[[0.0,\"#0d0887\"],[0.1111111111111111,\"#46039f\"],[0.2222222222222222,\"#7201a8\"],[0.3333333333333333,\"#9c179e\"],[0.4444444444444444,\"#bd3786\"],[0.5555555555555556,\"#d8576b\"],[0.6666666666666666,\"#ed7953\"],[0.7777777777777778,\"#fb9f3a\"],[0.8888888888888888,\"#fdca26\"],[1.0,\"#f0f921\"]],\"sequentialminus\":[[0.0,\"#0d0887\"],[0.1111111111111111,\"#46039f\"],[0.2222222222222222,\"#7201a8\"],[0.3333333333333333,\"#9c179e\"],[0.4444444444444444,\"#bd3786\"],[0.5555555555555556,\"#d8576b\"],[0.6666666666666666,\"#ed7953\"],[0.7777777777777778,\"#fb9f3a\"],[0.8888888888888888,\"#fdca26\"],[1.0,\"#f0f921\"]]},\"colorway\":[\"#636efa\",\"#EF553B\",\"#00cc96\",\"#ab63fa\",\"#FFA15A\",\"#19d3f3\",\"#FF6692\",\"#B6E880\",\"#FF97FF\",\"#FECB52\"],\"font\":{\"color\":\"#2a3f5f\"},\"geo\":{\"bgcolor\":\"white\",\"lakecolor\":\"white\",\"landcolor\":\"#E5ECF6\",\"showlakes\":true,\"showland\":true,\"subunitcolor\":\"white\"},\"hoverlabel\":{\"align\":\"left\"},\"hovermode\":\"closest\",\"mapbox\":{\"style\":\"light\"},\"paper_bgcolor\":\"white\",\"plot_bgcolor\":\"#E5ECF6\",\"polar\":{\"angularaxis\":{\"gridcolor\":\"white\",\"linecolor\":\"white\",\"ticks\":\"\"},\"bgcolor\":\"#E5ECF6\",\"radialaxis\":{\"gridcolor\":\"white\",\"linecolor\":\"white\",\"ticks\":\"\"}},\"scene\":{\"xaxis\":{\"backgroundcolor\":\"#E5ECF6\",\"gridcolor\":\"white\",\"gridwidth\":2,\"linecolor\":\"white\",\"showbackground\":true,\"ticks\":\"\",\"zerolinecolor\":\"white\"},\"yaxis\":{\"backgroundcolor\":\"#E5ECF6\",\"gridcolor\":\"white\",\"gridwidth\":2,\"linecolor\":\"white\",\"showbackground\":true,\"ticks\":\"\",\"zerolinecolor\":\"white\"},\"zaxis\":{\"backgroundcolor\":\"#E5ECF6\",\"gridcolor\":\"white\",\"gridwidth\":2,\"linecolor\":\"white\",\"showbackground\":true,\"ticks\":\"\",\"zerolinecolor\":\"white\"}},\"shapedefaults\":{\"line\":{\"color\":\"#2a3f5f\"}},\"ternary\":{\"aaxis\":{\"gridcolor\":\"white\",\"linecolor\":\"white\",\"ticks\":\"\"},\"baxis\":{\"gridcolor\":\"white\",\"linecolor\":\"white\",\"ticks\":\"\"},\"bgcolor\":\"#E5ECF6\",\"caxis\":{\"gridcolor\":\"white\",\"linecolor\":\"white\",\"ticks\":\"\"}},\"title\":{\"x\":0.05},\"xaxis\":{\"automargin\":true,\"gridcolor\":\"white\",\"linecolor\":\"white\",\"ticks\":\"\",\"title\":{\"standoff\":15},\"zerolinecolor\":\"white\",\"zerolinewidth\":2},\"yaxis\":{\"automargin\":true,\"gridcolor\":\"white\",\"linecolor\":\"white\",\"ticks\":\"\",\"title\":{\"standoff\":15},\"zerolinecolor\":\"white\",\"zerolinewidth\":2}}},\"xaxis\":{\"anchor\":\"y\",\"domain\":[0.0,1.0],\"title\":{\"text\":\"workclass\"}},\"yaxis\":{\"anchor\":\"x\",\"domain\":[0.0,1.0],\"title\":{\"text\":\"sum of avg number of hours\"}},\"legend\":{\"tracegroupgap\":0},\"margin\":{\"t\":60},\"barmode\":\"relative\"},                        {\"responsive\": true}                    ).then(function(){\n",
              "                            \n",
              "var gd = document.getElementById('438119d0-18a1-4851-88ca-07f7258b1805');\n",
              "var x = new MutationObserver(function (mutations, observer) {{\n",
              "        var display = window.getComputedStyle(gd).display;\n",
              "        if (!display || display === 'none') {{\n",
              "            console.log([gd, 'removed!']);\n",
              "            Plotly.purge(gd);\n",
              "            observer.disconnect();\n",
              "        }}\n",
              "}});\n",
              "\n",
              "// Listen for the removal of the full notebook cells\n",
              "var notebookContainer = gd.closest('#notebook-container');\n",
              "if (notebookContainer) {{\n",
              "    x.observe(notebookContainer, {childList: true});\n",
              "}}\n",
              "\n",
              "// Listen for the clearing of the current output cell\n",
              "var outputEl = gd.closest('.output');\n",
              "if (outputEl) {{\n",
              "    x.observe(outputEl, {childList: true});\n",
              "}}\n",
              "\n",
              "                        })                };                            </script>        </div>\n",
              "</body>\n",
              "</html>"
            ]
          },
          "metadata": {}
        }
      ]
    },
    {
      "cell_type": "markdown",
      "source": [
        "#Does capital gain of people depend on race of people"
      ],
      "metadata": {
        "id": "RkeWkpRZau_N"
      }
    },
    {
      "cell_type": "code",
      "source": [
        "df.groupby('race').mean()['capital-gain'].reset_index()"
      ],
      "metadata": {
        "colab": {
          "base_uri": "https://localhost:8080/",
          "height": 206
        },
        "id": "XVI59BRBXZLW",
        "outputId": "53906ce9-95d9-4b3c-f51c-66cf24474a3d"
      },
      "execution_count": 31,
      "outputs": [
        {
          "output_type": "execute_result",
          "data": {
            "text/plain": [
              "                  race  capital-gain\n",
              "0   Amer-Indian-Eskimo    625.266881\n",
              "1   Asian-Pac-Islander   1478.358037\n",
              "2                Black    609.940461\n",
              "3                Other    934.660517\n",
              "4                White   1121.660375"
            ],
            "text/html": [
              "\n",
              "  <div id=\"df-10f945a4-f499-436a-bc9a-a8d32b643e7c\">\n",
              "    <div class=\"colab-df-container\">\n",
              "      <div>\n",
              "<style scoped>\n",
              "    .dataframe tbody tr th:only-of-type {\n",
              "        vertical-align: middle;\n",
              "    }\n",
              "\n",
              "    .dataframe tbody tr th {\n",
              "        vertical-align: top;\n",
              "    }\n",
              "\n",
              "    .dataframe thead th {\n",
              "        text-align: right;\n",
              "    }\n",
              "</style>\n",
              "<table border=\"1\" class=\"dataframe\">\n",
              "  <thead>\n",
              "    <tr style=\"text-align: right;\">\n",
              "      <th></th>\n",
              "      <th>race</th>\n",
              "      <th>capital-gain</th>\n",
              "    </tr>\n",
              "  </thead>\n",
              "  <tbody>\n",
              "    <tr>\n",
              "      <th>0</th>\n",
              "      <td>Amer-Indian-Eskimo</td>\n",
              "      <td>625.266881</td>\n",
              "    </tr>\n",
              "    <tr>\n",
              "      <th>1</th>\n",
              "      <td>Asian-Pac-Islander</td>\n",
              "      <td>1478.358037</td>\n",
              "    </tr>\n",
              "    <tr>\n",
              "      <th>2</th>\n",
              "      <td>Black</td>\n",
              "      <td>609.940461</td>\n",
              "    </tr>\n",
              "    <tr>\n",
              "      <th>3</th>\n",
              "      <td>Other</td>\n",
              "      <td>934.660517</td>\n",
              "    </tr>\n",
              "    <tr>\n",
              "      <th>4</th>\n",
              "      <td>White</td>\n",
              "      <td>1121.660375</td>\n",
              "    </tr>\n",
              "  </tbody>\n",
              "</table>\n",
              "</div>\n",
              "      <button class=\"colab-df-convert\" onclick=\"convertToInteractive('df-10f945a4-f499-436a-bc9a-a8d32b643e7c')\"\n",
              "              title=\"Convert this dataframe to an interactive table.\"\n",
              "              style=\"display:none;\">\n",
              "        \n",
              "  <svg xmlns=\"http://www.w3.org/2000/svg\" height=\"24px\"viewBox=\"0 0 24 24\"\n",
              "       width=\"24px\">\n",
              "    <path d=\"M0 0h24v24H0V0z\" fill=\"none\"/>\n",
              "    <path d=\"M18.56 5.44l.94 2.06.94-2.06 2.06-.94-2.06-.94-.94-2.06-.94 2.06-2.06.94zm-11 1L8.5 8.5l.94-2.06 2.06-.94-2.06-.94L8.5 2.5l-.94 2.06-2.06.94zm10 10l.94 2.06.94-2.06 2.06-.94-2.06-.94-.94-2.06-.94 2.06-2.06.94z\"/><path d=\"M17.41 7.96l-1.37-1.37c-.4-.4-.92-.59-1.43-.59-.52 0-1.04.2-1.43.59L10.3 9.45l-7.72 7.72c-.78.78-.78 2.05 0 2.83L4 21.41c.39.39.9.59 1.41.59.51 0 1.02-.2 1.41-.59l7.78-7.78 2.81-2.81c.8-.78.8-2.07 0-2.86zM5.41 20L4 18.59l7.72-7.72 1.47 1.35L5.41 20z\"/>\n",
              "  </svg>\n",
              "      </button>\n",
              "      \n",
              "  <style>\n",
              "    .colab-df-container {\n",
              "      display:flex;\n",
              "      flex-wrap:wrap;\n",
              "      gap: 12px;\n",
              "    }\n",
              "\n",
              "    .colab-df-convert {\n",
              "      background-color: #E8F0FE;\n",
              "      border: none;\n",
              "      border-radius: 50%;\n",
              "      cursor: pointer;\n",
              "      display: none;\n",
              "      fill: #1967D2;\n",
              "      height: 32px;\n",
              "      padding: 0 0 0 0;\n",
              "      width: 32px;\n",
              "    }\n",
              "\n",
              "    .colab-df-convert:hover {\n",
              "      background-color: #E2EBFA;\n",
              "      box-shadow: 0px 1px 2px rgba(60, 64, 67, 0.3), 0px 1px 3px 1px rgba(60, 64, 67, 0.15);\n",
              "      fill: #174EA6;\n",
              "    }\n",
              "\n",
              "    [theme=dark] .colab-df-convert {\n",
              "      background-color: #3B4455;\n",
              "      fill: #D2E3FC;\n",
              "    }\n",
              "\n",
              "    [theme=dark] .colab-df-convert:hover {\n",
              "      background-color: #434B5C;\n",
              "      box-shadow: 0px 1px 3px 1px rgba(0, 0, 0, 0.15);\n",
              "      filter: drop-shadow(0px 1px 2px rgba(0, 0, 0, 0.3));\n",
              "      fill: #FFFFFF;\n",
              "    }\n",
              "  </style>\n",
              "\n",
              "      <script>\n",
              "        const buttonEl =\n",
              "          document.querySelector('#df-10f945a4-f499-436a-bc9a-a8d32b643e7c button.colab-df-convert');\n",
              "        buttonEl.style.display =\n",
              "          google.colab.kernel.accessAllowed ? 'block' : 'none';\n",
              "\n",
              "        async function convertToInteractive(key) {\n",
              "          const element = document.querySelector('#df-10f945a4-f499-436a-bc9a-a8d32b643e7c');\n",
              "          const dataTable =\n",
              "            await google.colab.kernel.invokeFunction('convertToInteractive',\n",
              "                                                     [key], {});\n",
              "          if (!dataTable) return;\n",
              "\n",
              "          const docLinkHtml = 'Like what you see? Visit the ' +\n",
              "            '<a target=\"_blank\" href=https://colab.research.google.com/notebooks/data_table.ipynb>data table notebook</a>'\n",
              "            + ' to learn more about interactive tables.';\n",
              "          element.innerHTML = '';\n",
              "          dataTable['output_type'] = 'display_data';\n",
              "          await google.colab.output.renderOutput(dataTable, element);\n",
              "          const docLink = document.createElement('div');\n",
              "          docLink.innerHTML = docLinkHtml;\n",
              "          element.appendChild(docLink);\n",
              "        }\n",
              "      </script>\n",
              "    </div>\n",
              "  </div>\n",
              "  "
            ]
          },
          "metadata": {},
          "execution_count": 31
        }
      ]
    },
    {
      "cell_type": "code",
      "source": [
        "px.scatter(x=df.groupby('race').mean()['capital-gain'].reset_index()['race'],y=df.groupby('race').mean()['capital-gain'].reset_index()['capital-gain'])"
      ],
      "metadata": {
        "colab": {
          "base_uri": "https://localhost:8080/",
          "height": 542
        },
        "id": "fvVD9sdoa8SV",
        "outputId": "8f029bc3-6bab-49f7-a73f-ae76145db847"
      },
      "execution_count": 32,
      "outputs": [
        {
          "output_type": "display_data",
          "data": {
            "text/html": [
              "<html>\n",
              "<head><meta charset=\"utf-8\" /></head>\n",
              "<body>\n",
              "    <div>            <script src=\"https://cdnjs.cloudflare.com/ajax/libs/mathjax/2.7.5/MathJax.js?config=TeX-AMS-MML_SVG\"></script><script type=\"text/javascript\">if (window.MathJax) {MathJax.Hub.Config({SVG: {font: \"STIX-Web\"}});}</script>                <script type=\"text/javascript\">window.PlotlyConfig = {MathJaxConfig: 'local'};</script>\n",
              "        <script src=\"https://cdn.plot.ly/plotly-2.8.3.min.js\"></script>                <div id=\"69e35840-ad55-403b-831f-57bfbc39f0f0\" class=\"plotly-graph-div\" style=\"height:525px; width:100%;\"></div>            <script type=\"text/javascript\">                                    window.PLOTLYENV=window.PLOTLYENV || {};                                    if (document.getElementById(\"69e35840-ad55-403b-831f-57bfbc39f0f0\")) {                    Plotly.newPlot(                        \"69e35840-ad55-403b-831f-57bfbc39f0f0\",                        [{\"hovertemplate\":\"x=%{x}<br>y=%{y}<extra></extra>\",\"legendgroup\":\"\",\"marker\":{\"color\":\"#636efa\",\"symbol\":\"circle\"},\"mode\":\"markers\",\"name\":\"\",\"orientation\":\"v\",\"showlegend\":false,\"x\":[\" Amer-Indian-Eskimo\",\" Asian-Pac-Islander\",\" Black\",\" Other\",\" White\"],\"xaxis\":\"x\",\"y\":[625.2668810289389,1478.3580365736284,609.9404609475032,934.6605166051661,1121.6603753235547],\"yaxis\":\"y\",\"type\":\"scatter\"}],                        {\"template\":{\"data\":{\"bar\":[{\"error_x\":{\"color\":\"#2a3f5f\"},\"error_y\":{\"color\":\"#2a3f5f\"},\"marker\":{\"line\":{\"color\":\"#E5ECF6\",\"width\":0.5},\"pattern\":{\"fillmode\":\"overlay\",\"size\":10,\"solidity\":0.2}},\"type\":\"bar\"}],\"barpolar\":[{\"marker\":{\"line\":{\"color\":\"#E5ECF6\",\"width\":0.5},\"pattern\":{\"fillmode\":\"overlay\",\"size\":10,\"solidity\":0.2}},\"type\":\"barpolar\"}],\"carpet\":[{\"aaxis\":{\"endlinecolor\":\"#2a3f5f\",\"gridcolor\":\"white\",\"linecolor\":\"white\",\"minorgridcolor\":\"white\",\"startlinecolor\":\"#2a3f5f\"},\"baxis\":{\"endlinecolor\":\"#2a3f5f\",\"gridcolor\":\"white\",\"linecolor\":\"white\",\"minorgridcolor\":\"white\",\"startlinecolor\":\"#2a3f5f\"},\"type\":\"carpet\"}],\"choropleth\":[{\"colorbar\":{\"outlinewidth\":0,\"ticks\":\"\"},\"type\":\"choropleth\"}],\"contour\":[{\"colorbar\":{\"outlinewidth\":0,\"ticks\":\"\"},\"colorscale\":[[0.0,\"#0d0887\"],[0.1111111111111111,\"#46039f\"],[0.2222222222222222,\"#7201a8\"],[0.3333333333333333,\"#9c179e\"],[0.4444444444444444,\"#bd3786\"],[0.5555555555555556,\"#d8576b\"],[0.6666666666666666,\"#ed7953\"],[0.7777777777777778,\"#fb9f3a\"],[0.8888888888888888,\"#fdca26\"],[1.0,\"#f0f921\"]],\"type\":\"contour\"}],\"contourcarpet\":[{\"colorbar\":{\"outlinewidth\":0,\"ticks\":\"\"},\"type\":\"contourcarpet\"}],\"heatmap\":[{\"colorbar\":{\"outlinewidth\":0,\"ticks\":\"\"},\"colorscale\":[[0.0,\"#0d0887\"],[0.1111111111111111,\"#46039f\"],[0.2222222222222222,\"#7201a8\"],[0.3333333333333333,\"#9c179e\"],[0.4444444444444444,\"#bd3786\"],[0.5555555555555556,\"#d8576b\"],[0.6666666666666666,\"#ed7953\"],[0.7777777777777778,\"#fb9f3a\"],[0.8888888888888888,\"#fdca26\"],[1.0,\"#f0f921\"]],\"type\":\"heatmap\"}],\"heatmapgl\":[{\"colorbar\":{\"outlinewidth\":0,\"ticks\":\"\"},\"colorscale\":[[0.0,\"#0d0887\"],[0.1111111111111111,\"#46039f\"],[0.2222222222222222,\"#7201a8\"],[0.3333333333333333,\"#9c179e\"],[0.4444444444444444,\"#bd3786\"],[0.5555555555555556,\"#d8576b\"],[0.6666666666666666,\"#ed7953\"],[0.7777777777777778,\"#fb9f3a\"],[0.8888888888888888,\"#fdca26\"],[1.0,\"#f0f921\"]],\"type\":\"heatmapgl\"}],\"histogram\":[{\"marker\":{\"pattern\":{\"fillmode\":\"overlay\",\"size\":10,\"solidity\":0.2}},\"type\":\"histogram\"}],\"histogram2d\":[{\"colorbar\":{\"outlinewidth\":0,\"ticks\":\"\"},\"colorscale\":[[0.0,\"#0d0887\"],[0.1111111111111111,\"#46039f\"],[0.2222222222222222,\"#7201a8\"],[0.3333333333333333,\"#9c179e\"],[0.4444444444444444,\"#bd3786\"],[0.5555555555555556,\"#d8576b\"],[0.6666666666666666,\"#ed7953\"],[0.7777777777777778,\"#fb9f3a\"],[0.8888888888888888,\"#fdca26\"],[1.0,\"#f0f921\"]],\"type\":\"histogram2d\"}],\"histogram2dcontour\":[{\"colorbar\":{\"outlinewidth\":0,\"ticks\":\"\"},\"colorscale\":[[0.0,\"#0d0887\"],[0.1111111111111111,\"#46039f\"],[0.2222222222222222,\"#7201a8\"],[0.3333333333333333,\"#9c179e\"],[0.4444444444444444,\"#bd3786\"],[0.5555555555555556,\"#d8576b\"],[0.6666666666666666,\"#ed7953\"],[0.7777777777777778,\"#fb9f3a\"],[0.8888888888888888,\"#fdca26\"],[1.0,\"#f0f921\"]],\"type\":\"histogram2dcontour\"}],\"mesh3d\":[{\"colorbar\":{\"outlinewidth\":0,\"ticks\":\"\"},\"type\":\"mesh3d\"}],\"parcoords\":[{\"line\":{\"colorbar\":{\"outlinewidth\":0,\"ticks\":\"\"}},\"type\":\"parcoords\"}],\"pie\":[{\"automargin\":true,\"type\":\"pie\"}],\"scatter\":[{\"marker\":{\"colorbar\":{\"outlinewidth\":0,\"ticks\":\"\"}},\"type\":\"scatter\"}],\"scatter3d\":[{\"line\":{\"colorbar\":{\"outlinewidth\":0,\"ticks\":\"\"}},\"marker\":{\"colorbar\":{\"outlinewidth\":0,\"ticks\":\"\"}},\"type\":\"scatter3d\"}],\"scattercarpet\":[{\"marker\":{\"colorbar\":{\"outlinewidth\":0,\"ticks\":\"\"}},\"type\":\"scattercarpet\"}],\"scattergeo\":[{\"marker\":{\"colorbar\":{\"outlinewidth\":0,\"ticks\":\"\"}},\"type\":\"scattergeo\"}],\"scattergl\":[{\"marker\":{\"colorbar\":{\"outlinewidth\":0,\"ticks\":\"\"}},\"type\":\"scattergl\"}],\"scattermapbox\":[{\"marker\":{\"colorbar\":{\"outlinewidth\":0,\"ticks\":\"\"}},\"type\":\"scattermapbox\"}],\"scatterpolar\":[{\"marker\":{\"colorbar\":{\"outlinewidth\":0,\"ticks\":\"\"}},\"type\":\"scatterpolar\"}],\"scatterpolargl\":[{\"marker\":{\"colorbar\":{\"outlinewidth\":0,\"ticks\":\"\"}},\"type\":\"scatterpolargl\"}],\"scatterternary\":[{\"marker\":{\"colorbar\":{\"outlinewidth\":0,\"ticks\":\"\"}},\"type\":\"scatterternary\"}],\"surface\":[{\"colorbar\":{\"outlinewidth\":0,\"ticks\":\"\"},\"colorscale\":[[0.0,\"#0d0887\"],[0.1111111111111111,\"#46039f\"],[0.2222222222222222,\"#7201a8\"],[0.3333333333333333,\"#9c179e\"],[0.4444444444444444,\"#bd3786\"],[0.5555555555555556,\"#d8576b\"],[0.6666666666666666,\"#ed7953\"],[0.7777777777777778,\"#fb9f3a\"],[0.8888888888888888,\"#fdca26\"],[1.0,\"#f0f921\"]],\"type\":\"surface\"}],\"table\":[{\"cells\":{\"fill\":{\"color\":\"#EBF0F8\"},\"line\":{\"color\":\"white\"}},\"header\":{\"fill\":{\"color\":\"#C8D4E3\"},\"line\":{\"color\":\"white\"}},\"type\":\"table\"}]},\"layout\":{\"annotationdefaults\":{\"arrowcolor\":\"#2a3f5f\",\"arrowhead\":0,\"arrowwidth\":1},\"autotypenumbers\":\"strict\",\"coloraxis\":{\"colorbar\":{\"outlinewidth\":0,\"ticks\":\"\"}},\"colorscale\":{\"diverging\":[[0,\"#8e0152\"],[0.1,\"#c51b7d\"],[0.2,\"#de77ae\"],[0.3,\"#f1b6da\"],[0.4,\"#fde0ef\"],[0.5,\"#f7f7f7\"],[0.6,\"#e6f5d0\"],[0.7,\"#b8e186\"],[0.8,\"#7fbc41\"],[0.9,\"#4d9221\"],[1,\"#276419\"]],\"sequential\":[[0.0,\"#0d0887\"],[0.1111111111111111,\"#46039f\"],[0.2222222222222222,\"#7201a8\"],[0.3333333333333333,\"#9c179e\"],[0.4444444444444444,\"#bd3786\"],[0.5555555555555556,\"#d8576b\"],[0.6666666666666666,\"#ed7953\"],[0.7777777777777778,\"#fb9f3a\"],[0.8888888888888888,\"#fdca26\"],[1.0,\"#f0f921\"]],\"sequentialminus\":[[0.0,\"#0d0887\"],[0.1111111111111111,\"#46039f\"],[0.2222222222222222,\"#7201a8\"],[0.3333333333333333,\"#9c179e\"],[0.4444444444444444,\"#bd3786\"],[0.5555555555555556,\"#d8576b\"],[0.6666666666666666,\"#ed7953\"],[0.7777777777777778,\"#fb9f3a\"],[0.8888888888888888,\"#fdca26\"],[1.0,\"#f0f921\"]]},\"colorway\":[\"#636efa\",\"#EF553B\",\"#00cc96\",\"#ab63fa\",\"#FFA15A\",\"#19d3f3\",\"#FF6692\",\"#B6E880\",\"#FF97FF\",\"#FECB52\"],\"font\":{\"color\":\"#2a3f5f\"},\"geo\":{\"bgcolor\":\"white\",\"lakecolor\":\"white\",\"landcolor\":\"#E5ECF6\",\"showlakes\":true,\"showland\":true,\"subunitcolor\":\"white\"},\"hoverlabel\":{\"align\":\"left\"},\"hovermode\":\"closest\",\"mapbox\":{\"style\":\"light\"},\"paper_bgcolor\":\"white\",\"plot_bgcolor\":\"#E5ECF6\",\"polar\":{\"angularaxis\":{\"gridcolor\":\"white\",\"linecolor\":\"white\",\"ticks\":\"\"},\"bgcolor\":\"#E5ECF6\",\"radialaxis\":{\"gridcolor\":\"white\",\"linecolor\":\"white\",\"ticks\":\"\"}},\"scene\":{\"xaxis\":{\"backgroundcolor\":\"#E5ECF6\",\"gridcolor\":\"white\",\"gridwidth\":2,\"linecolor\":\"white\",\"showbackground\":true,\"ticks\":\"\",\"zerolinecolor\":\"white\"},\"yaxis\":{\"backgroundcolor\":\"#E5ECF6\",\"gridcolor\":\"white\",\"gridwidth\":2,\"linecolor\":\"white\",\"showbackground\":true,\"ticks\":\"\",\"zerolinecolor\":\"white\"},\"zaxis\":{\"backgroundcolor\":\"#E5ECF6\",\"gridcolor\":\"white\",\"gridwidth\":2,\"linecolor\":\"white\",\"showbackground\":true,\"ticks\":\"\",\"zerolinecolor\":\"white\"}},\"shapedefaults\":{\"line\":{\"color\":\"#2a3f5f\"}},\"ternary\":{\"aaxis\":{\"gridcolor\":\"white\",\"linecolor\":\"white\",\"ticks\":\"\"},\"baxis\":{\"gridcolor\":\"white\",\"linecolor\":\"white\",\"ticks\":\"\"},\"bgcolor\":\"#E5ECF6\",\"caxis\":{\"gridcolor\":\"white\",\"linecolor\":\"white\",\"ticks\":\"\"}},\"title\":{\"x\":0.05},\"xaxis\":{\"automargin\":true,\"gridcolor\":\"white\",\"linecolor\":\"white\",\"ticks\":\"\",\"title\":{\"standoff\":15},\"zerolinecolor\":\"white\",\"zerolinewidth\":2},\"yaxis\":{\"automargin\":true,\"gridcolor\":\"white\",\"linecolor\":\"white\",\"ticks\":\"\",\"title\":{\"standoff\":15},\"zerolinecolor\":\"white\",\"zerolinewidth\":2}}},\"xaxis\":{\"anchor\":\"y\",\"domain\":[0.0,1.0],\"title\":{\"text\":\"x\"}},\"yaxis\":{\"anchor\":\"x\",\"domain\":[0.0,1.0],\"title\":{\"text\":\"y\"}},\"legend\":{\"tracegroupgap\":0},\"margin\":{\"t\":60}},                        {\"responsive\": true}                    ).then(function(){\n",
              "                            \n",
              "var gd = document.getElementById('69e35840-ad55-403b-831f-57bfbc39f0f0');\n",
              "var x = new MutationObserver(function (mutations, observer) {{\n",
              "        var display = window.getComputedStyle(gd).display;\n",
              "        if (!display || display === 'none') {{\n",
              "            console.log([gd, 'removed!']);\n",
              "            Plotly.purge(gd);\n",
              "            observer.disconnect();\n",
              "        }}\n",
              "}});\n",
              "\n",
              "// Listen for the removal of the full notebook cells\n",
              "var notebookContainer = gd.closest('#notebook-container');\n",
              "if (notebookContainer) {{\n",
              "    x.observe(notebookContainer, {childList: true});\n",
              "}}\n",
              "\n",
              "// Listen for the clearing of the current output cell\n",
              "var outputEl = gd.closest('.output');\n",
              "if (outputEl) {{\n",
              "    x.observe(outputEl, {childList: true});\n",
              "}}\n",
              "\n",
              "                        })                };                            </script>        </div>\n",
              "</body>\n",
              "</html>"
            ]
          },
          "metadata": {}
        }
      ]
    },
    {
      "cell_type": "markdown",
      "source": [
        "#Handling '?' value in   native country"
      ],
      "metadata": {
        "id": "sowG1ZyYpO6k"
      }
    },
    {
      "cell_type": "code",
      "source": [
        "def replace_mark(a):\n",
        "  if(a==' ?'):\n",
        "    return np.nan\n",
        "  return a"
      ],
      "metadata": {
        "id": "Km6EWfK1qHih"
      },
      "execution_count": 33,
      "outputs": []
    },
    {
      "cell_type": "code",
      "source": [
        "df['native-country']=df['native-country'].apply(replace_mark)"
      ],
      "metadata": {
        "id": "30VQjgXLoj6C"
      },
      "execution_count": 34,
      "outputs": []
    },
    {
      "cell_type": "markdown",
      "source": [
        "#people living in which country and which working class sufers highest capital loss"
      ],
      "metadata": {
        "id": "kyesqWrhoTeJ"
      }
    },
    {
      "cell_type": "code",
      "source": [
        "df.groupby(['native-country','workclass']).sum().reset_index()[['native-country','workclass','capital-loss']].sort_values(by='capital-loss')[::-1]\n"
      ],
      "metadata": {
        "colab": {
          "base_uri": "https://localhost:8080/",
          "height": 423
        },
        "id": "wFT8UzPQbjfC",
        "outputId": "1729cbc6-f363-40dc-f2eb-bdab875f5bb0"
      },
      "execution_count": 35,
      "outputs": [
        {
          "output_type": "execute_result",
          "data": {
            "text/plain": [
              "     native-country          workclass  capital-loss\n",
              "208   United-States            Private       1660797\n",
              "210   United-States   Self-emp-not-inc        265285\n",
              "206   United-States          Local-gov        215188\n",
              "209   United-States       Self-emp-inc        147175\n",
              "213   United-States            unknown         98993\n",
              "..              ...                ...           ...\n",
              "129            Laos            Private             0\n",
              "128            Laos          Local-gov             0\n",
              "127            Laos        Federal-gov             0\n",
              "126           Japan            unknown             0\n",
              "0          Cambodia        Federal-gov             0\n",
              "\n",
              "[225 rows x 3 columns]"
            ],
            "text/html": [
              "\n",
              "  <div id=\"df-66c15101-c439-448c-b4cd-df6e4f152a0f\">\n",
              "    <div class=\"colab-df-container\">\n",
              "      <div>\n",
              "<style scoped>\n",
              "    .dataframe tbody tr th:only-of-type {\n",
              "        vertical-align: middle;\n",
              "    }\n",
              "\n",
              "    .dataframe tbody tr th {\n",
              "        vertical-align: top;\n",
              "    }\n",
              "\n",
              "    .dataframe thead th {\n",
              "        text-align: right;\n",
              "    }\n",
              "</style>\n",
              "<table border=\"1\" class=\"dataframe\">\n",
              "  <thead>\n",
              "    <tr style=\"text-align: right;\">\n",
              "      <th></th>\n",
              "      <th>native-country</th>\n",
              "      <th>workclass</th>\n",
              "      <th>capital-loss</th>\n",
              "    </tr>\n",
              "  </thead>\n",
              "  <tbody>\n",
              "    <tr>\n",
              "      <th>208</th>\n",
              "      <td>United-States</td>\n",
              "      <td>Private</td>\n",
              "      <td>1660797</td>\n",
              "    </tr>\n",
              "    <tr>\n",
              "      <th>210</th>\n",
              "      <td>United-States</td>\n",
              "      <td>Self-emp-not-inc</td>\n",
              "      <td>265285</td>\n",
              "    </tr>\n",
              "    <tr>\n",
              "      <th>206</th>\n",
              "      <td>United-States</td>\n",
              "      <td>Local-gov</td>\n",
              "      <td>215188</td>\n",
              "    </tr>\n",
              "    <tr>\n",
              "      <th>209</th>\n",
              "      <td>United-States</td>\n",
              "      <td>Self-emp-inc</td>\n",
              "      <td>147175</td>\n",
              "    </tr>\n",
              "    <tr>\n",
              "      <th>213</th>\n",
              "      <td>United-States</td>\n",
              "      <td>unknown</td>\n",
              "      <td>98993</td>\n",
              "    </tr>\n",
              "    <tr>\n",
              "      <th>...</th>\n",
              "      <td>...</td>\n",
              "      <td>...</td>\n",
              "      <td>...</td>\n",
              "    </tr>\n",
              "    <tr>\n",
              "      <th>129</th>\n",
              "      <td>Laos</td>\n",
              "      <td>Private</td>\n",
              "      <td>0</td>\n",
              "    </tr>\n",
              "    <tr>\n",
              "      <th>128</th>\n",
              "      <td>Laos</td>\n",
              "      <td>Local-gov</td>\n",
              "      <td>0</td>\n",
              "    </tr>\n",
              "    <tr>\n",
              "      <th>127</th>\n",
              "      <td>Laos</td>\n",
              "      <td>Federal-gov</td>\n",
              "      <td>0</td>\n",
              "    </tr>\n",
              "    <tr>\n",
              "      <th>126</th>\n",
              "      <td>Japan</td>\n",
              "      <td>unknown</td>\n",
              "      <td>0</td>\n",
              "    </tr>\n",
              "    <tr>\n",
              "      <th>0</th>\n",
              "      <td>Cambodia</td>\n",
              "      <td>Federal-gov</td>\n",
              "      <td>0</td>\n",
              "    </tr>\n",
              "  </tbody>\n",
              "</table>\n",
              "<p>225 rows × 3 columns</p>\n",
              "</div>\n",
              "      <button class=\"colab-df-convert\" onclick=\"convertToInteractive('df-66c15101-c439-448c-b4cd-df6e4f152a0f')\"\n",
              "              title=\"Convert this dataframe to an interactive table.\"\n",
              "              style=\"display:none;\">\n",
              "        \n",
              "  <svg xmlns=\"http://www.w3.org/2000/svg\" height=\"24px\"viewBox=\"0 0 24 24\"\n",
              "       width=\"24px\">\n",
              "    <path d=\"M0 0h24v24H0V0z\" fill=\"none\"/>\n",
              "    <path d=\"M18.56 5.44l.94 2.06.94-2.06 2.06-.94-2.06-.94-.94-2.06-.94 2.06-2.06.94zm-11 1L8.5 8.5l.94-2.06 2.06-.94-2.06-.94L8.5 2.5l-.94 2.06-2.06.94zm10 10l.94 2.06.94-2.06 2.06-.94-2.06-.94-.94-2.06-.94 2.06-2.06.94z\"/><path d=\"M17.41 7.96l-1.37-1.37c-.4-.4-.92-.59-1.43-.59-.52 0-1.04.2-1.43.59L10.3 9.45l-7.72 7.72c-.78.78-.78 2.05 0 2.83L4 21.41c.39.39.9.59 1.41.59.51 0 1.02-.2 1.41-.59l7.78-7.78 2.81-2.81c.8-.78.8-2.07 0-2.86zM5.41 20L4 18.59l7.72-7.72 1.47 1.35L5.41 20z\"/>\n",
              "  </svg>\n",
              "      </button>\n",
              "      \n",
              "  <style>\n",
              "    .colab-df-container {\n",
              "      display:flex;\n",
              "      flex-wrap:wrap;\n",
              "      gap: 12px;\n",
              "    }\n",
              "\n",
              "    .colab-df-convert {\n",
              "      background-color: #E8F0FE;\n",
              "      border: none;\n",
              "      border-radius: 50%;\n",
              "      cursor: pointer;\n",
              "      display: none;\n",
              "      fill: #1967D2;\n",
              "      height: 32px;\n",
              "      padding: 0 0 0 0;\n",
              "      width: 32px;\n",
              "    }\n",
              "\n",
              "    .colab-df-convert:hover {\n",
              "      background-color: #E2EBFA;\n",
              "      box-shadow: 0px 1px 2px rgba(60, 64, 67, 0.3), 0px 1px 3px 1px rgba(60, 64, 67, 0.15);\n",
              "      fill: #174EA6;\n",
              "    }\n",
              "\n",
              "    [theme=dark] .colab-df-convert {\n",
              "      background-color: #3B4455;\n",
              "      fill: #D2E3FC;\n",
              "    }\n",
              "\n",
              "    [theme=dark] .colab-df-convert:hover {\n",
              "      background-color: #434B5C;\n",
              "      box-shadow: 0px 1px 3px 1px rgba(0, 0, 0, 0.15);\n",
              "      filter: drop-shadow(0px 1px 2px rgba(0, 0, 0, 0.3));\n",
              "      fill: #FFFFFF;\n",
              "    }\n",
              "  </style>\n",
              "\n",
              "      <script>\n",
              "        const buttonEl =\n",
              "          document.querySelector('#df-66c15101-c439-448c-b4cd-df6e4f152a0f button.colab-df-convert');\n",
              "        buttonEl.style.display =\n",
              "          google.colab.kernel.accessAllowed ? 'block' : 'none';\n",
              "\n",
              "        async function convertToInteractive(key) {\n",
              "          const element = document.querySelector('#df-66c15101-c439-448c-b4cd-df6e4f152a0f');\n",
              "          const dataTable =\n",
              "            await google.colab.kernel.invokeFunction('convertToInteractive',\n",
              "                                                     [key], {});\n",
              "          if (!dataTable) return;\n",
              "\n",
              "          const docLinkHtml = 'Like what you see? Visit the ' +\n",
              "            '<a target=\"_blank\" href=https://colab.research.google.com/notebooks/data_table.ipynb>data table notebook</a>'\n",
              "            + ' to learn more about interactive tables.';\n",
              "          element.innerHTML = '';\n",
              "          dataTable['output_type'] = 'display_data';\n",
              "          await google.colab.output.renderOutput(dataTable, element);\n",
              "          const docLink = document.createElement('div');\n",
              "          docLink.innerHTML = docLinkHtml;\n",
              "          element.appendChild(docLink);\n",
              "        }\n",
              "      </script>\n",
              "    </div>\n",
              "  </div>\n",
              "  "
            ]
          },
          "metadata": {},
          "execution_count": 35
        }
      ]
    },
    {
      "cell_type": "code",
      "source": [],
      "metadata": {
        "id": "tKd_qjoEvdkZ"
      },
      "execution_count": 35,
      "outputs": []
    },
    {
      "cell_type": "markdown",
      "source": [
        "#What is the percentage of white people in the data"
      ],
      "metadata": {
        "id": "Z2JT0XB3veEH"
      }
    },
    {
      "cell_type": "code",
      "source": [
        "df['race'].value_counts(normalize=True)*100"
      ],
      "metadata": {
        "colab": {
          "base_uri": "https://localhost:8080/"
        },
        "id": "Esn21zHeq7fl",
        "outputId": "4793a302-ad73-45f6-b0fc-1b3da948b537"
      },
      "execution_count": 36,
      "outputs": [
        {
          "output_type": "execute_result",
          "data": {
            "text/plain": [
              " White                 85.427352\n",
              " Black                  9.594300\n",
              " Asian-Pac-Islander     3.190934\n",
              " Amer-Indian-Eskimo     0.955130\n",
              " Other                  0.832284\n",
              "Name: race, dtype: float64"
            ]
          },
          "metadata": {},
          "execution_count": 36
        }
      ]
    },
    {
      "cell_type": "code",
      "source": [
        "px.pie(df['race'],names='race')"
      ],
      "metadata": {
        "colab": {
          "base_uri": "https://localhost:8080/",
          "height": 542
        },
        "id": "MerutRRIr8-a",
        "outputId": "8c10ffb0-a788-4b2b-9301-f134c359ca06"
      },
      "execution_count": 37,
      "outputs": [
        {
          "output_type": "display_data",
          "data": {
            "text/html": [
              "<html>\n",
              "<head><meta charset=\"utf-8\" /></head>\n",
              "<body>\n",
              "    <div>            <script src=\"https://cdnjs.cloudflare.com/ajax/libs/mathjax/2.7.5/MathJax.js?config=TeX-AMS-MML_SVG\"></script><script type=\"text/javascript\">if (window.MathJax) {MathJax.Hub.Config({SVG: {font: \"STIX-Web\"}});}</script>                <script type=\"text/javascript\">window.PlotlyConfig = {MathJaxConfig: 'local'};</script>\n",
              "        <script src=\"https://cdn.plot.ly/plotly-2.8.3.min.js\"></script>                <div id=\"3df15431-6faf-4f71-a114-295ac8a0b56e\" class=\"plotly-graph-div\" style=\"height:525px; width:100%;\"></div>            <script type=\"text/javascript\">                                    window.PLOTLYENV=window.PLOTLYENV || {};                                    if (document.getElementById(\"3df15431-6faf-4f71-a114-295ac8a0b56e\")) {                    Plotly.newPlot(                        \"3df15431-6faf-4f71-a114-295ac8a0b56e\",                        [{\"domain\":{\"x\":[0.0,1.0],\"y\":[0.0,1.0]},\"hovertemplate\":\"race=%{label}<extra></extra>\",\"labels\":[\" White\",\" White\",\" White\",\" Black\",\" Black\",\" White\",\" Black\",\" White\",\" White\",\" White\",\" Black\",\" Asian-Pac-Islander\",\" White\",\" Black\",\" Asian-Pac-Islander\",\" Amer-Indian-Eskimo\",\" White\",\" White\",\" White\",\" White\",\" White\",\" Black\",\" Black\",\" White\",\" White\",\" White\",\" White\",\" Asian-Pac-Islander\",\" White\",\" White\",\" White\",\" Black\",\" White\",\" White\",\" Black\",\" White\",\" White\",\" White\",\" White\",\" White\",\" White\",\" White\",\" White\",\" White\",\" White\",\" Black\",\" White\",\" White\",\" White\",\" White\",\" Other\",\" White\",\" White\",\" White\",\" White\",\" White\",\" White\",\" White\",\" White\",\" White\",\" White\",\" White\",\" White\",\" White\",\" White\",\" White\",\" White\",\" White\",\" White\",\" White\",\" White\",\" Black\",\" White\",\" White\",\" White\",\" White\",\" White\",\" White\",\" White\",\" White\",\" White\",\" White\",\" White\",\" White\",\" White\",\" White\",\" White\",\" White\",\" White\",\" White\",\" White\",\" White\",\" Black\",\" Asian-Pac-Islander\",\" White\",\" White\",\" White\",\" White\",\" White\",\" Black\",\" White\",\" White\",\" White\",\" White\",\" White\",\" White\",\" White\",\" White\",\" White\",\" White\",\" White\",\" White\",\" White\",\" White\",\" White\",\" White\",\" White\",\" Black\",\" White\",\" White\",\" White\",\" White\",\" Black\",\" White\",\" Black\",\" White\",\" White\",\" White\",\" White\",\" White\",\" White\",\" White\",\" White\",\" White\",\" Black\",\" White\",\" White\",\" White\",\" White\",\" Asian-Pac-Islander\",\" White\",\" White\",\" White\",\" White\",\" White\",\" Black\",\" White\",\" White\",\" White\",\" White\",\" White\",\" White\",\" Asian-Pac-Islander\",\" White\",\" White\",\" White\",\" White\",\" Black\",\" White\",\" Black\",\" White\",\" White\",\" Asian-Pac-Islander\",\" Asian-Pac-Islander\",\" White\",\" White\",\" White\",\" White\",\" White\",\" White\",\" White\",\" White\",\" White\",\" White\",\" White\",\" White\",\" Black\",\" Black\",\" White\",\" White\",\" Black\",\" White\",\" Black\",\" White\",\" White\",\" Black\",\" White\",\" White\",\" White\",\" White\",\" Black\",\" White\",\" Black\",\" White\",\" White\",\" White\",\" White\",\" White\",\" White\",\" White\",\" White\",\" White\",\" White\",\" White\",\" White\",\" White\",\" Black\",\" White\",\" White\",\" White\",\" Black\",\" White\",\" Amer-Indian-Eskimo\",\" Asian-Pac-Islander\",\" White\",\" Black\",\" White\",\" White\",\" White\",\" White\",\" White\",\" White\",\" Black\",\" Black\",\" White\",\" White\",\" Amer-Indian-Eskimo\",\" White\",\" White\",\" White\",\" Black\",\" Black\",\" White\",\" Other\",\" White\",\" White\",\" White\",\" White\",\" White\",\" White\",\" White\",\" White\",\" White\",\" White\",\" White\",\" White\",\" White\",\" White\",\" White\",\" White\",\" White\",\" Black\",\" Black\",\" White\",\" White\",\" Asian-Pac-Islander\",\" White\",\" White\",\" White\",\" White\",\" White\",\" White\",\" White\",\" White\",\" White\",\" Asian-Pac-Islander\",\" White\",\" White\",\" White\",\" White\",\" White\",\" White\",\" White\",\" White\",\" White\",\" Black\",\" White\",\" White\",\" White\",\" White\",\" White\",\" White\",\" Black\",\" White\",\" White\",\" White\",\" White\",\" White\",\" White\",\" White\",\" White\",\" White\",\" White\",\" White\",\" Black\",\" White\",\" White\",\" Asian-Pac-Islander\",\" White\",\" White\",\" White\",\" Asian-Pac-Islander\",\" White\",\" White\",\" Asian-Pac-Islander\",\" White\",\" White\",\" White\",\" White\",\" White\",\" White\",\" Asian-Pac-Islander\",\" Black\",\" Black\",\" White\",\" White\",\" White\",\" White\",\" White\",\" White\",\" White\",\" White\",\" White\",\" White\",\" White\",\" White\",\" Black\",\" White\",\" White\",\" White\",\" Black\",\" White\",\" White\",\" White\",\" White\",\" White\",\" White\",\" White\",\" Black\",\" Black\",\" White\",\" White\",\" White\",\" White\",\" Black\",\" White\",\" White\",\" White\",\" White\",\" White\",\" White\",\" White\",\" White\",\" White\",\" White\",\" White\",\" Other\",\" White\",\" White\",\" White\",\" White\",\" White\",\" White\",\" White\",\" White\",\" White\",\" White\",\" White\",\" White\",\" White\",\" White\",\" White\",\" White\",\" Black\",\" Black\",\" White\",\" White\",\" White\",\" White\",\" White\",\" White\",\" White\",\" White\",\" White\",\" White\",\" White\",\" White\",\" White\",\" White\",\" White\",\" White\",\" White\",\" White\",\" White\",\" White\",\" White\",\" White\",\" White\",\" White\",\" White\",\" White\",\" White\",\" White\",\" White\",\" Other\",\" White\",\" White\",\" White\",\" White\",\" White\",\" Black\",\" Black\",\" White\",\" White\",\" White\",\" White\",\" White\",\" White\",\" Black\",\" White\",\" White\",\" White\",\" White\",\" White\",\" White\",\" White\",\" White\",\" White\",\" White\",\" White\",\" White\",\" White\",\" White\",\" White\",\" Asian-Pac-Islander\",\" White\",\" Black\",\" White\",\" White\",\" White\",\" White\",\" White\",\" White\",\" White\",\" White\",\" White\",\" Black\",\" Amer-Indian-Eskimo\",\" White\",\" White\",\" Black\",\" White\",\" White\",\" Black\",\" White\",\" Asian-Pac-Islander\",\" White\",\" Black\",\" White\",\" White\",\" White\",\" Black\",\" White\",\" White\",\" White\",\" White\",\" White\",\" White\",\" White\",\" White\",\" White\",\" White\",\" White\",\" White\",\" White\",\" White\",\" White\",\" White\",\" White\",\" White\",\" White\",\" White\",\" White\",\" White\",\" Black\",\" Black\",\" White\",\" White\",\" White\",\" White\",\" White\",\" White\",\" White\",\" White\",\" White\",\" White\",\" White\",\" White\",\" White\",\" White\",\" White\",\" White\",\" White\",\" White\",\" White\",\" Black\",\" White\",\" White\",\" Black\",\" White\",\" White\",\" Black\",\" White\",\" White\",\" White\",\" White\",\" Amer-Indian-Eskimo\",\" White\",\" White\",\" White\",\" White\",\" White\",\" Black\",\" White\",\" White\",\" White\",\" White\",\" White\",\" White\",\" White\",\" Other\",\" White\",\" Black\",\" White\",\" White\",\" White\",\" Black\",\" White\",\" White\",\" Black\",\" White\",\" White\",\" White\",\" White\",\" White\",\" White\",\" White\",\" White\",\" White\",\" White\",\" White\",\" White\",\" White\",\" Black\",\" Black\",\" White\",\" White\",\" White\",\" White\",\" White\",\" White\",\" White\",\" White\",\" Black\",\" White\",\" Amer-Indian-Eskimo\",\" White\",\" White\",\" White\",\" White\",\" White\",\" White\",\" White\",\" White\",\" White\",\" White\",\" White\",\" White\",\" White\",\" White\",\" White\",\" White\",\" White\",\" White\",\" White\",\" White\",\" White\",\" White\",\" White\",\" White\",\" White\",\" Asian-Pac-Islander\",\" White\",\" White\",\" White\",\" White\",\" Amer-Indian-Eskimo\",\" White\",\" White\",\" White\",\" White\",\" White\",\" White\",\" White\",\" White\",\" Black\",\" White\",\" Amer-Indian-Eskimo\",\" Black\",\" White\",\" White\",\" White\",\" White\",\" White\",\" White\",\" White\",\" Black\",\" White\",\" White\",\" White\",\" White\",\" Black\",\" Black\",\" White\",\" White\",\" Black\",\" White\",\" White\",\" White\",\" White\",\" Black\",\" Black\",\" White\",\" Black\",\" White\",\" White\",\" White\",\" White\",\" White\",\" White\",\" White\",\" White\",\" White\",\" White\",\" White\",\" White\",\" White\",\" White\",\" White\",\" White\",\" White\",\" White\",\" Asian-Pac-Islander\",\" White\",\" White\",\" Asian-Pac-Islander\",\" White\",\" White\",\" White\",\" White\",\" Black\",\" White\",\" White\",\" White\",\" White\",\" White\",\" White\",\" Black\",\" Asian-Pac-Islander\",\" White\",\" White\",\" White\",\" White\",\" White\",\" White\",\" White\",\" White\",\" White\",\" White\",\" White\",\" White\",\" White\",\" White\",\" Black\",\" White\",\" White\",\" White\",\" White\",\" White\",\" White\",\" White\",\" Black\",\" White\",\" White\",\" White\",\" White\",\" White\",\" White\",\" White\",\" White\",\" White\",\" White\",\" White\",\" White\",\" White\",\" White\",\" Black\",\" Black\",\" White\",\" White\",\" White\",\" Black\",\" White\",\" White\",\" White\",\" Black\",\" White\",\" White\",\" White\",\" White\",\" White\",\" White\",\" White\",\" White\",\" White\",\" White\",\" White\",\" White\",\" White\",\" White\",\" White\",\" Asian-Pac-Islander\",\" White\",\" White\",\" Black\",\" White\",\" Black\",\" White\",\" Black\",\" White\",\" White\",\" White\",\" White\",\" White\",\" White\",\" White\",\" White\",\" Black\",\" Black\",\" White\",\" White\",\" White\",\" White\",\" White\",\" White\",\" White\",\" White\",\" White\",\" White\",\" Black\",\" White\",\" White\",\" White\",\" White\",\" White\",\" White\",\" White\",\" White\",\" White\",\" White\",\" White\",\" White\",\" White\",\" White\",\" White\",\" White\",\" White\",\" White\",\" White\",\" White\",\" White\",\" White\",\" White\",\" White\",\" Other\",\" Black\",\" White\",\" White\",\" White\",\" White\",\" White\",\" White\",\" White\",\" White\",\" White\",\" Black\",\" White\",\" Black\",\" White\",\" White\",\" White\",\" Black\",\" White\",\" White\",\" White\",\" White\",\" White\",\" White\",\" White\",\" White\",\" White\",\" Black\",\" White\",\" White\",\" White\",\" White\",\" White\",\" White\",\" White\",\" White\",\" White\",\" White\",\" White\",\" White\",\" White\",\" White\",\" White\",\" White\",\" White\",\" White\",\" White\",\" White\",\" White\",\" White\",\" White\",\" White\",\" White\",\" White\",\" White\",\" White\",\" White\",\" White\",\" White\",\" White\",\" White\",\" White\",\" White\",\" White\",\" White\",\" White\",\" White\",\" White\",\" White\",\" White\",\" White\",\" White\",\" White\",\" White\",\" White\",\" White\",\" White\",\" White\",\" White\",\" White\",\" White\",\" White\",\" White\",\" White\",\" White\",\" White\",\" White\",\" White\",\" White\",\" Asian-Pac-Islander\",\" Black\",\" White\",\" Black\",\" White\",\" White\",\" White\",\" White\",\" White\",\" White\",\" White\",\" White\",\" White\",\" White\",\" White\",\" Black\",\" White\",\" Black\",\" White\",\" Asian-Pac-Islander\",\" White\",\" White\",\" White\",\" White\",\" White\",\" White\",\" White\",\" White\",\" White\",\" White\",\" Amer-Indian-Eskimo\",\" White\",\" White\",\" White\",\" Black\",\" White\",\" White\",\" White\",\" White\",\" White\",\" White\",\" Black\",\" White\",\" Asian-Pac-Islander\",\" Asian-Pac-Islander\",\" White\",\" White\",\" White\",\" White\",\" White\",\" Black\",\" White\",\" White\",\" White\",\" White\",\" White\",\" White\",\" White\",\" White\",\" White\",\" White\",\" White\",\" White\",\" White\",\" White\",\" White\",\" White\",\" Amer-Indian-Eskimo\",\" Black\",\" White\",\" White\",\" White\",\" Black\",\" White\",\" White\",\" White\",\" White\",\" White\",\" White\",\" Black\",\" White\",\" White\",\" White\",\" White\",\" White\",\" White\",\" White\",\" White\",\" White\",\" White\",\" White\",\" White\",\" White\",\" White\",\" White\",\" Asian-Pac-Islander\",\" White\",\" White\",\" White\",\" White\",\" White\",\" White\",\" White\",\" White\",\" White\",\" Black\",\" White\",\" White\",\" White\",\" Black\",\" White\",\" White\",\" White\",\" Black\",\" White\",\" White\",\" White\",\" White\",\" White\",\" White\",\" White\",\" White\",\" White\",\" White\",\" White\",\" White\",\" White\",\" White\",\" White\",\" White\",\" White\",\" White\",\" White\",\" Black\",\" White\",\" White\",\" White\",\" White\",\" White\",\" White\",\" White\",\" White\",\" White\",\" White\",\" White\",\" White\",\" White\",\" White\",\" White\",\" White\",\" White\",\" Black\",\" White\",\" Black\",\" White\",\" White\",\" Asian-Pac-Islander\",\" White\",\" White\",\" White\",\" Black\",\" White\",\" White\",\" White\",\" White\",\" Black\",\" White\",\" White\",\" Black\",\" White\",\" White\",\" White\",\" White\",\" White\",\" White\",\" White\",\" White\",\" White\",\" White\",\" White\",\" White\",\" White\",\" White\",\" White\",\" White\",\" White\",\" White\",\" White\",\" White\",\" White\",\" White\",\" White\",\" White\",\" White\",\" White\",\" White\",\" White\",\" White\",\" White\",\" White\",\" White\",\" White\",\" White\",\" Black\",\" Asian-Pac-Islander\",\" White\",\" White\",\" White\",\" White\",\" White\",\" White\",\" White\",\" White\",\" White\",\" White\",\" White\",\" White\",\" White\",\" White\",\" Asian-Pac-Islander\",\" White\",\" White\",\" Asian-Pac-Islander\",\" White\",\" White\",\" White\",\" White\",\" White\",\" White\",\" White\",\" Black\",\" White\",\" White\",\" White\",\" White\",\" White\",\" White\",\" White\",\" White\",\" White\",\" White\",\" White\",\" White\",\" White\",\" White\",\" White\",\" Asian-Pac-Islander\",\" White\",\" White\",\" White\",\" White\",\" Black\",\" White\",\" White\",\" Black\",\" White\",\" White\",\" Black\",\" White\",\" White\",\" White\",\" White\",\" White\",\" White\",\" Black\",\" White\",\" White\",\" White\",\" White\",\" White\",\" White\",\" White\",\" White\",\" White\",\" White\",\" White\",\" White\",\" White\",\" White\",\" White\",\" White\",\" White\",\" White\",\" White\",\" White\",\" Asian-Pac-Islander\",\" White\",\" White\",\" White\",\" White\",\" White\",\" White\",\" Black\",\" White\",\" White\",\" White\",\" White\",\" White\",\" Black\",\" White\",\" White\",\" White\",\" White\",\" White\",\" White\",\" White\",\" Asian-Pac-Islander\",\" White\",\" White\",\" White\",\" White\",\" White\",\" White\",\" Black\",\" White\",\" White\",\" White\",\" White\",\" White\",\" White\",\" White\",\" White\",\" Black\",\" White\",\" White\",\" White\",\" White\",\" Black\",\" White\",\" White\",\" White\",\" Black\",\" White\",\" White\",\" White\",\" White\",\" White\",\" White\",\" White\",\" White\",\" White\",\" White\",\" White\",\" Amer-Indian-Eskimo\",\" Asian-Pac-Islander\",\" White\",\" White\",\" White\",\" White\",\" White\",\" White\",\" White\",\" White\",\" White\",\" White\",\" White\",\" White\",\" White\",\" White\",\" White\",\" White\",\" Black\",\" White\",\" White\",\" White\",\" White\",\" White\",\" White\",\" White\",\" White\",\" White\",\" White\",\" White\",\" White\",\" White\",\" White\",\" White\",\" White\",\" White\",\" White\",\" White\",\" White\",\" Asian-Pac-Islander\",\" White\",\" White\",\" White\",\" White\",\" White\",\" White\",\" White\",\" White\",\" White\",\" White\",\" White\",\" White\",\" White\",\" White\",\" Black\",\" White\",\" White\",\" Black\",\" White\",\" White\",\" White\",\" White\",\" White\",\" White\",\" White\",\" Asian-Pac-Islander\",\" White\",\" Black\",\" White\",\" White\",\" White\",\" White\",\" White\",\" White\",\" White\",\" White\",\" White\",\" Black\",\" White\",\" White\",\" White\",\" White\",\" Black\",\" White\",\" Black\",\" Black\",\" White\",\" White\",\" White\",\" White\",\" White\",\" White\",\" White\",\" White\",\" White\",\" White\",\" White\",\" White\",\" White\",\" White\",\" White\",\" White\",\" White\",\" White\",\" White\",\" White\",\" White\",\" White\",\" White\",\" White\",\" White\",\" Asian-Pac-Islander\",\" Black\",\" Black\",\" White\",\" White\",\" Black\",\" White\",\" White\",\" White\",\" White\",\" White\",\" White\",\" White\",\" White\",\" White\",\" White\",\" White\",\" Other\",\" White\",\" White\",\" White\",\" Asian-Pac-Islander\",\" White\",\" White\",\" White\",\" White\",\" White\",\" Black\",\" White\",\" Black\",\" White\",\" White\",\" White\",\" White\",\" White\",\" White\",\" White\",\" White\",\" White\",\" Black\",\" Black\",\" Asian-Pac-Islander\",\" White\",\" Black\",\" White\",\" White\",\" White\",\" White\",\" Black\",\" White\",\" White\",\" White\",\" White\",\" White\",\" White\",\" White\",\" White\",\" White\",\" White\",\" Black\",\" White\",\" White\",\" White\",\" White\",\" Black\",\" White\",\" Black\",\" Black\",\" White\",\" Black\",\" White\",\" White\",\" White\",\" White\",\" White\",\" White\",\" White\",\" Black\",\" White\",\" White\",\" White\",\" White\",\" White\",\" White\",\" Asian-Pac-Islander\",\" White\",\" White\",\" White\",\" Asian-Pac-Islander\",\" White\",\" Black\",\" White\",\" White\",\" White\",\" Black\",\" White\",\" White\",\" Black\",\" Amer-Indian-Eskimo\",\" White\",\" Black\",\" White\",\" White\",\" White\",\" White\",\" White\",\" White\",\" Black\",\" White\",\" White\",\" White\",\" White\",\" White\",\" White\",\" White\",\" White\",\" White\",\" White\",\" White\",\" White\",\" White\",\" White\",\" White\",\" White\",\" Black\",\" White\",\" White\",\" Black\",\" Black\",\" White\",\" White\",\" Black\",\" White\",\" White\",\" Black\",\" White\",\" White\",\" Amer-Indian-Eskimo\",\" Black\",\" White\",\" White\",\" White\",\" White\",\" White\",\" Asian-Pac-Islander\",\" White\",\" White\",\" White\",\" White\",\" White\",\" White\",\" Asian-Pac-Islander\",\" White\",\" White\",\" White\",\" White\",\" White\",\" Black\",\" White\",\" White\",\" White\",\" White\",\" White\",\" White\",\" White\",\" White\",\" White\",\" Amer-Indian-Eskimo\",\" White\",\" White\",\" White\",\" White\",\" White\",\" White\",\" White\",\" White\",\" White\",\" White\",\" White\",\" White\",\" White\",\" Black\",\" Black\",\" Black\",\" White\",\" White\",\" White\",\" White\",\" Asian-Pac-Islander\",\" White\",\" White\",\" White\",\" Black\",\" White\",\" White\",\" White\",\" White\",\" White\",\" Black\",\" White\",\" White\",\" White\",\" White\",\" Black\",\" White\",\" White\",\" Black\",\" White\",\" White\",\" White\",\" White\",\" White\",\" Black\",\" White\",\" White\",\" White\",\" White\",\" White\",\" White\",\" White\",\" White\",\" White\",\" White\",\" White\",\" White\",\" White\",\" White\",\" White\",\" Black\",\" White\",\" White\",\" White\",\" Black\",\" White\",\" White\",\" White\",\" White\",\" Black\",\" Black\",\" White\",\" Black\",\" White\",\" White\",\" Black\",\" White\",\" White\",\" White\",\" White\",\" White\",\" White\",\" White\",\" White\",\" White\",\" White\",\" Asian-Pac-Islander\",\" White\",\" White\",\" White\",\" White\",\" White\",\" White\",\" White\",\" White\",\" White\",\" White\",\" White\",\" White\",\" White\",\" White\",\" White\",\" Black\",\" White\",\" White\",\" White\",\" White\",\" White\",\" Black\",\" White\",\" White\",\" Black\",\" White\",\" White\",\" Asian-Pac-Islander\",\" White\",\" White\",\" White\",\" White\",\" White\",\" White\",\" White\",\" White\",\" White\",\" White\",\" White\",\" White\",\" Asian-Pac-Islander\",\" White\",\" Other\",\" White\",\" White\",\" White\",\" White\",\" Black\",\" White\",\" White\",\" White\",\" White\",\" White\",\" White\",\" White\",\" White\",\" White\",\" White\",\" Black\",\" White\",\" White\",\" White\",\" White\",\" White\",\" Black\",\" White\",\" White\",\" Black\",\" White\",\" White\",\" White\",\" White\",\" Black\",\" White\",\" White\",\" White\",\" White\",\" White\",\" White\",\" White\",\" White\",\" White\",\" Black\",\" White\",\" White\",\" White\",\" White\",\" White\",\" White\",\" White\",\" White\",\" White\",\" White\",\" White\",\" White\",\" White\",\" White\",\" White\",\" White\",\" White\",\" White\",\" White\",\" White\",\" White\",\" Black\",\" White\",\" White\",\" White\",\" White\",\" White\",\" White\",\" White\",\" White\",\" Black\",\" White\",\" White\",\" White\",\" White\",\" Black\",\" White\",\" White\",\" White\",\" White\",\" White\",\" White\",\" White\",\" Asian-Pac-Islander\",\" White\",\" White\",\" White\",\" White\",\" White\",\" Black\",\" Amer-Indian-Eskimo\",\" White\",\" Asian-Pac-Islander\",\" White\",\" White\",\" White\",\" White\",\" White\",\" White\",\" White\",\" White\",\" White\",\" White\",\" White\",\" White\",\" White\",\" Black\",\" Black\",\" White\",\" White\",\" White\",\" White\",\" White\",\" White\",\" White\",\" White\",\" White\",\" White\",\" White\",\" White\",\" White\",\" White\",\" White\",\" White\",\" White\",\" White\",\" White\",\" White\",\" White\",\" Black\",\" White\",\" Asian-Pac-Islander\",\" White\",\" White\",\" White\",\" White\",\" White\",\" White\",\" Black\",\" White\",\" White\",\" Black\",\" White\",\" White\",\" White\",\" White\",\" White\",\" White\",\" White\",\" Black\",\" White\",\" White\",\" White\",\" White\",\" White\",\" White\",\" White\",\" White\",\" White\",\" White\",\" White\",\" White\",\" Asian-Pac-Islander\",\" White\",\" White\",\" White\",\" White\",\" White\",\" Asian-Pac-Islander\",\" Black\",\" White\",\" White\",\" Black\",\" White\",\" White\",\" White\",\" Black\",\" White\",\" Asian-Pac-Islander\",\" White\",\" White\",\" White\",\" White\",\" White\",\" White\",\" White\",\" White\",\" White\",\" Black\",\" White\",\" Black\",\" White\",\" White\",\" White\",\" White\",\" White\",\" White\",\" White\",\" White\",\" White\",\" White\",\" White\",\" Black\",\" White\",\" White\",\" White\",\" White\",\" White\",\" White\",\" White\",\" White\",\" White\",\" White\",\" White\",\" Asian-Pac-Islander\",\" White\",\" White\",\" White\",\" White\",\" Amer-Indian-Eskimo\",\" Black\",\" White\",\" White\",\" White\",\" White\",\" White\",\" White\",\" Black\",\" White\",\" Black\",\" White\",\" White\",\" White\",\" White\",\" White\",\" White\",\" White\",\" White\",\" White\",\" Asian-Pac-Islander\",\" Black\",\" White\",\" White\",\" White\",\" White\",\" White\",\" Black\",\" White\",\" White\",\" White\",\" Black\",\" White\",\" White\",\" White\",\" White\",\" White\",\" White\",\" White\",\" Black\",\" White\",\" White\",\" White\",\" White\",\" White\",\" White\",\" White\",\" White\",\" White\",\" White\",\" White\",\" White\",\" White\",\" White\",\" White\",\" White\",\" Other\",\" White\",\" White\",\" White\",\" White\",\" White\",\" White\",\" White\",\" White\",\" White\",\" White\",\" White\",\" White\",\" White\",\" White\",\" White\",\" White\",\" Black\",\" White\",\" White\",\" White\",\" Black\",\" White\",\" White\",\" White\",\" White\",\" White\",\" White\",\" White\",\" White\",\" White\",\" Black\",\" Asian-Pac-Islander\",\" White\",\" White\",\" White\",\" Black\",\" White\",\" White\",\" White\",\" White\",\" White\",\" Black\",\" White\",\" White\",\" White\",\" White\",\" Black\",\" White\",\" White\",\" White\",\" White\",\" Black\",\" White\",\" White\",\" White\",\" White\",\" White\",\" White\",\" White\",\" White\",\" White\",\" White\",\" White\",\" White\",\" White\",\" White\",\" Black\",\" White\",\" Asian-Pac-Islander\",\" White\",\" Black\",\" White\",\" White\",\" White\",\" Asian-Pac-Islander\",\" White\",\" White\",\" White\",\" Black\",\" White\",\" White\",\" Black\",\" White\",\" White\",\" White\",\" White\",\" White\",\" White\",\" Black\",\" White\",\" White\",\" White\",\" White\",\" White\",\" White\",\" White\",\" White\",\" White\",\" White\",\" White\",\" White\",\" White\",\" Asian-Pac-Islander\",\" White\",\" Black\",\" Black\",\" White\",\" White\",\" White\",\" White\",\" White\",\" White\",\" White\",\" White\",\" White\",\" White\",\" White\",\" White\",\" White\",\" White\",\" White\",\" White\",\" White\",\" White\",\" White\",\" White\",\" White\",\" White\",\" White\",\" White\",\" White\",\" White\",\" Black\",\" Black\",\" White\",\" Amer-Indian-Eskimo\",\" White\",\" White\",\" White\",\" White\",\" Black\",\" White\",\" White\",\" White\",\" White\",\" White\",\" White\",\" White\",\" White\",\" White\",\" White\",\" Black\",\" White\",\" White\",\" White\",\" White\",\" White\",\" White\",\" White\",\" Asian-Pac-Islander\",\" White\",\" White\",\" White\",\" White\",\" White\",\" White\",\" White\",\" Asian-Pac-Islander\",\" White\",\" White\",\" White\",\" White\",\" Black\",\" White\",\" Black\",\" White\",\" White\",\" White\",\" White\",\" Black\",\" White\",\" White\",\" White\",\" White\",\" White\",\" White\",\" White\",\" White\",\" White\",\" White\",\" White\",\" White\",\" White\",\" White\",\" White\",\" Asian-Pac-Islander\",\" White\",\" White\",\" White\",\" White\",\" White\",\" White\",\" White\",\" Asian-Pac-Islander\",\" White\",\" White\",\" Black\",\" White\",\" White\",\" White\",\" White\",\" White\",\" White\",\" White\",\" White\",\" White\",\" White\",\" White\",\" White\",\" White\",\" White\",\" Black\",\" White\",\" White\",\" White\",\" Asian-Pac-Islander\",\" White\",\" Black\",\" White\",\" Asian-Pac-Islander\",\" White\",\" White\",\" White\",\" White\",\" Asian-Pac-Islander\",\" White\",\" White\",\" White\",\" White\",\" White\",\" White\",\" White\",\" White\",\" White\",\" White\",\" White\",\" White\",\" White\",\" White\",\" Black\",\" White\",\" White\",\" White\",\" White\",\" White\",\" Black\",\" White\",\" White\",\" White\",\" White\",\" White\",\" White\",\" White\",\" White\",\" Black\",\" White\",\" White\",\" White\",\" Black\",\" White\",\" White\",\" White\",\" White\",\" White\",\" White\",\" White\",\" White\",\" White\",\" White\",\" White\",\" White\",\" White\",\" White\",\" White\",\" White\",\" White\",\" White\",\" White\",\" White\",\" White\",\" White\",\" Black\",\" White\",\" White\",\" White\",\" White\",\" White\",\" White\",\" White\",\" White\",\" White\",\" White\",\" White\",\" White\",\" Black\",\" White\",\" Black\",\" Asian-Pac-Islander\",\" Black\",\" White\",\" White\",\" White\",\" White\",\" White\",\" White\",\" White\",\" White\",\" Black\",\" White\",\" White\",\" White\",\" White\",\" Black\",\" White\",\" White\",\" White\",\" White\",\" Black\",\" White\",\" White\",\" White\",\" Black\",\" White\",\" White\",\" White\",\" White\",\" White\",\" White\",\" White\",\" White\",\" White\",\" White\",\" White\",\" White\",\" White\",\" White\",\" White\",\" White\",\" Asian-Pac-Islander\",\" White\",\" White\",\" White\",\" White\",\" White\",\" Black\",\" White\",\" White\",\" White\",\" Asian-Pac-Islander\",\" White\",\" White\",\" White\",\" White\",\" White\",\" White\",\" White\",\" Black\",\" White\",\" White\",\" White\",\" White\",\" White\",\" White\",\" White\",\" White\",\" White\",\" White\",\" White\",\" White\",\" White\",\" White\",\" White\",\" White\",\" White\",\" White\",\" Asian-Pac-Islander\",\" White\",\" Black\",\" White\",\" White\",\" White\",\" White\",\" White\",\" White\",\" White\",\" White\",\" White\",\" White\",\" White\",\" White\",\" White\",\" White\",\" Asian-Pac-Islander\",\" White\",\" White\",\" White\",\" White\",\" White\",\" White\",\" White\",\" White\",\" White\",\" Amer-Indian-Eskimo\",\" White\",\" White\",\" White\",\" White\",\" White\",\" White\",\" White\",\" White\",\" White\",\" Asian-Pac-Islander\",\" White\",\" White\",\" White\",\" White\",\" White\",\" White\",\" Asian-Pac-Islander\",\" White\",\" White\",\" White\",\" White\",\" White\",\" White\",\" White\",\" White\",\" Asian-Pac-Islander\",\" White\",\" White\",\" White\",\" Black\",\" White\",\" White\",\" White\",\" White\",\" White\",\" Black\",\" White\",\" White\",\" White\",\" White\",\" White\",\" White\",\" White\",\" White\",\" White\",\" White\",\" White\",\" White\",\" White\",\" White\",\" Black\",\" Black\",\" White\",\" White\",\" White\",\" White\",\" White\",\" White\",\" White\",\" White\",\" White\",\" Black\",\" Black\",\" White\",\" White\",\" White\",\" White\",\" White\",\" White\",\" Amer-Indian-Eskimo\",\" White\",\" White\",\" White\",\" White\",\" White\",\" White\",\" White\",\" White\",\" White\",\" White\",\" White\",\" White\",\" White\",\" White\",\" White\",\" White\",\" Black\",\" Amer-Indian-Eskimo\",\" White\",\" White\",\" White\",\" White\",\" White\",\" White\",\" White\",\" White\",\" White\",\" White\",\" Asian-Pac-Islander\",\" White\",\" White\",\" White\",\" White\",\" White\",\" White\",\" White\",\" White\",\" White\",\" White\",\" White\",\" White\",\" White\",\" White\",\" White\",\" White\",\" White\",\" White\",\" White\",\" Asian-Pac-Islander\",\" White\",\" White\",\" Black\",\" White\",\" Black\",\" White\",\" White\",\" White\",\" Black\",\" White\",\" White\",\" White\",\" Amer-Indian-Eskimo\",\" White\",\" White\",\" Black\",\" White\",\" White\",\" White\",\" Other\",\" White\",\" White\",\" White\",\" White\",\" White\",\" White\",\" White\",\" White\",\" White\",\" White\",\" Black\",\" White\",\" White\",\" White\",\" White\",\" White\",\" Black\",\" White\",\" White\",\" White\",\" White\",\" White\",\" White\",\" White\",\" White\",\" White\",\" White\",\" White\",\" White\",\" White\",\" White\",\" White\",\" White\",\" Black\",\" White\",\" Amer-Indian-Eskimo\",\" White\",\" White\",\" White\",\" White\",\" White\",\" White\",\" White\",\" White\",\" White\",\" White\",\" Black\",\" White\",\" White\",\" White\",\" White\",\" White\",\" White\",\" White\",\" White\",\" White\",\" Asian-Pac-Islander\",\" Black\",\" White\",\" Asian-Pac-Islander\",\" White\",\" White\",\" Black\",\" White\",\" White\",\" Black\",\" White\",\" White\",\" White\",\" White\",\" White\",\" White\",\" White\",\" Asian-Pac-Islander\",\" White\",\" White\",\" White\",\" White\",\" White\",\" White\",\" Black\",\" White\",\" White\",\" White\",\" White\",\" White\",\" Black\",\" White\",\" Black\",\" White\",\" White\",\" White\",\" White\",\" White\",\" Asian-Pac-Islander\",\" White\",\" White\",\" White\",\" White\",\" White\",\" Other\",\" White\",\" White\",\" White\",\" White\",\" Asian-Pac-Islander\",\" White\",\" White\",\" Black\",\" White\",\" White\",\" Black\",\" White\",\" White\",\" White\",\" White\",\" White\",\" White\",\" White\",\" White\",\" White\",\" White\",\" Black\",\" White\",\" White\",\" Black\",\" White\",\" White\",\" White\",\" White\",\" White\",\" White\",\" White\",\" White\",\" Asian-Pac-Islander\",\" White\",\" White\",\" Asian-Pac-Islander\",\" White\",\" White\",\" Black\",\" White\",\" White\",\" Black\",\" White\",\" White\",\" White\",\" White\",\" Amer-Indian-Eskimo\",\" White\",\" White\",\" White\",\" Other\",\" White\",\" White\",\" White\",\" White\",\" Amer-Indian-Eskimo\",\" Black\",\" White\",\" White\",\" White\",\" Black\",\" White\",\" White\",\" White\",\" White\",\" White\",\" White\",\" Amer-Indian-Eskimo\",\" White\",\" White\",\" White\",\" White\",\" White\",\" White\",\" White\",\" White\",\" White\",\" White\",\" White\",\" White\",\" White\",\" White\",\" White\",\" White\",\" White\",\" White\",\" White\",\" White\",\" White\",\" White\",\" White\",\" White\",\" Other\",\" White\",\" White\",\" Black\",\" White\",\" White\",\" Asian-Pac-Islander\",\" Asian-Pac-Islander\",\" Asian-Pac-Islander\",\" White\",\" White\",\" White\",\" White\",\" White\",\" Black\",\" White\",\" White\",\" White\",\" White\",\" White\",\" White\",\" White\",\" White\",\" White\",\" White\",\" White\",\" White\",\" White\",\" White\",\" White\",\" White\",\" White\",\" White\",\" White\",\" White\",\" White\",\" White\",\" White\",\" Black\",\" White\",\" White\",\" White\",\" White\",\" White\",\" White\",\" White\",\" White\",\" White\",\" White\",\" White\",\" White\",\" White\",\" White\",\" White\",\" White\",\" White\",\" White\",\" White\",\" White\",\" White\",\" White\",\" White\",\" White\",\" White\",\" White\",\" White\",\" White\",\" White\",\" White\",\" White\",\" White\",\" Amer-Indian-Eskimo\",\" White\",\" Amer-Indian-Eskimo\",\" White\",\" White\",\" White\",\" White\",\" White\",\" White\",\" White\",\" White\",\" White\",\" Black\",\" White\",\" White\",\" White\",\" White\",\" White\",\" White\",\" White\",\" White\",\" White\",\" White\",\" White\",\" Black\",\" White\",\" White\",\" Black\",\" White\",\" White\",\" White\",\" White\",\" White\",\" White\",\" White\",\" White\",\" White\",\" White\",\" White\",\" White\",\" Black\",\" White\",\" White\",\" White\",\" White\",\" White\",\" White\",\" White\",\" White\",\" White\",\" White\",\" White\",\" White\",\" White\",\" White\",\" Black\",\" White\",\" Black\",\" White\",\" White\",\" White\",\" White\",\" White\",\" White\",\" Black\",\" White\",\" Black\",\" White\",\" White\",\" White\",\" White\",\" White\",\" White\",\" White\",\" White\",\" White\",\" White\",\" Black\",\" White\",\" White\",\" Amer-Indian-Eskimo\",\" White\",\" White\",\" Black\",\" White\",\" White\",\" White\",\" White\",\" White\",\" Black\",\" White\",\" White\",\" White\",\" Black\",\" White\",\" White\",\" White\",\" White\",\" White\",\" White\",\" White\",\" White\",\" White\",\" White\",\" White\",\" White\",\" Black\",\" White\",\" White\",\" White\",\" White\",\" White\",\" White\",\" White\",\" White\",\" White\",\" Asian-Pac-Islander\",\" White\",\" White\",\" White\",\" White\",\" White\",\" White\",\" Black\",\" Black\",\" White\",\" White\",\" White\",\" White\",\" Black\",\" White\",\" White\",\" White\",\" White\",\" White\",\" White\",\" White\",\" Black\",\" White\",\" White\",\" White\",\" White\",\" White\",\" White\",\" White\",\" White\",\" White\",\" White\",\" White\",\" White\",\" White\",\" Black\",\" White\",\" White\",\" White\",\" White\",\" White\",\" Black\",\" White\",\" White\",\" White\",\" White\",\" White\",\" White\",\" Black\",\" White\",\" Black\",\" White\",\" White\",\" White\",\" White\",\" White\",\" White\",\" White\",\" White\",\" White\",\" White\",\" White\",\" White\",\" White\",\" Asian-Pac-Islander\",\" White\",\" White\",\" White\",\" White\",\" White\",\" White\",\" White\",\" Black\",\" White\",\" White\",\" White\",\" White\",\" White\",\" White\",\" White\",\" White\",\" White\",\" White\",\" White\",\" White\",\" White\",\" White\",\" White\",\" Black\",\" White\",\" White\",\" White\",\" Asian-Pac-Islander\",\" Black\",\" White\",\" White\",\" White\",\" White\",\" White\",\" White\",\" White\",\" White\",\" Black\",\" White\",\" Black\",\" White\",\" Black\",\" White\",\" White\",\" Asian-Pac-Islander\",\" White\",\" Black\",\" White\",\" White\",\" White\",\" White\",\" White\",\" Black\",\" White\",\" Black\",\" Black\",\" White\",\" White\",\" White\",\" White\",\" White\",\" White\",\" Black\",\" White\",\" White\",\" White\",\" White\",\" White\",\" White\",\" White\",\" White\",\" White\",\" White\",\" White\",\" White\",\" Black\",\" Black\",\" White\",\" White\",\" White\",\" Black\",\" White\",\" White\",\" White\",\" White\",\" White\",\" White\",\" Black\",\" White\",\" White\",\" Asian-Pac-Islander\",\" White\",\" White\",\" White\",\" Amer-Indian-Eskimo\",\" White\",\" White\",\" White\",\" White\",\" White\",\" White\",\" White\",\" White\",\" White\",\" White\",\" White\",\" White\",\" White\",\" White\",\" White\",\" White\",\" White\",\" White\",\" White\",\" White\",\" White\",\" White\",\" White\",\" White\",\" White\",\" Black\",\" White\",\" Asian-Pac-Islander\",\" White\",\" Black\",\" White\",\" White\",\" White\",\" White\",\" White\",\" White\",\" White\",\" White\",\" White\",\" White\",\" White\",\" White\",\" White\",\" White\",\" White\",\" White\",\" Black\",\" White\",\" White\",\" White\",\" White\",\" White\",\" White\",\" White\",\" White\",\" White\",\" White\",\" White\",\" White\",\" White\",\" White\",\" White\",\" White\",\" White\",\" White\",\" White\",\" White\",\" White\",\" White\",\" White\",\" Asian-Pac-Islander\",\" White\",\" White\",\" White\",\" White\",\" Black\",\" White\",\" White\",\" Black\",\" Black\",\" White\",\" White\",\" White\",\" White\",\" White\",\" White\",\" White\",\" White\",\" White\",\" White\",\" White\",\" White\",\" Black\",\" White\",\" White\",\" White\",\" White\",\" White\",\" White\",\" White\",\" White\",\" White\",\" Black\",\" White\",\" White\",\" White\",\" White\",\" White\",\" White\",\" White\",\" White\",\" White\",\" White\",\" White\",\" White\",\" White\",\" Asian-Pac-Islander\",\" White\",\" White\",\" White\",\" White\",\" White\",\" White\",\" White\",\" White\",\" White\",\" White\",\" White\",\" White\",\" White\",\" White\",\" White\",\" White\",\" White\",\" White\",\" White\",\" Other\",\" Black\",\" White\",\" White\",\" White\",\" White\",\" White\",\" White\",\" White\",\" White\",\" White\",\" White\",\" White\",\" Black\",\" White\",\" White\",\" White\",\" White\",\" Asian-Pac-Islander\",\" White\",\" White\",\" White\",\" White\",\" White\",\" White\",\" White\",\" White\",\" White\",\" Black\",\" White\",\" White\",\" Black\",\" White\",\" White\",\" White\",\" White\",\" White\",\" White\",\" White\",\" White\",\" White\",\" White\",\" White\",\" White\",\" White\",\" White\",\" White\",\" White\",\" White\",\" Black\",\" White\",\" White\",\" White\",\" White\",\" Asian-Pac-Islander\",\" White\",\" White\",\" White\",\" Black\",\" White\",\" White\",\" Black\",\" White\",\" Black\",\" Black\",\" White\",\" White\",\" White\",\" White\",\" Asian-Pac-Islander\",\" White\",\" White\",\" Asian-Pac-Islander\",\" White\",\" White\",\" White\",\" White\",\" Other\",\" White\",\" White\",\" White\",\" White\",\" White\",\" White\",\" White\",\" White\",\" White\",\" White\",\" White\",\" White\",\" White\",\" White\",\" White\",\" Black\",\" White\",\" White\",\" White\",\" White\",\" Black\",\" White\",\" Black\",\" White\",\" White\",\" White\",\" Black\",\" White\",\" White\",\" White\",\" Other\",\" Asian-Pac-Islander\",\" White\",\" Black\",\" White\",\" White\",\" White\",\" White\",\" White\",\" White\",\" White\",\" White\",\" White\",\" Black\",\" White\",\" White\",\" White\",\" White\",\" White\",\" White\",\" White\",\" White\",\" White\",\" White\",\" White\",\" White\",\" White\",\" White\",\" White\",\" White\",\" Black\",\" Black\",\" White\",\" White\",\" White\",\" White\",\" White\",\" White\",\" White\",\" White\",\" White\",\" White\",\" White\",\" White\",\" White\",\" White\",\" White\",\" White\",\" White\",\" White\",\" White\",\" White\",\" White\",\" White\",\" White\",\" White\",\" White\",\" White\",\" White\",\" White\",\" Black\",\" White\",\" White\",\" White\",\" White\",\" White\",\" White\",\" White\",\" White\",\" White\",\" Black\",\" White\",\" White\",\" White\",\" White\",\" White\",\" Black\",\" White\",\" Black\",\" White\",\" White\",\" White\",\" White\",\" White\",\" White\",\" White\",\" White\",\" White\",\" White\",\" White\",\" White\",\" White\",\" White\",\" White\",\" White\",\" White\",\" Black\",\" White\",\" White\",\" White\",\" Black\",\" White\",\" White\",\" White\",\" White\",\" Other\",\" White\",\" Black\",\" White\",\" White\",\" White\",\" White\",\" Other\",\" White\",\" White\",\" White\",\" White\",\" White\",\" White\",\" White\",\" White\",\" White\",\" White\",\" White\",\" Black\",\" White\",\" White\",\" White\",\" White\",\" White\",\" White\",\" White\",\" White\",\" White\",\" White\",\" White\",\" White\",\" White\",\" Black\",\" White\",\" White\",\" White\",\" Other\",\" White\",\" White\",\" White\",\" Black\",\" White\",\" White\",\" White\",\" White\",\" White\",\" White\",\" White\",\" White\",\" White\",\" White\",\" White\",\" White\",\" Black\",\" White\",\" Black\",\" White\",\" White\",\" Black\",\" White\",\" White\",\" White\",\" Amer-Indian-Eskimo\",\" White\",\" White\",\" Black\",\" White\",\" Black\",\" White\",\" White\",\" White\",\" White\",\" White\",\" White\",\" White\",\" White\",\" White\",\" White\",\" White\",\" White\",\" White\",\" White\",\" White\",\" White\",\" White\",\" White\",\" White\",\" White\",\" White\",\" White\",\" White\",\" White\",\" White\",\" White\",\" White\",\" White\",\" White\",\" White\",\" Black\",\" Amer-Indian-Eskimo\",\" White\",\" White\",\" White\",\" White\",\" White\",\" White\",\" White\",\" White\",\" White\",\" Other\",\" Black\",\" White\",\" White\",\" White\",\" White\",\" White\",\" White\",\" White\",\" White\",\" White\",\" White\",\" White\",\" White\",\" White\",\" White\",\" White\",\" White\",\" White\",\" White\",\" White\",\" White\",\" White\",\" White\",\" Black\",\" White\",\" White\",\" White\",\" White\",\" White\",\" White\",\" Black\",\" White\",\" Black\",\" White\",\" White\",\" White\",\" White\",\" White\",\" White\",\" White\",\" White\",\" Black\",\" Black\",\" White\",\" White\",\" White\",\" White\",\" White\",\" White\",\" White\",\" White\",\" White\",\" White\",\" White\",\" White\",\" White\",\" White\",\" White\",\" White\",\" White\",\" White\",\" White\",\" White\",\" White\",\" White\",\" White\",\" White\",\" White\",\" White\",\" White\",\" White\",\" White\",\" Black\",\" White\",\" White\",\" Black\",\" White\",\" White\",\" White\",\" White\",\" White\",\" Black\",\" White\",\" White\",\" White\",\" White\",\" White\",\" White\",\" White\",\" White\",\" White\",\" White\",\" Black\",\" White\",\" Black\",\" White\",\" White\",\" Black\",\" White\",\" White\",\" White\",\" Other\",\" White\",\" Asian-Pac-Islander\",\" White\",\" Black\",\" White\",\" White\",\" White\",\" White\",\" White\",\" White\",\" White\",\" White\",\" White\",\" White\",\" White\",\" White\",\" White\",\" White\",\" White\",\" White\",\" White\",\" White\",\" Black\",\" Asian-Pac-Islander\",\" White\",\" White\",\" White\",\" White\",\" White\",\" White\",\" White\",\" White\",\" White\",\" Amer-Indian-Eskimo\",\" White\",\" White\",\" White\",\" White\",\" White\",\" White\",\" Black\",\" White\",\" Amer-Indian-Eskimo\",\" White\",\" White\",\" White\",\" White\",\" White\",\" White\",\" Amer-Indian-Eskimo\",\" White\",\" White\",\" Black\",\" White\",\" White\",\" White\",\" Black\",\" Black\",\" White\",\" White\",\" White\",\" White\",\" White\",\" White\",\" White\",\" White\",\" White\",\" White\",\" White\",\" White\",\" White\",\" Asian-Pac-Islander\",\" White\",\" White\",\" White\",\" White\",\" White\",\" White\",\" White\",\" Other\",\" Asian-Pac-Islander\",\" White\",\" White\",\" White\",\" White\",\" White\",\" White\",\" White\",\" White\",\" White\",\" White\",\" Asian-Pac-Islander\",\" White\",\" White\",\" Black\",\" White\",\" Black\",\" White\",\" White\",\" White\",\" White\",\" Asian-Pac-Islander\",\" Black\",\" White\",\" White\",\" White\",\" White\",\" White\",\" White\",\" Black\",\" White\",\" White\",\" White\",\" White\",\" White\",\" White\",\" Other\",\" White\",\" White\",\" White\",\" Amer-Indian-Eskimo\",\" White\",\" White\",\" White\",\" Black\",\" White\",\" Black\",\" White\",\" White\",\" White\",\" White\",\" White\",\" White\",\" White\",\" White\",\" White\",\" White\",\" White\",\" White\",\" White\",\" White\",\" White\",\" White\",\" White\",\" White\",\" White\",\" Black\",\" White\",\" White\",\" White\",\" Black\",\" Amer-Indian-Eskimo\",\" Asian-Pac-Islander\",\" White\",\" White\",\" White\",\" White\",\" White\",\" Asian-Pac-Islander\",\" Asian-Pac-Islander\",\" Black\",\" White\",\" White\",\" White\",\" White\",\" White\",\" White\",\" White\",\" White\",\" White\",\" White\",\" White\",\" White\",\" Amer-Indian-Eskimo\",\" White\",\" White\",\" White\",\" White\",\" White\",\" White\",\" White\",\" Black\",\" White\",\" White\",\" White\",\" White\",\" White\",\" Other\",\" White\",\" White\",\" Black\",\" White\",\" White\",\" White\",\" White\",\" White\",\" White\",\" Asian-Pac-Islander\",\" White\",\" Black\",\" White\",\" White\",\" White\",\" White\",\" White\",\" White\",\" Black\",\" White\",\" White\",\" Black\",\" White\",\" Black\",\" White\",\" White\",\" White\",\" White\",\" White\",\" White\",\" White\",\" White\",\" White\",\" White\",\" White\",\" White\",\" White\",\" White\",\" White\",\" White\",\" White\",\" White\",\" White\",\" White\",\" White\",\" White\",\" White\",\" Black\",\" White\",\" White\",\" White\",\" White\",\" White\",\" White\",\" White\",\" White\",\" White\",\" White\",\" White\",\" White\",\" White\",\" White\",\" White\",\" White\",\" White\",\" White\",\" Black\",\" White\",\" Asian-Pac-Islander\",\" White\",\" White\",\" White\",\" White\",\" White\",\" White\",\" White\",\" White\",\" Amer-Indian-Eskimo\",\" White\",\" White\",\" White\",\" Black\",\" White\",\" White\",\" White\",\" White\",\" White\",\" White\",\" Asian-Pac-Islander\",\" White\",\" White\",\" White\",\" White\",\" White\",\" Amer-Indian-Eskimo\",\" White\",\" White\",\" White\",\" Black\",\" Amer-Indian-Eskimo\",\" White\",\" White\",\" White\",\" White\",\" White\",\" White\",\" White\",\" White\",\" White\",\" White\",\" White\",\" White\",\" Asian-Pac-Islander\",\" White\",\" Black\",\" White\",\" White\",\" Black\",\" White\",\" White\",\" Black\",\" White\",\" White\",\" White\",\" White\",\" White\",\" White\",\" Black\",\" White\",\" White\",\" White\",\" White\",\" White\",\" White\",\" White\",\" Asian-Pac-Islander\",\" White\",\" White\",\" White\",\" White\",\" White\",\" White\",\" White\",\" White\",\" White\",\" Black\",\" White\",\" White\",\" White\",\" White\",\" White\",\" White\",\" White\",\" Black\",\" White\",\" Black\",\" White\",\" White\",\" White\",\" White\",\" White\",\" White\",\" Black\",\" White\",\" Black\",\" Asian-Pac-Islander\",\" White\",\" White\",\" White\",\" White\",\" White\",\" White\",\" White\",\" White\",\" White\",\" White\",\" Black\",\" White\",\" White\",\" Black\",\" White\",\" White\",\" White\",\" White\",\" White\",\" White\",\" White\",\" Black\",\" White\",\" White\",\" White\",\" White\",\" White\",\" White\",\" White\",\" White\",\" Black\",\" White\",\" White\",\" White\",\" White\",\" White\",\" White\",\" Black\",\" White\",\" White\",\" White\",\" White\",\" White\",\" Black\",\" White\",\" White\",\" White\",\" White\",\" Black\",\" White\",\" White\",\" White\",\" White\",\" White\",\" White\",\" White\",\" White\",\" White\",\" White\",\" White\",\" White\",\" White\",\" White\",\" Black\",\" White\",\" White\",\" White\",\" White\",\" White\",\" White\",\" Black\",\" White\",\" White\",\" White\",\" Black\",\" Black\",\" White\",\" Asian-Pac-Islander\",\" White\",\" White\",\" White\",\" White\",\" White\",\" Asian-Pac-Islander\",\" White\",\" White\",\" Black\",\" White\",\" White\",\" White\",\" White\",\" White\",\" White\",\" White\",\" White\",\" White\",\" Asian-Pac-Islander\",\" White\",\" White\",\" White\",\" White\",\" White\",\" White\",\" White\",\" White\",\" White\",\" White\",\" White\",\" White\",\" White\",\" White\",\" White\",\" White\",\" White\",\" White\",\" White\",\" Black\",\" White\",\" White\",\" White\",\" White\",\" White\",\" White\",\" Black\",\" White\",\" White\",\" White\",\" White\",\" White\",\" White\",\" White\",\" Black\",\" White\",\" White\",\" White\",\" White\",\" Black\",\" White\",\" White\",\" Amer-Indian-Eskimo\",\" White\",\" Black\",\" White\",\" White\",\" White\",\" Asian-Pac-Islander\",\" White\",\" Black\",\" White\",\" Asian-Pac-Islander\",\" White\",\" White\",\" White\",\" White\",\" White\",\" White\",\" Asian-Pac-Islander\",\" White\",\" White\",\" White\",\" White\",\" White\",\" Black\",\" White\",\" White\",\" White\",\" Black\",\" White\",\" White\",\" White\",\" White\",\" White\",\" White\",\" White\",\" White\",\" White\",\" White\",\" White\",\" White\",\" White\",\" White\",\" White\",\" White\",\" White\",\" White\",\" White\",\" White\",\" White\",\" White\",\" White\",\" White\",\" White\",\" Black\",\" White\",\" White\",\" White\",\" White\",\" White\",\" Asian-Pac-Islander\",\" White\",\" White\",\" White\",\" Amer-Indian-Eskimo\",\" White\",\" White\",\" White\",\" White\",\" White\",\" White\",\" White\",\" White\",\" White\",\" White\",\" White\",\" White\",\" White\",\" Black\",\" White\",\" White\",\" White\",\" White\",\" White\",\" White\",\" White\",\" White\",\" Black\",\" White\",\" White\",\" White\",\" White\",\" White\",\" White\",\" White\",\" White\",\" White\",\" White\",\" White\",\" White\",\" White\",\" White\",\" White\",\" White\",\" White\",\" White\",\" White\",\" Black\",\" White\",\" White\",\" White\",\" Black\",\" White\",\" White\",\" White\",\" White\",\" White\",\" White\",\" White\",\" White\",\" Asian-Pac-Islander\",\" Amer-Indian-Eskimo\",\" White\",\" White\",\" White\",\" White\",\" White\",\" White\",\" White\",\" White\",\" White\",\" White\",\" Black\",\" White\",\" White\",\" White\",\" White\",\" White\",\" White\",\" White\",\" White\",\" White\",\" Black\",\" Black\",\" White\",\" White\",\" White\",\" White\",\" White\",\" Asian-Pac-Islander\",\" White\",\" White\",\" White\",\" White\",\" White\",\" White\",\" White\",\" White\",\" White\",\" White\",\" White\",\" White\",\" White\",\" White\",\" White\",\" White\",\" White\",\" White\",\" Black\",\" White\",\" White\",\" White\",\" White\",\" White\",\" White\",\" White\",\" White\",\" White\",\" White\",\" Black\",\" Black\",\" White\",\" White\",\" White\",\" White\",\" White\",\" White\",\" White\",\" White\",\" Black\",\" White\",\" White\",\" White\",\" White\",\" White\",\" White\",\" White\",\" Black\",\" White\",\" White\",\" Black\",\" White\",\" White\",\" White\",\" White\",\" Black\",\" White\",\" White\",\" White\",\" White\",\" White\",\" White\",\" White\",\" White\",\" Asian-Pac-Islander\",\" White\",\" White\",\" White\",\" White\",\" White\",\" White\",\" White\",\" White\",\" White\",\" White\",\" White\",\" White\",\" White\",\" White\",\" White\",\" White\",\" White\",\" White\",\" White\",\" Black\",\" White\",\" White\",\" White\",\" Black\",\" Amer-Indian-Eskimo\",\" White\",\" White\",\" White\",\" White\",\" White\",\" White\",\" White\",\" Black\",\" White\",\" White\",\" White\",\" White\",\" White\",\" White\",\" White\",\" Asian-Pac-Islander\",\" White\",\" White\",\" White\",\" White\",\" White\",\" White\",\" White\",\" White\",\" White\",\" White\",\" White\",\" White\",\" White\",\" Black\",\" White\",\" White\",\" White\",\" White\",\" White\",\" White\",\" White\",\" White\",\" White\",\" White\",\" White\",\" White\",\" White\",\" White\",\" White\",\" White\",\" White\",\" White\",\" Black\",\" Asian-Pac-Islander\",\" White\",\" White\",\" White\",\" White\",\" White\",\" White\",\" White\",\" White\",\" White\",\" Black\",\" Amer-Indian-Eskimo\",\" White\",\" White\",\" White\",\" White\",\" White\",\" White\",\" White\",\" White\",\" White\",\" White\",\" White\",\" White\",\" Black\",\" White\",\" White\",\" White\",\" White\",\" White\",\" Asian-Pac-Islander\",\" White\",\" White\",\" White\",\" White\",\" White\",\" White\",\" White\",\" White\",\" White\",\" White\",\" White\",\" White\",\" White\",\" Black\",\" Black\",\" White\",\" White\",\" White\",\" Black\",\" White\",\" White\",\" White\",\" White\",\" White\",\" White\",\" White\",\" White\",\" White\",\" White\",\" White\",\" White\",\" White\",\" White\",\" White\",\" White\",\" Asian-Pac-Islander\",\" White\",\" White\",\" White\",\" White\",\" White\",\" Asian-Pac-Islander\",\" White\",\" White\",\" White\",\" White\",\" White\",\" White\",\" White\",\" White\",\" White\",\" White\",\" Black\",\" White\",\" Black\",\" Black\",\" White\",\" White\",\" Amer-Indian-Eskimo\",\" White\",\" White\",\" White\",\" Black\",\" White\",\" White\",\" White\",\" White\",\" White\",\" White\",\" White\",\" White\",\" White\",\" White\",\" Black\",\" White\",\" White\",\" White\",\" White\",\" Black\",\" White\",\" White\",\" White\",\" White\",\" White\",\" Asian-Pac-Islander\",\" White\",\" White\",\" White\",\" White\",\" Other\",\" White\",\" White\",\" White\",\" White\",\" Other\",\" White\",\" White\",\" White\",\" White\",\" White\",\" White\",\" White\",\" Black\",\" White\",\" White\",\" White\",\" White\",\" White\",\" White\",\" White\",\" White\",\" White\",\" Asian-Pac-Islander\",\" White\",\" Black\",\" White\",\" White\",\" White\",\" Black\",\" White\",\" White\",\" White\",\" White\",\" White\",\" White\",\" White\",\" White\",\" White\",\" White\",\" White\",\" Black\",\" White\",\" White\",\" Black\",\" White\",\" White\",\" White\",\" Black\",\" White\",\" White\",\" Black\",\" White\",\" White\",\" White\",\" Asian-Pac-Islander\",\" White\",\" White\",\" White\",\" White\",\" White\",\" White\",\" White\",\" White\",\" Black\",\" White\",\" Asian-Pac-Islander\",\" White\",\" White\",\" Black\",\" White\",\" White\",\" White\",\" White\",\" White\",\" Asian-Pac-Islander\",\" White\",\" White\",\" White\",\" Black\",\" White\",\" Asian-Pac-Islander\",\" White\",\" White\",\" White\",\" White\",\" White\",\" White\",\" Black\",\" White\",\" White\",\" White\",\" White\",\" White\",\" White\",\" Black\",\" Black\",\" White\",\" White\",\" White\",\" White\",\" White\",\" White\",\" White\",\" White\",\" White\",\" White\",\" White\",\" White\",\" White\",\" White\",\" White\",\" White\",\" White\",\" White\",\" White\",\" Black\",\" White\",\" Black\",\" Black\",\" White\",\" White\",\" White\",\" White\",\" White\",\" White\",\" Asian-Pac-Islander\",\" White\",\" White\",\" White\",\" White\",\" White\",\" White\",\" White\",\" White\",\" White\",\" White\",\" White\",\" Black\",\" Asian-Pac-Islander\",\" White\",\" Asian-Pac-Islander\",\" White\",\" White\",\" Black\",\" Black\",\" White\",\" White\",\" White\",\" White\",\" White\",\" White\",\" White\",\" Asian-Pac-Islander\",\" Amer-Indian-Eskimo\",\" White\",\" Black\",\" White\",\" Black\",\" White\",\" Asian-Pac-Islander\",\" White\",\" White\",\" White\",\" White\",\" White\",\" White\",\" White\",\" Asian-Pac-Islander\",\" White\",\" White\",\" White\",\" White\",\" White\",\" White\",\" White\",\" White\",\" Black\",\" White\",\" White\",\" White\",\" Black\",\" Black\",\" White\",\" White\",\" White\",\" Black\",\" White\",\" Black\",\" White\",\" Black\",\" White\",\" Black\",\" Asian-Pac-Islander\",\" White\",\" White\",\" White\",\" White\",\" White\",\" Black\",\" White\",\" White\",\" White\",\" White\",\" White\",\" White\",\" White\",\" Black\",\" White\",\" Amer-Indian-Eskimo\",\" White\",\" White\",\" White\",\" White\",\" White\",\" White\",\" White\",\" White\",\" White\",\" White\",\" White\",\" Black\",\" White\",\" White\",\" White\",\" White\",\" Black\",\" White\",\" White\",\" White\",\" Black\",\" White\",\" White\",\" Black\",\" White\",\" White\",\" White\",\" White\",\" White\",\" White\",\" White\",\" White\",\" White\",\" Other\",\" White\",\" White\",\" White\",\" White\",\" White\",\" White\",\" White\",\" White\",\" White\",\" White\",\" White\",\" White\",\" White\",\" White\",\" White\",\" Black\",\" White\",\" Other\",\" White\",\" White\",\" White\",\" White\",\" White\",\" Asian-Pac-Islander\",\" White\",\" White\",\" White\",\" White\",\" White\",\" White\",\" White\",\" Other\",\" White\",\" White\",\" White\",\" White\",\" White\",\" Black\",\" White\",\" White\",\" White\",\" White\",\" White\",\" White\",\" White\",\" White\",\" White\",\" White\",\" Black\",\" White\",\" White\",\" White\",\" Black\",\" White\",\" White\",\" White\",\" White\",\" White\",\" Black\",\" Black\",\" White\",\" White\",\" White\",\" White\",\" White\",\" White\",\" White\",\" Asian-Pac-Islander\",\" White\",\" White\",\" White\",\" White\",\" White\",\" White\",\" White\",\" White\",\" White\",\" White\",\" Asian-Pac-Islander\",\" White\",\" White\",\" White\",\" White\",\" White\",\" Asian-Pac-Islander\",\" Asian-Pac-Islander\",\" White\",\" White\",\" White\",\" White\",\" White\",\" White\",\" Black\",\" White\",\" White\",\" Black\",\" White\",\" Asian-Pac-Islander\",\" White\",\" White\",\" White\",\" White\",\" Asian-Pac-Islander\",\" White\",\" White\",\" White\",\" White\",\" White\",\" White\",\" White\",\" White\",\" White\",\" White\",\" White\",\" White\",\" White\",\" White\",\" White\",\" White\",\" White\",\" White\",\" Black\",\" White\",\" Black\",\" White\",\" Asian-Pac-Islander\",\" White\",\" White\",\" White\",\" White\",\" White\",\" White\",\" White\",\" White\",\" Black\",\" White\",\" White\",\" White\",\" Black\",\" White\",\" Black\",\" White\",\" White\",\" White\",\" White\",\" White\",\" White\",\" White\",\" White\",\" White\",\" White\",\" White\",\" White\",\" Asian-Pac-Islander\",\" White\",\" White\",\" White\",\" White\",\" White\",\" Black\",\" White\",\" White\",\" White\",\" Black\",\" White\",\" White\",\" White\",\" White\",\" White\",\" White\",\" White\",\" White\",\" White\",\" White\",\" White\",\" White\",\" Black\",\" White\",\" Black\",\" White\",\" White\",\" White\",\" White\",\" White\",\" White\",\" White\",\" Black\",\" White\",\" White\",\" White\",\" White\",\" White\",\" White\",\" White\",\" White\",\" White\",\" White\",\" White\",\" White\",\" White\",\" White\",\" White\",\" Asian-Pac-Islander\",\" White\",\" White\",\" White\",\" White\",\" White\",\" White\",\" White\",\" White\",\" Black\",\" White\",\" White\",\" White\",\" White\",\" White\",\" White\",\" Asian-Pac-Islander\",\" White\",\" White\",\" White\",\" White\",\" White\",\" White\",\" White\",\" White\",\" White\",\" White\",\" White\",\" White\",\" White\",\" Black\",\" White\",\" Black\",\" White\",\" White\",\" White\",\" White\",\" White\",\" White\",\" White\",\" White\",\" White\",\" White\",\" White\",\" White\",\" Amer-Indian-Eskimo\",\" White\",\" White\",\" White\",\" White\",\" White\",\" White\",\" White\",\" White\",\" White\",\" White\",\" White\",\" White\",\" White\",\" Other\",\" White\",\" White\",\" White\",\" Black\",\" White\",\" White\",\" White\",\" White\",\" White\",\" Asian-Pac-Islander\",\" White\",\" White\",\" White\",\" White\",\" White\",\" White\",\" White\",\" Black\",\" White\",\" White\",\" White\",\" Black\",\" Black\",\" White\",\" White\",\" White\",\" Black\",\" White\",\" White\",\" White\",\" White\",\" White\",\" White\",\" White\",\" White\",\" White\",\" White\",\" White\",\" White\",\" White\",\" White\",\" Black\",\" White\",\" White\",\" White\",\" White\",\" White\",\" White\",\" White\",\" Asian-Pac-Islander\",\" White\",\" White\",\" Black\",\" White\",\" Black\",\" White\",\" White\",\" White\",\" White\",\" Amer-Indian-Eskimo\",\" White\",\" White\",\" White\",\" White\",\" Black\",\" Other\",\" White\",\" White\",\" White\",\" White\",\" White\",\" White\",\" White\",\" Black\",\" White\",\" White\",\" White\",\" White\",\" White\",\" White\",\" White\",\" White\",\" White\",\" White\",\" White\",\" White\",\" White\",\" White\",\" White\",\" White\",\" White\",\" White\",\" White\",\" White\",\" White\",\" Black\",\" White\",\" White\",\" White\",\" White\",\" White\",\" White\",\" White\",\" White\",\" White\",\" White\",\" White\",\" White\",\" White\",\" White\",\" White\",\" White\",\" White\",\" Black\",\" White\",\" White\",\" White\",\" Black\",\" Asian-Pac-Islander\",\" White\",\" Black\",\" Black\",\" White\",\" White\",\" White\",\" White\",\" White\",\" White\",\" White\",\" White\",\" White\",\" White\",\" White\",\" Black\",\" White\",\" White\",\" White\",\" White\",\" White\",\" White\",\" White\",\" Asian-Pac-Islander\",\" White\",\" White\",\" White\",\" White\",\" White\",\" White\",\" Black\",\" White\",\" White\",\" White\",\" Black\",\" White\",\" White\",\" Other\",\" Black\",\" White\",\" White\",\" White\",\" White\",\" White\",\" White\",\" White\",\" Amer-Indian-Eskimo\",\" Black\",\" White\",\" White\",\" White\",\" White\",\" White\",\" White\",\" White\",\" White\",\" White\",\" White\",\" Black\",\" White\",\" White\",\" Black\",\" White\",\" White\",\" White\",\" White\",\" Black\",\" White\",\" Black\",\" White\",\" White\",\" White\",\" White\",\" White\",\" White\",\" White\",\" White\",\" White\",\" White\",\" White\",\" Black\",\" White\",\" White\",\" White\",\" White\",\" White\",\" White\",\" White\",\" White\",\" White\",\" White\",\" White\",\" White\",\" White\",\" White\",\" White\",\" White\",\" Black\",\" White\",\" White\",\" White\",\" White\",\" White\",\" White\",\" White\",\" White\",\" White\",\" Black\",\" Black\",\" White\",\" White\",\" White\",\" White\",\" White\",\" White\",\" Asian-Pac-Islander\",\" White\",\" White\",\" White\",\" White\",\" White\",\" White\",\" White\",\" White\",\" White\",\" White\",\" Other\",\" Black\",\" White\",\" Black\",\" White\",\" White\",\" White\",\" Amer-Indian-Eskimo\",\" White\",\" White\",\" White\",\" White\",\" Asian-Pac-Islander\",\" White\",\" White\",\" White\",\" White\",\" White\",\" White\",\" White\",\" Black\",\" White\",\" White\",\" White\",\" White\",\" White\",\" White\",\" White\",\" White\",\" White\",\" White\",\" White\",\" White\",\" White\",\" White\",\" White\",\" White\",\" White\",\" White\",\" White\",\" White\",\" White\",\" White\",\" White\",\" White\",\" White\",\" Black\",\" Other\",\" White\",\" White\",\" White\",\" White\",\" White\",\" White\",\" White\",\" White\",\" White\",\" White\",\" White\",\" White\",\" White\",\" White\",\" White\",\" White\",\" White\",\" White\",\" White\",\" White\",\" White\",\" White\",\" White\",\" White\",\" White\",\" White\",\" White\",\" White\",\" White\",\" White\",\" White\",\" White\",\" White\",\" White\",\" White\",\" Other\",\" White\",\" White\",\" White\",\" White\",\" White\",\" White\",\" White\",\" White\",\" White\",\" White\",\" White\",\" White\",\" White\",\" White\",\" White\",\" White\",\" White\",\" White\",\" White\",\" White\",\" White\",\" White\",\" Black\",\" White\",\" White\",\" White\",\" White\",\" White\",\" White\",\" Black\",\" White\",\" White\",\" White\",\" White\",\" White\",\" White\",\" White\",\" White\",\" White\",\" Asian-Pac-Islander\",\" White\",\" White\",\" White\",\" White\",\" White\",\" White\",\" White\",\" White\",\" White\",\" White\",\" White\",\" White\",\" Black\",\" White\",\" White\",\" White\",\" White\",\" White\",\" White\",\" White\",\" White\",\" White\",\" White\",\" Black\",\" White\",\" White\",\" Black\",\" Amer-Indian-Eskimo\",\" White\",\" White\",\" White\",\" White\",\" White\",\" White\",\" White\",\" White\",\" White\",\" White\",\" Black\",\" White\",\" White\",\" White\",\" White\",\" Black\",\" Black\",\" White\",\" White\",\" White\",\" White\",\" Black\",\" White\",\" White\",\" White\",\" Black\",\" White\",\" White\",\" White\",\" White\",\" White\",\" White\",\" White\",\" White\",\" White\",\" White\",\" Asian-Pac-Islander\",\" White\",\" White\",\" White\",\" Other\",\" White\",\" White\",\" White\",\" White\",\" White\",\" White\",\" Black\",\" White\",\" Black\",\" White\",\" White\",\" White\",\" White\",\" White\",\" White\",\" Asian-Pac-Islander\",\" White\",\" White\",\" White\",\" White\",\" Amer-Indian-Eskimo\",\" White\",\" White\",\" Black\",\" Asian-Pac-Islander\",\" White\",\" White\",\" White\",\" White\",\" White\",\" White\",\" White\",\" White\",\" White\",\" Black\",\" Asian-Pac-Islander\",\" White\",\" White\",\" White\",\" White\",\" White\",\" White\",\" White\",\" Black\",\" White\",\" White\",\" White\",\" White\",\" Asian-Pac-Islander\",\" White\",\" White\",\" White\",\" White\",\" White\",\" White\",\" White\",\" White\",\" White\",\" White\",\" White\",\" White\",\" White\",\" White\",\" White\",\" Amer-Indian-Eskimo\",\" White\",\" Amer-Indian-Eskimo\",\" White\",\" White\",\" White\",\" White\",\" White\",\" White\",\" White\",\" White\",\" White\",\" White\",\" White\",\" White\",\" White\",\" White\",\" Amer-Indian-Eskimo\",\" White\",\" White\",\" White\",\" White\",\" White\",\" White\",\" White\",\" White\",\" White\",\" White\",\" White\",\" White\",\" White\",\" White\",\" White\",\" White\",\" White\",\" White\",\" White\",\" Black\",\" White\",\" White\",\" Black\",\" Black\",\" White\",\" White\",\" White\",\" White\",\" Other\",\" White\",\" White\",\" White\",\" White\",\" White\",\" White\",\" White\",\" White\",\" Asian-Pac-Islander\",\" Black\",\" White\",\" White\",\" White\",\" White\",\" Asian-Pac-Islander\",\" White\",\" White\",\" White\",\" White\",\" Black\",\" White\",\" White\",\" White\",\" White\",\" White\",\" Black\",\" White\",\" White\",\" White\",\" White\",\" White\",\" White\",\" White\",\" White\",\" White\",\" Black\",\" White\",\" White\",\" White\",\" White\",\" Black\",\" White\",\" White\",\" White\",\" White\",\" White\",\" White\",\" White\",\" White\",\" Asian-Pac-Islander\",\" White\",\" White\",\" White\",\" White\",\" White\",\" White\",\" White\",\" Black\",\" White\",\" White\",\" White\",\" White\",\" White\",\" White\",\" White\",\" White\",\" White\",\" White\",\" White\",\" White\",\" White\",\" White\",\" White\",\" White\",\" Black\",\" Other\",\" White\",\" White\",\" White\",\" White\",\" White\",\" Asian-Pac-Islander\",\" White\",\" Black\",\" White\",\" White\",\" White\",\" White\",\" White\",\" White\",\" White\",\" White\",\" Asian-Pac-Islander\",\" White\",\" Black\",\" White\",\" Black\",\" White\",\" White\",\" White\",\" White\",\" White\",\" Black\",\" White\",\" White\",\" White\",\" Asian-Pac-Islander\",\" White\",\" White\",\" White\",\" White\",\" White\",\" Other\",\" Amer-Indian-Eskimo\",\" White\",\" Black\",\" White\",\" White\",\" Asian-Pac-Islander\",\" White\",\" White\",\" White\",\" White\",\" White\",\" White\",\" White\",\" White\",\" White\",\" White\",\" Black\",\" White\",\" White\",\" White\",\" White\",\" White\",\" White\",\" White\",\" White\",\" White\",\" White\",\" White\",\" White\",\" White\",\" White\",\" Black\",\" White\",\" White\",\" White\",\" White\",\" White\",\" White\",\" White\",\" Other\",\" White\",\" Black\",\" White\",\" White\",\" White\",\" White\",\" White\",\" Black\",\" White\",\" White\",\" White\",\" White\",\" White\",\" White\",\" White\",\" White\",\" White\",\" White\",\" White\",\" White\",\" White\",\" White\",\" White\",\" White\",\" White\",\" White\",\" White\",\" White\",\" White\",\" White\",\" White\",\" White\",\" White\",\" White\",\" Asian-Pac-Islander\",\" White\",\" White\",\" White\",\" White\",\" White\",\" White\",\" White\",\" White\",\" White\",\" White\",\" White\",\" White\",\" White\",\" White\",\" White\",\" White\",\" White\",\" White\",\" White\",\" White\",\" White\",\" Black\",\" White\",\" White\",\" White\",\" White\",\" White\",\" White\",\" White\",\" White\",\" White\",\" White\",\" White\",\" White\",\" White\",\" White\",\" White\",\" White\",\" Black\",\" White\",\" White\",\" White\",\" White\",\" White\",\" White\",\" White\",\" White\",\" White\",\" White\",\" White\",\" White\",\" Black\",\" White\",\" White\",\" White\",\" White\",\" White\",\" White\",\" White\",\" Other\",\" White\",\" White\",\" White\",\" White\",\" White\",\" White\",\" White\",\" White\",\" White\",\" Black\",\" White\",\" Black\",\" Asian-Pac-Islander\",\" White\",\" White\",\" Black\",\" Amer-Indian-Eskimo\",\" White\",\" White\",\" White\",\" Black\",\" White\",\" White\",\" White\",\" White\",\" White\",\" White\",\" Asian-Pac-Islander\",\" White\",\" Black\",\" White\",\" White\",\" White\",\" White\",\" White\",\" White\",\" White\",\" White\",\" White\",\" White\",\" White\",\" White\",\" White\",\" White\",\" White\",\" White\",\" White\",\" White\",\" Black\",\" White\",\" White\",\" White\",\" Black\",\" Black\",\" White\",\" White\",\" White\",\" White\",\" White\",\" White\",\" White\",\" White\",\" White\",\" White\",\" White\",\" White\",\" White\",\" White\",\" White\",\" White\",\" White\",\" White\",\" White\",\" White\",\" Black\",\" White\",\" White\",\" White\",\" White\",\" White\",\" White\",\" White\",\" White\",\" White\",\" White\",\" White\",\" White\",\" Amer-Indian-Eskimo\",\" White\",\" White\",\" White\",\" White\",\" Black\",\" White\",\" White\",\" White\",\" White\",\" White\",\" White\",\" White\",\" White\",\" White\",\" White\",\" White\",\" White\",\" White\",\" White\",\" White\",\" White\",\" White\",\" White\",\" Black\",\" White\",\" Black\",\" White\",\" White\",\" White\",\" White\",\" White\",\" Amer-Indian-Eskimo\",\" White\",\" White\",\" Black\",\" White\",\" White\",\" White\",\" White\",\" White\",\" White\",\" White\",\" White\",\" Black\",\" White\",\" White\",\" White\",\" White\",\" White\",\" Asian-Pac-Islander\",\" White\",\" White\",\" White\",\" White\",\" White\",\" White\",\" Asian-Pac-Islander\",\" White\",\" White\",\" White\",\" White\",\" Black\",\" White\",\" Black\",\" White\",\" White\",\" White\",\" White\",\" White\",\" White\",\" White\",\" White\",\" White\",\" White\",\" White\",\" White\",\" White\",\" White\",\" White\",\" White\",\" White\",\" White\",\" White\",\" White\",\" White\",\" Black\",\" White\",\" White\",\" Black\",\" White\",\" White\",\" White\",\" White\",\" White\",\" White\",\" White\",\" White\",\" White\",\" White\",\" White\",\" White\",\" White\",\" White\",\" White\",\" White\",\" White\",\" White\",\" White\",\" White\",\" White\",\" White\",\" White\",\" White\",\" White\",\" White\",\" White\",\" Black\",\" White\",\" White\",\" Black\",\" White\",\" White\",\" Black\",\" White\",\" Asian-Pac-Islander\",\" White\",\" White\",\" White\",\" White\",\" White\",\" White\",\" White\",\" White\",\" Asian-Pac-Islander\",\" White\",\" White\",\" White\",\" White\",\" White\",\" White\",\" White\",\" White\",\" White\",\" Black\",\" White\",\" White\",\" White\",\" White\",\" White\",\" White\",\" White\",\" White\",\" White\",\" White\",\" Other\",\" White\",\" White\",\" White\",\" White\",\" Asian-Pac-Islander\",\" White\",\" White\",\" White\",\" White\",\" White\",\" White\",\" White\",\" White\",\" White\",\" White\",\" White\",\" White\",\" White\",\" White\",\" White\",\" Black\",\" Black\",\" White\",\" White\",\" White\",\" White\",\" White\",\" White\",\" White\",\" White\",\" Asian-Pac-Islander\",\" White\",\" White\",\" White\",\" White\",\" White\",\" Asian-Pac-Islander\",\" White\",\" White\",\" White\",\" White\",\" White\",\" Black\",\" White\",\" White\",\" White\",\" White\",\" Amer-Indian-Eskimo\",\" White\",\" White\",\" White\",\" White\",\" White\",\" White\",\" White\",\" Other\",\" White\",\" White\",\" Black\",\" White\",\" White\",\" White\",\" White\",\" Asian-Pac-Islander\",\" Black\",\" White\",\" White\",\" Black\",\" White\",\" White\",\" White\",\" White\",\" White\",\" White\",\" White\",\" White\",\" White\",\" White\",\" White\",\" White\",\" White\",\" White\",\" White\",\" Black\",\" White\",\" White\",\" White\",\" White\",\" White\",\" White\",\" White\",\" White\",\" White\",\" White\",\" White\",\" White\",\" Black\",\" White\",\" Black\",\" White\",\" White\",\" White\",\" White\",\" White\",\" White\",\" White\",\" White\",\" White\",\" White\",\" White\",\" White\",\" White\",\" White\",\" White\",\" White\",\" White\",\" White\",\" White\",\" White\",\" White\",\" Asian-Pac-Islander\",\" White\",\" White\",\" Asian-Pac-Islander\",\" White\",\" White\",\" White\",\" White\",\" White\",\" Other\",\" White\",\" White\",\" White\",\" Black\",\" White\",\" White\",\" White\",\" White\",\" Black\",\" White\",\" White\",\" White\",\" White\",\" White\",\" White\",\" White\",\" White\",\" White\",\" Asian-Pac-Islander\",\" White\",\" Black\",\" White\",\" Black\",\" White\",\" White\",\" White\",\" White\",\" White\",\" White\",\" White\",\" White\",\" White\",\" White\",\" White\",\" White\",\" White\",\" White\",\" White\",\" White\",\" White\",\" White\",\" White\",\" White\",\" Asian-Pac-Islander\",\" White\",\" White\",\" White\",\" White\",\" White\",\" White\",\" White\",\" White\",\" Amer-Indian-Eskimo\",\" White\",\" White\",\" Black\",\" White\",\" White\",\" White\",\" White\",\" White\",\" Black\",\" White\",\" White\",\" White\",\" White\",\" White\",\" White\",\" White\",\" White\",\" White\",\" Other\",\" White\",\" White\",\" White\",\" White\",\" White\",\" White\",\" White\",\" White\",\" Black\",\" White\",\" White\",\" White\",\" White\",\" White\",\" White\",\" Asian-Pac-Islander\",\" White\",\" White\",\" White\",\" Black\",\" White\",\" Black\",\" White\",\" White\",\" Amer-Indian-Eskimo\",\" Black\",\" White\",\" White\",\" White\",\" White\",\" White\",\" White\",\" White\",\" White\",\" White\",\" Black\",\" Other\",\" White\",\" White\",\" White\",\" White\",\" White\",\" White\",\" White\",\" White\",\" White\",\" White\",\" White\",\" White\",\" White\",\" White\",\" White\",\" White\",\" White\",\" White\",\" White\",\" White\",\" White\",\" White\",\" White\",\" White\",\" White\",\" White\",\" White\",\" White\",\" Asian-Pac-Islander\",\" White\",\" Black\",\" White\",\" White\",\" White\",\" White\",\" White\",\" White\",\" White\",\" White\",\" White\",\" White\",\" White\",\" White\",\" White\",\" White\",\" White\",\" White\",\" Black\",\" White\",\" White\",\" White\",\" White\",\" White\",\" White\",\" White\",\" White\",\" Black\",\" White\",\" White\",\" White\",\" White\",\" White\",\" White\",\" White\",\" White\",\" Black\",\" White\",\" White\",\" White\",\" White\",\" White\",\" White\",\" White\",\" Asian-Pac-Islander\",\" White\",\" Black\",\" White\",\" White\",\" White\",\" White\",\" Asian-Pac-Islander\",\" White\",\" White\",\" White\",\" White\",\" White\",\" White\",\" White\",\" White\",\" White\",\" White\",\" White\",\" White\",\" White\",\" White\",\" White\",\" White\",\" White\",\" Black\",\" White\",\" White\",\" White\",\" White\",\" White\",\" White\",\" White\",\" White\",\" White\",\" White\",\" White\",\" White\",\" White\",\" Black\",\" White\",\" White\",\" White\",\" White\",\" Black\",\" Black\",\" White\",\" White\",\" White\",\" White\",\" White\",\" Black\",\" White\",\" White\",\" White\",\" White\",\" Black\",\" White\",\" White\",\" White\",\" White\",\" White\",\" Black\",\" Black\",\" White\",\" White\",\" White\",\" Black\",\" White\",\" White\",\" White\",\" White\",\" White\",\" Asian-Pac-Islander\",\" White\",\" White\",\" White\",\" Amer-Indian-Eskimo\",\" White\",\" White\",\" White\",\" White\",\" White\",\" White\",\" White\",\" White\",\" White\",\" White\",\" White\",\" White\",\" White\",\" White\",\" White\",\" White\",\" White\",\" White\",\" White\",\" White\",\" White\",\" White\",\" White\",\" White\",\" White\",\" White\",\" White\",\" White\",\" White\",\" Black\",\" White\",\" Black\",\" White\",\" White\",\" White\",\" White\",\" Black\",\" White\",\" White\",\" White\",\" White\",\" White\",\" White\",\" Black\",\" White\",\" White\",\" White\",\" White\",\" White\",\" White\",\" White\",\" White\",\" White\",\" Black\",\" White\",\" White\",\" Black\",\" White\",\" White\",\" White\",\" White\",\" White\",\" White\",\" White\",\" Black\",\" White\",\" White\",\" Black\",\" White\",\" White\",\" White\",\" White\",\" White\",\" White\",\" White\",\" Amer-Indian-Eskimo\",\" White\",\" White\",\" White\",\" White\",\" White\",\" White\",\" White\",\" White\",\" Black\",\" White\",\" White\",\" White\",\" White\",\" White\",\" White\",\" White\",\" White\",\" White\",\" White\",\" White\",\" White\",\" White\",\" White\",\" White\",\" White\",\" Asian-Pac-Islander\",\" White\",\" White\",\" White\",\" White\",\" White\",\" White\",\" White\",\" White\",\" White\",\" White\",\" Amer-Indian-Eskimo\",\" Asian-Pac-Islander\",\" White\",\" Black\",\" White\",\" White\",\" White\",\" Black\",\" White\",\" White\",\" White\",\" White\",\" White\",\" White\",\" Other\",\" White\",\" White\",\" White\",\" White\",\" Black\",\" White\",\" White\",\" White\",\" White\",\" White\",\" White\",\" White\",\" White\",\" White\",\" White\",\" White\",\" White\",\" White\",\" White\",\" White\",\" White\",\" White\",\" Black\",\" White\",\" White\",\" Black\",\" White\",\" White\",\" White\",\" White\",\" Asian-Pac-Islander\",\" White\",\" White\",\" White\",\" White\",\" White\",\" White\",\" White\",\" White\",\" White\",\" White\",\" Asian-Pac-Islander\",\" White\",\" White\",\" White\",\" Black\",\" Black\",\" White\",\" White\",\" White\",\" White\",\" Asian-Pac-Islander\",\" White\",\" White\",\" White\",\" White\",\" White\",\" White\",\" White\",\" Black\",\" White\",\" White\",\" White\",\" Amer-Indian-Eskimo\",\" White\",\" White\",\" White\",\" White\",\" White\",\" White\",\" White\",\" White\",\" White\",\" White\",\" White\",\" Black\",\" White\",\" White\",\" White\",\" Black\",\" White\",\" White\",\" Black\",\" White\",\" White\",\" White\",\" Black\",\" White\",\" White\",\" White\",\" White\",\" White\",\" White\",\" White\",\" White\",\" White\",\" White\",\" White\",\" White\",\" White\",\" Black\",\" White\",\" White\",\" White\",\" White\",\" White\",\" White\",\" Asian-Pac-Islander\",\" Amer-Indian-Eskimo\",\" White\",\" White\",\" Black\",\" Asian-Pac-Islander\",\" White\",\" White\",\" White\",\" White\",\" White\",\" White\",\" White\",\" White\",\" White\",\" White\",\" White\",\" White\",\" White\",\" White\",\" White\",\" Black\",\" White\",\" White\",\" White\",\" White\",\" White\",\" White\",\" Black\",\" Black\",\" White\",\" White\",\" White\",\" White\",\" White\",\" White\",\" White\",\" White\",\" White\",\" White\",\" White\",\" White\",\" White\",\" White\",\" White\",\" White\",\" Other\",\" White\",\" White\",\" White\",\" Black\",\" White\",\" White\",\" White\",\" White\",\" White\",\" White\",\" White\",\" White\",\" White\",\" White\",\" White\",\" White\",\" White\",\" White\",\" Black\",\" White\",\" White\",\" Black\",\" White\",\" White\",\" White\",\" White\",\" White\",\" White\",\" White\",\" White\",\" White\",\" White\",\" White\",\" White\",\" White\",\" White\",\" Black\",\" White\",\" White\",\" White\",\" White\",\" White\",\" Black\",\" White\",\" White\",\" Black\",\" White\",\" White\",\" White\",\" White\",\" White\",\" White\",\" White\",\" White\",\" White\",\" White\",\" Black\",\" White\",\" White\",\" Black\",\" White\",\" White\",\" White\",\" White\",\" White\",\" White\",\" White\",\" White\",\" White\",\" White\",\" White\",\" White\",\" White\",\" White\",\" White\",\" White\",\" White\",\" White\",\" Asian-Pac-Islander\",\" Amer-Indian-Eskimo\",\" White\",\" White\",\" White\",\" White\",\" White\",\" White\",\" White\",\" White\",\" White\",\" White\",\" White\",\" White\",\" White\",\" White\",\" White\",\" White\",\" White\",\" White\",\" White\",\" White\",\" Black\",\" White\",\" White\",\" White\",\" White\",\" White\",\" Black\",\" Black\",\" White\",\" White\",\" White\",\" White\",\" White\",\" White\",\" White\",\" White\",\" White\",\" White\",\" White\",\" White\",\" White\",\" White\",\" White\",\" White\",\" White\",\" White\",\" Black\",\" White\",\" White\",\" White\",\" White\",\" White\",\" White\",\" White\",\" Black\",\" White\",\" Black\",\" White\",\" White\",\" White\",\" White\",\" White\",\" White\",\" White\",\" White\",\" Black\",\" White\",\" White\",\" White\",\" White\",\" White\",\" White\",\" White\",\" White\",\" White\",\" Black\",\" White\",\" White\",\" White\",\" White\",\" White\",\" White\",\" White\",\" White\",\" White\",\" White\",\" White\",\" White\",\" White\",\" White\",\" White\",\" White\",\" White\",\" White\",\" White\",\" White\",\" White\",\" White\",\" White\",\" White\",\" Asian-Pac-Islander\",\" White\",\" Black\",\" White\",\" White\",\" White\",\" White\",\" White\",\" Black\",\" White\",\" White\",\" White\",\" White\",\" White\",\" Black\",\" White\",\" White\",\" White\",\" Asian-Pac-Islander\",\" White\",\" White\",\" White\",\" White\",\" White\",\" White\",\" Other\",\" White\",\" White\",\" White\",\" White\",\" White\",\" White\",\" White\",\" White\",\" White\",\" White\",\" White\",\" White\",\" White\",\" Black\",\" White\",\" White\",\" White\",\" White\",\" White\",\" White\",\" White\",\" White\",\" White\",\" Amer-Indian-Eskimo\",\" White\",\" White\",\" White\",\" White\",\" White\",\" White\",\" White\",\" White\",\" White\",\" White\",\" White\",\" White\",\" White\",\" White\",\" White\",\" Asian-Pac-Islander\",\" White\",\" White\",\" Asian-Pac-Islander\",\" Black\",\" Black\",\" White\",\" White\",\" White\",\" White\",\" White\",\" Asian-Pac-Islander\",\" Amer-Indian-Eskimo\",\" White\",\" White\",\" White\",\" White\",\" White\",\" White\",\" White\",\" White\",\" White\",\" White\",\" White\",\" White\",\" White\",\" White\",\" White\",\" White\",\" White\",\" White\",\" White\",\" White\",\" White\",\" Asian-Pac-Islander\",\" White\",\" White\",\" White\",\" White\",\" Black\",\" White\",\" White\",\" White\",\" Black\",\" White\",\" White\",\" Asian-Pac-Islander\",\" White\",\" Amer-Indian-Eskimo\",\" White\",\" White\",\" White\",\" White\",\" Black\",\" White\",\" White\",\" White\",\" White\",\" White\",\" White\",\" White\",\" White\",\" White\",\" White\",\" White\",\" White\",\" White\",\" White\",\" White\",\" White\",\" White\",\" White\",\" White\",\" Black\",\" White\",\" White\",\" White\",\" White\",\" White\",\" White\",\" White\",\" White\",\" White\",\" Black\",\" White\",\" White\",\" White\",\" White\",\" White\",\" Asian-Pac-Islander\",\" Black\",\" White\",\" White\",\" White\",\" White\",\" White\",\" White\",\" White\",\" Asian-Pac-Islander\",\" White\",\" White\",\" White\",\" White\",\" White\",\" White\",\" White\",\" White\",\" Black\",\" White\",\" White\",\" White\",\" White\",\" White\",\" White\",\" White\",\" Black\",\" White\",\" White\",\" White\",\" Black\",\" Black\",\" White\",\" White\",\" White\",\" Amer-Indian-Eskimo\",\" White\",\" White\",\" White\",\" White\",\" White\",\" White\",\" Asian-Pac-Islander\",\" Black\",\" White\",\" White\",\" White\",\" White\",\" White\",\" Black\",\" Asian-Pac-Islander\",\" White\",\" Asian-Pac-Islander\",\" Asian-Pac-Islander\",\" White\",\" White\",\" White\",\" White\",\" White\",\" White\",\" White\",\" White\",\" White\",\" White\",\" White\",\" Asian-Pac-Islander\",\" White\",\" White\",\" Black\",\" White\",\" White\",\" Amer-Indian-Eskimo\",\" White\",\" Other\",\" White\",\" White\",\" White\",\" White\",\" White\",\" White\",\" White\",\" White\",\" White\",\" White\",\" Black\",\" White\",\" White\",\" Black\",\" White\",\" White\",\" White\",\" White\",\" White\",\" White\",\" White\",\" White\",\" White\",\" White\",\" White\",\" White\",\" White\",\" White\",\" White\",\" White\",\" White\",\" White\",\" White\",\" White\",\" White\",\" White\",\" White\",\" White\",\" White\",\" White\",\" White\",\" White\",\" White\",\" White\",\" White\",\" White\",\" White\",\" White\",\" White\",\" White\",\" White\",\" White\",\" White\",\" White\",\" White\",\" White\",\" Black\",\" White\",\" White\",\" White\",\" White\",\" White\",\" White\",\" White\",\" White\",\" White\",\" White\",\" White\",\" White\",\" White\",\" White\",\" White\",\" White\",\" White\",\" White\",\" White\",\" White\",\" White\",\" White\",\" White\",\" Amer-Indian-Eskimo\",\" Black\",\" White\",\" White\",\" White\",\" White\",\" White\",\" Black\",\" White\",\" White\",\" White\",\" Black\",\" White\",\" White\",\" White\",\" White\",\" White\",\" White\",\" White\",\" White\",\" White\",\" White\",\" White\",\" White\",\" White\",\" White\",\" White\",\" White\",\" Other\",\" Black\",\" White\",\" Black\",\" White\",\" White\",\" White\",\" Black\",\" White\",\" White\",\" White\",\" White\",\" White\",\" Asian-Pac-Islander\",\" White\",\" White\",\" White\",\" White\",\" White\",\" White\",\" Black\",\" Asian-Pac-Islander\",\" White\",\" White\",\" White\",\" White\",\" White\",\" Black\",\" White\",\" White\",\" White\",\" White\",\" White\",\" White\",\" White\",\" White\",\" White\",\" White\",\" Black\",\" White\",\" White\",\" White\",\" White\",\" White\",\" White\",\" Black\",\" White\",\" White\",\" White\",\" Other\",\" Black\",\" White\",\" White\",\" White\",\" Black\",\" White\",\" White\",\" White\",\" White\",\" Black\",\" Black\",\" White\",\" White\",\" White\",\" White\",\" White\",\" White\",\" White\",\" White\",\" Asian-Pac-Islander\",\" White\",\" White\",\" White\",\" White\",\" White\",\" Black\",\" White\",\" White\",\" White\",\" White\",\" White\",\" White\",\" White\",\" Black\",\" White\",\" White\",\" White\",\" White\",\" White\",\" White\",\" Black\",\" White\",\" White\",\" White\",\" White\",\" White\",\" Asian-Pac-Islander\",\" White\",\" White\",\" White\",\" Black\",\" White\",\" White\",\" White\",\" White\",\" White\",\" White\",\" White\",\" White\",\" White\",\" White\",\" Black\",\" White\",\" White\",\" White\",\" White\",\" White\",\" White\",\" White\",\" White\",\" White\",\" Asian-Pac-Islander\",\" White\",\" White\",\" White\",\" White\",\" White\",\" White\",\" White\",\" White\",\" White\",\" Asian-Pac-Islander\",\" White\",\" White\",\" White\",\" White\",\" Asian-Pac-Islander\",\" Black\",\" White\",\" Black\",\" White\",\" Black\",\" White\",\" Black\",\" White\",\" Black\",\" White\",\" White\",\" White\",\" White\",\" White\",\" White\",\" White\",\" White\",\" White\",\" Black\",\" Asian-Pac-Islander\",\" White\",\" White\",\" White\",\" White\",\" White\",\" White\",\" White\",\" White\",\" White\",\" White\",\" Black\",\" White\",\" White\",\" White\",\" White\",\" White\",\" White\",\" White\",\" White\",\" White\",\" White\",\" White\",\" White\",\" White\",\" White\",\" White\",\" White\",\" White\",\" White\",\" Amer-Indian-Eskimo\",\" White\",\" White\",\" White\",\" White\",\" White\",\" White\",\" White\",\" White\",\" White\",\" White\",\" White\",\" White\",\" White\",\" White\",\" Black\",\" White\",\" White\",\" White\",\" White\",\" White\",\" White\",\" White\",\" White\",\" White\",\" White\",\" White\",\" White\",\" White\",\" Black\",\" White\",\" White\",\" White\",\" White\",\" White\",\" White\",\" Black\",\" White\",\" White\",\" White\",\" White\",\" White\",\" White\",\" White\",\" White\",\" White\",\" White\",\" White\",\" White\",\" White\",\" White\",\" White\",\" White\",\" Black\",\" White\",\" White\",\" White\",\" White\",\" White\",\" Black\",\" Asian-Pac-Islander\",\" Black\",\" White\",\" White\",\" White\",\" White\",\" White\",\" White\",\" Black\",\" White\",\" White\",\" White\",\" White\",\" White\",\" White\",\" White\",\" White\",\" White\",\" White\",\" White\",\" White\",\" White\",\" White\",\" White\",\" Black\",\" White\",\" Asian-Pac-Islander\",\" White\",\" Black\",\" White\",\" White\",\" White\",\" White\",\" White\",\" Asian-Pac-Islander\",\" White\",\" White\",\" White\",\" Black\",\" White\",\" White\",\" White\",\" White\",\" White\",\" White\",\" White\",\" White\",\" White\",\" Black\",\" White\",\" White\",\" White\",\" White\",\" White\",\" White\",\" White\",\" White\",\" White\",\" White\",\" White\",\" White\",\" White\",\" White\",\" White\",\" Black\",\" White\",\" White\",\" White\",\" White\",\" White\",\" Black\",\" White\",\" Asian-Pac-Islander\",\" White\",\" White\",\" White\",\" White\",\" Black\",\" White\",\" White\",\" White\",\" White\",\" White\",\" White\",\" Amer-Indian-Eskimo\",\" White\",\" Amer-Indian-Eskimo\",\" White\",\" White\",\" Black\",\" White\",\" White\",\" White\",\" White\",\" Asian-Pac-Islander\",\" White\",\" White\",\" White\",\" White\",\" White\",\" White\",\" White\",\" White\",\" White\",\" White\",\" White\",\" White\",\" White\",\" White\",\" White\",\" White\",\" White\",\" White\",\" White\",\" Black\",\" White\",\" White\",\" White\",\" White\",\" White\",\" White\",\" White\",\" White\",\" White\",\" White\",\" White\",\" White\",\" White\",\" White\",\" White\",\" Black\",\" White\",\" White\",\" White\",\" White\",\" White\",\" White\",\" White\",\" White\",\" White\",\" White\",\" White\",\" White\",\" White\",\" White\",\" White\",\" Black\",\" White\",\" Black\",\" Black\",\" White\",\" Black\",\" White\",\" White\",\" White\",\" White\",\" White\",\" White\",\" White\",\" White\",\" White\",\" White\",\" Black\",\" White\",\" White\",\" Other\",\" White\",\" White\",\" White\",\" White\",\" Asian-Pac-Islander\",\" Asian-Pac-Islander\",\" White\",\" White\",\" White\",\" White\",\" White\",\" White\",\" White\",\" White\",\" Black\",\" Black\",\" White\",\" White\",\" White\",\" Black\",\" White\",\" White\",\" White\",\" White\",\" White\",\" White\",\" White\",\" White\",\" White\",\" White\",\" Black\",\" White\",\" White\",\" White\",\" White\",\" Asian-Pac-Islander\",\" Black\",\" White\",\" White\",\" White\",\" White\",\" White\",\" White\",\" White\",\" White\",\" White\",\" Black\",\" White\",\" White\",\" White\",\" White\",\" Black\",\" White\",\" White\",\" White\",\" Amer-Indian-Eskimo\",\" Black\",\" White\",\" Other\",\" White\",\" White\",\" White\",\" Black\",\" White\",\" Black\",\" White\",\" White\",\" White\",\" Asian-Pac-Islander\",\" White\",\" White\",\" White\",\" Asian-Pac-Islander\",\" White\",\" White\",\" White\",\" White\",\" White\",\" White\",\" White\",\" White\",\" Black\",\" White\",\" White\",\" White\",\" Amer-Indian-Eskimo\",\" White\",\" White\",\" White\",\" White\",\" White\",\" White\",\" White\",\" White\",\" White\",\" White\",\" Asian-Pac-Islander\",\" Asian-Pac-Islander\",\" White\",\" Other\",\" White\",\" White\",\" White\",\" White\",\" White\",\" White\",\" White\",\" White\",\" White\",\" White\",\" White\",\" White\",\" White\",\" White\",\" White\",\" White\",\" White\",\" White\",\" White\",\" White\",\" White\",\" White\",\" Black\",\" White\",\" White\",\" White\",\" White\",\" White\",\" White\",\" White\",\" White\",\" White\",\" White\",\" White\",\" White\",\" Black\",\" White\",\" Black\",\" White\",\" White\",\" White\",\" White\",\" White\",\" White\",\" White\",\" White\",\" White\",\" White\",\" White\",\" White\",\" White\",\" White\",\" Black\",\" White\",\" Black\",\" Black\",\" White\",\" White\",\" White\",\" White\",\" White\",\" White\",\" White\",\" White\",\" White\",\" White\",\" White\",\" White\",\" White\",\" White\",\" White\",\" White\",\" White\",\" White\",\" White\",\" White\",\" White\",\" White\",\" White\",\" White\",\" White\",\" White\",\" White\",\" White\",\" White\",\" White\",\" White\",\" White\",\" White\",\" White\",\" White\",\" White\",\" White\",\" White\",\" White\",\" White\",\" White\",\" White\",\" White\",\" Asian-Pac-Islander\",\" White\",\" Black\",\" White\",\" White\",\" White\",\" White\",\" White\",\" Asian-Pac-Islander\",\" White\",\" White\",\" White\",\" White\",\" White\",\" White\",\" Black\",\" White\",\" White\",\" White\",\" White\",\" White\",\" White\",\" White\",\" White\",\" White\",\" White\",\" White\",\" White\",\" White\",\" Asian-Pac-Islander\",\" White\",\" White\",\" White\",\" White\",\" White\",\" White\",\" White\",\" White\",\" White\",\" White\",\" White\",\" White\",\" White\",\" White\",\" White\",\" White\",\" White\",\" White\",\" White\",\" White\",\" White\",\" White\",\" White\",\" White\",\" White\",\" White\",\" White\",\" White\",\" White\",\" White\",\" White\",\" Black\",\" Black\",\" White\",\" White\",\" White\",\" White\",\" White\",\" White\",\" White\",\" White\",\" White\",\" White\",\" White\",\" White\",\" Black\",\" Black\",\" White\",\" White\",\" White\",\" White\",\" White\",\" Other\",\" White\",\" White\",\" White\",\" White\",\" White\",\" White\",\" White\",\" White\",\" Other\",\" White\",\" White\",\" White\",\" White\",\" White\",\" Black\",\" White\",\" White\",\" Black\",\" White\",\" White\",\" White\",\" Black\",\" Black\",\" White\",\" White\",\" Black\",\" Asian-Pac-Islander\",\" White\",\" White\",\" White\",\" White\",\" White\",\" White\",\" White\",\" White\",\" White\",\" White\",\" White\",\" White\",\" White\",\" White\",\" White\",\" White\",\" White\",\" White\",\" Black\",\" White\",\" White\",\" White\",\" Asian-Pac-Islander\",\" White\",\" White\",\" White\",\" White\",\" White\",\" White\",\" White\",\" Black\",\" White\",\" White\",\" White\",\" White\",\" White\",\" White\",\" White\",\" White\",\" Black\",\" White\",\" White\",\" Black\",\" White\",\" White\",\" White\",\" Black\",\" White\",\" White\",\" White\",\" White\",\" White\",\" White\",\" White\",\" White\",\" White\",\" White\",\" White\",\" White\",\" White\",\" White\",\" White\",\" White\",\" White\",\" White\",\" White\",\" White\",\" White\",\" White\",\" White\",\" Asian-Pac-Islander\",\" White\",\" White\",\" White\",\" White\",\" White\",\" White\",\" White\",\" White\",\" White\",\" White\",\" White\",\" White\",\" White\",\" Black\",\" White\",\" White\",\" White\",\" White\",\" White\",\" White\",\" White\",\" White\",\" Black\",\" White\",\" Black\",\" White\",\" White\",\" Black\",\" White\",\" White\",\" White\",\" White\",\" White\",\" Asian-Pac-Islander\",\" White\",\" Other\",\" White\",\" White\",\" White\",\" White\",\" White\",\" White\",\" Black\",\" Asian-Pac-Islander\",\" White\",\" White\",\" White\",\" White\",\" White\",\" White\",\" White\",\" White\",\" White\",\" White\",\" Black\",\" Black\",\" White\",\" White\",\" White\",\" White\",\" White\",\" Black\",\" White\",\" Black\",\" White\",\" White\",\" White\",\" White\",\" White\",\" White\",\" White\",\" White\",\" White\",\" White\",\" White\",\" White\",\" White\",\" Black\",\" Asian-Pac-Islander\",\" White\",\" White\",\" White\",\" White\",\" White\",\" Black\",\" Asian-Pac-Islander\",\" Black\",\" White\",\" White\",\" Asian-Pac-Islander\",\" White\",\" White\",\" White\",\" White\",\" Asian-Pac-Islander\",\" White\",\" White\",\" White\",\" White\",\" White\",\" White\",\" White\",\" White\",\" White\",\" White\",\" White\",\" White\",\" White\",\" Amer-Indian-Eskimo\",\" White\",\" White\",\" White\",\" White\",\" White\",\" White\",\" White\",\" White\",\" White\",\" Black\",\" White\",\" White\",\" White\",\" White\",\" White\",\" White\",\" White\",\" White\",\" White\",\" White\",\" White\",\" White\",\" Asian-Pac-Islander\",\" White\",\" Black\",\" Black\",\" White\",\" White\",\" White\",\" White\",\" White\",\" White\",\" Asian-Pac-Islander\",\" White\",\" Other\",\" White\",\" White\",\" White\",\" White\",\" White\",\" White\",\" White\",\" White\",\" Black\",\" White\",\" White\",\" White\",\" White\",\" White\",\" White\",\" White\",\" White\",\" White\",\" White\",\" White\",\" White\",\" White\",\" White\",\" White\",\" Amer-Indian-Eskimo\",\" White\",\" White\",\" Asian-Pac-Islander\",\" White\",\" White\",\" Amer-Indian-Eskimo\",\" White\",\" White\",\" White\",\" White\",\" Black\",\" White\",\" White\",\" White\",\" White\",\" White\",\" White\",\" White\",\" White\",\" White\",\" White\",\" White\",\" White\",\" White\",\" White\",\" White\",\" White\",\" White\",\" Other\",\" White\",\" White\",\" White\",\" White\",\" White\",\" White\",\" White\",\" White\",\" White\",\" White\",\" Black\",\" White\",\" White\",\" White\",\" White\",\" White\",\" White\",\" White\",\" White\",\" White\",\" White\",\" White\",\" White\",\" White\",\" White\",\" Black\",\" White\",\" White\",\" Black\",\" White\",\" White\",\" White\",\" White\",\" White\",\" White\",\" White\",\" White\",\" White\",\" White\",\" White\",\" Black\",\" White\",\" White\",\" White\",\" White\",\" White\",\" White\",\" White\",\" White\",\" White\",\" White\",\" White\",\" White\",\" White\",\" White\",\" White\",\" White\",\" White\",\" White\",\" White\",\" White\",\" White\",\" White\",\" White\",\" White\",\" White\",\" White\",\" Black\",\" White\",\" White\",\" White\",\" White\",\" Black\",\" White\",\" White\",\" White\",\" White\",\" White\",\" White\",\" White\",\" White\",\" White\",\" White\",\" Black\",\" White\",\" Black\",\" White\",\" White\",\" White\",\" White\",\" White\",\" White\",\" White\",\" White\",\" White\",\" Black\",\" White\",\" Black\",\" White\",\" White\",\" White\",\" White\",\" White\",\" Asian-Pac-Islander\",\" White\",\" White\",\" White\",\" White\",\" White\",\" Amer-Indian-Eskimo\",\" White\",\" White\",\" White\",\" Black\",\" White\",\" White\",\" White\",\" White\",\" White\",\" White\",\" White\",\" White\",\" White\",\" White\",\" White\",\" Black\",\" White\",\" White\",\" White\",\" White\",\" White\",\" Black\",\" White\",\" Black\",\" White\",\" Black\",\" White\",\" White\",\" White\",\" White\",\" White\",\" White\",\" White\",\" White\",\" White\",\" White\",\" White\",\" White\",\" White\",\" White\",\" White\",\" Amer-Indian-Eskimo\",\" White\",\" White\",\" White\",\" Black\",\" White\",\" White\",\" White\",\" White\",\" White\",\" White\",\" Black\",\" White\",\" White\",\" White\",\" White\",\" White\",\" White\",\" White\",\" Black\",\" White\",\" White\",\" White\",\" White\",\" White\",\" White\",\" Asian-Pac-Islander\",\" White\",\" White\",\" White\",\" White\",\" White\",\" White\",\" White\",\" White\",\" White\",\" White\",\" White\",\" White\",\" White\",\" White\",\" White\",\" Black\",\" White\",\" White\",\" White\",\" White\",\" White\",\" White\",\" White\",\" Black\",\" White\",\" White\",\" White\",\" White\",\" Black\",\" White\",\" White\",\" Asian-Pac-Islander\",\" White\",\" Black\",\" Black\",\" White\",\" White\",\" White\",\" White\",\" White\",\" White\",\" White\",\" White\",\" White\",\" White\",\" White\",\" White\",\" White\",\" White\",\" White\",\" White\",\" White\",\" White\",\" White\",\" Black\",\" White\",\" White\",\" Asian-Pac-Islander\",\" Black\",\" White\",\" White\",\" White\",\" White\",\" White\",\" White\",\" White\",\" White\",\" Black\",\" White\",\" White\",\" Asian-Pac-Islander\",\" White\",\" Black\",\" White\",\" White\",\" White\",\" White\",\" Black\",\" White\",\" Black\",\" White\",\" Other\",\" White\",\" White\",\" White\",\" White\",\" White\",\" White\",\" Black\",\" White\",\" White\",\" White\",\" White\",\" White\",\" White\",\" White\",\" White\",\" White\",\" White\",\" White\",\" White\",\" White\",\" White\",\" White\",\" White\",\" White\",\" White\",\" White\",\" Black\",\" White\",\" White\",\" White\",\" White\",\" White\",\" White\",\" White\",\" White\",\" White\",\" White\",\" White\",\" White\",\" Asian-Pac-Islander\",\" White\",\" White\",\" White\",\" White\",\" White\",\" White\",\" Black\",\" Black\",\" White\",\" White\",\" White\",\" White\",\" White\",\" White\",\" Black\",\" White\",\" White\",\" White\",\" Asian-Pac-Islander\",\" White\",\" White\",\" White\",\" White\",\" White\",\" White\",\" White\",\" White\",\" White\",\" White\",\" Asian-Pac-Islander\",\" White\",\" White\",\" White\",\" White\",\" White\",\" White\",\" White\",\" Other\",\" White\",\" White\",\" Black\",\" White\",\" Black\",\" White\",\" White\",\" White\",\" White\",\" White\",\" White\",\" White\",\" White\",\" White\",\" White\",\" White\",\" White\",\" White\",\" Asian-Pac-Islander\",\" White\",\" White\",\" White\",\" White\",\" White\",\" White\",\" White\",\" White\",\" White\",\" White\",\" White\",\" White\",\" Black\",\" White\",\" White\",\" White\",\" White\",\" White\",\" White\",\" Black\",\" White\",\" White\",\" White\",\" White\",\" White\",\" White\",\" White\",\" White\",\" White\",\" White\",\" White\",\" White\",\" White\",\" White\",\" White\",\" White\",\" Asian-Pac-Islander\",\" White\",\" White\",\" White\",\" White\",\" White\",\" White\",\" Black\",\" White\",\" White\",\" White\",\" White\",\" White\",\" White\",\" White\",\" White\",\" White\",\" White\",\" White\",\" White\",\" White\",\" White\",\" White\",\" White\",\" White\",\" White\",\" White\",\" White\",\" White\",\" White\",\" White\",\" Black\",\" White\",\" White\",\" White\",\" Black\",\" White\",\" White\",\" White\",\" White\",\" White\",\" White\",\" White\",\" White\",\" Black\",\" White\",\" White\",\" White\",\" White\",\" White\",\" White\",\" White\",\" White\",\" White\",\" White\",\" White\",\" White\",\" White\",\" White\",\" White\",\" White\",\" Asian-Pac-Islander\",\" White\",\" White\",\" White\",\" White\",\" White\",\" White\",\" White\",\" White\",\" White\",\" White\",\" Black\",\" White\",\" White\",\" Black\",\" White\",\" Black\",\" White\",\" White\",\" White\",\" White\",\" White\",\" White\",\" Black\",\" White\",\" White\",\" White\",\" White\",\" White\",\" White\",\" White\",\" White\",\" White\",\" White\",\" White\",\" White\",\" White\",\" Amer-Indian-Eskimo\",\" White\",\" White\",\" White\",\" White\",\" White\",\" White\",\" White\",\" Black\",\" White\",\" White\",\" White\",\" White\",\" White\",\" White\",\" White\",\" White\",\" White\",\" Asian-Pac-Islander\",\" White\",\" Black\",\" White\",\" White\",\" White\",\" White\",\" White\",\" White\",\" White\",\" White\",\" Black\",\" White\",\" Black\",\" White\",\" White\",\" White\",\" White\",\" White\",\" White\",\" White\",\" Black\",\" Other\",\" White\",\" White\",\" White\",\" White\",\" White\",\" White\",\" White\",\" White\",\" White\",\" White\",\" White\",\" White\",\" White\",\" White\",\" White\",\" Black\",\" White\",\" White\",\" White\",\" White\",\" White\",\" White\",\" White\",\" Other\",\" White\",\" White\",\" White\",\" White\",\" White\",\" White\",\" White\",\" White\",\" White\",\" White\",\" White\",\" Black\",\" White\",\" White\",\" White\",\" White\",\" White\",\" White\",\" White\",\" White\",\" White\",\" White\",\" White\",\" White\",\" White\",\" Black\",\" White\",\" White\",\" White\",\" White\",\" White\",\" White\",\" White\",\" White\",\" White\",\" White\",\" White\",\" Black\",\" White\",\" White\",\" White\",\" White\",\" White\",\" White\",\" White\",\" White\",\" White\",\" White\",\" White\",\" White\",\" White\",\" White\",\" White\",\" White\",\" White\",\" White\",\" White\",\" White\",\" Black\",\" White\",\" White\",\" White\",\" White\",\" White\",\" White\",\" White\",\" White\",\" White\",\" White\",\" White\",\" White\",\" White\",\" White\",\" White\",\" White\",\" White\",\" Black\",\" White\",\" White\",\" White\",\" White\",\" White\",\" White\",\" White\",\" White\",\" White\",\" White\",\" White\",\" White\",\" White\",\" White\",\" White\",\" White\",\" White\",\" Black\",\" White\",\" White\",\" White\",\" White\",\" Amer-Indian-Eskimo\",\" Black\",\" White\",\" White\",\" White\",\" White\",\" White\",\" White\",\" White\",\" White\",\" Asian-Pac-Islander\",\" Asian-Pac-Islander\",\" White\",\" Other\",\" White\",\" White\",\" White\",\" White\",\" White\",\" White\",\" White\",\" White\",\" Amer-Indian-Eskimo\",\" White\",\" White\",\" White\",\" White\",\" Black\",\" White\",\" White\",\" White\",\" White\",\" Amer-Indian-Eskimo\",\" White\",\" White\",\" White\",\" White\",\" Black\",\" White\",\" Asian-Pac-Islander\",\" Asian-Pac-Islander\",\" White\",\" White\",\" White\",\" White\",\" White\",\" White\",\" White\",\" White\",\" White\",\" White\",\" White\",\" White\",\" White\",\" White\",\" Black\",\" White\",\" White\",\" White\",\" White\",\" White\",\" Asian-Pac-Islander\",\" Asian-Pac-Islander\",\" White\",\" Asian-Pac-Islander\",\" White\",\" White\",\" White\",\" Black\",\" White\",\" White\",\" White\",\" White\",\" White\",\" White\",\" White\",\" White\",\" White\",\" White\",\" Black\",\" White\",\" Black\",\" White\",\" White\",\" White\",\" Black\",\" White\",\" White\",\" White\",\" White\",\" Other\",\" White\",\" White\",\" White\",\" White\",\" White\",\" White\",\" White\",\" White\",\" White\",\" Black\",\" White\",\" White\",\" White\",\" White\",\" White\",\" White\",\" White\",\" White\",\" Other\",\" White\",\" White\",\" White\",\" Other\",\" White\",\" White\",\" White\",\" White\",\" White\",\" Asian-Pac-Islander\",\" White\",\" White\",\" White\",\" White\",\" White\",\" White\",\" White\",\" White\",\" Asian-Pac-Islander\",\" White\",\" White\",\" White\",\" White\",\" Black\",\" White\",\" White\",\" White\",\" White\",\" White\",\" White\",\" White\",\" White\",\" Black\",\" White\",\" White\",\" White\",\" White\",\" White\",\" White\",\" White\",\" White\",\" White\",\" Black\",\" White\",\" White\",\" White\",\" White\",\" White\",\" Asian-Pac-Islander\",\" Asian-Pac-Islander\",\" Black\",\" White\",\" White\",\" White\",\" White\",\" White\",\" White\",\" White\",\" White\",\" White\",\" White\",\" White\",\" White\",\" White\",\" White\",\" White\",\" White\",\" White\",\" White\",\" White\",\" White\",\" Other\",\" Black\",\" Asian-Pac-Islander\",\" White\",\" White\",\" White\",\" White\",\" White\",\" White\",\" White\",\" White\",\" White\",\" White\",\" White\",\" White\",\" White\",\" White\",\" White\",\" White\",\" White\",\" White\",\" Black\",\" White\",\" White\",\" White\",\" White\",\" White\",\" Black\",\" White\",\" White\",\" Black\",\" White\",\" Black\",\" White\",\" Black\",\" White\",\" White\",\" White\",\" White\",\" White\",\" White\",\" White\",\" White\",\" White\",\" White\",\" White\",\" White\",\" White\",\" White\",\" White\",\" Other\",\" White\",\" Asian-Pac-Islander\",\" Black\",\" Black\",\" White\",\" White\",\" Other\",\" White\",\" White\",\" White\",\" White\",\" White\",\" White\",\" White\",\" White\",\" Black\",\" White\",\" White\",\" White\",\" White\",\" White\",\" Black\",\" White\",\" White\",\" White\",\" White\",\" White\",\" White\",\" White\",\" White\",\" White\",\" White\",\" White\",\" White\",\" White\",\" White\",\" White\",\" White\",\" White\",\" White\",\" White\",\" White\",\" White\",\" White\",\" White\",\" White\",\" White\",\" Black\",\" White\",\" White\",\" White\",\" White\",\" Other\",\" White\",\" White\",\" White\",\" Black\",\" Black\",\" White\",\" White\",\" White\",\" White\",\" Asian-Pac-Islander\",\" White\",\" White\",\" White\",\" White\",\" White\",\" White\",\" White\",\" White\",\" White\",\" White\",\" White\",\" White\",\" White\",\" White\",\" White\",\" White\",\" White\",\" White\",\" Asian-Pac-Islander\",\" White\",\" White\",\" White\",\" Black\",\" White\",\" White\",\" White\",\" Other\",\" White\",\" White\",\" White\",\" White\",\" White\",\" White\",\" White\",\" White\",\" White\",\" White\",\" White\",\" White\",\" White\",\" White\",\" Black\",\" White\",\" White\",\" White\",\" White\",\" White\",\" White\",\" White\",\" White\",\" White\",\" White\",\" White\",\" White\",\" White\",\" White\",\" White\",\" White\",\" White\",\" White\",\" White\",\" White\",\" White\",\" White\",\" White\",\" White\",\" White\",\" Amer-Indian-Eskimo\",\" White\",\" White\",\" White\",\" White\",\" White\",\" White\",\" White\",\" White\",\" Black\",\" White\",\" White\",\" White\",\" White\",\" White\",\" White\",\" White\",\" Black\",\" White\",\" Asian-Pac-Islander\",\" White\",\" White\",\" White\",\" White\",\" White\",\" White\",\" White\",\" White\",\" White\",\" White\",\" Amer-Indian-Eskimo\",\" White\",\" White\",\" White\",\" Black\",\" White\",\" White\",\" White\",\" White\",\" White\",\" White\",\" White\",\" White\",\" White\",\" White\",\" Black\",\" White\",\" White\",\" Black\",\" White\",\" White\",\" White\",\" Black\",\" Black\",\" White\",\" White\",\" Other\",\" White\",\" White\",\" White\",\" White\",\" White\",\" White\",\" White\",\" White\",\" White\",\" White\",\" White\",\" White\",\" White\",\" Amer-Indian-Eskimo\",\" White\",\" White\",\" White\",\" White\",\" White\",\" White\",\" White\",\" White\",\" White\",\" White\",\" Other\",\" White\",\" White\",\" White\",\" White\",\" White\",\" White\",\" White\",\" White\",\" Black\",\" White\",\" White\",\" White\",\" White\",\" White\",\" White\",\" White\",\" White\",\" White\",\" White\",\" White\",\" White\",\" White\",\" Black\",\" White\",\" White\",\" White\",\" White\",\" White\",\" White\",\" White\",\" White\",\" White\",\" White\",\" White\",\" White\",\" White\",\" Black\",\" White\",\" Black\",\" White\",\" Asian-Pac-Islander\",\" White\",\" White\",\" White\",\" White\",\" White\",\" White\",\" White\",\" Black\",\" White\",\" White\",\" White\",\" Black\",\" White\",\" White\",\" White\",\" White\",\" White\",\" White\",\" White\",\" White\",\" White\",\" White\",\" White\",\" White\",\" White\",\" White\",\" White\",\" Other\",\" White\",\" White\",\" White\",\" White\",\" White\",\" White\",\" Asian-Pac-Islander\",\" White\",\" Black\",\" White\",\" White\",\" White\",\" White\",\" Black\",\" White\",\" White\",\" White\",\" White\",\" White\",\" White\",\" White\",\" White\",\" White\",\" White\",\" Asian-Pac-Islander\",\" White\",\" White\",\" White\",\" White\",\" White\",\" White\",\" White\",\" White\",\" Black\",\" White\",\" White\",\" White\",\" White\",\" White\",\" White\",\" White\",\" White\",\" White\",\" White\",\" White\",\" White\",\" White\",\" White\",\" White\",\" White\",\" White\",\" White\",\" White\",\" White\",\" White\",\" White\",\" White\",\" Asian-Pac-Islander\",\" White\",\" White\",\" White\",\" White\",\" White\",\" Black\",\" White\",\" White\",\" White\",\" White\",\" White\",\" White\",\" White\",\" White\",\" White\",\" White\",\" White\",\" White\",\" White\",\" Black\",\" White\",\" White\",\" White\",\" White\",\" White\",\" White\",\" White\",\" White\",\" White\",\" White\",\" White\",\" White\",\" White\",\" White\",\" White\",\" White\",\" Asian-Pac-Islander\",\" White\",\" White\",\" White\",\" White\",\" White\",\" White\",\" White\",\" White\",\" White\",\" White\",\" White\",\" White\",\" Black\",\" White\",\" Black\",\" Asian-Pac-Islander\",\" Black\",\" White\",\" White\",\" White\",\" White\",\" Asian-Pac-Islander\",\" White\",\" White\",\" White\",\" White\",\" White\",\" White\",\" Asian-Pac-Islander\",\" White\",\" White\",\" White\",\" White\",\" White\",\" White\",\" White\",\" White\",\" Black\",\" White\",\" White\",\" White\",\" White\",\" White\",\" Black\",\" White\",\" White\",\" White\",\" White\",\" White\",\" White\",\" White\",\" White\",\" White\",\" White\",\" White\",\" White\",\" White\",\" White\",\" White\",\" White\",\" White\",\" White\",\" White\",\" White\",\" White\",\" White\",\" White\",\" Black\",\" White\",\" White\",\" White\",\" White\",\" White\",\" White\",\" White\",\" White\",\" White\",\" White\",\" White\",\" White\",\" White\",\" White\",\" White\",\" Asian-Pac-Islander\",\" White\",\" White\",\" White\",\" White\",\" White\",\" White\",\" White\",\" Asian-Pac-Islander\",\" White\",\" White\",\" White\",\" Asian-Pac-Islander\",\" White\",\" White\",\" Black\",\" White\",\" White\",\" Other\",\" White\",\" White\",\" White\",\" White\",\" Black\",\" White\",\" Asian-Pac-Islander\",\" White\",\" White\",\" Asian-Pac-Islander\",\" Other\",\" White\",\" White\",\" White\",\" White\",\" White\",\" White\",\" White\",\" White\",\" White\",\" White\",\" Black\",\" White\",\" White\",\" Asian-Pac-Islander\",\" White\",\" White\",\" White\",\" Black\",\" White\",\" White\",\" White\",\" White\",\" White\",\" White\",\" White\",\" Asian-Pac-Islander\",\" Black\",\" White\",\" Black\",\" White\",\" White\",\" White\",\" White\",\" Black\",\" White\",\" Black\",\" Black\",\" White\",\" Black\",\" White\",\" Black\",\" White\",\" White\",\" White\",\" Black\",\" White\",\" White\",\" White\",\" White\",\" White\",\" White\",\" White\",\" Black\",\" White\",\" White\",\" White\",\" White\",\" White\",\" White\",\" White\",\" White\",\" White\",\" White\",\" White\",\" White\",\" White\",\" White\",\" Black\",\" Black\",\" White\",\" White\",\" Asian-Pac-Islander\",\" White\",\" White\",\" White\",\" White\",\" White\",\" White\",\" White\",\" Amer-Indian-Eskimo\",\" Black\",\" White\",\" White\",\" White\",\" White\",\" White\",\" White\",\" White\",\" White\",\" White\",\" White\",\" White\",\" White\",\" Black\",\" White\",\" White\",\" White\",\" White\",\" White\",\" White\",\" White\",\" White\",\" White\",\" Other\",\" Black\",\" White\",\" White\",\" White\",\" White\",\" White\",\" White\",\" White\",\" White\",\" White\",\" White\",\" White\",\" White\",\" White\",\" White\",\" White\",\" White\",\" White\",\" Asian-Pac-Islander\",\" Asian-Pac-Islander\",\" White\",\" White\",\" White\",\" White\",\" White\",\" White\",\" White\",\" White\",\" White\",\" White\",\" White\",\" White\",\" White\",\" White\",\" White\",\" Amer-Indian-Eskimo\",\" White\",\" Black\",\" Amer-Indian-Eskimo\",\" White\",\" White\",\" Black\",\" White\",\" Black\",\" White\",\" White\",\" White\",\" White\",\" White\",\" White\",\" White\",\" White\",\" Asian-Pac-Islander\",\" White\",\" White\",\" White\",\" White\",\" White\",\" White\",\" White\",\" White\",\" White\",\" White\",\" White\",\" White\",\" White\",\" White\",\" White\",\" White\",\" White\",\" Black\",\" White\",\" White\",\" White\",\" White\",\" White\",\" Asian-Pac-Islander\",\" White\",\" White\",\" White\",\" Other\",\" White\",\" Black\",\" White\",\" White\",\" White\",\" White\",\" White\",\" White\",\" Black\",\" White\",\" White\",\" White\",\" White\",\" White\",\" White\",\" White\",\" White\",\" White\",\" White\",\" White\",\" White\",\" White\",\" White\",\" White\",\" White\",\" White\",\" White\",\" White\",\" White\",\" White\",\" White\",\" White\",\" White\",\" White\",\" White\",\" White\",\" White\",\" White\",\" White\",\" Black\",\" Asian-Pac-Islander\",\" White\",\" White\",\" White\",\" Black\",\" White\",\" White\",\" White\",\" White\",\" White\",\" Black\",\" White\",\" White\",\" White\",\" White\",\" White\",\" White\",\" White\",\" White\",\" White\",\" Black\",\" White\",\" Black\",\" White\",\" White\",\" White\",\" White\",\" White\",\" Black\",\" White\",\" White\",\" Asian-Pac-Islander\",\" White\",\" White\",\" White\",\" White\",\" White\",\" White\",\" White\",\" White\",\" White\",\" White\",\" White\",\" White\",\" White\",\" Amer-Indian-Eskimo\",\" White\",\" White\",\" White\",\" White\",\" White\",\" White\",\" White\",\" White\",\" White\",\" Black\",\" Asian-Pac-Islander\",\" White\",\" Black\",\" White\",\" White\",\" White\",\" White\",\" Other\",\" White\",\" White\",\" Black\",\" Amer-Indian-Eskimo\",\" Asian-Pac-Islander\",\" Black\",\" White\",\" White\",\" White\",\" White\",\" White\",\" White\",\" Black\",\" White\",\" White\",\" Asian-Pac-Islander\",\" Asian-Pac-Islander\",\" White\",\" White\",\" White\",\" White\",\" Asian-Pac-Islander\",\" White\",\" White\",\" White\",\" Other\",\" White\",\" White\",\" Black\",\" White\",\" White\",\" Black\",\" White\",\" White\",\" White\",\" White\",\" Black\",\" White\",\" White\",\" Black\",\" White\",\" White\",\" White\",\" White\",\" White\",\" White\",\" White\",\" White\",\" White\",\" White\",\" White\",\" White\",\" White\",\" White\",\" White\",\" White\",\" White\",\" White\",\" White\",\" White\",\" White\",\" White\",\" White\",\" White\",\" White\",\" White\",\" White\",\" Asian-Pac-Islander\",\" White\",\" White\",\" White\",\" White\",\" White\",\" White\",\" White\",\" White\",\" Black\",\" White\",\" White\",\" White\",\" White\",\" White\",\" White\",\" White\",\" White\",\" White\",\" White\",\" White\",\" White\",\" White\",\" White\",\" White\",\" White\",\" White\",\" White\",\" Asian-Pac-Islander\",\" White\",\" White\",\" Black\",\" White\",\" White\",\" White\",\" White\",\" White\",\" White\",\" White\",\" Black\",\" Black\",\" Asian-Pac-Islander\",\" White\",\" White\",\" White\",\" White\",\" Asian-Pac-Islander\",\" White\",\" Black\",\" White\",\" White\",\" White\",\" White\",\" White\",\" Amer-Indian-Eskimo\",\" White\",\" White\",\" White\",\" White\",\" White\",\" White\",\" Black\",\" White\",\" White\",\" White\",\" White\",\" White\",\" White\",\" White\",\" White\",\" White\",\" White\",\" White\",\" Other\",\" White\",\" White\",\" White\",\" White\",\" White\",\" White\",\" White\",\" Black\",\" White\",\" White\",\" White\",\" White\",\" Black\",\" White\",\" White\",\" White\",\" White\",\" White\",\" White\",\" White\",\" White\",\" White\",\" Black\",\" White\",\" White\",\" White\",\" White\",\" Amer-Indian-Eskimo\",\" White\",\" White\",\" White\",\" White\",\" White\",\" White\",\" White\",\" White\",\" Black\",\" White\",\" White\",\" White\",\" White\",\" Asian-Pac-Islander\",\" Asian-Pac-Islander\",\" White\",\" White\",\" White\",\" White\",\" White\",\" Amer-Indian-Eskimo\",\" White\",\" White\",\" White\",\" White\",\" White\",\" White\",\" White\",\" White\",\" White\",\" White\",\" White\",\" White\",\" White\",\" White\",\" White\",\" Black\",\" White\",\" White\",\" White\",\" White\",\" White\",\" White\",\" White\",\" White\",\" White\",\" White\",\" White\",\" White\",\" White\",\" White\",\" White\",\" White\",\" Black\",\" White\",\" White\",\" White\",\" White\",\" White\",\" White\",\" White\",\" White\",\" White\",\" Black\",\" Black\",\" White\",\" White\",\" White\",\" White\",\" White\",\" White\",\" Black\",\" White\",\" White\",\" White\",\" Black\",\" Black\",\" White\",\" Asian-Pac-Islander\",\" Other\",\" White\",\" White\",\" White\",\" White\",\" White\",\" White\",\" White\",\" White\",\" White\",\" White\",\" White\",\" White\",\" White\",\" White\",\" Asian-Pac-Islander\",\" White\",\" White\",\" White\",\" White\",\" White\",\" Black\",\" White\",\" White\",\" White\",\" White\",\" White\",\" White\",\" White\",\" White\",\" White\",\" White\",\" White\",\" White\",\" White\",\" White\",\" White\",\" White\",\" White\",\" White\",\" White\",\" White\",\" White\",\" White\",\" White\",\" White\",\" White\",\" White\",\" White\",\" White\",\" White\",\" White\",\" White\",\" White\",\" White\",\" White\",\" White\",\" White\",\" White\",\" Black\",\" Amer-Indian-Eskimo\",\" White\",\" Black\",\" White\",\" White\",\" White\",\" White\",\" White\",\" White\",\" White\",\" White\",\" White\",\" Black\",\" White\",\" White\",\" White\",\" White\",\" White\",\" White\",\" White\",\" White\",\" White\",\" White\",\" White\",\" Black\",\" White\",\" White\",\" White\",\" White\",\" White\",\" White\",\" White\",\" White\",\" White\",\" White\",\" White\",\" Asian-Pac-Islander\",\" White\",\" White\",\" White\",\" White\",\" White\",\" White\",\" White\",\" White\",\" Black\",\" White\",\" White\",\" White\",\" White\",\" White\",\" White\",\" White\",\" White\",\" White\",\" White\",\" Asian-Pac-Islander\",\" White\",\" White\",\" White\",\" White\",\" White\",\" White\",\" Black\",\" White\",\" White\",\" Asian-Pac-Islander\",\" Asian-Pac-Islander\",\" White\",\" White\",\" White\",\" White\",\" White\",\" White\",\" White\",\" White\",\" White\",\" White\",\" White\",\" White\",\" White\",\" Asian-Pac-Islander\",\" White\",\" White\",\" White\",\" White\",\" White\",\" White\",\" White\",\" White\",\" White\",\" White\",\" White\",\" White\",\" White\",\" White\",\" White\",\" White\",\" Black\",\" Black\",\" White\",\" White\",\" White\",\" White\",\" Black\",\" White\",\" White\",\" White\",\" White\",\" White\",\" White\",\" White\",\" White\",\" White\",\" White\",\" White\",\" White\",\" Amer-Indian-Eskimo\",\" White\",\" White\",\" White\",\" White\",\" White\",\" White\",\" Asian-Pac-Islander\",\" White\",\" White\",\" White\",\" White\",\" Black\",\" White\",\" White\",\" White\",\" White\",\" White\",\" White\",\" White\",\" White\",\" White\",\" Black\",\" White\",\" White\",\" White\",\" White\",\" Asian-Pac-Islander\",\" White\",\" White\",\" White\",\" White\",\" White\",\" White\",\" White\",\" White\",\" White\",\" White\",\" White\",\" White\",\" White\",\" White\",\" White\",\" White\",\" White\",\" White\",\" White\",\" White\",\" White\",\" Black\",\" White\",\" White\",\" White\",\" White\",\" White\",\" White\",\" White\",\" White\",\" White\",\" White\",\" White\",\" White\",\" White\",\" White\",\" White\",\" White\",\" Asian-Pac-Islander\",\" White\",\" White\",\" Black\",\" White\",\" Amer-Indian-Eskimo\",\" Asian-Pac-Islander\",\" White\",\" Black\",\" White\",\" White\",\" White\",\" White\",\" White\",\" White\",\" White\",\" White\",\" White\",\" White\",\" White\",\" Black\",\" White\",\" White\",\" White\",\" White\",\" White\",\" White\",\" White\",\" White\",\" White\",\" Black\",\" White\",\" White\",\" White\",\" White\",\" White\",\" White\",\" White\",\" White\",\" Asian-Pac-Islander\",\" White\",\" White\",\" White\",\" Asian-Pac-Islander\",\" White\",\" White\",\" White\",\" White\",\" White\",\" Asian-Pac-Islander\",\" White\",\" White\",\" White\",\" White\",\" White\",\" White\",\" White\",\" White\",\" White\",\" White\",\" White\",\" White\",\" White\",\" White\",\" Asian-Pac-Islander\",\" White\",\" Black\",\" White\",\" White\",\" Black\",\" White\",\" White\",\" White\",\" Asian-Pac-Islander\",\" White\",\" White\",\" White\",\" White\",\" White\",\" White\",\" White\",\" White\",\" White\",\" White\",\" Black\",\" Black\",\" White\",\" Black\",\" White\",\" White\",\" Black\",\" White\",\" White\",\" White\",\" White\",\" White\",\" White\",\" White\",\" White\",\" White\",\" Black\",\" White\",\" White\",\" White\",\" White\",\" White\",\" Black\",\" White\",\" White\",\" White\",\" White\",\" White\",\" White\",\" White\",\" White\",\" Black\",\" Black\",\" White\",\" White\",\" White\",\" White\",\" White\",\" White\",\" White\",\" White\",\" White\",\" White\",\" Black\",\" Black\",\" White\",\" White\",\" White\",\" White\",\" White\",\" White\",\" White\",\" White\",\" White\",\" White\",\" White\",\" White\",\" White\",\" White\",\" White\",\" White\",\" Asian-Pac-Islander\",\" White\",\" White\",\" White\",\" White\",\" Black\",\" White\",\" White\",\" White\",\" White\",\" White\",\" White\",\" White\",\" White\",\" White\",\" White\",\" White\",\" White\",\" White\",\" White\",\" White\",\" White\",\" White\",\" White\",\" White\",\" White\",\" White\",\" White\",\" White\",\" White\",\" White\",\" White\",\" White\",\" White\",\" White\",\" White\",\" White\",\" White\",\" White\",\" White\",\" White\",\" White\",\" White\",\" White\",\" White\",\" White\",\" White\",\" White\",\" White\",\" White\",\" White\",\" White\",\" White\",\" White\",\" Asian-Pac-Islander\",\" White\",\" White\",\" White\",\" White\",\" Black\",\" White\",\" White\",\" White\",\" White\",\" White\",\" White\",\" White\",\" White\",\" White\",\" White\",\" White\",\" White\",\" White\",\" White\",\" White\",\" Black\",\" White\",\" White\",\" Black\",\" White\",\" White\",\" Black\",\" Black\",\" White\",\" White\",\" White\",\" White\",\" Black\",\" White\",\" White\",\" White\",\" Asian-Pac-Islander\",\" White\",\" White\",\" Black\",\" White\",\" White\",\" Black\",\" White\",\" White\",\" White\",\" White\",\" White\",\" White\",\" White\",\" White\",\" White\",\" White\",\" White\",\" White\",\" Asian-Pac-Islander\",\" White\",\" White\",\" Black\",\" White\",\" White\",\" White\",\" White\",\" White\",\" White\",\" White\",\" White\",\" White\",\" Black\",\" White\",\" Black\",\" White\",\" White\",\" White\",\" Black\",\" White\",\" Black\",\" White\",\" White\",\" White\",\" White\",\" White\",\" Black\",\" White\",\" White\",\" White\",\" White\",\" White\",\" Black\",\" White\",\" White\",\" White\",\" White\",\" White\",\" White\",\" Asian-Pac-Islander\",\" White\",\" White\",\" White\",\" Asian-Pac-Islander\",\" White\",\" White\",\" White\",\" White\",\" White\",\" White\",\" White\",\" White\",\" White\",\" Black\",\" Black\",\" White\",\" White\",\" White\",\" White\",\" Black\",\" White\",\" White\",\" White\",\" White\",\" White\",\" White\",\" White\",\" White\",\" White\",\" White\",\" Asian-Pac-Islander\",\" White\",\" White\",\" White\",\" White\",\" White\",\" White\",\" White\",\" Black\",\" White\",\" White\",\" White\",\" White\",\" Asian-Pac-Islander\",\" White\",\" White\",\" White\",\" White\",\" Black\",\" White\",\" White\",\" White\",\" White\",\" White\",\" White\",\" White\",\" White\",\" White\",\" White\",\" White\",\" White\",\" White\",\" White\",\" White\",\" White\",\" Black\",\" White\",\" Black\",\" Black\",\" White\",\" White\",\" White\",\" White\",\" White\",\" White\",\" Black\",\" White\",\" White\",\" White\",\" White\",\" Black\",\" Amer-Indian-Eskimo\",\" White\",\" White\",\" White\",\" White\",\" White\",\" White\",\" White\",\" White\",\" White\",\" White\",\" White\",\" Asian-Pac-Islander\",\" White\",\" White\",\" White\",\" White\",\" White\",\" White\",\" White\",\" White\",\" White\",\" White\",\" White\",\" Asian-Pac-Islander\",\" White\",\" White\",\" White\",\" White\",\" White\",\" White\",\" White\",\" White\",\" White\",\" Black\",\" White\",\" White\",\" White\",\" White\",\" Black\",\" White\",\" White\",\" White\",\" White\",\" Black\",\" White\",\" White\",\" White\",\" Other\",\" White\",\" Asian-Pac-Islander\",\" White\",\" White\",\" White\",\" White\",\" White\",\" White\",\" White\",\" Asian-Pac-Islander\",\" White\",\" Asian-Pac-Islander\",\" White\",\" White\",\" White\",\" White\",\" Other\",\" White\",\" White\",\" White\",\" White\",\" Black\",\" Black\",\" White\",\" White\",\" White\",\" White\",\" White\",\" White\",\" White\",\" White\",\" White\",\" White\",\" White\",\" White\",\" White\",\" White\",\" White\",\" White\",\" White\",\" White\",\" White\",\" White\",\" Black\",\" White\",\" White\",\" White\",\" White\",\" White\",\" White\",\" White\",\" White\",\" White\",\" White\",\" White\",\" Black\",\" White\",\" White\",\" White\",\" White\",\" White\",\" White\",\" White\",\" White\",\" White\",\" White\",\" White\",\" Amer-Indian-Eskimo\",\" White\",\" White\",\" White\",\" White\",\" White\",\" White\",\" Asian-Pac-Islander\",\" Black\",\" White\",\" White\",\" Black\",\" White\",\" White\",\" White\",\" White\",\" White\",\" White\",\" White\",\" White\",\" White\",\" White\",\" White\",\" White\",\" White\",\" White\",\" White\",\" White\",\" White\",\" White\",\" White\",\" White\",\" White\",\" Black\",\" Black\",\" White\",\" White\",\" White\",\" White\",\" White\",\" White\",\" Black\",\" White\",\" White\",\" White\",\" White\",\" White\",\" White\",\" White\",\" White\",\" White\",\" White\",\" White\",\" White\",\" White\",\" White\",\" Black\",\" Black\",\" White\",\" White\",\" White\",\" White\",\" White\",\" White\",\" White\",\" White\",\" White\",\" White\",\" White\",\" White\",\" White\",\" White\",\" White\",\" White\",\" White\",\" Black\",\" White\",\" Black\",\" White\",\" Black\",\" White\",\" White\",\" White\",\" White\",\" White\",\" White\",\" Black\",\" White\",\" White\",\" White\",\" White\",\" White\",\" White\",\" White\",\" White\",\" White\",\" White\",\" White\",\" White\",\" White\",\" White\",\" Black\",\" White\",\" White\",\" White\",\" White\",\" White\",\" White\",\" White\",\" White\",\" White\",\" White\",\" White\",\" White\",\" White\",\" White\",\" White\",\" White\",\" White\",\" White\",\" White\",\" White\",\" Black\",\" White\",\" White\",\" White\",\" Black\",\" White\",\" White\",\" White\",\" White\",\" White\",\" White\",\" White\",\" Black\",\" White\",\" White\",\" White\",\" White\",\" White\",\" Black\",\" White\",\" White\",\" White\",\" White\",\" Black\",\" White\",\" Black\",\" White\",\" White\",\" White\",\" White\",\" White\",\" White\",\" White\",\" Amer-Indian-Eskimo\",\" Asian-Pac-Islander\",\" Black\",\" White\",\" White\",\" White\",\" White\",\" White\",\" White\",\" White\",\" White\",\" White\",\" White\",\" White\",\" White\",\" White\",\" White\",\" White\",\" White\",\" White\",\" White\",\" White\",\" White\",\" White\",\" White\",\" Black\",\" White\",\" White\",\" White\",\" White\",\" White\",\" White\",\" White\",\" White\",\" White\",\" White\",\" White\",\" White\",\" White\",\" White\",\" White\",\" White\",\" White\",\" White\",\" White\",\" White\",\" White\",\" White\",\" White\",\" Other\",\" White\",\" White\",\" White\",\" White\",\" White\",\" White\",\" White\",\" White\",\" White\",\" White\",\" White\",\" White\",\" White\",\" White\",\" White\",\" White\",\" White\",\" White\",\" White\",\" White\",\" White\",\" White\",\" White\",\" White\",\" White\",\" White\",\" White\",\" White\",\" Black\",\" Black\",\" White\",\" White\",\" White\",\" White\",\" White\",\" White\",\" Black\",\" White\",\" White\",\" White\",\" White\",\" White\",\" White\",\" White\",\" White\",\" White\",\" White\",\" White\",\" White\",\" White\",\" White\",\" White\",\" White\",\" White\",\" White\",\" White\",\" White\",\" White\",\" White\",\" White\",\" White\",\" White\",\" White\",\" White\",\" White\",\" White\",\" White\",\" White\",\" White\",\" White\",\" White\",\" White\",\" White\",\" White\",\" White\",\" White\",\" White\",\" Black\",\" White\",\" White\",\" White\",\" White\",\" Black\",\" White\",\" White\",\" White\",\" White\",\" White\",\" White\",\" White\",\" White\",\" White\",\" White\",\" White\",\" White\",\" Black\",\" White\",\" White\",\" White\",\" White\",\" White\",\" Asian-Pac-Islander\",\" White\",\" White\",\" Black\",\" White\",\" White\",\" White\",\" Black\",\" White\",\" White\",\" White\",\" White\",\" White\",\" White\",\" White\",\" White\",\" White\",\" White\",\" White\",\" White\",\" White\",\" White\",\" White\",\" White\",\" White\",\" White\",\" White\",\" White\",\" White\",\" Amer-Indian-Eskimo\",\" Black\",\" White\",\" White\",\" White\",\" White\",\" White\",\" White\",\" White\",\" Black\",\" White\",\" White\",\" White\",\" White\",\" White\",\" Black\",\" White\",\" White\",\" White\",\" White\",\" White\",\" White\",\" White\",\" White\",\" White\",\" Asian-Pac-Islander\",\" White\",\" White\",\" White\",\" White\",\" White\",\" White\",\" White\",\" White\",\" Black\",\" White\",\" White\",\" White\",\" Black\",\" Black\",\" White\",\" White\",\" White\",\" White\",\" White\",\" White\",\" White\",\" White\",\" White\",\" White\",\" White\",\" White\",\" White\",\" White\",\" White\",\" White\",\" White\",\" White\",\" White\",\" White\",\" White\",\" White\",\" White\",\" White\",\" White\",\" White\",\" White\",\" White\",\" White\",\" White\",\" White\",\" White\",\" White\",\" White\",\" White\",\" White\",\" Black\",\" White\",\" White\",\" White\",\" White\",\" White\",\" White\",\" White\",\" White\",\" White\",\" White\",\" White\",\" White\",\" Asian-Pac-Islander\",\" Asian-Pac-Islander\",\" White\",\" White\",\" White\",\" White\",\" White\",\" White\",\" Asian-Pac-Islander\",\" White\",\" White\",\" Amer-Indian-Eskimo\",\" White\",\" White\",\" White\",\" Black\",\" White\",\" White\",\" White\",\" Asian-Pac-Islander\",\" White\",\" White\",\" White\",\" White\",\" White\",\" Black\",\" Black\",\" Asian-Pac-Islander\",\" White\",\" White\",\" White\",\" White\",\" Asian-Pac-Islander\",\" White\",\" White\",\" Black\",\" Black\",\" White\",\" White\",\" White\",\" White\",\" White\",\" White\",\" Black\",\" White\",\" Other\",\" White\",\" White\",\" Black\",\" White\",\" White\",\" White\",\" Black\",\" White\",\" White\",\" White\",\" White\",\" White\",\" White\",\" Black\",\" White\",\" White\",\" White\",\" Asian-Pac-Islander\",\" Asian-Pac-Islander\",\" White\",\" White\",\" White\",\" White\",\" Black\",\" White\",\" White\",\" White\",\" White\",\" White\",\" White\",\" White\",\" White\",\" White\",\" White\",\" White\",\" White\",\" White\",\" White\",\" Black\",\" Black\",\" Black\",\" White\",\" White\",\" White\",\" White\",\" White\",\" White\",\" White\",\" Black\",\" White\",\" White\",\" White\",\" White\",\" White\",\" White\",\" White\",\" Asian-Pac-Islander\",\" White\",\" White\",\" White\",\" White\",\" White\",\" White\",\" Black\",\" White\",\" White\",\" Black\",\" White\",\" White\",\" Black\",\" White\",\" Black\",\" White\",\" White\",\" White\",\" White\",\" White\",\" White\",\" Black\",\" White\",\" White\",\" White\",\" White\",\" White\",\" White\",\" White\",\" Asian-Pac-Islander\",\" Black\",\" Black\",\" White\",\" Asian-Pac-Islander\",\" White\",\" White\",\" White\",\" White\",\" White\",\" Black\",\" White\",\" White\",\" White\",\" White\",\" White\",\" White\",\" Asian-Pac-Islander\",\" White\",\" White\",\" White\",\" White\",\" White\",\" White\",\" White\",\" White\",\" White\",\" White\",\" White\",\" White\",\" White\",\" White\",\" White\",\" White\",\" White\",\" White\",\" White\",\" White\",\" White\",\" White\",\" White\",\" White\",\" White\",\" White\",\" White\",\" White\",\" White\",\" Black\",\" White\",\" White\",\" White\",\" White\",\" White\",\" White\",\" Black\",\" White\",\" White\",\" White\",\" White\",\" White\",\" White\",\" White\",\" White\",\" White\",\" White\",\" White\",\" White\",\" White\",\" White\",\" White\",\" White\",\" White\",\" White\",\" White\",\" White\",\" White\",\" White\",\" White\",\" White\",\" White\",\" White\",\" White\",\" Asian-Pac-Islander\",\" White\",\" White\",\" White\",\" White\",\" White\",\" White\",\" White\",\" White\",\" White\",\" White\",\" White\",\" White\",\" White\",\" Black\",\" White\",\" White\",\" Asian-Pac-Islander\",\" White\",\" White\",\" Black\",\" White\",\" White\",\" White\",\" Black\",\" White\",\" White\",\" White\",\" White\",\" White\",\" Black\",\" White\",\" White\",\" White\",\" White\",\" White\",\" White\",\" White\",\" White\",\" White\",\" White\",\" Black\",\" White\",\" Black\",\" White\",\" White\",\" White\",\" White\",\" White\",\" White\",\" Other\",\" White\",\" White\",\" White\",\" Black\",\" Black\",\" Black\",\" White\",\" White\",\" White\",\" White\",\" White\",\" White\",\" White\",\" White\",\" White\",\" White\",\" White\",\" White\",\" White\",\" White\",\" White\",\" White\",\" White\",\" White\",\" White\",\" White\",\" White\",\" White\",\" White\",\" Amer-Indian-Eskimo\",\" Black\",\" White\",\" White\",\" White\",\" White\",\" White\",\" White\",\" White\",\" White\",\" Black\",\" White\",\" Black\",\" White\",\" White\",\" White\",\" White\",\" White\",\" White\",\" White\",\" White\",\" White\",\" White\",\" White\",\" White\",\" Black\",\" White\",\" White\",\" White\",\" White\",\" White\",\" White\",\" White\",\" White\",\" White\",\" Black\",\" White\",\" White\",\" White\",\" Black\",\" Black\",\" White\",\" Black\",\" Asian-Pac-Islander\",\" White\",\" White\",\" Black\",\" White\",\" White\",\" White\",\" White\",\" Asian-Pac-Islander\",\" White\",\" White\",\" White\",\" White\",\" Black\",\" White\",\" Black\",\" White\",\" White\",\" White\",\" White\",\" Black\",\" White\",\" Black\",\" White\",\" White\",\" White\",\" White\",\" White\",\" White\",\" Black\",\" White\",\" White\",\" Black\",\" Black\",\" Black\",\" White\",\" White\",\" White\",\" White\",\" White\",\" White\",\" Black\",\" White\",\" White\",\" White\",\" White\",\" White\",\" White\",\" Asian-Pac-Islander\",\" White\",\" White\",\" White\",\" Other\",\" White\",\" White\",\" White\",\" White\",\" White\",\" White\",\" White\",\" White\",\" White\",\" White\",\" White\",\" White\",\" White\",\" White\",\" White\",\" White\",\" White\",\" White\",\" White\",\" Black\",\" White\",\" White\",\" White\",\" White\",\" White\",\" White\",\" White\",\" White\",\" White\",\" Black\",\" White\",\" White\",\" White\",\" White\",\" White\",\" White\",\" White\",\" White\",\" White\",\" White\",\" White\",\" Black\",\" Black\",\" White\",\" White\",\" White\",\" White\",\" White\",\" White\",\" White\",\" White\",\" White\",\" White\",\" Black\",\" White\",\" Black\",\" White\",\" White\",\" White\",\" White\",\" White\",\" White\",\" White\",\" White\",\" White\",\" White\",\" White\",\" Black\",\" White\",\" White\",\" White\",\" Black\",\" Black\",\" White\",\" White\",\" Black\",\" White\",\" White\",\" White\",\" White\",\" Black\",\" White\",\" White\",\" White\",\" White\",\" Other\",\" White\",\" White\",\" White\",\" White\",\" White\",\" White\",\" Black\",\" White\",\" White\",\" White\",\" Black\",\" White\",\" White\",\" White\",\" White\",\" White\",\" White\",\" White\",\" White\",\" Asian-Pac-Islander\",\" White\",\" Black\",\" White\",\" White\",\" White\",\" White\",\" White\",\" Black\",\" Asian-Pac-Islander\",\" Black\",\" White\",\" White\",\" White\",\" White\",\" White\",\" White\",\" Asian-Pac-Islander\",\" White\",\" White\",\" White\",\" White\",\" Other\",\" White\",\" White\",\" White\",\" White\",\" White\",\" White\",\" White\",\" White\",\" White\",\" White\",\" White\",\" Black\",\" White\",\" White\",\" White\",\" White\",\" Other\",\" White\",\" White\",\" White\",\" White\",\" White\",\" Black\",\" White\",\" White\",\" White\",\" White\",\" White\",\" White\",\" White\",\" White\",\" White\",\" Amer-Indian-Eskimo\",\" White\",\" White\",\" White\",\" Black\",\" White\",\" White\",\" White\",\" White\",\" White\",\" Black\",\" White\",\" White\",\" White\",\" Black\",\" White\",\" White\",\" White\",\" White\",\" White\",\" White\",\" Black\",\" White\",\" White\",\" White\",\" White\",\" White\",\" White\",\" White\",\" White\",\" White\",\" White\",\" White\",\" Other\",\" White\",\" Black\",\" White\",\" White\",\" White\",\" White\",\" White\",\" White\",\" White\",\" White\",\" White\",\" White\",\" White\",\" White\",\" White\",\" White\",\" White\",\" Black\",\" Amer-Indian-Eskimo\",\" White\",\" White\",\" White\",\" White\",\" White\",\" White\",\" White\",\" White\",\" White\",\" White\",\" White\",\" White\",\" White\",\" White\",\" White\",\" White\",\" White\",\" White\",\" White\",\" White\",\" White\",\" White\",\" White\",\" White\",\" White\",\" White\",\" White\",\" Black\",\" White\",\" White\",\" White\",\" Black\",\" White\",\" White\",\" White\",\" White\",\" White\",\" White\",\" Black\",\" White\",\" White\",\" White\",\" White\",\" White\",\" White\",\" White\",\" White\",\" White\",\" White\",\" White\",\" White\",\" White\",\" White\",\" White\",\" White\",\" White\",\" White\",\" White\",\" White\",\" White\",\" White\",\" Asian-Pac-Islander\",\" White\",\" White\",\" White\",\" White\",\" White\",\" White\",\" White\",\" White\",\" White\",\" White\",\" White\",\" White\",\" White\",\" White\",\" White\",\" White\",\" White\",\" White\",\" White\",\" White\",\" White\",\" White\",\" White\",\" White\",\" White\",\" White\",\" White\",\" White\",\" White\",\" Asian-Pac-Islander\",\" White\",\" White\",\" White\",\" White\",\" White\",\" White\",\" White\",\" White\",\" White\",\" White\",\" White\",\" White\",\" White\",\" White\",\" White\",\" White\",\" White\",\" White\",\" White\",\" White\",\" White\",\" White\",\" White\",\" White\",\" White\",\" White\",\" Black\",\" White\",\" White\",\" White\",\" White\",\" White\",\" Asian-Pac-Islander\",\" White\",\" White\",\" White\",\" White\",\" White\",\" White\",\" Asian-Pac-Islander\",\" White\",\" White\",\" Black\",\" White\",\" White\",\" White\",\" White\",\" Black\",\" White\",\" White\",\" White\",\" White\",\" White\",\" White\",\" White\",\" White\",\" White\",\" White\",\" White\",\" White\",\" White\",\" White\",\" White\",\" White\",\" White\",\" White\",\" White\",\" White\",\" White\",\" White\",\" White\",\" White\",\" White\",\" White\",\" White\",\" White\",\" White\",\" Black\",\" White\",\" White\",\" White\",\" White\",\" White\",\" White\",\" White\",\" White\",\" White\",\" White\",\" White\",\" Black\",\" White\",\" White\",\" White\",\" White\",\" White\",\" White\",\" White\",\" White\",\" Black\",\" White\",\" Black\",\" White\",\" White\",\" White\",\" White\",\" White\",\" White\",\" White\",\" White\",\" White\",\" White\",\" White\",\" Black\",\" Black\",\" White\",\" White\",\" White\",\" White\",\" White\",\" White\",\" White\",\" White\",\" White\",\" Asian-Pac-Islander\",\" Asian-Pac-Islander\",\" White\",\" White\",\" White\",\" White\",\" Black\",\" Black\",\" Black\",\" White\",\" White\",\" White\",\" Black\",\" White\",\" White\",\" White\",\" White\",\" White\",\" White\",\" White\",\" White\",\" White\",\" White\",\" Asian-Pac-Islander\",\" White\",\" White\",\" White\",\" White\",\" White\",\" White\",\" White\",\" White\",\" White\",\" White\",\" White\",\" White\",\" White\",\" White\",\" White\",\" White\",\" White\",\" White\",\" White\",\" White\",\" White\",\" White\",\" White\",\" White\",\" White\",\" White\",\" White\",\" White\",\" White\",\" White\",\" White\",\" White\",\" White\",\" White\",\" White\",\" Asian-Pac-Islander\",\" White\",\" Black\",\" White\",\" White\",\" White\",\" White\",\" White\",\" White\",\" White\",\" White\",\" White\",\" White\",\" Black\",\" Black\",\" White\",\" White\",\" White\",\" White\",\" White\",\" Black\",\" White\",\" White\",\" White\",\" White\",\" White\",\" White\",\" White\",\" White\",\" White\",\" White\",\" White\",\" White\",\" White\",\" White\",\" White\",\" White\",\" White\",\" White\",\" Black\",\" White\",\" White\",\" White\",\" Asian-Pac-Islander\",\" White\",\" Black\",\" White\",\" White\",\" White\",\" White\",\" White\",\" White\",\" White\",\" White\",\" White\",\" White\",\" White\",\" White\",\" Black\",\" White\",\" White\",\" White\",\" White\",\" White\",\" White\",\" White\",\" White\",\" White\",\" White\",\" White\",\" White\",\" White\",\" White\",\" White\",\" White\",\" White\",\" White\",\" White\",\" White\",\" White\",\" White\",\" White\",\" White\",\" White\",\" White\",\" White\",\" White\",\" White\",\" White\",\" White\",\" White\",\" Amer-Indian-Eskimo\",\" Asian-Pac-Islander\",\" White\",\" White\",\" White\",\" Black\",\" White\",\" White\",\" White\",\" White\",\" White\",\" White\",\" White\",\" White\",\" White\",\" White\",\" White\",\" Black\",\" Black\",\" White\",\" Black\",\" White\",\" White\",\" White\",\" White\",\" White\",\" White\",\" White\",\" White\",\" Black\",\" White\",\" White\",\" White\",\" Black\",\" White\",\" White\",\" White\",\" Black\",\" White\",\" White\",\" Black\",\" White\",\" Asian-Pac-Islander\",\" White\",\" White\",\" Black\",\" White\",\" White\",\" White\",\" White\",\" Black\",\" White\",\" White\",\" Black\",\" White\",\" Amer-Indian-Eskimo\",\" White\",\" White\",\" Black\",\" White\",\" Black\",\" White\",\" Asian-Pac-Islander\",\" White\",\" White\",\" Black\",\" White\",\" Black\",\" White\",\" White\",\" White\",\" Black\",\" White\",\" White\",\" White\",\" White\",\" White\",\" White\",\" White\",\" White\",\" Other\",\" White\",\" White\",\" White\",\" Black\",\" White\",\" White\",\" White\",\" White\",\" White\",\" White\",\" White\",\" Black\",\" White\",\" Black\",\" White\",\" White\",\" White\",\" White\",\" White\",\" White\",\" Black\",\" White\",\" White\",\" White\",\" White\",\" White\",\" White\",\" White\",\" White\",\" White\",\" White\",\" White\",\" Black\",\" White\",\" White\",\" White\",\" Black\",\" White\",\" White\",\" White\",\" White\",\" White\",\" White\",\" White\",\" Black\",\" Black\",\" White\",\" White\",\" White\",\" White\",\" White\",\" White\",\" White\",\" White\",\" White\",\" White\",\" White\",\" White\",\" Black\",\" White\",\" White\",\" White\",\" White\",\" White\",\" White\",\" White\",\" White\",\" White\",\" White\",\" White\",\" White\",\" White\",\" White\",\" Black\",\" Black\",\" White\",\" White\",\" White\",\" White\",\" White\",\" Black\",\" White\",\" White\",\" White\",\" White\",\" White\",\" White\",\" White\",\" White\",\" White\",\" White\",\" White\",\" White\",\" White\",\" White\",\" White\",\" White\",\" White\",\" White\",\" White\",\" White\",\" White\",\" White\",\" Asian-Pac-Islander\",\" White\",\" Asian-Pac-Islander\",\" White\",\" White\",\" White\",\" White\",\" White\",\" White\",\" Asian-Pac-Islander\",\" White\",\" White\",\" White\",\" Black\",\" White\",\" White\",\" Black\",\" White\",\" White\",\" White\",\" Other\",\" White\",\" Other\",\" White\",\" White\",\" White\",\" White\",\" White\",\" White\",\" White\",\" White\",\" White\",\" White\",\" White\",\" Asian-Pac-Islander\",\" White\",\" White\",\" White\",\" White\",\" White\",\" White\",\" White\",\" White\",\" Black\",\" White\",\" White\",\" White\",\" Asian-Pac-Islander\",\" White\",\" Other\",\" White\",\" White\",\" White\",\" White\",\" White\",\" White\",\" White\",\" White\",\" White\",\" White\",\" Asian-Pac-Islander\",\" White\",\" Black\",\" White\",\" White\",\" White\",\" White\",\" White\",\" White\",\" White\",\" White\",\" White\",\" White\",\" White\",\" White\",\" Black\",\" White\",\" Black\",\" White\",\" White\",\" White\",\" White\",\" White\",\" White\",\" White\",\" White\",\" White\",\" White\",\" Amer-Indian-Eskimo\",\" White\",\" White\",\" White\",\" White\",\" White\",\" White\",\" White\",\" White\",\" White\",\" Black\",\" White\",\" White\",\" White\",\" White\",\" White\",\" White\",\" White\",\" White\",\" White\",\" White\",\" White\",\" White\",\" White\",\" White\",\" White\",\" White\",\" Black\",\" White\",\" White\",\" Black\",\" White\",\" White\",\" White\",\" White\",\" Black\",\" Black\",\" White\",\" White\",\" Black\",\" White\",\" White\",\" White\",\" White\",\" White\",\" White\",\" White\",\" White\",\" White\",\" White\",\" White\",\" White\",\" White\",\" White\",\" White\",\" White\",\" Black\",\" White\",\" Black\",\" White\",\" White\",\" Amer-Indian-Eskimo\",\" White\",\" White\",\" White\",\" White\",\" White\",\" White\",\" Asian-Pac-Islander\",\" White\",\" White\",\" Asian-Pac-Islander\",\" White\",\" White\",\" White\",\" White\",\" White\",\" White\",\" White\",\" White\",\" White\",\" White\",\" White\",\" White\",\" Asian-Pac-Islander\",\" White\",\" White\",\" White\",\" White\",\" Black\",\" White\",\" White\",\" Asian-Pac-Islander\",\" White\",\" White\",\" White\",\" White\",\" White\",\" White\",\" Black\",\" Black\",\" White\",\" Black\",\" White\",\" White\",\" White\",\" White\",\" White\",\" White\",\" White\",\" White\",\" White\",\" White\",\" White\",\" White\",\" White\",\" Black\",\" White\",\" White\",\" Black\",\" White\",\" White\",\" Asian-Pac-Islander\",\" Black\",\" White\",\" White\",\" White\",\" White\",\" White\",\" White\",\" White\",\" Black\",\" White\",\" Asian-Pac-Islander\",\" Asian-Pac-Islander\",\" White\",\" White\",\" White\",\" White\",\" White\",\" White\",\" White\",\" White\",\" White\",\" Black\",\" White\",\" Black\",\" White\",\" White\",\" White\",\" White\",\" White\",\" White\",\" White\",\" Black\",\" White\",\" White\",\" White\",\" White\",\" White\",\" Black\",\" White\",\" White\",\" White\",\" White\",\" White\",\" White\",\" White\",\" Black\",\" White\",\" White\",\" White\",\" White\",\" White\",\" White\",\" Black\",\" White\",\" White\",\" Other\",\" White\",\" Asian-Pac-Islander\",\" White\",\" White\",\" Asian-Pac-Islander\",\" Asian-Pac-Islander\",\" White\",\" White\",\" White\",\" White\",\" White\",\" White\",\" White\",\" Asian-Pac-Islander\",\" White\",\" White\",\" White\",\" White\",\" White\",\" Black\",\" White\",\" White\",\" White\",\" White\",\" White\",\" White\",\" White\",\" White\",\" White\",\" White\",\" White\",\" White\",\" White\",\" White\",\" White\",\" White\",\" White\",\" Black\",\" White\",\" White\",\" White\",\" White\",\" White\",\" White\",\" White\",\" Black\",\" White\",\" White\",\" White\",\" White\",\" White\",\" White\",\" White\",\" White\",\" Asian-Pac-Islander\",\" White\",\" White\",\" White\",\" White\",\" White\",\" White\",\" Asian-Pac-Islander\",\" White\",\" Black\",\" White\",\" White\",\" White\",\" White\",\" White\",\" White\",\" White\",\" White\",\" White\",\" White\",\" White\",\" White\",\" White\",\" White\",\" White\",\" Black\",\" White\",\" White\",\" White\",\" White\",\" Black\",\" White\",\" White\",\" White\",\" White\",\" Black\",\" White\",\" White\",\" White\",\" White\",\" White\",\" White\",\" Other\",\" White\",\" White\",\" White\",\" White\",\" White\",\" Other\",\" White\",\" White\",\" White\",\" White\",\" White\",\" Asian-Pac-Islander\",\" White\",\" White\",\" White\",\" White\",\" White\",\" White\",\" White\",\" White\",\" White\",\" White\",\" White\",\" White\",\" White\",\" White\",\" White\",\" Asian-Pac-Islander\",\" White\",\" White\",\" White\",\" White\",\" White\",\" White\",\" Black\",\" White\",\" White\",\" White\",\" White\",\" White\",\" White\",\" White\",\" White\",\" White\",\" White\",\" White\",\" White\",\" White\",\" White\",\" White\",\" White\",\" White\",\" Black\",\" White\",\" White\",\" White\",\" White\",\" White\",\" White\",\" White\",\" Black\",\" White\",\" White\",\" White\",\" White\",\" Black\",\" White\",\" Black\",\" Black\",\" White\",\" White\",\" White\",\" Black\",\" White\",\" White\",\" White\",\" White\",\" Amer-Indian-Eskimo\",\" White\",\" White\",\" White\",\" White\",\" White\",\" White\",\" White\",\" White\",\" White\",\" White\",\" White\",\" White\",\" White\",\" White\",\" White\",\" White\",\" White\",\" Black\",\" White\",\" Asian-Pac-Islander\",\" White\",\" White\",\" White\",\" Black\",\" Amer-Indian-Eskimo\",\" White\",\" White\",\" White\",\" White\",\" White\",\" White\",\" White\",\" White\",\" White\",\" White\",\" White\",\" White\",\" White\",\" White\",\" White\",\" Black\",\" White\",\" White\",\" White\",\" White\",\" White\",\" White\",\" White\",\" Black\",\" White\",\" Black\",\" White\",\" White\",\" Black\",\" White\",\" White\",\" White\",\" White\",\" White\",\" White\",\" White\",\" Black\",\" White\",\" White\",\" White\",\" Black\",\" White\",\" Asian-Pac-Islander\",\" White\",\" White\",\" White\",\" Asian-Pac-Islander\",\" White\",\" White\",\" White\",\" White\",\" Black\",\" White\",\" White\",\" White\",\" White\",\" White\",\" White\",\" White\",\" White\",\" Asian-Pac-Islander\",\" White\",\" White\",\" White\",\" White\",\" White\",\" Black\",\" White\",\" White\",\" White\",\" White\",\" White\",\" White\",\" White\",\" White\",\" White\",\" Black\",\" White\",\" White\",\" White\",\" White\",\" White\",\" White\",\" White\",\" White\",\" White\",\" White\",\" Black\",\" White\",\" White\",\" White\",\" White\",\" White\",\" White\",\" White\",\" Black\",\" Black\",\" White\",\" White\",\" White\",\" White\",\" White\",\" Asian-Pac-Islander\",\" White\",\" White\",\" White\",\" White\",\" White\",\" White\",\" Black\",\" White\",\" White\",\" White\",\" White\",\" Other\",\" White\",\" White\",\" White\",\" White\",\" White\",\" White\",\" White\",\" White\",\" Black\",\" White\",\" Asian-Pac-Islander\",\" White\",\" White\",\" White\",\" White\",\" White\",\" White\",\" White\",\" White\",\" White\",\" White\",\" White\",\" White\",\" White\",\" White\",\" White\",\" White\",\" White\",\" White\",\" White\",\" Black\",\" White\",\" White\",\" White\",\" White\",\" White\",\" White\",\" White\",\" White\",\" White\",\" White\",\" White\",\" White\",\" White\",\" White\",\" Asian-Pac-Islander\",\" Black\",\" White\",\" White\",\" White\",\" White\",\" Black\",\" White\",\" White\",\" White\",\" White\",\" White\",\" White\",\" White\",\" White\",\" White\",\" White\",\" White\",\" White\",\" White\",\" Black\",\" White\",\" Black\",\" Black\",\" White\",\" White\",\" White\",\" Black\",\" White\",\" Black\",\" White\",\" White\",\" White\",\" White\",\" White\",\" White\",\" White\",\" White\",\" White\",\" White\",\" White\",\" White\",\" White\",\" White\",\" White\",\" White\",\" White\",\" White\",\" White\",\" White\",\" White\",\" White\",\" White\",\" White\",\" White\",\" White\",\" White\",\" White\",\" White\",\" White\",\" White\",\" White\",\" White\",\" White\",\" White\",\" White\",\" Other\",\" White\",\" White\",\" White\",\" White\",\" White\",\" White\",\" White\",\" White\",\" Black\",\" White\",\" White\",\" White\",\" White\",\" White\",\" White\",\" White\",\" White\",\" White\",\" White\",\" White\",\" White\",\" White\",\" White\",\" White\",\" Asian-Pac-Islander\",\" White\",\" Black\",\" White\",\" White\",\" White\",\" White\",\" White\",\" White\",\" White\",\" White\",\" White\",\" White\",\" White\",\" White\",\" White\",\" Black\",\" Asian-Pac-Islander\",\" White\",\" White\",\" White\",\" Black\",\" White\",\" White\",\" White\",\" White\",\" White\",\" White\",\" White\",\" White\",\" White\",\" White\",\" Black\",\" White\",\" White\",\" White\",\" White\",\" Asian-Pac-Islander\",\" White\",\" Asian-Pac-Islander\",\" White\",\" White\",\" White\",\" White\",\" White\",\" White\",\" White\",\" White\",\" White\",\" White\",\" White\",\" White\",\" White\",\" White\",\" White\",\" White\",\" White\",\" White\",\" White\",\" White\",\" White\",\" White\",\" Black\",\" White\",\" White\",\" Black\",\" White\",\" White\",\" White\",\" White\",\" White\",\" White\",\" White\",\" White\",\" White\",\" White\",\" Black\",\" White\",\" White\",\" White\",\" White\",\" White\",\" White\",\" White\",\" White\",\" White\",\" White\",\" White\",\" White\",\" Asian-Pac-Islander\",\" White\",\" Asian-Pac-Islander\",\" White\",\" White\",\" White\",\" White\",\" White\",\" White\",\" White\",\" Black\",\" White\",\" White\",\" White\",\" White\",\" White\",\" White\",\" White\",\" Asian-Pac-Islander\",\" Black\",\" White\",\" White\",\" White\",\" White\",\" White\",\" Black\",\" White\",\" White\",\" Black\",\" White\",\" White\",\" White\",\" White\",\" Asian-Pac-Islander\",\" White\",\" White\",\" White\",\" White\",\" White\",\" White\",\" White\",\" White\",\" White\",\" White\",\" White\",\" White\",\" White\",\" Black\",\" White\",\" White\",\" White\",\" White\",\" Black\",\" White\",\" White\",\" White\",\" White\",\" White\",\" White\",\" White\",\" Amer-Indian-Eskimo\",\" White\",\" White\",\" White\",\" White\",\" White\",\" Black\",\" White\",\" White\",\" White\",\" White\",\" White\",\" White\",\" White\",\" White\",\" White\",\" White\",\" White\",\" White\",\" White\",\" White\",\" White\",\" White\",\" White\",\" White\",\" Black\",\" White\",\" Black\",\" White\",\" White\",\" White\",\" White\",\" White\",\" White\",\" White\",\" White\",\" White\",\" White\",\" Black\",\" White\",\" White\",\" White\",\" White\",\" White\",\" Other\",\" White\",\" White\",\" White\",\" White\",\" White\",\" White\",\" White\",\" Amer-Indian-Eskimo\",\" Other\",\" Asian-Pac-Islander\",\" White\",\" Asian-Pac-Islander\",\" White\",\" White\",\" White\",\" White\",\" White\",\" White\",\" White\",\" White\",\" White\",\" White\",\" White\",\" White\",\" White\",\" White\",\" White\",\" White\",\" White\",\" White\",\" White\",\" White\",\" White\",\" White\",\" White\",\" White\",\" White\",\" White\",\" White\",\" White\",\" White\",\" White\",\" Black\",\" White\",\" White\",\" Black\",\" Black\",\" White\",\" White\",\" Black\",\" White\",\" White\",\" White\",\" White\",\" Black\",\" White\",\" White\",\" White\",\" White\",\" White\",\" White\",\" White\",\" White\",\" White\",\" White\",\" White\",\" White\",\" White\",\" White\",\" White\",\" White\",\" Black\",\" White\",\" White\",\" White\",\" White\",\" White\",\" White\",\" White\",\" White\",\" White\",\" White\",\" White\",\" White\",\" White\",\" White\",\" White\",\" White\",\" White\",\" White\",\" White\",\" White\",\" White\",\" White\",\" White\",\" White\",\" White\",\" White\",\" White\",\" White\",\" White\",\" White\",\" White\",\" White\",\" White\",\" Black\",\" Asian-Pac-Islander\",\" White\",\" Black\",\" White\",\" White\",\" White\",\" White\",\" White\",\" Asian-Pac-Islander\",\" White\",\" White\",\" White\",\" White\",\" White\",\" White\",\" White\",\" White\",\" White\",\" Black\",\" White\",\" White\",\" White\",\" Black\",\" White\",\" White\",\" White\",\" White\",\" White\",\" White\",\" White\",\" White\",\" White\",\" White\",\" White\",\" White\",\" White\",\" White\",\" White\",\" White\",\" White\",\" White\",\" White\",\" White\",\" White\",\" White\",\" White\",\" Asian-Pac-Islander\",\" White\",\" White\",\" White\",\" White\",\" White\",\" White\",\" White\",\" Asian-Pac-Islander\",\" White\",\" Black\",\" White\",\" White\",\" Black\",\" White\",\" Asian-Pac-Islander\",\" White\",\" White\",\" White\",\" White\",\" Black\",\" Black\",\" White\",\" White\",\" White\",\" White\",\" Black\",\" White\",\" White\",\" White\",\" White\",\" White\",\" White\",\" White\",\" White\",\" White\",\" Black\",\" White\",\" White\",\" White\",\" White\",\" White\",\" White\",\" White\",\" White\",\" White\",\" White\",\" White\",\" White\",\" White\",\" White\",\" Black\",\" Black\",\" White\",\" White\",\" White\",\" White\",\" White\",\" White\",\" White\",\" White\",\" White\",\" White\",\" White\",\" White\",\" White\",\" White\",\" White\",\" White\",\" Black\",\" White\",\" White\",\" White\",\" White\",\" Black\",\" White\",\" White\",\" White\",\" Asian-Pac-Islander\",\" White\",\" White\",\" White\",\" Asian-Pac-Islander\",\" Asian-Pac-Islander\",\" White\",\" White\",\" White\",\" White\",\" White\",\" White\",\" White\",\" White\",\" White\",\" White\",\" White\",\" White\",\" White\",\" White\",\" White\",\" Black\",\" White\",\" White\",\" White\",\" White\",\" White\",\" White\",\" White\",\" White\",\" White\",\" White\",\" White\",\" White\",\" White\",\" White\",\" White\",\" Other\",\" White\",\" White\",\" White\",\" White\",\" White\",\" Asian-Pac-Islander\",\" White\",\" White\",\" White\",\" White\",\" White\",\" White\",\" White\",\" White\",\" White\",\" White\",\" White\",\" White\",\" White\",\" White\",\" White\",\" White\",\" White\",\" White\",\" White\",\" White\",\" White\",\" White\",\" White\",\" White\",\" White\",\" White\",\" White\",\" Black\",\" Black\",\" White\",\" White\",\" White\",\" White\",\" White\",\" White\",\" White\",\" White\",\" White\",\" White\",\" White\",\" White\",\" White\",\" White\",\" White\",\" White\",\" White\",\" White\",\" White\",\" White\",\" White\",\" White\",\" Asian-Pac-Islander\",\" White\",\" Black\",\" Black\",\" White\",\" White\",\" Black\",\" White\",\" White\",\" White\",\" White\",\" White\",\" White\",\" White\",\" White\",\" White\",\" White\",\" Black\",\" White\",\" White\",\" White\",\" White\",\" White\",\" Black\",\" White\",\" White\",\" White\",\" White\",\" White\",\" White\",\" White\",\" White\",\" White\",\" White\",\" White\",\" White\",\" White\",\" White\",\" White\",\" White\",\" White\",\" White\",\" White\",\" White\",\" Black\",\" Black\",\" White\",\" White\",\" White\",\" White\",\" White\",\" Black\",\" White\",\" White\",\" White\",\" White\",\" White\",\" Asian-Pac-Islander\",\" White\",\" White\",\" White\",\" White\",\" White\",\" White\",\" Other\",\" Asian-Pac-Islander\",\" White\",\" White\",\" White\",\" White\",\" White\",\" White\",\" White\",\" White\",\" White\",\" White\",\" White\",\" White\",\" White\",\" White\",\" White\",\" White\",\" White\",\" White\",\" White\",\" White\",\" White\",\" White\",\" White\",\" White\",\" White\",\" White\",\" Black\",\" White\",\" White\",\" White\",\" White\",\" White\",\" Black\",\" White\",\" White\",\" Black\",\" White\",\" White\",\" White\",\" White\",\" Asian-Pac-Islander\",\" White\",\" Black\",\" White\",\" Other\",\" Black\",\" Black\",\" White\",\" White\",\" White\",\" White\",\" White\",\" White\",\" White\",\" White\",\" White\",\" White\",\" White\",\" White\",\" White\",\" White\",\" Asian-Pac-Islander\",\" White\",\" White\",\" White\",\" White\",\" White\",\" White\",\" White\",\" White\",\" White\",\" White\",\" White\",\" Asian-Pac-Islander\",\" White\",\" White\",\" White\",\" White\",\" Asian-Pac-Islander\",\" White\",\" White\",\" White\",\" White\",\" White\",\" Black\",\" White\",\" White\",\" White\",\" White\",\" Black\",\" White\",\" White\",\" White\",\" White\",\" White\",\" White\",\" White\",\" White\",\" White\",\" White\",\" White\",\" White\",\" White\",\" White\",\" White\",\" White\",\" White\",\" White\",\" White\",\" White\",\" Asian-Pac-Islander\",\" Black\",\" White\",\" White\",\" Asian-Pac-Islander\",\" White\",\" White\",\" Black\",\" White\",\" Black\",\" Asian-Pac-Islander\",\" Amer-Indian-Eskimo\",\" White\",\" White\",\" White\",\" White\",\" White\",\" White\",\" White\",\" White\",\" Black\",\" White\",\" White\",\" Black\",\" White\",\" White\",\" Asian-Pac-Islander\",\" White\",\" White\",\" White\",\" White\",\" White\",\" White\",\" White\",\" White\",\" White\",\" White\",\" White\",\" White\",\" White\",\" White\",\" White\",\" White\",\" White\",\" White\",\" Asian-Pac-Islander\",\" White\",\" White\",\" White\",\" White\",\" White\",\" White\",\" White\",\" White\",\" White\",\" White\",\" White\",\" White\",\" White\",\" White\",\" White\",\" White\",\" White\",\" White\",\" White\",\" White\",\" White\",\" White\",\" White\",\" White\",\" White\",\" White\",\" White\",\" Asian-Pac-Islander\",\" White\",\" White\",\" White\",\" White\",\" White\",\" White\",\" White\",\" White\",\" White\",\" Black\",\" White\",\" White\",\" White\",\" White\",\" White\",\" White\",\" White\",\" White\",\" White\",\" White\",\" White\",\" White\",\" Black\",\" White\",\" White\",\" White\",\" White\",\" White\",\" White\",\" White\",\" White\",\" White\",\" Asian-Pac-Islander\",\" White\",\" White\",\" White\",\" White\",\" White\",\" White\",\" White\",\" White\",\" Amer-Indian-Eskimo\",\" Asian-Pac-Islander\",\" White\",\" White\",\" White\",\" Black\",\" Black\",\" White\",\" White\",\" White\",\" White\",\" White\",\" White\",\" White\",\" Black\",\" White\",\" Black\",\" White\",\" Black\",\" White\",\" White\",\" White\",\" White\",\" White\",\" White\",\" White\",\" White\",\" White\",\" White\",\" White\",\" White\",\" White\",\" White\",\" White\",\" White\",\" White\",\" White\",\" White\",\" White\",\" Asian-Pac-Islander\",\" White\",\" White\",\" White\",\" White\",\" White\",\" Black\",\" White\",\" White\",\" White\",\" White\",\" Black\",\" White\",\" White\",\" White\",\" Amer-Indian-Eskimo\",\" White\",\" White\",\" White\",\" White\",\" White\",\" White\",\" White\",\" White\",\" White\",\" White\",\" White\",\" White\",\" White\",\" White\",\" White\",\" White\",\" White\",\" White\",\" White\",\" White\",\" White\",\" White\",\" White\",\" White\",\" Black\",\" White\",\" White\",\" White\",\" White\",\" White\",\" White\",\" White\",\" White\",\" White\",\" Black\",\" White\",\" White\",\" Black\",\" White\",\" White\",\" White\",\" White\",\" White\",\" White\",\" White\",\" White\",\" Black\",\" White\",\" White\",\" White\",\" White\",\" White\",\" White\",\" White\",\" Asian-Pac-Islander\",\" White\",\" Black\",\" White\",\" White\",\" White\",\" White\",\" White\",\" White\",\" White\",\" White\",\" White\",\" Black\",\" White\",\" White\",\" Black\",\" White\",\" Other\",\" White\",\" White\",\" White\",\" Black\",\" White\",\" White\",\" White\",\" White\",\" White\",\" White\",\" White\",\" White\",\" White\",\" White\",\" White\",\" Asian-Pac-Islander\",\" White\",\" White\",\" White\",\" White\",\" White\",\" Black\",\" White\",\" White\",\" White\",\" White\",\" Black\",\" White\",\" White\",\" White\",\" White\",\" White\",\" White\",\" White\",\" White\",\" White\",\" White\",\" White\",\" White\",\" White\",\" White\",\" White\",\" White\",\" White\",\" Black\",\" White\",\" Black\",\" White\",\" White\",\" Black\",\" White\",\" White\",\" White\",\" Amer-Indian-Eskimo\",\" White\",\" White\",\" White\",\" White\",\" White\",\" Asian-Pac-Islander\",\" White\",\" White\",\" Black\",\" White\",\" White\",\" White\",\" White\",\" White\",\" White\",\" White\",\" White\",\" White\",\" White\",\" White\",\" White\",\" Black\",\" White\",\" White\",\" Black\",\" Black\",\" White\",\" White\",\" White\",\" White\",\" White\",\" White\",\" White\",\" White\",\" Asian-Pac-Islander\",\" White\",\" White\",\" White\",\" Amer-Indian-Eskimo\",\" White\",\" White\",\" White\",\" White\",\" White\",\" White\",\" White\",\" Asian-Pac-Islander\",\" White\",\" White\",\" White\",\" White\",\" White\",\" White\",\" White\",\" Black\",\" White\",\" White\",\" White\",\" Black\",\" White\",\" White\",\" White\",\" White\",\" White\",\" Amer-Indian-Eskimo\",\" White\",\" White\",\" White\",\" White\",\" White\",\" White\",\" White\",\" White\",\" White\",\" White\",\" White\",\" White\",\" White\",\" Black\",\" White\",\" White\",\" Asian-Pac-Islander\",\" White\",\" White\",\" White\",\" White\",\" White\",\" White\",\" White\",\" White\",\" White\",\" White\",\" White\",\" White\",\" White\",\" White\",\" White\",\" White\",\" White\",\" White\",\" Black\",\" Asian-Pac-Islander\",\" White\",\" White\",\" White\",\" White\",\" White\",\" White\",\" White\",\" White\",\" Black\",\" White\",\" White\",\" White\",\" White\",\" White\",\" White\",\" White\",\" White\",\" White\",\" White\",\" Asian-Pac-Islander\",\" White\",\" White\",\" Black\",\" White\",\" White\",\" White\",\" White\",\" Asian-Pac-Islander\",\" White\",\" White\",\" White\",\" White\",\" White\",\" White\",\" White\",\" White\",\" White\",\" Black\",\" White\",\" White\",\" White\",\" White\",\" White\",\" White\",\" White\",\" White\",\" White\",\" White\",\" White\",\" White\",\" White\",\" White\",\" White\",\" White\",\" White\",\" White\",\" White\",\" White\",\" Asian-Pac-Islander\",\" White\",\" White\",\" White\",\" White\",\" Black\",\" White\",\" White\",\" White\",\" White\",\" White\",\" Black\",\" White\",\" White\",\" White\",\" White\",\" White\",\" Asian-Pac-Islander\",\" Black\",\" Black\",\" White\",\" White\",\" White\",\" White\",\" White\",\" White\",\" Asian-Pac-Islander\",\" White\",\" White\",\" White\",\" White\",\" White\",\" White\",\" White\",\" White\",\" White\",\" White\",\" Black\",\" White\",\" White\",\" White\",\" White\",\" White\",\" White\",\" White\",\" Asian-Pac-Islander\",\" White\",\" White\",\" White\",\" White\",\" White\",\" White\",\" White\",\" Black\",\" Black\",\" White\",\" White\",\" White\",\" White\",\" White\",\" Black\",\" White\",\" White\",\" White\",\" White\",\" Black\",\" Asian-Pac-Islander\",\" Black\",\" Black\",\" White\",\" White\",\" White\",\" White\",\" White\",\" White\",\" White\",\" White\",\" White\",\" White\",\" White\",\" White\",\" White\",\" White\",\" White\",\" White\",\" White\",\" White\",\" Amer-Indian-Eskimo\",\" White\",\" White\",\" Amer-Indian-Eskimo\",\" White\",\" Black\",\" White\",\" White\",\" Asian-Pac-Islander\",\" White\",\" White\",\" White\",\" White\",\" White\",\" Asian-Pac-Islander\",\" White\",\" White\",\" White\",\" White\",\" White\",\" White\",\" White\",\" Black\",\" White\",\" White\",\" White\",\" White\",\" White\",\" White\",\" White\",\" White\",\" White\",\" White\",\" Other\",\" White\",\" White\",\" White\",\" White\",\" White\",\" White\",\" White\",\" Asian-Pac-Islander\",\" White\",\" White\",\" Black\",\" White\",\" White\",\" White\",\" White\",\" White\",\" White\",\" White\",\" White\",\" White\",\" Black\",\" White\",\" White\",\" White\",\" White\",\" White\",\" White\",\" White\",\" White\",\" White\",\" Black\",\" White\",\" White\",\" White\",\" White\",\" White\",\" White\",\" White\",\" White\",\" White\",\" White\",\" White\",\" White\",\" White\",\" White\",\" White\",\" White\",\" White\",\" Amer-Indian-Eskimo\",\" White\",\" White\",\" White\",\" White\",\" White\",\" Black\",\" White\",\" White\",\" White\",\" White\",\" White\",\" White\",\" Black\",\" White\",\" White\",\" White\",\" White\",\" White\",\" White\",\" White\",\" White\",\" White\",\" White\",\" White\",\" White\",\" White\",\" White\",\" White\",\" White\",\" White\",\" Black\",\" White\",\" Black\",\" White\",\" White\",\" White\",\" White\",\" White\",\" White\",\" White\",\" White\",\" White\",\" Other\",\" White\",\" White\",\" Asian-Pac-Islander\",\" White\",\" White\",\" White\",\" White\",\" White\",\" White\",\" White\",\" White\",\" White\",\" White\",\" White\",\" White\",\" White\",\" White\",\" White\",\" Black\",\" White\",\" White\",\" Asian-Pac-Islander\",\" White\",\" Black\",\" Black\",\" White\",\" White\",\" White\",\" White\",\" White\",\" White\",\" White\",\" White\",\" White\",\" White\",\" White\",\" White\",\" White\",\" White\",\" White\",\" White\",\" White\",\" White\",\" White\",\" Black\",\" Asian-Pac-Islander\",\" White\",\" White\",\" Black\",\" White\",\" White\",\" White\",\" White\",\" White\",\" White\",\" White\",\" White\",\" White\",\" White\",\" White\",\" White\",\" White\",\" White\",\" White\",\" White\",\" White\",\" White\",\" Black\",\" White\",\" White\",\" Other\",\" Asian-Pac-Islander\",\" White\",\" White\",\" White\",\" White\",\" White\",\" White\",\" White\",\" White\",\" White\",\" White\",\" White\",\" White\",\" White\",\" White\",\" Asian-Pac-Islander\",\" White\",\" White\",\" White\",\" White\",\" White\",\" White\",\" White\",\" White\",\" White\",\" Asian-Pac-Islander\",\" White\",\" White\",\" White\",\" Black\",\" White\",\" White\",\" White\",\" White\",\" Other\",\" White\",\" White\",\" White\",\" White\",\" White\",\" White\",\" White\",\" White\",\" Asian-Pac-Islander\",\" White\",\" White\",\" White\",\" White\",\" White\",\" White\",\" White\",\" White\",\" White\",\" White\",\" Black\",\" White\",\" White\",\" White\",\" White\",\" White\",\" White\",\" White\",\" White\",\" White\",\" White\",\" White\",\" White\",\" White\",\" White\",\" White\",\" White\",\" White\",\" White\",\" White\",\" Black\",\" White\",\" White\",\" White\",\" White\",\" White\",\" White\",\" White\",\" White\",\" Black\",\" White\",\" White\",\" Other\",\" White\",\" White\",\" Black\",\" White\",\" Black\",\" White\",\" White\",\" Black\",\" White\",\" White\",\" White\",\" White\",\" White\",\" White\",\" White\",\" White\",\" White\",\" White\",\" White\",\" White\",\" White\",\" White\",\" White\",\" White\",\" White\",\" White\",\" White\",\" Black\",\" Asian-Pac-Islander\",\" White\",\" White\",\" White\",\" White\",\" White\",\" White\",\" White\",\" White\",\" White\",\" Black\",\" Black\",\" White\",\" Asian-Pac-Islander\",\" White\",\" White\",\" White\",\" White\",\" White\",\" White\",\" Black\",\" White\",\" White\",\" White\",\" White\",\" White\",\" White\",\" White\",\" White\",\" White\",\" White\",\" Other\",\" Asian-Pac-Islander\",\" White\",\" White\",\" White\",\" Black\",\" White\",\" White\",\" White\",\" White\",\" White\",\" White\",\" White\",\" White\",\" White\",\" Black\",\" White\",\" Amer-Indian-Eskimo\",\" White\",\" White\",\" White\",\" Black\",\" White\",\" White\",\" Black\",\" White\",\" Black\",\" White\",\" Black\",\" Amer-Indian-Eskimo\",\" White\",\" White\",\" White\",\" White\",\" White\",\" White\",\" White\",\" Asian-Pac-Islander\",\" White\",\" Black\",\" White\",\" White\",\" White\",\" White\",\" White\",\" White\",\" White\",\" White\",\" White\",\" Asian-Pac-Islander\",\" White\",\" White\",\" White\",\" White\",\" White\",\" Black\",\" White\",\" White\",\" White\",\" Asian-Pac-Islander\",\" White\",\" White\",\" White\",\" White\",\" White\",\" White\",\" White\",\" White\",\" White\",\" White\",\" White\",\" White\",\" Amer-Indian-Eskimo\",\" White\",\" White\",\" Black\",\" Other\",\" White\",\" White\",\" White\",\" White\",\" White\",\" White\",\" White\",\" Black\",\" White\",\" White\",\" White\",\" White\",\" White\",\" Black\",\" Black\",\" White\",\" White\",\" White\",\" White\",\" White\",\" Black\",\" White\",\" White\",\" White\",\" White\",\" White\",\" White\",\" White\",\" White\",\" White\",\" Amer-Indian-Eskimo\",\" White\",\" White\",\" White\",\" White\",\" White\",\" Asian-Pac-Islander\",\" White\",\" White\",\" White\",\" White\",\" White\",\" White\",\" White\",\" Black\",\" White\",\" Black\",\" White\",\" White\",\" White\",\" White\",\" White\",\" White\",\" White\",\" White\",\" White\",\" White\",\" White\",\" White\",\" White\",\" Black\",\" White\",\" White\",\" White\",\" White\",\" White\",\" White\",\" White\",\" White\",\" White\",\" White\",\" White\",\" White\",\" White\",\" White\",\" White\",\" White\",\" White\",\" White\",\" White\",\" White\",\" White\",\" White\",\" White\",\" White\",\" White\",\" White\",\" White\",\" White\",\" White\",\" White\",\" White\",\" White\",\" Black\",\" White\",\" Black\",\" Black\",\" Other\",\" White\",\" White\",\" White\",\" White\",\" Asian-Pac-Islander\",\" White\",\" White\",\" White\",\" White\",\" White\",\" Black\",\" White\",\" White\",\" White\",\" White\",\" Black\",\" White\",\" White\",\" White\",\" White\",\" White\",\" Amer-Indian-Eskimo\",\" White\",\" White\",\" White\",\" White\",\" Black\",\" White\",\" White\",\" White\",\" Asian-Pac-Islander\",\" White\",\" White\",\" White\",\" White\",\" White\",\" White\",\" White\",\" White\",\" White\",\" White\",\" White\",\" White\",\" White\",\" White\",\" White\",\" Amer-Indian-Eskimo\",\" White\",\" White\",\" Asian-Pac-Islander\",\" White\",\" White\",\" White\",\" White\",\" White\",\" White\",\" White\",\" White\",\" White\",\" Black\",\" White\",\" White\",\" White\",\" Black\",\" White\",\" White\",\" White\",\" Amer-Indian-Eskimo\",\" White\",\" White\",\" White\",\" White\",\" White\",\" White\",\" White\",\" White\",\" White\",\" White\",\" White\",\" White\",\" White\",\" White\",\" White\",\" Black\",\" White\",\" White\",\" White\",\" White\",\" White\",\" White\",\" Black\",\" White\",\" White\",\" White\",\" White\",\" White\",\" Black\",\" Black\",\" White\",\" White\",\" White\",\" White\",\" White\",\" White\",\" White\",\" White\",\" White\",\" White\",\" White\",\" White\",\" White\",\" White\",\" White\",\" White\",\" White\",\" White\",\" White\",\" White\",\" White\",\" White\",\" White\",\" White\",\" White\",\" White\",\" White\",\" White\",\" White\",\" Asian-Pac-Islander\",\" White\",\" White\",\" White\",\" White\",\" Black\",\" White\",\" White\",\" White\",\" Black\",\" White\",\" Black\",\" White\",\" White\",\" White\",\" White\",\" White\",\" White\",\" White\",\" White\",\" Black\",\" White\",\" White\",\" White\",\" White\",\" White\",\" White\",\" White\",\" White\",\" White\",\" White\",\" Black\",\" Asian-Pac-Islander\",\" White\",\" White\",\" White\",\" White\",\" White\",\" Asian-Pac-Islander\",\" Black\",\" Black\",\" White\",\" White\",\" White\",\" White\",\" White\",\" White\",\" White\",\" White\",\" White\",\" White\",\" White\",\" White\",\" White\",\" White\",\" White\",\" White\",\" White\",\" White\",\" White\",\" White\",\" Black\",\" White\",\" White\",\" White\",\" White\",\" White\",\" White\",\" White\",\" White\",\" White\",\" White\",\" White\",\" White\",\" White\",\" White\",\" White\",\" White\",\" White\",\" White\",\" White\",\" White\",\" White\",\" White\",\" White\",\" White\",\" White\",\" White\",\" White\",\" White\",\" White\",\" White\",\" White\",\" White\",\" White\",\" White\",\" White\",\" White\",\" White\",\" White\",\" White\",\" Black\",\" White\",\" White\",\" White\",\" White\",\" White\",\" White\",\" Black\",\" White\",\" White\",\" White\",\" White\",\" White\",\" White\",\" White\",\" White\",\" White\",\" White\",\" Asian-Pac-Islander\",\" White\",\" White\",\" White\",\" White\",\" White\",\" White\",\" Amer-Indian-Eskimo\",\" White\",\" Black\",\" White\",\" White\",\" White\",\" White\",\" White\",\" Black\",\" White\",\" White\",\" White\",\" White\",\" White\",\" Black\",\" White\",\" Black\",\" White\",\" Black\",\" White\",\" White\",\" Black\",\" White\",\" White\",\" White\",\" White\",\" White\",\" White\",\" White\",\" White\",\" White\",\" Black\",\" White\",\" White\",\" White\",\" White\",\" Black\",\" White\",\" White\",\" White\",\" White\",\" White\",\" White\",\" White\",\" White\",\" Black\",\" Asian-Pac-Islander\",\" White\",\" White\",\" White\",\" Black\",\" White\",\" Asian-Pac-Islander\",\" White\",\" Black\",\" White\",\" White\",\" White\",\" Black\",\" White\",\" White\",\" White\",\" White\",\" White\",\" White\",\" White\",\" Asian-Pac-Islander\",\" White\",\" White\",\" Black\",\" White\",\" White\",\" White\",\" White\",\" White\",\" White\",\" Black\",\" White\",\" Black\",\" White\",\" White\",\" Amer-Indian-Eskimo\",\" White\",\" White\",\" White\",\" White\",\" White\",\" White\",\" White\",\" White\",\" White\",\" Asian-Pac-Islander\",\" White\",\" White\",\" White\",\" White\",\" White\",\" Black\",\" White\",\" White\",\" White\",\" White\",\" White\",\" White\",\" White\",\" White\",\" White\",\" White\",\" White\",\" White\",\" White\",\" White\",\" White\",\" White\",\" White\",\" White\",\" White\",\" White\",\" Black\",\" White\",\" Black\",\" White\",\" White\",\" White\",\" Black\",\" White\",\" White\",\" White\",\" White\",\" White\",\" White\",\" White\",\" White\",\" White\",\" Black\",\" Black\",\" Black\",\" White\",\" White\",\" White\",\" White\",\" Black\",\" White\",\" White\",\" White\",\" Amer-Indian-Eskimo\",\" Black\",\" White\",\" White\",\" White\",\" Black\",\" White\",\" White\",\" White\",\" White\",\" White\",\" White\",\" White\",\" White\",\" White\",\" White\",\" Black\",\" White\",\" White\",\" White\",\" White\",\" White\",\" White\",\" White\",\" White\",\" White\",\" White\",\" White\",\" Black\",\" White\",\" White\",\" White\",\" White\",\" White\",\" Asian-Pac-Islander\",\" Black\",\" Black\",\" White\",\" White\",\" White\",\" White\",\" White\",\" White\",\" White\",\" White\",\" White\",\" White\",\" Black\",\" White\",\" White\",\" White\",\" White\",\" White\",\" White\",\" White\",\" White\",\" White\",\" Black\",\" White\",\" White\",\" White\",\" White\",\" Black\",\" Black\",\" White\",\" White\",\" White\",\" White\",\" White\",\" White\",\" White\",\" White\",\" White\",\" White\",\" White\",\" White\",\" White\",\" White\",\" White\",\" White\",\" White\",\" Black\",\" Black\",\" White\",\" Black\",\" White\",\" White\",\" White\",\" White\",\" White\",\" White\",\" White\",\" White\",\" White\",\" White\",\" White\",\" White\",\" White\",\" White\",\" White\",\" White\",\" White\",\" White\",\" White\",\" White\",\" White\",\" White\",\" Asian-Pac-Islander\",\" White\",\" White\",\" White\",\" White\",\" White\",\" White\",\" White\",\" White\",\" Black\",\" White\",\" White\",\" White\",\" White\",\" White\",\" White\",\" White\",\" White\",\" White\",\" White\",\" Asian-Pac-Islander\",\" White\",\" White\",\" White\",\" White\",\" White\",\" White\",\" White\",\" White\",\" White\",\" White\",\" White\",\" White\",\" White\",\" Black\",\" White\",\" Black\",\" White\",\" White\",\" White\",\" White\",\" Black\",\" White\",\" White\",\" White\",\" White\",\" White\",\" White\",\" Black\",\" White\",\" White\",\" White\",\" White\",\" White\",\" White\",\" White\",\" White\",\" White\",\" White\",\" White\",\" Asian-Pac-Islander\",\" White\",\" White\",\" White\",\" White\",\" White\",\" White\",\" White\",\" White\",\" White\",\" White\",\" White\",\" White\",\" White\",\" Black\",\" White\",\" White\",\" White\",\" White\",\" White\",\" Black\",\" Black\",\" White\",\" Asian-Pac-Islander\",\" White\",\" Black\",\" White\",\" White\",\" White\",\" White\",\" White\",\" White\",\" White\",\" White\",\" White\",\" White\",\" Black\",\" White\",\" White\",\" White\",\" Black\",\" Black\",\" White\",\" White\",\" White\",\" White\",\" White\",\" White\",\" White\",\" White\",\" White\",\" White\",\" White\",\" White\",\" White\",\" Black\",\" Asian-Pac-Islander\",\" White\",\" Black\",\" White\",\" Black\",\" White\",\" White\",\" White\",\" White\",\" White\",\" White\",\" White\",\" White\",\" White\",\" White\",\" White\",\" White\",\" White\",\" White\",\" White\",\" White\",\" White\",\" White\",\" White\",\" White\",\" White\",\" White\",\" White\",\" Amer-Indian-Eskimo\",\" White\",\" White\",\" White\",\" White\",\" White\",\" Black\",\" White\",\" White\",\" Black\",\" White\",\" White\",\" Black\",\" White\",\" White\",\" White\",\" White\",\" Black\",\" White\",\" White\",\" White\",\" Other\",\" Black\",\" White\",\" White\",\" White\",\" White\",\" White\",\" White\",\" White\",\" White\",\" White\",\" White\",\" Black\",\" White\",\" Black\",\" White\",\" White\",\" White\",\" White\",\" White\",\" White\",\" Black\",\" White\",\" White\",\" White\",\" White\",\" Black\",\" White\",\" White\",\" White\",\" White\",\" White\",\" White\",\" White\",\" White\",\" Black\",\" White\",\" White\",\" Black\",\" Black\",\" White\",\" Black\",\" White\",\" White\",\" White\",\" Black\",\" Black\",\" White\",\" White\",\" White\",\" White\",\" Black\",\" White\",\" White\",\" White\",\" White\",\" White\",\" White\",\" White\",\" White\",\" White\",\" White\",\" White\",\" White\",\" White\",\" White\",\" White\",\" White\",\" White\",\" White\",\" White\",\" Black\",\" White\",\" White\",\" White\",\" White\",\" Other\",\" White\",\" White\",\" White\",\" White\",\" White\",\" White\",\" White\",\" White\",\" White\",\" White\",\" White\",\" White\",\" Black\",\" White\",\" White\",\" Black\",\" White\",\" White\",\" Asian-Pac-Islander\",\" Asian-Pac-Islander\",\" White\",\" Black\",\" White\",\" White\",\" Black\",\" White\",\" White\",\" White\",\" White\",\" White\",\" White\",\" White\",\" White\",\" White\",\" White\",\" White\",\" White\",\" White\",\" White\",\" White\",\" White\",\" White\",\" White\",\" White\",\" Black\",\" White\",\" White\",\" Black\",\" White\",\" Amer-Indian-Eskimo\",\" White\",\" White\",\" White\",\" White\",\" White\",\" White\",\" White\",\" White\",\" White\",\" Black\",\" White\",\" White\",\" White\",\" White\",\" White\",\" Black\",\" White\",\" Asian-Pac-Islander\",\" White\",\" White\",\" White\",\" White\",\" White\",\" Asian-Pac-Islander\",\" White\",\" White\",\" White\",\" White\",\" Black\",\" White\",\" White\",\" White\",\" White\",\" Black\",\" White\",\" White\",\" White\",\" White\",\" White\",\" White\",\" White\",\" White\",\" White\",\" White\",\" White\",\" White\",\" White\",\" White\",\" White\",\" White\",\" White\",\" White\",\" White\",\" Black\",\" White\",\" White\",\" White\",\" White\",\" White\",\" Other\",\" White\",\" Black\",\" Black\",\" White\",\" White\",\" Black\",\" White\",\" White\",\" White\",\" White\",\" White\",\" White\",\" White\",\" White\",\" White\",\" White\",\" White\",\" White\",\" White\",\" White\",\" White\",\" Black\",\" White\",\" White\",\" White\",\" White\",\" White\",\" Asian-Pac-Islander\",\" White\",\" White\",\" White\",\" White\",\" White\",\" Asian-Pac-Islander\",\" White\",\" White\",\" White\",\" White\",\" White\",\" White\",\" White\",\" White\",\" White\",\" White\",\" White\",\" White\",\" White\",\" White\",\" Black\",\" White\",\" White\",\" White\",\" White\",\" White\",\" Black\",\" Black\",\" White\",\" White\",\" Black\",\" Black\",\" White\",\" White\",\" White\",\" White\",\" White\",\" White\",\" White\",\" White\",\" White\",\" White\",\" White\",\" White\",\" White\",\" White\",\" White\",\" White\",\" White\",\" White\",\" White\",\" White\",\" Black\",\" White\",\" White\",\" White\",\" White\",\" Amer-Indian-Eskimo\",\" White\",\" White\",\" White\",\" White\",\" White\",\" White\",\" White\",\" White\",\" White\",\" White\",\" White\",\" White\",\" White\",\" White\",\" White\",\" White\",\" White\",\" White\",\" White\",\" White\",\" White\",\" White\",\" White\",\" White\",\" White\",\" White\",\" Black\",\" White\",\" White\",\" White\",\" White\",\" White\",\" Black\",\" White\",\" White\",\" White\",\" White\",\" White\",\" White\",\" White\",\" White\",\" White\",\" White\",\" White\",\" White\",\" White\",\" White\",\" Asian-Pac-Islander\",\" White\",\" White\",\" Asian-Pac-Islander\",\" White\",\" White\",\" Black\",\" White\",\" White\",\" Asian-Pac-Islander\",\" White\",\" White\",\" White\",\" White\",\" Black\",\" White\",\" White\",\" White\",\" White\",\" White\",\" Black\",\" White\",\" White\",\" White\",\" White\",\" White\",\" White\",\" White\",\" White\",\" White\",\" Black\",\" Black\",\" White\",\" White\",\" Asian-Pac-Islander\",\" Black\",\" White\",\" White\",\" White\",\" Amer-Indian-Eskimo\",\" White\",\" White\",\" White\",\" White\",\" White\",\" Black\",\" White\",\" White\",\" White\",\" White\",\" White\",\" White\",\" White\",\" White\",\" White\",\" White\",\" White\",\" White\",\" White\",\" White\",\" White\",\" White\",\" White\",\" White\",\" White\",\" White\",\" White\",\" White\",\" White\",\" Black\",\" White\",\" White\",\" White\",\" White\",\" White\",\" White\",\" White\",\" White\",\" White\",\" White\",\" White\",\" White\",\" White\",\" White\",\" Black\",\" Black\",\" White\",\" White\",\" White\",\" White\",\" Black\",\" White\",\" White\",\" White\",\" White\",\" White\",\" White\",\" White\",\" White\",\" Asian-Pac-Islander\",\" White\",\" White\",\" White\",\" White\",\" White\",\" White\",\" Black\",\" White\",\" White\",\" White\",\" Asian-Pac-Islander\",\" White\",\" White\",\" White\",\" White\",\" White\",\" White\",\" White\",\" White\",\" White\",\" Other\",\" White\",\" White\",\" White\",\" Other\",\" White\",\" White\",\" Black\",\" White\",\" White\",\" Black\",\" White\",\" White\",\" White\",\" White\",\" White\",\" White\",\" White\",\" Asian-Pac-Islander\",\" White\",\" White\",\" White\",\" White\",\" White\",\" White\",\" Black\",\" White\",\" White\",\" White\",\" Black\",\" White\",\" White\",\" Black\",\" Black\",\" White\",\" Black\",\" White\",\" Asian-Pac-Islander\",\" White\",\" White\",\" Black\",\" White\",\" White\",\" Black\",\" White\",\" White\",\" White\",\" White\",\" White\",\" White\",\" White\",\" White\",\" White\",\" Black\",\" White\",\" White\",\" White\",\" White\",\" White\",\" White\",\" White\",\" White\",\" White\",\" White\",\" White\",\" White\",\" White\",\" White\",\" White\",\" White\",\" White\",\" White\",\" White\",\" White\",\" White\",\" White\",\" White\",\" White\",\" White\",\" White\",\" Asian-Pac-Islander\",\" White\",\" White\",\" White\",\" White\",\" White\",\" White\",\" White\",\" White\",\" White\",\" White\",\" White\",\" White\",\" White\",\" White\",\" White\",\" White\",\" White\",\" White\",\" White\",\" White\",\" White\",\" Black\",\" White\",\" White\",\" White\",\" White\",\" White\",\" White\",\" White\",\" White\",\" White\",\" White\",\" White\",\" White\",\" Asian-Pac-Islander\",\" White\",\" White\",\" White\",\" White\",\" White\",\" White\",\" White\",\" White\",\" White\",\" White\",\" White\",\" White\",\" White\",\" Black\",\" Black\",\" White\",\" Black\",\" White\",\" White\",\" White\",\" White\",\" Black\",\" White\",\" White\",\" White\",\" White\",\" Other\",\" White\",\" Black\",\" Black\",\" White\",\" Black\",\" White\",\" White\",\" White\",\" White\",\" Other\",\" White\",\" White\",\" White\",\" White\",\" White\",\" White\",\" White\",\" White\",\" White\",\" Asian-Pac-Islander\",\" White\",\" White\",\" White\",\" White\",\" White\",\" White\",\" White\",\" White\",\" White\",\" White\",\" White\",\" White\",\" White\",\" White\",\" Black\",\" White\",\" White\",\" White\",\" White\",\" White\",\" White\",\" White\",\" White\",\" White\",\" White\",\" White\",\" White\",\" Amer-Indian-Eskimo\",\" White\",\" Black\",\" White\",\" White\",\" Amer-Indian-Eskimo\",\" White\",\" White\",\" Black\",\" Black\",\" White\",\" White\",\" White\",\" White\",\" Asian-Pac-Islander\",\" White\",\" White\",\" White\",\" White\",\" Amer-Indian-Eskimo\",\" White\",\" White\",\" White\",\" White\",\" White\",\" White\",\" White\",\" White\",\" White\",\" White\",\" White\",\" White\",\" White\",\" White\",\" White\",\" Amer-Indian-Eskimo\",\" White\",\" White\",\" Other\",\" White\",\" White\",\" White\",\" White\",\" White\",\" Black\",\" Black\",\" White\",\" Black\",\" White\",\" White\",\" Black\",\" White\",\" White\",\" White\",\" White\",\" White\",\" Black\",\" Black\",\" White\",\" White\",\" White\",\" White\",\" White\",\" White\",\" White\",\" White\",\" White\",\" White\",\" White\",\" White\",\" White\",\" White\",\" White\",\" White\",\" White\",\" White\",\" White\",\" White\",\" White\",\" White\",\" White\",\" White\",\" Other\",\" White\",\" White\",\" White\",\" White\",\" White\",\" Black\",\" White\",\" White\",\" White\",\" Black\",\" White\",\" White\",\" White\",\" White\",\" White\",\" White\",\" Black\",\" White\",\" White\",\" White\",\" White\",\" White\",\" White\",\" White\",\" White\",\" White\",\" White\",\" White\",\" White\",\" White\",\" White\",\" White\",\" White\",\" White\",\" White\",\" White\",\" White\",\" White\",\" White\",\" White\",\" White\",\" White\",\" White\",\" White\",\" White\",\" Black\",\" White\",\" White\",\" White\",\" White\",\" White\",\" White\",\" White\",\" Black\",\" White\",\" White\",\" Black\",\" Black\",\" Black\",\" White\",\" Black\",\" White\",\" White\",\" White\",\" White\",\" Asian-Pac-Islander\",\" White\",\" Asian-Pac-Islander\",\" White\",\" Black\",\" Black\",\" White\",\" White\",\" White\",\" White\",\" Asian-Pac-Islander\",\" White\",\" White\",\" White\",\" White\",\" White\",\" White\",\" White\",\" White\",\" White\",\" White\",\" White\",\" White\",\" White\",\" White\",\" White\",\" White\",\" White\",\" White\",\" White\",\" Black\",\" Black\",\" White\",\" White\",\" White\",\" White\",\" Black\",\" White\",\" White\",\" White\",\" White\",\" White\",\" White\",\" White\",\" Black\",\" White\",\" White\",\" White\",\" White\",\" White\",\" Other\",\" White\",\" Black\",\" White\",\" White\",\" White\",\" Black\",\" White\",\" White\",\" White\",\" White\",\" White\",\" White\",\" White\",\" White\",\" Black\",\" White\",\" White\",\" Black\",\" White\",\" White\",\" White\",\" White\",\" White\",\" Black\",\" White\",\" White\",\" White\",\" White\",\" White\",\" White\",\" White\",\" White\",\" White\",\" White\",\" White\",\" Black\",\" White\",\" White\",\" White\",\" White\",\" Black\",\" White\",\" White\",\" Black\",\" White\",\" White\",\" Amer-Indian-Eskimo\",\" White\",\" White\",\" White\",\" Black\",\" White\",\" White\",\" White\",\" Black\",\" White\",\" White\",\" Other\",\" White\",\" White\",\" White\",\" White\",\" White\",\" White\",\" White\",\" White\",\" White\",\" White\",\" White\",\" White\",\" Asian-Pac-Islander\",\" White\",\" White\",\" White\",\" White\",\" White\",\" White\",\" White\",\" White\",\" White\",\" White\",\" White\",\" White\",\" White\",\" White\",\" White\",\" White\",\" White\",\" White\",\" White\",\" White\",\" White\",\" White\",\" Black\",\" White\",\" Black\",\" White\",\" White\",\" White\",\" White\",\" White\",\" White\",\" Black\",\" White\",\" White\",\" White\",\" White\",\" White\",\" White\",\" White\",\" White\",\" Black\",\" White\",\" White\",\" White\",\" White\",\" White\",\" Asian-Pac-Islander\",\" White\",\" White\",\" Asian-Pac-Islander\",\" White\",\" White\",\" White\",\" Black\",\" White\",\" White\",\" White\",\" Amer-Indian-Eskimo\",\" White\",\" White\",\" White\",\" White\",\" White\",\" White\",\" White\",\" White\",\" White\",\" White\",\" White\",\" White\",\" White\",\" White\",\" White\",\" White\",\" Black\",\" White\",\" Black\",\" White\",\" White\",\" White\",\" Asian-Pac-Islander\",\" White\",\" White\",\" Black\",\" Black\",\" White\",\" White\",\" White\",\" White\",\" White\",\" White\",\" White\",\" White\",\" White\",\" White\",\" White\",\" Black\",\" White\",\" White\",\" White\",\" White\",\" White\",\" Black\",\" White\",\" Black\",\" White\",\" Other\",\" White\",\" White\",\" White\",\" White\",\" White\",\" Black\",\" White\",\" White\",\" White\",\" Asian-Pac-Islander\",\" White\",\" White\",\" White\",\" White\",\" Asian-Pac-Islander\",\" Asian-Pac-Islander\",\" White\",\" Black\",\" White\",\" White\",\" White\",\" Asian-Pac-Islander\",\" White\",\" White\",\" White\",\" White\",\" White\",\" Black\",\" Asian-Pac-Islander\",\" Black\",\" White\",\" Black\",\" White\",\" White\",\" White\",\" Black\",\" White\",\" Black\",\" White\",\" White\",\" Black\",\" White\",\" White\",\" White\",\" White\",\" White\",\" Black\",\" White\",\" White\",\" White\",\" White\",\" Black\",\" White\",\" White\",\" White\",\" Black\",\" White\",\" White\",\" White\",\" White\",\" White\",\" White\",\" White\",\" White\",\" White\",\" Asian-Pac-Islander\",\" Black\",\" White\",\" White\",\" Other\",\" Black\",\" White\",\" White\",\" White\",\" White\",\" Asian-Pac-Islander\",\" White\",\" White\",\" White\",\" White\",\" White\",\" Black\",\" White\",\" White\",\" White\",\" White\",\" Black\",\" White\",\" White\",\" White\",\" White\",\" White\",\" Black\",\" White\",\" White\",\" White\",\" White\",\" White\",\" Black\",\" White\",\" Asian-Pac-Islander\",\" White\",\" White\",\" White\",\" White\",\" White\",\" White\",\" White\",\" White\",\" White\",\" White\",\" White\",\" White\",\" White\",\" White\",\" White\",\" White\",\" Black\",\" Asian-Pac-Islander\",\" White\",\" White\",\" Black\",\" White\",\" White\",\" White\",\" White\",\" White\",\" White\",\" White\",\" White\",\" White\",\" White\",\" White\",\" White\",\" White\",\" White\",\" White\",\" White\",\" White\",\" White\",\" White\",\" White\",\" White\",\" White\",\" White\",\" White\",\" Black\",\" White\",\" White\",\" White\",\" White\",\" White\",\" White\",\" White\",\" White\",\" Black\",\" White\",\" White\",\" White\",\" White\",\" White\",\" White\",\" White\",\" White\",\" White\",\" White\",\" White\",\" White\",\" White\",\" White\",\" White\",\" White\",\" White\",\" White\",\" Asian-Pac-Islander\",\" White\",\" White\",\" White\",\" White\",\" White\",\" White\",\" White\",\" White\",\" White\",\" White\",\" White\",\" White\",\" White\",\" Other\",\" White\",\" White\",\" White\",\" White\",\" White\",\" Black\",\" White\",\" White\",\" White\",\" White\",\" White\",\" White\",\" White\",\" White\",\" White\",\" White\",\" White\",\" Black\",\" White\",\" White\",\" Black\",\" White\",\" White\",\" Black\",\" White\",\" White\",\" White\",\" White\",\" White\",\" White\",\" White\",\" White\",\" White\",\" Black\",\" Asian-Pac-Islander\",\" White\",\" White\",\" White\",\" White\",\" White\",\" White\",\" White\",\" White\",\" White\",\" White\",\" White\",\" White\",\" White\",\" White\",\" White\",\" White\",\" White\",\" White\",\" White\",\" White\",\" White\",\" White\",\" White\",\" White\",\" White\",\" White\",\" White\",\" White\",\" White\",\" White\",\" White\",\" White\",\" White\",\" White\",\" White\",\" White\",\" Black\",\" White\",\" Other\",\" White\",\" White\",\" White\",\" White\",\" White\",\" White\",\" White\",\" White\",\" White\",\" White\",\" White\",\" White\",\" White\",\" White\",\" White\",\" White\",\" White\",\" White\",\" White\",\" White\",\" White\",\" White\",\" White\",\" White\",\" White\",\" Asian-Pac-Islander\",\" White\",\" Black\",\" White\",\" Amer-Indian-Eskimo\",\" White\",\" White\",\" White\",\" White\",\" White\",\" White\",\" Black\",\" White\",\" White\",\" White\",\" Black\",\" White\",\" White\",\" White\",\" Asian-Pac-Islander\",\" White\",\" White\",\" White\",\" White\",\" White\",\" White\",\" White\",\" White\",\" White\",\" White\",\" White\",\" White\",\" White\",\" White\",\" White\",\" White\",\" White\",\" White\",\" White\",\" White\",\" White\",\" Black\",\" White\",\" White\",\" White\",\" White\",\" White\",\" Black\",\" White\",\" White\",\" White\",\" White\",\" White\",\" White\",\" White\",\" White\",\" White\",\" White\",\" White\",\" White\",\" White\",\" White\",\" White\",\" White\",\" White\",\" White\",\" White\",\" White\",\" White\",\" White\",\" White\",\" White\",\" White\",\" White\",\" White\",\" White\",\" White\",\" Black\",\" White\",\" White\",\" Asian-Pac-Islander\",\" Asian-Pac-Islander\",\" White\",\" Black\",\" White\",\" White\",\" White\",\" White\",\" White\",\" Other\",\" White\",\" Amer-Indian-Eskimo\",\" White\",\" White\",\" White\",\" White\",\" Black\",\" White\",\" White\",\" Black\",\" White\",\" White\",\" White\",\" White\",\" White\",\" White\",\" White\",\" White\",\" White\",\" Black\",\" White\",\" White\",\" White\",\" Black\",\" White\",\" White\",\" White\",\" White\",\" White\",\" White\",\" White\",\" White\",\" White\",\" White\",\" White\",\" White\",\" White\",\" White\",\" White\",\" White\",\" White\",\" White\",\" Black\",\" White\",\" White\",\" White\",\" White\",\" White\",\" White\",\" White\",\" White\",\" White\",\" White\",\" White\",\" White\",\" White\",\" White\",\" White\",\" White\",\" White\",\" White\",\" Black\",\" White\",\" White\",\" Black\",\" White\",\" White\",\" White\",\" White\",\" White\",\" White\",\" White\",\" White\",\" White\",\" Black\",\" White\",\" White\",\" White\",\" White\",\" White\",\" White\",\" Black\",\" White\",\" White\",\" White\",\" White\",\" White\",\" White\",\" White\",\" White\",\" White\",\" White\",\" Asian-Pac-Islander\",\" White\",\" White\",\" White\",\" White\",\" White\",\" White\",\" White\",\" White\",\" White\",\" Black\",\" White\",\" White\",\" White\",\" Black\",\" White\",\" White\",\" White\",\" White\",\" White\",\" White\",\" White\",\" White\",\" White\",\" White\",\" White\",\" White\",\" White\",\" White\",\" Black\",\" White\",\" White\",\" White\",\" White\",\" Amer-Indian-Eskimo\",\" White\",\" White\",\" White\",\" White\",\" White\",\" White\",\" White\",\" White\",\" White\",\" White\",\" White\",\" Black\",\" White\",\" Asian-Pac-Islander\",\" White\",\" White\",\" White\",\" White\",\" White\",\" White\",\" Black\",\" White\",\" White\",\" White\",\" White\",\" White\",\" White\",\" White\",\" White\",\" White\",\" White\",\" White\",\" White\",\" White\",\" White\",\" Black\",\" Amer-Indian-Eskimo\",\" White\",\" Black\",\" White\",\" White\",\" White\",\" White\",\" White\",\" White\",\" White\",\" White\",\" White\",\" White\",\" Black\",\" Asian-Pac-Islander\",\" White\",\" White\",\" White\",\" White\",\" White\",\" White\",\" White\",\" White\",\" White\",\" White\",\" White\",\" White\",\" White\",\" White\",\" White\",\" White\",\" White\",\" White\",\" White\",\" White\",\" White\",\" White\",\" White\",\" Amer-Indian-Eskimo\",\" Asian-Pac-Islander\",\" Black\",\" White\",\" White\",\" White\",\" White\",\" White\",\" Asian-Pac-Islander\",\" White\",\" White\",\" White\",\" White\",\" White\",\" Black\",\" Black\",\" White\",\" White\",\" White\",\" White\",\" White\",\" White\",\" White\",\" White\",\" White\",\" White\",\" White\",\" White\",\" White\",\" Asian-Pac-Islander\",\" White\",\" White\",\" White\",\" White\",\" White\",\" Black\",\" White\",\" White\",\" Asian-Pac-Islander\",\" Asian-Pac-Islander\",\" White\",\" White\",\" White\",\" White\",\" White\",\" White\",\" White\",\" White\",\" White\",\" White\",\" Black\",\" White\",\" White\",\" Black\",\" White\",\" White\",\" White\",\" Amer-Indian-Eskimo\",\" White\",\" White\",\" Black\",\" White\",\" White\",\" White\",\" White\",\" White\",\" White\",\" White\",\" White\",\" White\",\" White\",\" White\",\" White\",\" Asian-Pac-Islander\",\" White\",\" White\",\" White\",\" White\",\" White\",\" White\",\" White\",\" White\",\" White\",\" White\",\" White\",\" White\",\" Asian-Pac-Islander\",\" White\",\" White\",\" White\",\" White\",\" White\",\" White\",\" White\",\" White\",\" White\",\" White\",\" White\",\" White\",\" White\",\" White\",\" White\",\" White\",\" White\",\" White\",\" White\",\" White\",\" White\",\" White\",\" White\",\" White\",\" White\",\" White\",\" White\",\" White\",\" White\",\" White\",\" White\",\" White\",\" White\",\" White\",\" White\",\" White\",\" White\",\" Black\",\" Asian-Pac-Islander\",\" White\",\" White\",\" White\",\" White\",\" White\",\" White\",\" White\",\" White\",\" Other\",\" Asian-Pac-Islander\",\" White\",\" Black\",\" White\",\" Black\",\" White\",\" Black\",\" White\",\" White\",\" Other\",\" White\",\" White\",\" White\",\" White\",\" White\",\" Black\",\" White\",\" White\",\" White\",\" White\",\" White\",\" White\",\" White\",\" White\",\" White\",\" White\",\" White\",\" White\",\" White\",\" White\",\" White\",\" Asian-Pac-Islander\",\" White\",\" White\",\" White\",\" White\",\" White\",\" White\",\" White\",\" White\",\" Black\",\" White\",\" White\",\" White\",\" White\",\" White\",\" White\",\" White\",\" White\",\" White\",\" White\",\" White\",\" White\",\" White\",\" White\",\" White\",\" White\",\" Black\",\" White\",\" White\",\" White\",\" White\",\" White\",\" White\",\" White\",\" White\",\" White\",\" White\",\" White\",\" White\",\" White\",\" White\",\" Asian-Pac-Islander\",\" White\",\" White\",\" White\",\" White\",\" White\",\" White\",\" Black\",\" White\",\" Black\",\" White\",\" Black\",\" White\",\" White\",\" White\",\" White\",\" White\",\" White\",\" White\",\" White\",\" White\",\" White\",\" White\",\" White\",\" White\",\" White\",\" White\",\" White\",\" White\",\" Black\",\" White\",\" White\",\" White\",\" White\",\" White\",\" White\",\" White\",\" White\",\" Amer-Indian-Eskimo\",\" White\",\" White\",\" Asian-Pac-Islander\",\" Black\",\" White\",\" White\",\" Amer-Indian-Eskimo\",\" White\",\" White\",\" Black\",\" White\",\" White\",\" White\",\" White\",\" White\",\" White\",\" White\",\" White\",\" Amer-Indian-Eskimo\",\" White\",\" White\",\" White\",\" White\",\" White\",\" White\",\" White\",\" White\",\" White\",\" White\",\" White\",\" White\",\" White\",\" Asian-Pac-Islander\",\" White\",\" White\",\" White\",\" White\",\" White\",\" White\",\" White\",\" Black\",\" White\",\" White\",\" White\",\" White\",\" White\",\" White\",\" White\",\" White\",\" White\",\" White\",\" White\",\" White\",\" White\",\" White\",\" White\",\" White\",\" White\",\" White\",\" White\",\" White\",\" White\",\" White\",\" White\",\" White\",\" White\",\" White\",\" Asian-Pac-Islander\",\" White\",\" White\",\" Black\",\" White\",\" Other\",\" White\",\" White\",\" White\",\" White\",\" White\",\" White\",\" White\",\" Other\",\" White\",\" White\",\" White\",\" White\",\" White\",\" White\",\" White\",\" Black\",\" Black\",\" White\",\" White\",\" White\",\" White\",\" Other\",\" White\",\" White\",\" Black\",\" Black\",\" Black\",\" White\",\" White\",\" White\",\" White\",\" White\",\" Black\",\" White\",\" White\",\" White\",\" White\",\" White\",\" White\",\" White\",\" White\",\" White\",\" White\",\" White\",\" White\",\" White\",\" White\",\" White\",\" White\",\" White\",\" White\",\" White\",\" White\",\" White\",\" White\",\" White\",\" White\",\" White\",\" White\",\" White\",\" White\",\" White\",\" White\",\" White\",\" White\",\" White\",\" Black\",\" White\",\" White\",\" White\",\" White\",\" Other\",\" White\",\" White\",\" White\",\" White\",\" White\",\" White\",\" White\",\" White\",\" White\",\" White\",\" White\",\" White\",\" White\",\" Asian-Pac-Islander\",\" Black\",\" Asian-Pac-Islander\",\" White\",\" White\",\" White\",\" White\",\" White\",\" White\",\" White\",\" White\",\" White\",\" White\",\" White\",\" White\",\" White\",\" White\",\" White\",\" Black\",\" Black\",\" White\",\" Black\",\" Black\",\" White\",\" White\",\" White\",\" White\",\" White\",\" White\",\" White\",\" Asian-Pac-Islander\",\" White\",\" White\",\" White\",\" White\",\" White\",\" White\",\" White\",\" White\",\" White\",\" White\",\" White\",\" White\",\" Amer-Indian-Eskimo\",\" White\",\" White\",\" White\",\" White\",\" White\",\" White\",\" Black\",\" Amer-Indian-Eskimo\",\" White\",\" White\",\" White\",\" White\",\" White\",\" Asian-Pac-Islander\",\" White\",\" White\",\" White\",\" White\",\" White\",\" White\",\" White\",\" White\",\" White\",\" White\",\" White\",\" White\",\" White\",\" White\",\" White\",\" White\",\" White\",\" White\",\" White\",\" White\",\" White\",\" White\",\" White\",\" White\",\" White\",\" White\",\" White\",\" White\",\" White\",\" White\",\" White\",\" White\",\" Other\",\" White\",\" White\",\" White\",\" White\",\" White\",\" Black\",\" White\",\" White\",\" White\",\" White\",\" White\",\" White\",\" White\",\" White\",\" White\",\" White\",\" White\",\" White\",\" Black\",\" White\",\" White\",\" White\",\" White\",\" White\",\" White\",\" White\",\" White\",\" White\",\" White\",\" Black\",\" White\",\" Black\",\" White\",\" White\",\" White\",\" White\",\" White\",\" White\",\" White\",\" White\",\" White\",\" White\",\" White\",\" White\",\" White\",\" Black\",\" White\",\" White\",\" White\",\" White\",\" White\",\" White\",\" White\",\" White\",\" Black\",\" White\",\" White\",\" White\",\" Black\",\" Other\",\" White\",\" White\",\" White\",\" White\",\" Black\",\" White\",\" White\",\" Black\",\" White\",\" White\",\" White\",\" White\",\" White\",\" White\",\" White\",\" Black\",\" White\",\" White\",\" White\",\" White\",\" White\",\" White\",\" White\",\" White\",\" White\",\" White\",\" White\",\" White\",\" Other\",\" White\",\" White\",\" White\",\" White\",\" White\",\" White\",\" White\",\" White\",\" Other\",\" White\",\" White\",\" White\",\" White\",\" White\",\" White\",\" Amer-Indian-Eskimo\",\" White\",\" White\",\" White\",\" White\",\" White\",\" White\",\" White\",\" White\",\" White\",\" White\",\" White\",\" White\",\" White\",\" White\",\" Amer-Indian-Eskimo\",\" White\",\" White\",\" White\",\" White\",\" White\",\" White\",\" White\",\" White\",\" White\",\" White\",\" White\",\" White\",\" White\",\" White\",\" Black\",\" White\",\" White\",\" White\",\" White\",\" White\",\" White\",\" Black\",\" White\",\" White\",\" Black\",\" Black\",\" White\",\" White\",\" Black\",\" White\",\" Black\",\" White\",\" Amer-Indian-Eskimo\",\" White\",\" White\",\" White\",\" Black\",\" White\",\" White\",\" Black\",\" White\",\" White\",\" White\",\" White\",\" White\",\" White\",\" White\",\" White\",\" White\",\" Amer-Indian-Eskimo\",\" White\",\" White\",\" White\",\" White\",\" White\",\" White\",\" White\",\" White\",\" White\",\" White\",\" Black\",\" White\",\" White\",\" White\",\" White\",\" White\",\" White\",\" White\",\" White\",\" Black\",\" White\",\" White\",\" White\",\" White\",\" Asian-Pac-Islander\",\" White\",\" White\",\" Black\",\" White\",\" White\",\" White\",\" White\",\" Black\",\" White\",\" Black\",\" Asian-Pac-Islander\",\" Asian-Pac-Islander\",\" White\",\" White\",\" White\",\" Black\",\" White\",\" White\",\" White\",\" White\",\" White\",\" White\",\" White\",\" White\",\" White\",\" Amer-Indian-Eskimo\",\" Black\",\" White\",\" Other\",\" Black\",\" White\",\" White\",\" White\",\" White\",\" White\",\" White\",\" White\",\" White\",\" White\",\" White\",\" Other\",\" White\",\" White\",\" White\",\" White\",\" White\",\" White\",\" White\",\" White\",\" White\",\" White\",\" White\",\" White\",\" Asian-Pac-Islander\",\" White\",\" White\",\" White\",\" White\",\" White\",\" Black\",\" White\",\" White\",\" Black\",\" White\",\" White\",\" White\",\" White\",\" White\",\" White\",\" White\",\" White\",\" Asian-Pac-Islander\",\" White\",\" White\",\" White\",\" White\",\" White\",\" White\",\" White\",\" White\",\" White\",\" White\",\" White\",\" White\",\" White\",\" White\",\" White\",\" White\",\" White\",\" White\",\" White\",\" Black\",\" White\",\" White\",\" White\",\" White\",\" White\",\" White\",\" White\",\" Other\",\" White\",\" White\",\" White\",\" White\",\" White\",\" White\",\" White\",\" White\",\" White\",\" White\",\" White\",\" White\",\" White\",\" White\",\" White\",\" White\",\" White\",\" Black\",\" White\",\" White\",\" Black\",\" Black\",\" White\",\" Asian-Pac-Islander\",\" White\",\" White\",\" White\",\" White\",\" White\",\" Black\",\" White\",\" White\",\" Black\",\" White\",\" White\",\" White\",\" Black\",\" Black\",\" White\",\" Black\",\" White\",\" White\",\" White\",\" White\",\" White\",\" White\",\" White\",\" White\",\" White\",\" White\",\" White\",\" White\",\" White\",\" White\",\" White\",\" White\",\" White\",\" White\",\" White\",\" White\",\" Asian-Pac-Islander\",\" White\",\" White\",\" White\",\" White\",\" White\",\" White\",\" White\",\" White\",\" White\",\" Amer-Indian-Eskimo\",\" Black\",\" White\",\" White\",\" White\",\" White\",\" White\",\" White\",\" White\",\" Black\",\" Black\",\" Black\",\" White\",\" White\",\" White\",\" White\",\" Asian-Pac-Islander\",\" White\",\" White\",\" White\",\" White\",\" White\",\" White\",\" White\",\" White\",\" White\",\" White\",\" White\",\" White\",\" White\",\" White\",\" White\",\" White\",\" White\",\" White\",\" White\",\" White\",\" Asian-Pac-Islander\",\" White\",\" White\",\" White\",\" White\",\" White\",\" White\",\" White\",\" Black\",\" White\",\" White\",\" White\",\" White\",\" White\",\" Black\",\" White\",\" White\",\" White\",\" White\",\" White\",\" White\",\" White\",\" White\",\" White\",\" Asian-Pac-Islander\",\" White\",\" White\",\" Black\",\" White\",\" White\",\" White\",\" White\",\" White\",\" White\",\" Asian-Pac-Islander\",\" White\",\" White\",\" White\",\" White\",\" White\",\" White\",\" White\",\" White\",\" White\",\" Asian-Pac-Islander\",\" White\",\" White\",\" White\",\" White\",\" White\",\" White\",\" White\",\" White\",\" White\",\" White\",\" Asian-Pac-Islander\",\" White\",\" Black\",\" White\",\" White\",\" White\",\" Black\",\" White\",\" White\",\" White\",\" Asian-Pac-Islander\",\" White\",\" Black\",\" Black\",\" White\",\" White\",\" White\",\" White\",\" White\",\" White\",\" White\",\" White\",\" White\",\" White\",\" Black\",\" White\",\" White\",\" White\",\" Black\",\" White\",\" White\",\" White\",\" White\",\" White\",\" White\",\" White\",\" White\",\" White\",\" Other\",\" White\",\" White\",\" White\",\" White\",\" White\",\" White\",\" White\",\" White\",\" White\",\" White\",\" White\",\" White\",\" White\",\" White\",\" White\",\" White\",\" White\",\" Black\",\" White\",\" White\",\" White\",\" White\",\" White\",\" White\",\" White\",\" White\",\" White\",\" White\",\" White\",\" White\",\" White\",\" White\",\" White\",\" White\",\" Asian-Pac-Islander\",\" Asian-Pac-Islander\",\" Black\",\" White\",\" Black\",\" White\",\" White\",\" White\",\" White\",\" White\",\" White\",\" White\",\" White\",\" White\",\" White\",\" White\",\" White\",\" White\",\" White\",\" White\",\" White\",\" White\",\" White\",\" White\",\" White\",\" White\",\" White\",\" White\",\" White\",\" White\",\" Amer-Indian-Eskimo\",\" White\",\" Black\",\" White\",\" White\",\" White\",\" White\",\" White\",\" Black\",\" White\",\" White\",\" White\",\" White\",\" White\",\" White\",\" White\",\" White\",\" White\",\" White\",\" White\",\" White\",\" White\",\" White\",\" White\",\" Asian-Pac-Islander\",\" White\",\" White\",\" White\",\" White\",\" White\",\" White\",\" White\",\" White\",\" White\",\" White\",\" White\",\" White\",\" White\",\" White\",\" White\",\" White\",\" White\",\" White\",\" White\",\" White\",\" White\",\" White\",\" White\",\" White\",\" Asian-Pac-Islander\",\" White\",\" White\",\" White\",\" White\",\" Black\",\" Asian-Pac-Islander\",\" White\",\" White\",\" White\",\" Asian-Pac-Islander\",\" White\",\" White\",\" White\",\" Other\",\" White\",\" White\",\" White\",\" White\",\" White\",\" White\",\" White\",\" White\",\" White\",\" White\",\" White\",\" White\",\" White\",\" White\",\" White\",\" White\",\" White\",\" White\",\" White\",\" White\",\" White\",\" White\",\" White\",\" White\",\" White\",\" White\",\" White\",\" White\",\" White\",\" White\",\" White\",\" White\",\" White\",\" White\",\" White\",\" White\",\" White\",\" White\",\" White\",\" White\",\" White\",\" White\",\" White\",\" White\",\" White\",\" Amer-Indian-Eskimo\",\" White\",\" White\",\" White\",\" White\",\" White\",\" White\",\" Black\",\" Black\",\" White\",\" White\",\" White\",\" White\",\" White\",\" White\",\" White\",\" Black\",\" White\",\" White\",\" White\",\" White\",\" White\",\" White\",\" White\",\" Black\",\" White\",\" White\",\" Black\",\" White\",\" White\",\" White\",\" White\",\" White\",\" White\",\" White\",\" White\",\" White\",\" White\",\" White\",\" White\",\" Asian-Pac-Islander\",\" Other\",\" White\",\" White\",\" White\",\" White\",\" White\",\" White\",\" White\",\" White\",\" White\",\" White\",\" White\",\" White\",\" White\",\" White\",\" White\",\" Black\",\" White\",\" White\",\" White\",\" White\",\" White\",\" White\",\" White\",\" White\",\" White\",\" White\",\" White\",\" White\",\" White\",\" Asian-Pac-Islander\",\" White\",\" White\",\" White\",\" White\",\" White\",\" White\",\" White\",\" White\",\" White\",\" White\",\" White\",\" White\",\" White\",\" White\",\" White\",\" Asian-Pac-Islander\",\" Black\",\" White\",\" White\",\" White\",\" White\",\" Black\",\" White\",\" White\",\" White\",\" Black\",\" White\",\" White\",\" White\",\" White\",\" White\",\" White\",\" White\",\" White\",\" White\",\" White\",\" White\",\" White\",\" White\",\" White\",\" White\",\" White\",\" Asian-Pac-Islander\",\" White\",\" White\",\" White\",\" White\",\" White\",\" White\",\" White\",\" White\",\" White\",\" White\",\" White\",\" White\",\" White\",\" White\",\" White\",\" White\",\" Amer-Indian-Eskimo\",\" White\",\" White\",\" White\",\" White\",\" White\",\" White\",\" White\",\" White\",\" Black\",\" White\",\" White\",\" White\",\" Amer-Indian-Eskimo\",\" White\",\" White\",\" White\",\" White\",\" White\",\" Black\",\" White\",\" Asian-Pac-Islander\",\" White\",\" Black\",\" White\",\" White\",\" White\",\" White\",\" White\",\" White\",\" Asian-Pac-Islander\",\" White\",\" Black\",\" Other\",\" White\",\" White\",\" White\",\" White\",\" Black\",\" White\",\" White\",\" White\",\" White\",\" White\",\" White\",\" White\",\" White\",\" White\",\" White\",\" White\",\" White\",\" Black\",\" White\",\" White\",\" White\",\" White\",\" White\",\" White\",\" White\",\" White\",\" White\",\" White\",\" White\",\" White\",\" White\",\" White\",\" White\",\" White\",\" White\",\" Black\",\" White\",\" White\",\" White\",\" White\",\" White\",\" Black\",\" Amer-Indian-Eskimo\",\" White\",\" White\",\" Black\",\" Asian-Pac-Islander\",\" White\",\" White\",\" White\",\" Black\",\" White\",\" Black\",\" White\",\" White\",\" Black\",\" White\",\" White\",\" White\",\" White\",\" White\",\" White\",\" White\",\" White\",\" White\",\" White\",\" White\",\" White\",\" Asian-Pac-Islander\",\" White\",\" Black\",\" Amer-Indian-Eskimo\",\" White\",\" Other\",\" White\",\" Asian-Pac-Islander\",\" White\",\" White\",\" White\",\" White\",\" Black\",\" White\",\" White\",\" White\",\" Black\",\" Black\",\" Black\",\" White\",\" White\",\" Other\",\" White\",\" White\",\" Black\",\" Asian-Pac-Islander\",\" White\",\" White\",\" White\",\" White\",\" Black\",\" White\",\" White\",\" White\",\" White\",\" Asian-Pac-Islander\",\" White\",\" White\",\" Asian-Pac-Islander\",\" Black\",\" White\",\" White\",\" White\",\" White\",\" White\",\" Other\",\" White\",\" White\",\" White\",\" White\",\" White\",\" Black\",\" White\",\" White\",\" White\",\" White\",\" White\",\" White\",\" White\",\" White\",\" White\",\" White\",\" Black\",\" White\",\" White\",\" White\",\" White\",\" White\",\" White\",\" White\",\" White\",\" White\",\" White\",\" White\",\" White\",\" White\",\" White\",\" Other\",\" White\",\" Black\",\" White\",\" White\",\" White\",\" White\",\" Black\",\" Black\",\" Black\",\" White\",\" White\",\" White\",\" White\",\" White\",\" White\",\" White\",\" White\",\" White\",\" White\",\" White\",\" White\",\" White\",\" White\",\" White\",\" White\",\" Black\",\" White\",\" Asian-Pac-Islander\",\" White\",\" Black\",\" White\",\" Black\",\" White\",\" White\",\" White\",\" White\",\" White\",\" Other\",\" White\",\" White\",\" White\",\" White\",\" White\",\" White\",\" White\",\" White\",\" White\",\" White\",\" Asian-Pac-Islander\",\" White\",\" Black\",\" White\",\" White\",\" White\",\" White\",\" White\",\" White\",\" White\",\" Black\",\" White\",\" White\",\" White\",\" White\",\" Black\",\" White\",\" White\",\" White\",\" White\",\" White\",\" White\",\" White\",\" White\",\" White\",\" White\",\" White\",\" White\",\" White\",\" Asian-Pac-Islander\",\" White\",\" White\",\" White\",\" White\",\" Amer-Indian-Eskimo\",\" White\",\" Other\",\" White\",\" White\",\" White\",\" Amer-Indian-Eskimo\",\" White\",\" White\",\" White\",\" Black\",\" White\",\" White\",\" White\",\" White\",\" White\",\" White\",\" White\",\" White\",\" White\",\" White\",\" White\",\" Black\",\" White\",\" White\",\" White\",\" Asian-Pac-Islander\",\" White\",\" White\",\" Black\",\" White\",\" Black\",\" White\",\" White\",\" White\",\" White\",\" White\",\" White\",\" White\",\" White\",\" White\",\" White\",\" White\",\" White\",\" White\",\" White\",\" White\",\" White\",\" White\",\" White\",\" White\",\" Other\",\" White\",\" White\",\" Black\",\" White\",\" White\",\" White\",\" White\",\" White\",\" White\",\" White\",\" White\",\" White\",\" White\",\" White\",\" Other\",\" White\",\" White\",\" White\",\" White\",\" White\",\" White\",\" Black\",\" White\",\" White\",\" White\",\" White\",\" Amer-Indian-Eskimo\",\" White\",\" White\",\" White\",\" White\",\" White\",\" White\",\" White\",\" White\",\" White\",\" White\",\" Black\",\" White\",\" White\",\" Amer-Indian-Eskimo\",\" White\",\" White\",\" White\",\" White\",\" White\",\" White\",\" Amer-Indian-Eskimo\",\" White\",\" White\",\" White\",\" White\",\" White\",\" White\",\" White\",\" White\",\" White\",\" White\",\" White\",\" White\",\" White\",\" White\",\" White\",\" White\",\" White\",\" Asian-Pac-Islander\",\" White\",\" White\",\" White\",\" White\",\" Asian-Pac-Islander\",\" White\",\" White\",\" White\",\" White\",\" White\",\" White\",\" White\",\" White\",\" White\",\" White\",\" White\",\" White\",\" White\",\" White\",\" White\",\" White\",\" White\",\" White\",\" White\",\" Black\",\" White\",\" White\",\" White\",\" White\",\" White\",\" White\",\" White\",\" White\",\" White\",\" White\",\" White\",\" Black\",\" White\",\" White\",\" White\",\" White\",\" White\",\" White\",\" White\",\" White\",\" White\",\" White\",\" White\",\" White\",\" White\",\" White\",\" White\",\" White\",\" White\",\" White\",\" White\",\" White\",\" White\",\" White\",\" White\",\" White\",\" Black\",\" White\",\" White\",\" White\",\" White\",\" White\",\" White\",\" Black\",\" White\",\" White\",\" Black\",\" Asian-Pac-Islander\",\" White\",\" White\",\" White\",\" White\",\" White\",\" Black\",\" White\",\" Asian-Pac-Islander\",\" White\",\" Black\",\" White\",\" White\",\" Black\",\" White\",\" Asian-Pac-Islander\",\" Black\",\" White\",\" White\",\" Other\",\" White\",\" White\",\" Black\",\" White\",\" White\",\" Asian-Pac-Islander\",\" White\",\" White\",\" Asian-Pac-Islander\",\" White\",\" White\",\" White\",\" White\",\" White\",\" White\",\" White\",\" White\",\" White\",\" White\",\" White\",\" White\",\" White\",\" White\",\" White\",\" White\",\" Other\",\" White\",\" White\",\" White\",\" White\",\" White\",\" White\",\" White\",\" White\",\" White\",\" White\",\" White\",\" White\",\" White\",\" White\",\" White\",\" White\",\" White\",\" Black\",\" White\",\" White\",\" White\",\" White\",\" White\",\" White\",\" White\",\" White\",\" White\",\" White\",\" White\",\" White\",\" White\",\" White\",\" White\",\" White\",\" White\",\" White\",\" White\",\" White\",\" White\",\" White\",\" White\",\" Asian-Pac-Islander\",\" White\",\" Black\",\" White\",\" White\",\" White\",\" White\",\" White\",\" White\",\" White\",\" White\",\" White\",\" White\",\" White\",\" White\",\" White\",\" White\",\" White\",\" White\",\" White\",\" Amer-Indian-Eskimo\",\" Black\",\" White\",\" White\",\" White\",\" White\",\" White\",\" White\",\" White\",\" White\",\" White\",\" White\",\" Asian-Pac-Islander\",\" White\",\" White\",\" White\",\" Black\",\" White\",\" White\",\" Black\",\" White\",\" Other\",\" White\",\" White\",\" White\",\" White\",\" White\",\" White\",\" White\",\" White\",\" White\",\" White\",\" White\",\" White\",\" White\",\" White\",\" White\",\" White\",\" White\",\" Asian-Pac-Islander\",\" White\",\" Asian-Pac-Islander\",\" White\",\" White\",\" White\",\" White\",\" White\",\" Asian-Pac-Islander\",\" White\",\" White\",\" Asian-Pac-Islander\",\" White\",\" White\",\" White\",\" White\",\" Black\",\" White\",\" White\",\" Asian-Pac-Islander\",\" Asian-Pac-Islander\",\" White\",\" White\",\" White\",\" White\",\" White\",\" White\",\" White\",\" White\",\" White\",\" White\",\" White\",\" White\",\" White\",\" White\",\" White\",\" White\",\" White\",\" White\",\" White\",\" White\",\" White\",\" White\",\" White\",\" White\",\" White\",\" Amer-Indian-Eskimo\",\" White\",\" White\",\" White\",\" White\",\" White\",\" White\",\" White\",\" White\",\" White\",\" White\",\" White\",\" White\",\" White\",\" White\",\" White\",\" Amer-Indian-Eskimo\",\" White\",\" White\",\" White\",\" White\",\" Asian-Pac-Islander\",\" Black\",\" White\",\" White\",\" White\",\" White\",\" White\",\" White\",\" Other\",\" White\",\" White\",\" White\",\" White\",\" White\",\" White\",\" White\",\" Black\",\" White\",\" White\",\" White\",\" White\",\" White\",\" White\",\" White\",\" White\",\" White\",\" White\",\" White\",\" White\",\" White\",\" White\",\" White\",\" White\",\" White\",\" White\",\" White\",\" White\",\" White\",\" White\",\" White\",\" White\",\" White\",\" White\",\" Amer-Indian-Eskimo\",\" White\",\" White\",\" White\",\" White\",\" White\",\" White\",\" White\",\" White\",\" White\",\" White\",\" White\",\" White\",\" White\",\" White\",\" White\",\" Black\",\" White\",\" White\",\" White\",\" White\",\" White\",\" Black\",\" White\",\" White\",\" Black\",\" White\",\" White\",\" White\",\" White\",\" Asian-Pac-Islander\",\" White\",\" Black\",\" Asian-Pac-Islander\",\" White\",\" White\",\" White\",\" White\",\" White\",\" White\",\" White\",\" Black\",\" White\",\" White\",\" White\",\" White\",\" White\",\" White\",\" White\",\" Black\",\" White\",\" White\",\" Black\",\" White\",\" White\",\" White\",\" Black\",\" White\",\" White\",\" White\",\" White\",\" White\",\" White\",\" Asian-Pac-Islander\",\" White\",\" White\",\" Amer-Indian-Eskimo\",\" White\",\" Other\",\" White\",\" Black\",\" White\",\" White\",\" White\",\" White\",\" Black\",\" White\",\" White\",\" White\",\" White\",\" White\",\" White\",\" White\",\" White\",\" Black\",\" White\",\" White\",\" White\",\" White\",\" White\",\" White\",\" White\",\" Black\",\" Amer-Indian-Eskimo\",\" Black\",\" White\",\" White\",\" Black\",\" White\",\" White\",\" White\",\" White\",\" White\",\" White\",\" White\",\" Black\",\" White\",\" White\",\" Black\",\" White\",\" White\",\" White\",\" White\",\" White\",\" White\",\" Black\",\" White\",\" White\",\" White\",\" White\",\" White\",\" White\",\" White\",\" White\",\" White\",\" White\",\" Black\",\" White\",\" White\",\" White\",\" White\",\" White\",\" White\",\" White\",\" White\",\" White\",\" Asian-Pac-Islander\",\" Black\",\" White\",\" White\",\" White\",\" White\",\" Amer-Indian-Eskimo\",\" White\",\" White\",\" White\",\" White\",\" White\",\" White\",\" White\",\" White\",\" White\",\" White\",\" White\",\" White\",\" White\",\" White\",\" White\",\" White\",\" White\",\" White\",\" White\",\" White\",\" White\",\" White\",\" White\",\" White\",\" Black\",\" Other\",\" White\",\" White\",\" White\",\" White\",\" White\",\" White\",\" White\",\" Black\",\" White\",\" White\",\" White\",\" White\",\" White\",\" White\",\" White\",\" White\",\" Asian-Pac-Islander\",\" White\",\" White\",\" White\",\" White\",\" Black\",\" White\",\" White\",\" White\",\" White\",\" White\",\" White\",\" White\",\" White\",\" White\",\" Asian-Pac-Islander\",\" White\",\" White\",\" White\",\" White\",\" White\",\" Black\",\" Asian-Pac-Islander\",\" Black\",\" White\",\" Black\",\" White\",\" White\",\" White\",\" Asian-Pac-Islander\",\" White\",\" White\",\" White\",\" White\",\" White\",\" White\",\" White\",\" White\",\" White\",\" White\",\" White\",\" White\",\" White\",\" Black\",\" White\",\" White\",\" White\",\" White\",\" White\",\" White\",\" White\",\" White\",\" White\",\" White\",\" White\",\" White\",\" White\",\" White\",\" White\",\" White\",\" White\",\" White\",\" White\",\" White\",\" White\",\" White\",\" Black\",\" White\",\" White\",\" White\",\" White\",\" White\",\" White\",\" White\",\" White\",\" White\",\" White\",\" White\",\" White\",\" White\",\" White\",\" White\",\" White\",\" White\",\" White\",\" White\",\" White\",\" White\",\" White\",\" White\",\" White\",\" White\",\" White\",\" White\",\" White\",\" White\",\" White\",\" White\",\" White\",\" Black\",\" White\",\" White\",\" White\",\" White\",\" White\",\" White\",\" White\",\" White\",\" White\",\" White\",\" White\",\" White\",\" White\",\" Black\",\" White\",\" White\",\" White\",\" White\",\" White\",\" White\",\" White\",\" Amer-Indian-Eskimo\",\" White\",\" White\",\" White\",\" White\",\" White\",\" White\",\" White\",\" White\",\" White\",\" White\",\" White\",\" Black\",\" White\",\" Black\",\" White\",\" White\",\" White\",\" White\",\" White\",\" White\",\" White\",\" White\",\" White\",\" White\",\" White\",\" White\",\" White\",\" White\",\" White\",\" White\",\" White\",\" Black\",\" White\",\" White\",\" White\",\" White\",\" White\",\" White\",\" White\",\" White\",\" Amer-Indian-Eskimo\",\" White\",\" White\",\" White\",\" White\",\" White\",\" White\",\" Asian-Pac-Islander\",\" White\",\" White\",\" Other\",\" White\",\" Black\",\" White\",\" White\",\" White\",\" White\",\" Asian-Pac-Islander\",\" White\",\" White\",\" White\",\" White\",\" White\",\" Black\",\" White\",\" Asian-Pac-Islander\",\" White\",\" Asian-Pac-Islander\",\" Black\",\" White\",\" White\",\" Amer-Indian-Eskimo\",\" White\",\" White\",\" White\",\" White\",\" White\",\" White\",\" Black\",\" White\",\" White\",\" White\",\" Asian-Pac-Islander\",\" Black\",\" White\",\" White\",\" White\",\" White\",\" White\",\" White\",\" White\",\" White\",\" Other\",\" White\",\" Asian-Pac-Islander\",\" Black\",\" White\",\" Black\",\" Asian-Pac-Islander\",\" White\",\" White\",\" White\",\" White\",\" White\",\" White\",\" White\",\" White\",\" White\",\" White\",\" White\",\" White\",\" White\",\" White\",\" White\",\" White\",\" Black\",\" White\",\" Asian-Pac-Islander\",\" Black\",\" White\",\" Amer-Indian-Eskimo\",\" White\",\" White\",\" White\",\" White\",\" White\",\" White\",\" White\",\" Amer-Indian-Eskimo\",\" Black\",\" White\",\" Black\",\" White\",\" White\",\" White\",\" Black\",\" Amer-Indian-Eskimo\",\" White\",\" White\",\" White\",\" White\",\" White\",\" White\",\" White\",\" White\",\" White\",\" White\",\" White\",\" White\",\" White\",\" White\",\" White\",\" Black\",\" White\",\" White\",\" White\",\" White\",\" White\",\" White\",\" White\",\" White\",\" White\",\" White\",\" White\",\" White\",\" White\",\" White\",\" Asian-Pac-Islander\",\" Asian-Pac-Islander\",\" Black\",\" White\",\" White\",\" White\",\" White\",\" White\",\" White\",\" White\",\" White\",\" White\",\" White\",\" White\",\" White\",\" White\",\" White\",\" White\",\" White\",\" White\",\" White\",\" White\",\" White\",\" White\",\" White\",\" White\",\" White\",\" White\",\" Black\",\" White\",\" White\",\" White\",\" White\",\" White\",\" White\",\" White\",\" White\",\" White\",\" Black\",\" White\",\" White\",\" White\",\" White\",\" White\",\" White\",\" White\",\" Black\",\" White\",\" White\",\" White\",\" Black\",\" White\",\" White\",\" White\",\" White\",\" Black\",\" White\",\" White\",\" White\",\" White\",\" White\",\" White\",\" White\",\" White\",\" White\",\" White\",\" White\",\" White\",\" White\",\" White\",\" White\",\" White\",\" Black\",\" White\",\" White\",\" Black\",\" White\",\" White\",\" White\",\" White\",\" Black\",\" Black\",\" Asian-Pac-Islander\",\" White\",\" Black\",\" White\",\" White\",\" White\",\" White\",\" Black\",\" White\",\" White\",\" White\",\" White\",\" White\",\" White\",\" White\",\" White\",\" White\",\" White\",\" Black\",\" White\",\" White\",\" White\",\" Black\",\" White\",\" White\",\" White\",\" White\",\" White\",\" White\",\" White\",\" White\",\" White\",\" Asian-Pac-Islander\",\" White\",\" White\",\" White\",\" White\",\" White\",\" White\",\" White\",\" White\",\" White\",\" White\",\" White\",\" White\",\" White\",\" White\",\" Amer-Indian-Eskimo\",\" White\",\" White\",\" Asian-Pac-Islander\",\" Amer-Indian-Eskimo\",\" White\",\" White\",\" White\",\" Black\",\" White\",\" Asian-Pac-Islander\",\" White\",\" White\",\" Black\",\" White\",\" Asian-Pac-Islander\",\" White\",\" White\",\" White\",\" Amer-Indian-Eskimo\",\" Black\",\" White\",\" Black\",\" White\",\" White\",\" White\",\" White\",\" White\",\" White\",\" White\",\" White\",\" White\",\" White\",\" White\",\" White\",\" White\",\" White\",\" White\",\" White\",\" White\",\" White\",\" Black\",\" Black\",\" White\",\" White\",\" White\",\" White\",\" Black\",\" White\",\" White\",\" White\",\" White\",\" White\",\" Black\",\" White\",\" White\",\" White\",\" White\",\" White\",\" White\",\" White\",\" White\",\" White\",\" White\",\" White\",\" White\",\" Black\",\" White\",\" Black\",\" White\",\" White\",\" White\",\" White\",\" White\",\" White\",\" Black\",\" White\",\" White\",\" White\",\" White\",\" White\",\" White\",\" White\",\" White\",\" White\",\" White\",\" White\",\" White\",\" White\",\" White\",\" White\",\" White\",\" Black\",\" White\",\" White\",\" White\",\" White\",\" Black\",\" White\",\" Amer-Indian-Eskimo\",\" Other\",\" Black\",\" Black\",\" White\",\" White\",\" White\",\" White\",\" White\",\" White\",\" White\",\" White\",\" White\",\" White\",\" White\",\" White\",\" White\",\" White\",\" Black\",\" White\",\" White\",\" White\",\" White\",\" White\",\" White\",\" Black\",\" White\",\" White\",\" White\",\" White\",\" White\",\" Black\",\" White\",\" White\",\" Black\",\" White\",\" White\",\" White\",\" White\",\" White\",\" White\",\" Black\",\" White\",\" White\",\" White\",\" White\",\" White\",\" White\",\" White\",\" Black\",\" White\",\" White\",\" White\",\" White\",\" White\",\" White\",\" White\",\" White\",\" White\",\" White\",\" White\",\" White\",\" White\",\" White\",\" White\",\" White\",\" White\",\" White\",\" White\",\" White\",\" Black\",\" White\",\" White\",\" White\",\" White\",\" White\",\" White\",\" White\",\" White\",\" White\",\" White\",\" White\",\" White\",\" White\",\" White\",\" White\",\" White\",\" Asian-Pac-Islander\",\" White\",\" White\",\" White\",\" White\",\" White\",\" White\",\" Black\",\" Other\",\" White\",\" White\",\" White\",\" White\",\" White\",\" White\",\" White\",\" White\",\" White\",\" White\",\" White\",\" Black\",\" White\",\" White\",\" White\",\" White\",\" Black\",\" White\",\" White\",\" White\",\" White\",\" White\",\" White\",\" White\",\" Asian-Pac-Islander\",\" White\",\" White\",\" Asian-Pac-Islander\",\" White\",\" Asian-Pac-Islander\",\" Black\",\" White\",\" White\",\" White\",\" White\",\" White\",\" White\",\" White\",\" White\",\" White\",\" White\",\" White\",\" White\",\" White\",\" White\",\" White\",\" White\",\" White\",\" White\",\" White\",\" White\",\" White\",\" White\",\" White\",\" Asian-Pac-Islander\",\" White\",\" White\",\" White\",\" White\",\" White\",\" White\",\" White\",\" White\",\" White\",\" White\",\" Black\",\" White\",\" White\",\" White\",\" White\",\" White\",\" Black\",\" White\",\" White\",\" White\",\" White\",\" Other\",\" White\",\" White\",\" White\",\" Amer-Indian-Eskimo\",\" White\",\" White\",\" White\",\" White\",\" White\",\" Black\",\" Black\",\" White\",\" White\",\" White\",\" White\",\" White\",\" White\",\" White\",\" White\",\" White\",\" Black\",\" White\",\" White\",\" White\",\" White\",\" White\",\" White\",\" White\",\" Black\",\" White\",\" White\",\" White\",\" White\",\" White\",\" White\",\" White\",\" White\",\" White\",\" White\",\" White\",\" White\",\" White\",\" White\",\" White\",\" White\",\" White\",\" White\",\" White\",\" White\",\" White\",\" White\",\" White\",\" White\",\" White\",\" White\",\" White\",\" White\",\" White\",\" White\",\" White\",\" White\",\" White\",\" White\",\" White\",\" White\",\" White\",\" White\",\" White\",\" White\",\" White\",\" White\",\" White\",\" Black\",\" White\",\" White\",\" White\",\" White\",\" White\",\" White\",\" Amer-Indian-Eskimo\",\" White\",\" White\",\" Black\",\" White\",\" White\",\" Amer-Indian-Eskimo\",\" White\",\" White\",\" White\",\" Black\",\" White\",\" Black\",\" Asian-Pac-Islander\",\" White\",\" White\",\" White\",\" White\",\" White\",\" White\",\" White\",\" White\",\" White\",\" White\",\" White\",\" White\",\" White\",\" White\",\" White\",\" Black\",\" White\",\" White\",\" White\",\" White\",\" White\",\" White\",\" White\",\" White\",\" White\",\" White\",\" White\",\" Black\",\" White\",\" White\",\" White\",\" White\",\" Asian-Pac-Islander\",\" White\",\" White\",\" White\",\" White\",\" Black\",\" White\",\" White\",\" Black\",\" White\",\" Black\",\" White\",\" White\",\" White\",\" White\",\" White\",\" White\",\" White\",\" White\",\" White\",\" White\",\" White\",\" White\",\" White\",\" Black\",\" White\",\" White\",\" White\",\" White\",\" Asian-Pac-Islander\",\" White\",\" White\",\" White\",\" White\",\" White\",\" Asian-Pac-Islander\",\" White\",\" White\",\" White\",\" White\",\" White\",\" White\",\" White\",\" White\",\" White\",\" White\",\" White\",\" White\",\" White\",\" White\",\" White\",\" White\",\" White\",\" Black\",\" White\",\" White\",\" Other\",\" Asian-Pac-Islander\",\" White\",\" White\",\" White\",\" White\",\" Black\",\" White\",\" White\",\" White\",\" White\",\" White\",\" White\",\" Black\",\" White\",\" White\",\" White\",\" White\",\" White\",\" White\",\" White\",\" White\",\" White\",\" White\",\" White\",\" White\",\" Black\",\" Black\",\" White\",\" White\",\" White\",\" White\",\" White\",\" White\",\" White\",\" White\",\" Asian-Pac-Islander\",\" White\",\" White\",\" Black\",\" Black\",\" Black\",\" White\",\" White\",\" White\",\" White\",\" White\",\" White\",\" White\",\" White\",\" White\",\" White\",\" White\",\" White\",\" White\",\" White\",\" White\",\" White\",\" White\",\" White\",\" Black\",\" Black\",\" White\",\" White\",\" White\",\" White\",\" White\",\" White\",\" White\",\" White\",\" White\",\" White\",\" White\",\" White\",\" White\",\" White\",\" White\",\" White\",\" White\",\" White\",\" White\",\" White\",\" White\",\" White\",\" White\",\" White\",\" White\",\" Black\",\" Black\",\" White\",\" White\",\" Black\",\" White\",\" White\",\" White\",\" White\",\" Black\",\" Black\",\" White\",\" Asian-Pac-Islander\",\" White\",\" White\",\" White\",\" White\",\" White\",\" White\",\" Other\",\" Black\",\" White\",\" White\",\" White\",\" White\",\" White\",\" Black\",\" White\",\" White\",\" Black\",\" White\",\" White\",\" White\",\" White\",\" White\",\" White\",\" White\",\" Black\",\" White\",\" White\",\" Black\",\" White\",\" White\",\" White\",\" White\",\" White\",\" White\",\" White\",\" White\",\" White\",\" Black\",\" White\",\" White\",\" White\",\" White\",\" White\",\" White\",\" White\",\" White\",\" White\",\" White\",\" White\",\" White\",\" White\",\" White\",\" White\",\" Black\",\" White\",\" White\",\" White\",\" Black\",\" Amer-Indian-Eskimo\",\" White\",\" White\",\" White\",\" White\",\" White\",\" White\",\" Black\",\" White\",\" Asian-Pac-Islander\",\" White\",\" White\",\" White\",\" Black\",\" Other\",\" White\",\" White\",\" White\",\" White\",\" White\",\" White\",\" White\",\" White\",\" White\",\" White\",\" White\",\" White\",\" White\",\" White\",\" White\",\" White\",\" White\",\" Asian-Pac-Islander\",\" Black\",\" White\",\" White\",\" White\",\" White\",\" White\",\" White\",\" White\",\" White\",\" White\",\" White\",\" White\",\" White\",\" White\",\" White\",\" Black\",\" White\",\" Black\",\" White\",\" White\",\" White\",\" White\",\" White\",\" White\",\" Black\",\" White\",\" White\",\" White\",\" White\",\" White\",\" White\",\" Black\",\" White\",\" Asian-Pac-Islander\",\" White\",\" White\",\" White\",\" White\",\" White\",\" Asian-Pac-Islander\",\" White\",\" White\",\" White\",\" Black\",\" White\",\" White\",\" White\",\" White\",\" White\",\" White\",\" White\",\" White\",\" White\",\" Black\",\" White\",\" White\",\" Other\",\" White\",\" White\",\" White\",\" White\",\" White\",\" White\",\" White\",\" White\",\" Black\",\" Black\",\" White\",\" Black\",\" White\",\" White\",\" White\",\" White\",\" White\",\" White\",\" White\",\" White\",\" White\",\" Amer-Indian-Eskimo\",\" White\",\" White\",\" Asian-Pac-Islander\",\" White\",\" White\",\" White\",\" White\",\" White\",\" White\",\" Amer-Indian-Eskimo\",\" White\",\" White\",\" White\",\" White\",\" White\",\" White\",\" White\",\" White\",\" White\",\" White\",\" White\",\" White\",\" White\",\" White\",\" White\",\" White\",\" White\",\" White\",\" White\",\" White\",\" White\",\" Asian-Pac-Islander\",\" Black\",\" White\",\" White\",\" White\",\" Asian-Pac-Islander\",\" White\",\" White\",\" White\",\" White\",\" White\",\" White\",\" White\",\" White\",\" White\",\" White\",\" White\",\" White\",\" White\",\" White\",\" White\",\" White\",\" White\",\" Amer-Indian-Eskimo\",\" White\",\" White\",\" White\",\" Black\",\" White\",\" White\",\" White\",\" Black\",\" White\",\" White\",\" White\",\" White\",\" White\",\" White\",\" White\",\" White\",\" White\",\" Black\",\" Black\",\" White\",\" White\",\" White\",\" Black\",\" White\",\" Black\",\" Asian-Pac-Islander\",\" White\",\" White\",\" White\",\" Other\",\" White\",\" White\",\" White\",\" Other\",\" Black\",\" Asian-Pac-Islander\",\" White\",\" White\",\" White\",\" White\",\" White\",\" Black\",\" Black\",\" Asian-Pac-Islander\",\" White\",\" White\",\" Black\",\" White\",\" White\",\" White\",\" White\",\" White\",\" Black\",\" White\",\" White\",\" White\",\" White\",\" White\",\" White\",\" White\",\" White\",\" White\",\" White\",\" White\",\" White\",\" White\",\" White\",\" Black\",\" White\",\" Other\",\" White\",\" White\",\" White\",\" White\",\" White\",\" White\",\" White\",\" White\",\" White\",\" White\",\" White\",\" White\",\" White\",\" White\",\" White\",\" White\",\" White\",\" White\",\" White\",\" White\",\" White\",\" White\",\" White\",\" White\",\" White\",\" White\",\" Black\",\" White\",\" White\",\" White\",\" Black\",\" White\",\" White\",\" Asian-Pac-Islander\",\" White\",\" White\",\" White\",\" White\",\" White\",\" White\",\" White\",\" White\",\" Asian-Pac-Islander\",\" White\",\" White\",\" White\",\" White\",\" White\",\" White\",\" Black\",\" White\",\" White\",\" White\",\" White\",\" White\",\" White\",\" White\",\" White\",\" White\",\" White\",\" White\",\" White\",\" White\",\" White\",\" White\",\" White\",\" White\",\" White\",\" White\",\" White\",\" Black\",\" White\",\" Black\",\" White\",\" White\",\" Other\",\" White\",\" White\",\" White\",\" White\",\" Black\",\" White\",\" White\",\" White\",\" White\",\" White\",\" White\",\" White\",\" Black\",\" White\",\" White\",\" White\",\" White\",\" White\",\" White\",\" White\",\" White\",\" White\",\" White\",\" White\",\" White\",\" White\",\" White\",\" White\",\" Asian-Pac-Islander\",\" White\",\" White\",\" White\",\" White\",\" Black\",\" Asian-Pac-Islander\",\" White\",\" White\",\" White\",\" White\",\" White\",\" White\",\" White\",\" White\",\" White\",\" White\",\" Asian-Pac-Islander\",\" Black\",\" White\",\" White\",\" White\",\" White\",\" White\",\" White\",\" White\",\" White\",\" White\",\" White\",\" White\",\" Black\",\" White\",\" White\",\" White\",\" White\",\" Black\",\" White\",\" White\",\" White\",\" White\",\" White\",\" White\",\" White\",\" White\",\" White\",\" White\",\" White\",\" White\",\" White\",\" White\",\" White\",\" White\",\" White\",\" White\",\" Black\",\" Black\",\" White\",\" White\",\" White\",\" White\",\" White\",\" White\",\" White\",\" White\",\" White\",\" White\",\" Black\",\" White\",\" White\",\" White\",\" White\",\" White\",\" White\",\" White\",\" White\",\" Black\",\" White\",\" White\",\" White\",\" White\",\" White\",\" White\",\" White\",\" Asian-Pac-Islander\",\" Black\",\" White\",\" White\",\" White\",\" Asian-Pac-Islander\",\" White\",\" White\",\" White\",\" White\",\" White\",\" White\",\" White\",\" White\",\" White\",\" White\",\" White\",\" White\",\" White\",\" White\",\" White\",\" White\",\" Black\",\" White\",\" Amer-Indian-Eskimo\",\" White\",\" White\",\" White\",\" White\",\" White\",\" White\",\" White\",\" White\",\" White\",\" White\",\" White\",\" White\",\" White\",\" White\",\" Black\",\" White\",\" Asian-Pac-Islander\",\" White\",\" White\",\" White\",\" White\",\" Black\",\" White\",\" Black\",\" White\",\" Asian-Pac-Islander\",\" White\",\" Black\",\" White\",\" White\",\" Black\",\" White\",\" White\",\" White\",\" White\",\" White\",\" Black\",\" White\",\" White\",\" White\",\" White\",\" White\",\" White\",\" White\",\" White\",\" White\",\" White\",\" Black\",\" White\",\" White\",\" White\",\" Black\",\" White\",\" White\",\" White\",\" White\",\" White\",\" White\",\" White\",\" Black\",\" White\",\" White\",\" White\",\" White\",\" White\",\" White\",\" White\",\" White\",\" White\",\" White\",\" White\",\" White\",\" White\",\" White\",\" Black\",\" Black\",\" White\",\" Black\",\" White\",\" Black\",\" White\",\" White\",\" White\",\" White\",\" Black\",\" White\",\" White\",\" White\",\" White\",\" White\",\" White\",\" White\",\" Asian-Pac-Islander\",\" White\",\" White\",\" White\",\" White\",\" White\",\" Black\",\" White\",\" White\",\" White\",\" White\",\" White\",\" White\",\" Asian-Pac-Islander\",\" White\",\" White\",\" White\",\" White\",\" White\",\" White\",\" White\",\" White\",\" White\",\" White\",\" White\",\" White\",\" White\",\" White\",\" White\",\" White\",\" White\",\" White\",\" White\",\" White\",\" White\",\" White\",\" White\",\" White\",\" Black\",\" White\",\" White\",\" White\",\" Black\",\" White\",\" Asian-Pac-Islander\",\" White\",\" White\",\" White\",\" White\",\" White\",\" Black\",\" White\",\" White\",\" White\",\" White\",\" White\",\" White\",\" White\",\" White\",\" Black\",\" White\",\" White\",\" White\",\" Black\",\" White\",\" White\",\" White\",\" White\",\" White\",\" Black\",\" White\",\" White\",\" White\",\" White\",\" White\",\" White\",\" White\",\" White\",\" White\",\" White\",\" White\",\" White\",\" White\",\" White\",\" White\",\" White\",\" White\",\" White\",\" White\",\" White\",\" White\",\" White\",\" White\",\" White\",\" White\",\" White\",\" White\",\" White\",\" White\",\" Amer-Indian-Eskimo\",\" White\",\" White\",\" White\",\" White\",\" White\",\" Black\",\" White\",\" White\",\" White\",\" White\",\" White\",\" White\",\" Black\",\" White\",\" White\",\" White\",\" White\",\" White\",\" White\",\" White\",\" White\",\" White\",\" White\",\" White\",\" White\",\" White\",\" White\",\" White\",\" White\",\" White\",\" White\",\" Black\",\" White\",\" White\",\" Black\",\" White\",\" White\",\" White\",\" White\",\" White\",\" White\",\" White\",\" White\",\" White\",\" White\",\" White\",\" White\",\" White\",\" White\",\" White\",\" White\",\" White\",\" White\",\" White\",\" White\",\" White\",\" Asian-Pac-Islander\",\" White\",\" White\",\" White\",\" White\",\" White\",\" White\",\" White\",\" White\",\" Black\",\" White\",\" White\",\" White\",\" Black\",\" White\",\" White\",\" Black\",\" White\",\" White\",\" White\",\" Black\",\" White\",\" White\",\" Black\",\" Black\",\" White\",\" White\",\" Black\",\" White\",\" White\",\" White\",\" White\",\" White\",\" White\",\" Black\",\" White\",\" Black\",\" White\",\" White\",\" White\",\" White\",\" White\",\" White\",\" White\",\" White\",\" Black\",\" White\",\" White\",\" Black\",\" Black\",\" White\",\" White\",\" White\",\" White\",\" White\",\" White\",\" White\",\" White\",\" White\",\" White\",\" Asian-Pac-Islander\",\" White\",\" Black\",\" Black\",\" Amer-Indian-Eskimo\",\" White\",\" Black\",\" White\",\" White\",\" Black\",\" White\",\" White\",\" White\",\" White\",\" White\",\" White\",\" Black\",\" White\",\" White\",\" White\",\" Asian-Pac-Islander\",\" White\",\" Asian-Pac-Islander\",\" Other\",\" White\",\" Black\",\" White\",\" White\",\" White\",\" White\",\" White\",\" White\",\" White\",\" White\",\" White\",\" White\",\" White\",\" White\",\" White\",\" White\",\" White\",\" White\",\" White\",\" White\",\" White\",\" White\",\" White\",\" White\",\" White\",\" White\",\" Asian-Pac-Islander\",\" White\",\" White\",\" White\",\" White\",\" White\",\" White\",\" White\",\" White\",\" White\",\" White\",\" White\",\" Black\",\" White\",\" White\",\" Black\",\" Black\",\" White\",\" White\",\" White\",\" White\",\" Black\",\" White\",\" White\",\" Other\",\" White\",\" Black\",\" Black\",\" White\",\" White\",\" White\",\" White\",\" White\",\" White\",\" White\",\" White\",\" White\",\" White\",\" White\",\" White\",\" White\",\" White\",\" White\",\" White\",\" White\",\" White\",\" White\",\" Black\",\" White\",\" White\",\" Black\",\" White\",\" White\",\" White\",\" White\",\" White\",\" White\",\" White\",\" White\",\" White\",\" Asian-Pac-Islander\",\" White\",\" White\",\" White\",\" White\",\" White\",\" White\",\" White\",\" White\",\" White\",\" White\",\" White\",\" White\",\" White\",\" White\",\" White\",\" White\",\" Other\",\" White\",\" White\",\" White\",\" Other\",\" White\",\" White\",\" Black\",\" White\",\" White\",\" White\",\" White\",\" White\",\" White\",\" White\",\" White\",\" White\",\" White\",\" White\",\" White\",\" White\",\" Black\",\" White\",\" White\",\" White\",\" White\",\" White\",\" White\",\" White\",\" White\",\" White\",\" White\",\" White\",\" White\",\" White\",\" White\",\" White\",\" White\",\" White\",\" White\",\" White\",\" White\",\" White\",\" White\",\" White\",\" White\",\" White\",\" White\",\" White\",\" White\",\" White\",\" White\",\" White\",\" White\",\" White\",\" White\",\" White\",\" White\",\" Black\",\" White\",\" White\",\" White\",\" White\",\" Black\",\" Black\",\" White\",\" White\",\" White\",\" White\",\" White\",\" Black\",\" Black\",\" White\",\" White\",\" White\",\" White\",\" White\",\" White\",\" White\",\" White\",\" White\",\" White\",\" White\",\" White\",\" White\",\" White\",\" White\",\" White\",\" Black\",\" White\",\" White\",\" White\",\" White\",\" White\",\" White\",\" White\",\" White\",\" White\",\" White\",\" White\",\" White\",\" White\",\" White\",\" White\",\" White\",\" Amer-Indian-Eskimo\",\" White\",\" White\",\" White\",\" Black\",\" White\",\" White\",\" White\",\" Asian-Pac-Islander\",\" White\",\" White\",\" White\",\" White\",\" White\",\" White\",\" White\",\" White\",\" White\",\" White\",\" White\",\" White\",\" White\",\" White\",\" White\",\" White\",\" White\",\" White\",\" White\",\" White\",\" White\",\" Asian-Pac-Islander\",\" White\",\" White\",\" White\",\" White\",\" White\",\" White\",\" White\",\" White\",\" White\",\" White\",\" White\",\" White\",\" White\",\" White\",\" White\",\" White\",\" White\",\" White\",\" White\",\" White\",\" White\",\" White\",\" White\",\" White\",\" White\",\" Amer-Indian-Eskimo\",\" White\",\" White\",\" White\",\" White\",\" White\",\" Black\",\" White\",\" White\",\" White\",\" White\",\" White\",\" White\",\" White\",\" Amer-Indian-Eskimo\",\" White\",\" White\",\" Black\",\" White\",\" White\",\" White\",\" White\",\" White\",\" White\",\" White\",\" Amer-Indian-Eskimo\",\" Black\",\" White\",\" White\",\" White\",\" Black\",\" White\",\" White\",\" White\",\" White\",\" Black\",\" White\",\" White\",\" White\",\" White\",\" White\",\" Black\",\" Amer-Indian-Eskimo\",\" White\",\" White\",\" Asian-Pac-Islander\",\" Black\",\" White\",\" White\",\" White\",\" White\",\" Black\",\" White\",\" White\",\" Black\",\" White\",\" Asian-Pac-Islander\",\" White\",\" White\",\" White\",\" Black\",\" White\",\" White\",\" White\",\" White\",\" Black\",\" Black\",\" White\",\" White\",\" Black\",\" White\",\" White\",\" Black\",\" White\",\" White\",\" White\",\" White\",\" White\",\" White\",\" White\",\" White\",\" Black\",\" Black\",\" White\",\" White\",\" White\",\" White\",\" Black\",\" White\",\" Black\",\" Black\",\" White\",\" White\",\" White\",\" Black\",\" White\",\" White\",\" White\",\" White\",\" White\",\" White\",\" White\",\" Black\",\" White\",\" White\",\" White\",\" Other\",\" Asian-Pac-Islander\",\" White\",\" White\",\" White\",\" Black\",\" White\",\" White\",\" White\",\" White\",\" White\",\" White\",\" White\",\" White\",\" White\",\" White\",\" White\",\" White\",\" Asian-Pac-Islander\",\" Black\",\" White\",\" White\",\" White\",\" White\",\" White\",\" Black\",\" White\",\" White\",\" White\",\" Other\",\" White\",\" Black\",\" Black\",\" White\",\" White\",\" White\",\" White\",\" White\",\" White\",\" White\",\" White\",\" White\",\" White\",\" Other\",\" White\",\" White\",\" White\",\" White\",\" White\",\" White\",\" White\",\" White\",\" White\",\" Amer-Indian-Eskimo\",\" White\",\" White\",\" White\",\" White\",\" White\",\" White\",\" Black\",\" White\",\" White\",\" White\",\" White\",\" White\",\" White\",\" White\",\" White\",\" White\",\" White\",\" White\",\" White\",\" White\",\" White\",\" White\",\" White\",\" White\",\" White\",\" White\",\" White\",\" White\",\" White\",\" White\",\" White\",\" White\",\" White\",\" White\",\" White\",\" White\",\" White\",\" White\",\" White\",\" White\",\" White\",\" White\",\" Black\",\" White\",\" White\",\" White\",\" Black\",\" White\",\" Black\",\" White\",\" White\",\" White\",\" White\",\" White\",\" White\",\" Asian-Pac-Islander\",\" White\",\" White\",\" White\",\" White\",\" White\",\" White\",\" White\",\" White\",\" White\",\" White\",\" White\",\" White\",\" White\",\" White\",\" White\",\" White\",\" White\",\" White\",\" White\",\" White\",\" White\",\" White\",\" White\",\" White\",\" White\",\" White\",\" White\",\" Black\",\" Black\",\" White\",\" White\",\" White\",\" White\",\" White\",\" Black\",\" White\",\" White\",\" White\",\" White\",\" White\",\" White\",\" White\",\" White\",\" White\",\" White\",\" White\",\" White\",\" White\",\" Black\",\" White\",\" White\",\" White\",\" White\",\" Black\",\" White\",\" White\",\" Black\",\" White\",\" White\",\" White\",\" Asian-Pac-Islander\",\" White\",\" White\",\" White\",\" White\",\" White\",\" White\",\" Black\",\" White\",\" White\",\" Black\",\" White\",\" White\",\" Amer-Indian-Eskimo\",\" White\",\" White\",\" Amer-Indian-Eskimo\",\" White\",\" Black\",\" White\",\" White\",\" White\",\" White\",\" White\",\" Black\",\" White\",\" Black\",\" White\",\" White\",\" White\",\" White\",\" White\",\" White\",\" Asian-Pac-Islander\",\" White\",\" White\",\" Black\",\" White\",\" White\",\" White\",\" White\",\" White\",\" White\",\" White\",\" White\",\" Black\",\" Other\",\" White\",\" White\",\" White\",\" White\",\" White\",\" White\",\" White\",\" White\",\" White\",\" White\",\" White\",\" White\",\" White\",\" White\",\" White\",\" White\",\" White\",\" White\",\" White\",\" White\",\" Black\",\" White\",\" White\",\" White\",\" White\",\" White\",\" White\",\" Black\",\" Other\",\" Other\",\" White\",\" White\",\" White\",\" White\",\" White\",\" White\",\" White\",\" White\",\" White\",\" White\",\" White\",\" White\",\" White\",\" White\",\" White\",\" White\",\" White\",\" White\",\" White\",\" White\",\" White\",\" White\",\" White\",\" White\",\" White\",\" Black\",\" White\",\" White\",\" White\",\" Asian-Pac-Islander\",\" White\",\" White\",\" Asian-Pac-Islander\",\" White\",\" White\",\" White\",\" White\",\" White\",\" White\",\" Black\",\" Black\",\" White\",\" White\",\" White\",\" White\",\" White\",\" White\",\" White\",\" White\",\" Asian-Pac-Islander\",\" White\",\" White\",\" White\",\" White\",\" White\",\" White\",\" White\",\" White\",\" White\",\" White\",\" White\",\" White\",\" White\",\" White\",\" White\",\" White\",\" White\",\" Black\",\" White\",\" Black\",\" White\",\" Black\",\" Black\",\" White\",\" White\",\" White\",\" White\",\" White\",\" White\",\" White\",\" White\",\" White\",\" White\",\" White\",\" White\",\" White\",\" White\",\" White\",\" White\",\" White\",\" Black\",\" White\",\" White\",\" White\",\" White\",\" White\",\" White\",\" Asian-Pac-Islander\",\" White\",\" White\",\" White\",\" White\",\" Black\",\" White\",\" White\",\" Black\",\" White\",\" Black\",\" White\",\" White\",\" White\",\" White\",\" White\",\" Black\",\" White\",\" White\",\" White\",\" Black\",\" White\",\" White\",\" White\",\" White\",\" White\",\" Black\",\" Black\",\" White\",\" White\",\" Asian-Pac-Islander\",\" White\",\" White\",\" White\",\" White\",\" White\",\" White\",\" White\",\" Black\",\" White\",\" Black\",\" White\",\" White\",\" White\",\" White\",\" White\",\" White\",\" White\",\" White\",\" White\",\" White\",\" White\",\" White\",\" White\",\" White\",\" Black\",\" White\",\" White\",\" Black\",\" White\",\" White\",\" Black\",\" White\",\" White\",\" White\",\" Asian-Pac-Islander\",\" White\",\" Black\",\" White\",\" White\",\" White\",\" White\",\" White\",\" White\",\" White\",\" White\",\" White\",\" White\",\" White\",\" White\",\" White\",\" Asian-Pac-Islander\",\" White\",\" White\",\" White\",\" White\",\" White\",\" White\",\" White\",\" White\",\" White\",\" Black\",\" White\",\" White\",\" White\",\" White\",\" White\",\" White\",\" White\",\" White\",\" Black\",\" White\",\" White\",\" Asian-Pac-Islander\",\" White\",\" White\",\" White\",\" Black\",\" White\",\" White\",\" White\",\" White\",\" White\",\" Asian-Pac-Islander\",\" White\",\" Black\",\" White\",\" White\",\" White\",\" White\",\" Black\",\" White\",\" White\",\" White\",\" White\",\" White\",\" White\",\" White\",\" White\",\" Asian-Pac-Islander\",\" White\",\" White\",\" White\",\" White\",\" White\",\" Black\",\" White\",\" White\",\" White\",\" White\",\" White\",\" Black\",\" White\",\" White\",\" White\",\" White\",\" White\",\" White\",\" White\",\" Other\",\" White\",\" White\",\" White\",\" Asian-Pac-Islander\",\" White\",\" White\",\" White\",\" White\",\" White\",\" White\",\" White\",\" White\",\" White\",\" White\",\" White\",\" White\",\" White\",\" White\",\" White\",\" White\",\" Black\",\" White\",\" White\",\" White\",\" White\",\" Asian-Pac-Islander\",\" Black\",\" White\",\" Black\",\" White\",\" White\",\" Black\",\" Asian-Pac-Islander\",\" Asian-Pac-Islander\",\" White\",\" White\",\" White\",\" White\",\" White\",\" Amer-Indian-Eskimo\",\" White\",\" White\",\" White\",\" White\",\" White\",\" White\",\" White\",\" White\",\" White\",\" White\",\" White\",\" White\",\" White\",\" White\",\" White\",\" White\",\" White\",\" White\",\" White\",\" Asian-Pac-Islander\",\" Black\",\" White\",\" White\",\" Amer-Indian-Eskimo\",\" White\",\" Black\",\" White\",\" White\",\" White\",\" White\",\" White\",\" Black\",\" White\",\" White\",\" White\",\" White\",\" White\",\" White\",\" White\",\" White\",\" Asian-Pac-Islander\",\" Black\",\" White\",\" Asian-Pac-Islander\",\" White\",\" White\",\" White\",\" White\",\" White\",\" White\",\" White\",\" Amer-Indian-Eskimo\",\" White\",\" White\",\" White\",\" White\",\" White\",\" White\",\" White\",\" White\",\" White\",\" White\",\" White\",\" White\",\" White\",\" White\",\" White\",\" Black\",\" White\",\" White\",\" Asian-Pac-Islander\",\" White\",\" White\",\" White\",\" White\",\" White\",\" White\",\" White\",\" White\",\" White\",\" White\",\" Black\",\" White\",\" White\",\" White\",\" White\",\" White\",\" White\",\" White\",\" White\",\" White\",\" White\",\" White\",\" White\",\" White\",\" White\",\" White\",\" Black\",\" White\",\" White\",\" White\",\" White\",\" White\",\" White\",\" White\",\" White\",\" White\",\" White\",\" White\",\" White\",\" White\",\" White\",\" White\",\" White\",\" White\",\" White\",\" White\",\" White\",\" White\",\" White\",\" White\",\" White\",\" White\",\" White\",\" White\",\" White\",\" White\",\" White\",\" White\",\" White\",\" White\",\" White\",\" Black\",\" White\",\" Black\",\" White\",\" White\",\" White\",\" Asian-Pac-Islander\",\" White\",\" White\",\" White\",\" White\",\" Black\",\" White\",\" White\",\" White\",\" White\",\" White\",\" White\",\" White\",\" White\",\" Amer-Indian-Eskimo\",\" Black\",\" White\",\" White\",\" White\",\" White\",\" White\",\" White\",\" White\",\" Asian-Pac-Islander\",\" White\",\" White\",\" White\",\" White\",\" Black\",\" White\",\" White\",\" White\",\" White\",\" White\",\" Black\",\" White\",\" White\",\" White\",\" Black\",\" White\",\" White\",\" White\",\" White\",\" Black\",\" White\",\" White\",\" Asian-Pac-Islander\",\" Black\",\" White\",\" Black\",\" White\",\" Asian-Pac-Islander\",\" White\",\" White\",\" White\",\" White\",\" Black\",\" White\",\" Black\",\" White\",\" White\",\" White\",\" White\",\" White\",\" White\",\" White\",\" White\",\" White\",\" White\",\" Black\",\" Amer-Indian-Eskimo\",\" Black\",\" White\",\" Black\",\" White\",\" White\",\" White\",\" White\",\" White\",\" White\",\" White\",\" White\",\" White\",\" White\",\" White\",\" White\",\" White\",\" White\",\" White\",\" White\",\" White\",\" White\",\" White\",\" White\",\" White\",\" White\",\" Other\",\" White\",\" White\",\" White\",\" White\",\" White\",\" White\",\" White\",\" White\",\" White\",\" White\",\" White\",\" White\",\" White\",\" White\",\" White\",\" White\",\" White\",\" White\",\" Asian-Pac-Islander\",\" White\",\" White\",\" White\",\" White\",\" White\",\" White\",\" White\",\" White\",\" White\",\" Amer-Indian-Eskimo\",\" White\",\" White\",\" Black\",\" White\",\" White\",\" White\",\" White\",\" Asian-Pac-Islander\",\" White\",\" Black\",\" White\",\" Black\",\" White\",\" White\",\" White\",\" White\",\" White\",\" Asian-Pac-Islander\",\" White\",\" White\",\" White\",\" White\",\" White\",\" White\",\" Asian-Pac-Islander\",\" Black\",\" White\",\" Black\",\" White\",\" Asian-Pac-Islander\",\" White\",\" White\",\" White\",\" White\",\" White\",\" White\",\" White\",\" Black\",\" White\",\" White\",\" White\",\" White\",\" White\",\" White\",\" White\",\" White\",\" White\",\" White\",\" White\",\" White\",\" White\",\" Black\",\" White\",\" White\",\" White\",\" White\",\" White\",\" White\",\" Other\",\" Black\",\" White\",\" White\",\" White\",\" White\",\" White\",\" White\",\" White\",\" White\",\" White\",\" White\",\" White\",\" White\",\" White\",\" White\",\" White\",\" White\",\" Other\",\" White\",\" White\",\" Black\",\" White\",\" White\",\" Black\",\" White\",\" White\",\" White\",\" White\",\" White\",\" White\",\" White\",\" White\",\" White\",\" Black\",\" Other\",\" White\",\" Black\",\" White\",\" White\",\" White\",\" White\",\" Black\",\" White\",\" White\",\" White\",\" Black\",\" Asian-Pac-Islander\",\" White\",\" White\",\" White\",\" White\",\" Black\",\" White\",\" White\",\" White\",\" White\",\" White\",\" White\",\" Amer-Indian-Eskimo\",\" White\",\" White\",\" White\",\" White\",\" White\",\" White\",\" White\",\" Other\",\" White\",\" Asian-Pac-Islander\",\" White\",\" Asian-Pac-Islander\",\" White\",\" Asian-Pac-Islander\",\" White\",\" Black\",\" White\",\" White\",\" White\",\" White\",\" White\",\" White\",\" White\",\" White\",\" White\",\" White\",\" White\",\" White\",\" Asian-Pac-Islander\",\" White\",\" White\",\" White\",\" Black\",\" White\",\" White\",\" White\",\" White\",\" White\",\" White\",\" White\",\" White\",\" White\",\" White\",\" White\",\" White\",\" Black\",\" White\",\" White\",\" White\",\" White\",\" White\",\" Black\",\" White\",\" White\",\" Black\",\" Black\",\" White\",\" White\",\" White\",\" Amer-Indian-Eskimo\",\" White\",\" White\",\" White\",\" White\",\" White\",\" Black\",\" White\",\" White\",\" White\",\" Asian-Pac-Islander\",\" White\",\" White\",\" White\",\" White\",\" White\",\" White\",\" White\",\" White\",\" White\",\" White\",\" White\",\" White\",\" White\",\" White\",\" White\",\" White\",\" White\",\" White\",\" White\",\" White\",\" White\",\" White\",\" White\",\" White\",\" White\",\" White\",\" White\",\" Black\",\" White\",\" White\",\" White\",\" White\",\" White\",\" White\",\" White\",\" White\",\" White\",\" White\",\" White\",\" White\",\" White\",\" White\",\" White\",\" White\",\" White\",\" White\",\" White\",\" White\",\" White\",\" White\",\" White\",\" White\",\" White\",\" White\",\" White\",\" White\",\" White\",\" White\",\" White\",\" White\",\" White\",\" White\",\" White\",\" White\",\" White\",\" White\",\" White\",\" White\",\" Black\",\" White\",\" White\",\" White\",\" White\",\" White\",\" White\",\" White\",\" Asian-Pac-Islander\",\" Other\",\" White\",\" White\",\" White\",\" White\",\" White\",\" White\",\" White\",\" White\",\" White\",\" Asian-Pac-Islander\",\" Black\",\" White\",\" White\",\" White\",\" White\",\" White\",\" White\",\" Amer-Indian-Eskimo\",\" White\",\" Black\",\" White\",\" Black\",\" White\",\" Black\",\" White\",\" White\",\" White\",\" White\",\" White\",\" Black\",\" White\",\" White\",\" White\",\" White\",\" White\",\" White\",\" White\",\" White\",\" White\",\" Black\",\" Black\",\" White\",\" Black\",\" White\",\" White\",\" White\",\" White\",\" White\",\" Black\",\" White\",\" White\",\" White\",\" Amer-Indian-Eskimo\",\" Black\",\" White\",\" White\",\" White\",\" White\",\" White\",\" Black\",\" White\",\" Other\",\" White\",\" White\",\" White\",\" White\",\" White\",\" White\",\" White\",\" White\",\" White\",\" White\",\" White\",\" White\",\" White\",\" White\",\" White\",\" White\",\" White\",\" White\",\" White\",\" White\",\" White\",\" White\",\" White\",\" White\",\" Asian-Pac-Islander\",\" White\",\" White\",\" White\",\" White\",\" White\",\" White\",\" White\",\" White\",\" White\",\" White\",\" White\",\" White\",\" Black\",\" White\",\" White\",\" White\",\" Asian-Pac-Islander\",\" White\",\" White\",\" White\",\" White\",\" White\",\" White\",\" Black\",\" Other\",\" White\",\" White\",\" White\",\" White\",\" White\",\" White\",\" White\",\" White\",\" White\",\" White\",\" White\",\" White\",\" White\",\" White\",\" White\",\" White\",\" White\",\" White\",\" Asian-Pac-Islander\",\" White\",\" White\",\" White\",\" White\",\" White\",\" White\",\" White\",\" White\",\" White\",\" White\",\" White\",\" White\",\" White\",\" Asian-Pac-Islander\",\" White\",\" White\",\" White\",\" White\",\" White\",\" White\",\" Black\",\" White\",\" White\",\" White\",\" Black\",\" White\",\" White\",\" White\",\" White\",\" White\",\" White\",\" White\",\" White\",\" White\",\" White\",\" White\",\" White\",\" White\",\" Amer-Indian-Eskimo\",\" White\",\" White\",\" White\",\" White\",\" Black\",\" White\",\" White\",\" White\",\" White\",\" White\",\" Black\",\" White\",\" White\",\" White\",\" White\",\" White\",\" White\",\" White\",\" White\",\" White\",\" White\",\" White\",\" White\",\" White\",\" White\",\" White\",\" White\",\" White\",\" White\",\" White\",\" White\",\" White\",\" White\",\" White\",\" White\",\" White\",\" White\",\" White\",\" White\",\" White\",\" White\",\" Black\",\" White\",\" Amer-Indian-Eskimo\",\" White\",\" White\",\" White\",\" Black\",\" Black\",\" Black\",\" White\",\" White\",\" White\",\" White\",\" Asian-Pac-Islander\",\" White\",\" White\",\" Black\",\" White\",\" White\",\" White\",\" Asian-Pac-Islander\",\" White\",\" White\",\" White\",\" Black\",\" White\",\" White\",\" White\",\" Black\",\" Black\",\" White\",\" White\",\" White\",\" White\",\" White\",\" White\",\" White\",\" White\",\" White\",\" White\",\" White\",\" White\",\" Black\",\" Black\",\" White\",\" White\",\" White\",\" Black\",\" White\",\" White\",\" White\",\" White\",\" White\",\" White\",\" White\",\" Black\",\" White\",\" White\",\" White\",\" White\",\" Black\",\" White\",\" White\",\" White\",\" White\",\" Black\",\" White\",\" White\",\" White\",\" White\",\" White\",\" Black\",\" White\",\" White\",\" White\",\" White\",\" White\",\" White\",\" White\",\" White\",\" White\",\" White\",\" White\",\" Black\",\" White\",\" White\",\" White\",\" White\",\" White\",\" White\",\" White\",\" White\",\" White\",\" White\",\" White\",\" White\",\" White\",\" White\",\" White\",\" Asian-Pac-Islander\",\" White\",\" White\",\" White\",\" Black\",\" White\",\" White\",\" Black\",\" White\",\" White\",\" White\",\" White\",\" Black\",\" White\",\" White\",\" White\",\" White\",\" White\",\" White\",\" White\",\" Amer-Indian-Eskimo\",\" White\",\" White\",\" Black\",\" Asian-Pac-Islander\",\" White\",\" Amer-Indian-Eskimo\",\" White\",\" Black\",\" White\",\" White\",\" Black\",\" White\",\" White\",\" White\",\" White\",\" White\",\" White\",\" White\",\" White\",\" White\",\" White\",\" White\",\" White\",\" White\",\" Black\",\" White\",\" White\",\" White\",\" White\",\" Black\",\" White\",\" White\",\" White\",\" White\",\" Black\",\" Black\",\" White\",\" White\",\" White\",\" White\",\" White\",\" White\",\" White\",\" White\",\" White\",\" White\",\" White\",\" White\",\" White\",\" Black\",\" Black\",\" White\",\" White\",\" White\",\" White\",\" White\",\" White\",\" White\",\" White\",\" Asian-Pac-Islander\",\" White\",\" White\",\" White\",\" Black\",\" White\",\" White\",\" White\",\" White\",\" White\",\" White\",\" White\",\" White\",\" White\",\" White\",\" White\",\" White\",\" Black\",\" Black\",\" White\",\" White\",\" White\",\" White\",\" White\",\" White\",\" White\",\" White\",\" Black\",\" White\",\" White\",\" White\",\" White\",\" White\",\" Black\",\" White\",\" White\",\" White\",\" White\",\" White\",\" White\",\" White\",\" White\",\" White\",\" White\",\" White\",\" White\",\" White\",\" White\",\" White\",\" Black\",\" White\",\" White\",\" White\",\" Black\",\" White\",\" White\",\" White\",\" White\",\" White\",\" White\",\" White\",\" White\",\" White\",\" Asian-Pac-Islander\",\" White\",\" Asian-Pac-Islander\",\" Asian-Pac-Islander\",\" White\",\" White\",\" White\",\" White\",\" White\",\" White\",\" White\",\" White\",\" White\",\" Black\",\" White\",\" White\",\" White\",\" White\",\" White\",\" White\",\" White\",\" White\",\" White\",\" White\",\" White\",\" White\",\" White\",\" White\",\" White\",\" White\",\" White\",\" White\",\" Black\",\" White\",\" White\",\" White\",\" White\",\" Black\",\" White\",\" White\",\" Black\",\" White\",\" White\",\" White\",\" White\",\" White\",\" White\",\" White\",\" Black\",\" White\",\" White\",\" White\",\" White\",\" White\",\" White\",\" White\",\" White\",\" White\",\" White\",\" White\",\" White\",\" White\",\" White\",\" White\",\" White\",\" White\",\" White\",\" White\",\" White\",\" White\",\" White\",\" White\",\" Black\",\" White\",\" White\",\" White\",\" White\",\" White\",\" White\",\" White\",\" White\",\" Black\",\" White\",\" White\",\" White\",\" White\",\" White\",\" White\",\" White\",\" White\",\" White\",\" Other\",\" White\",\" White\",\" White\",\" White\",\" White\",\" White\",\" White\",\" Black\",\" White\",\" White\",\" White\",\" Amer-Indian-Eskimo\",\" White\",\" White\",\" White\",\" White\",\" White\",\" White\",\" White\",\" Black\",\" White\",\" White\",\" White\",\" White\",\" White\",\" White\",\" Black\",\" White\",\" White\",\" White\",\" White\",\" White\",\" White\",\" White\",\" White\",\" White\",\" White\",\" Black\",\" White\",\" White\",\" White\",\" White\",\" Black\",\" White\",\" White\",\" Black\",\" White\",\" White\",\" White\",\" Black\",\" White\",\" White\",\" White\",\" White\",\" White\",\" White\",\" White\",\" White\",\" White\",\" White\",\" White\",\" Black\",\" White\",\" Other\",\" White\",\" White\",\" Asian-Pac-Islander\",\" White\",\" White\",\" White\",\" White\",\" White\",\" White\",\" White\",\" White\",\" White\",\" White\",\" White\",\" White\",\" White\",\" White\",\" White\",\" White\",\" White\",\" Black\",\" White\",\" White\",\" White\",\" Other\",\" White\",\" White\",\" Black\",\" Black\",\" White\",\" White\",\" White\",\" White\",\" White\",\" White\",\" White\",\" White\",\" White\",\" White\",\" White\",\" White\",\" White\",\" White\",\" White\",\" White\",\" Asian-Pac-Islander\",\" White\",\" White\",\" White\",\" White\",\" White\",\" White\",\" Amer-Indian-Eskimo\",\" White\",\" White\",\" Black\",\" White\",\" Black\",\" White\",\" White\",\" White\",\" Asian-Pac-Islander\",\" Amer-Indian-Eskimo\",\" Amer-Indian-Eskimo\",\" White\",\" White\",\" White\",\" White\",\" White\",\" White\",\" White\",\" White\",\" Black\",\" White\",\" White\",\" White\",\" White\",\" White\",\" White\",\" White\",\" White\",\" White\",\" White\",\" White\",\" White\",\" White\",\" White\",\" White\",\" White\",\" White\",\" White\",\" White\",\" White\",\" White\",\" White\",\" White\",\" White\",\" White\",\" White\",\" White\",\" White\",\" White\",\" Black\",\" White\",\" White\",\" White\",\" White\",\" White\",\" Black\",\" White\",\" White\",\" White\",\" White\",\" White\",\" White\",\" White\",\" Amer-Indian-Eskimo\",\" White\",\" White\",\" White\",\" White\",\" White\",\" White\",\" White\",\" White\",\" White\",\" White\",\" White\",\" White\",\" White\",\" White\",\" White\",\" Asian-Pac-Islander\",\" White\",\" White\",\" White\",\" White\",\" White\",\" Black\",\" White\",\" White\",\" White\",\" White\",\" White\",\" White\",\" White\",\" White\",\" Black\",\" White\",\" White\",\" White\",\" White\",\" White\",\" White\",\" Black\",\" White\",\" White\",\" White\",\" Black\",\" White\",\" White\",\" White\",\" White\",\" White\",\" White\",\" White\",\" White\",\" Black\",\" White\",\" White\",\" White\",\" Black\",\" White\",\" White\",\" White\",\" White\",\" Asian-Pac-Islander\",\" White\",\" White\",\" White\",\" White\",\" White\",\" Asian-Pac-Islander\",\" White\",\" White\",\" White\",\" White\",\" White\",\" White\",\" Other\",\" White\",\" White\",\" White\",\" Black\",\" Black\",\" White\",\" White\",\" White\",\" White\",\" White\",\" Black\",\" Black\",\" White\",\" White\",\" White\",\" White\",\" Black\",\" White\",\" White\",\" White\",\" Black\",\" White\",\" White\",\" White\",\" White\",\" White\",\" White\",\" White\",\" White\",\" White\",\" Black\",\" White\",\" White\",\" White\",\" White\",\" White\",\" White\",\" White\",\" White\",\" White\",\" Black\",\" White\",\" White\",\" White\",\" White\",\" Black\",\" White\",\" White\",\" White\",\" White\",\" White\",\" White\",\" White\",\" White\",\" White\",\" White\",\" White\",\" White\",\" White\",\" White\",\" White\",\" White\",\" White\",\" White\",\" White\",\" White\",\" White\",\" Black\",\" White\",\" White\",\" White\",\" White\",\" White\",\" White\",\" White\",\" White\",\" White\",\" White\",\" White\",\" White\",\" White\",\" White\",\" White\",\" White\",\" Asian-Pac-Islander\",\" White\",\" White\",\" White\",\" Black\",\" White\",\" Asian-Pac-Islander\",\" White\",\" White\",\" Asian-Pac-Islander\",\" White\",\" White\",\" Black\",\" White\",\" White\",\" White\",\" Asian-Pac-Islander\",\" Other\",\" White\",\" White\",\" White\",\" White\",\" White\",\" White\",\" White\",\" Asian-Pac-Islander\",\" White\",\" White\",\" White\",\" White\",\" White\",\" White\",\" White\",\" Black\",\" Asian-Pac-Islander\",\" White\",\" White\",\" White\",\" White\",\" White\",\" White\",\" White\",\" White\",\" White\",\" White\",\" Black\",\" Black\",\" White\",\" White\",\" White\",\" White\",\" White\",\" White\",\" White\",\" Black\",\" White\",\" White\",\" White\",\" White\",\" Asian-Pac-Islander\",\" White\",\" White\",\" White\",\" White\",\" White\",\" Black\",\" White\",\" White\",\" White\",\" White\",\" White\",\" White\",\" White\",\" White\",\" White\",\" White\",\" Black\",\" Other\",\" White\",\" White\",\" White\",\" White\",\" White\",\" White\",\" White\",\" White\",\" White\",\" White\",\" White\",\" White\",\" White\",\" White\",\" White\",\" Black\",\" White\",\" White\",\" White\",\" White\",\" White\",\" White\",\" White\",\" White\",\" Other\",\" White\",\" White\",\" White\",\" White\",\" White\",\" White\",\" White\",\" White\",\" White\",\" White\",\" White\",\" White\",\" Asian-Pac-Islander\",\" White\",\" White\",\" White\",\" White\",\" White\",\" White\",\" Black\",\" White\",\" White\",\" White\",\" White\",\" White\",\" White\",\" White\",\" White\",\" White\",\" White\",\" White\",\" White\",\" White\",\" White\",\" White\",\" White\",\" White\",\" White\",\" Asian-Pac-Islander\",\" White\",\" White\",\" White\",\" Black\",\" White\",\" White\",\" White\",\" White\",\" White\",\" Black\",\" White\",\" White\",\" Black\",\" White\",\" White\",\" White\",\" Asian-Pac-Islander\",\" White\",\" White\",\" White\",\" White\",\" White\",\" White\",\" White\",\" White\",\" White\",\" Black\",\" White\",\" White\",\" White\",\" White\",\" White\",\" White\",\" White\",\" White\",\" Black\",\" White\",\" White\",\" White\",\" Black\",\" White\",\" White\",\" Black\",\" Black\",\" White\",\" White\",\" White\",\" White\",\" White\",\" Black\",\" White\",\" White\",\" White\",\" White\",\" White\",\" White\",\" Asian-Pac-Islander\",\" White\",\" Black\",\" Asian-Pac-Islander\",\" White\",\" White\",\" White\",\" White\",\" White\",\" White\",\" White\",\" White\",\" White\",\" White\",\" White\",\" White\",\" White\",\" White\",\" White\",\" White\",\" White\",\" White\",\" White\",\" White\",\" White\",\" White\",\" White\",\" White\",\" Black\",\" White\",\" Black\",\" White\",\" White\",\" White\",\" White\",\" White\",\" White\",\" White\",\" White\",\" White\",\" White\",\" White\",\" Asian-Pac-Islander\",\" White\",\" White\",\" White\",\" White\",\" White\",\" White\",\" White\",\" White\",\" White\",\" Black\",\" White\",\" Black\",\" White\",\" White\",\" White\",\" White\",\" White\",\" White\",\" White\",\" White\",\" White\",\" White\",\" White\",\" White\",\" White\",\" White\",\" White\",\" White\",\" White\",\" White\",\" White\",\" Asian-Pac-Islander\",\" White\",\" White\",\" Amer-Indian-Eskimo\",\" White\",\" White\",\" White\",\" White\",\" White\",\" White\",\" White\",\" White\",\" White\",\" White\",\" Asian-Pac-Islander\",\" White\",\" Black\",\" White\",\" White\",\" White\",\" Asian-Pac-Islander\",\" White\",\" Black\",\" White\",\" White\",\" White\",\" White\",\" White\",\" White\",\" White\",\" White\",\" White\",\" White\",\" White\",\" White\",\" White\",\" White\",\" White\",\" White\",\" White\",\" White\",\" White\",\" White\",\" White\",\" Black\",\" White\",\" White\",\" White\",\" White\",\" White\",\" White\",\" Black\",\" White\",\" White\",\" Black\",\" Black\",\" White\",\" White\",\" White\",\" White\",\" White\",\" White\",\" White\",\" White\",\" White\",\" Black\",\" White\",\" White\",\" White\",\" White\",\" White\",\" White\",\" White\",\" White\",\" White\",\" White\",\" White\",\" White\",\" White\",\" White\",\" White\",\" White\",\" White\",\" Asian-Pac-Islander\",\" White\",\" White\",\" White\",\" Black\",\" White\",\" White\",\" Black\",\" White\",\" White\",\" White\",\" White\",\" White\",\" White\",\" White\",\" White\",\" Black\",\" White\",\" Other\",\" White\",\" White\",\" White\",\" White\",\" White\",\" White\",\" White\",\" White\",\" White\",\" Asian-Pac-Islander\",\" White\",\" White\",\" White\",\" White\",\" Other\",\" White\",\" Black\",\" Asian-Pac-Islander\",\" White\",\" White\",\" White\",\" White\",\" White\",\" White\",\" Black\",\" Black\",\" White\",\" White\",\" White\",\" White\",\" White\",\" White\",\" White\",\" White\",\" White\",\" White\",\" White\",\" White\",\" White\",\" White\",\" White\",\" White\",\" Black\",\" White\",\" White\",\" White\",\" White\",\" White\",\" White\",\" Black\",\" White\",\" White\",\" White\",\" White\",\" White\",\" White\",\" White\",\" White\",\" White\",\" White\",\" White\",\" White\",\" White\",\" White\",\" White\",\" White\",\" White\",\" Black\",\" Asian-Pac-Islander\",\" White\",\" Black\",\" White\",\" White\",\" White\",\" White\",\" White\",\" White\",\" White\",\" White\",\" Asian-Pac-Islander\",\" White\",\" White\",\" Black\",\" Black\",\" White\",\" White\",\" White\",\" Black\",\" White\",\" White\",\" White\",\" White\",\" Asian-Pac-Islander\",\" White\",\" Asian-Pac-Islander\",\" White\",\" White\",\" White\",\" White\",\" White\",\" White\",\" White\",\" Black\",\" White\",\" White\",\" White\",\" White\",\" White\",\" White\",\" White\",\" White\",\" White\",\" Black\",\" White\",\" White\",\" White\",\" White\",\" White\",\" White\",\" White\",\" White\",\" White\",\" White\",\" White\",\" Asian-Pac-Islander\",\" White\",\" White\",\" White\",\" White\",\" White\",\" White\",\" White\",\" White\",\" White\",\" White\",\" White\",\" White\",\" White\",\" White\",\" White\",\" White\",\" White\",\" White\",\" White\",\" White\",\" White\",\" White\",\" White\",\" White\",\" White\",\" White\",\" White\",\" Black\",\" White\",\" White\",\" White\",\" White\",\" White\",\" White\",\" White\",\" Black\",\" White\",\" White\",\" White\",\" White\",\" White\",\" White\",\" White\",\" White\",\" White\",\" Black\",\" Black\",\" White\",\" White\",\" White\",\" White\",\" White\",\" Other\",\" White\",\" White\",\" White\",\" White\",\" White\",\" Asian-Pac-Islander\",\" White\",\" White\",\" White\",\" White\",\" White\",\" White\",\" White\",\" White\",\" White\",\" White\",\" White\",\" White\",\" White\",\" White\",\" White\",\" White\",\" White\",\" White\",\" White\",\" White\",\" White\",\" White\",\" White\",\" White\",\" White\",\" White\",\" White\",\" White\",\" White\",\" White\",\" White\",\" White\",\" White\",\" White\",\" White\",\" White\",\" White\",\" White\",\" White\",\" Other\",\" White\",\" White\",\" White\",\" White\",\" White\",\" White\",\" White\",\" White\",\" White\",\" Asian-Pac-Islander\",\" White\",\" White\",\" White\",\" White\",\" Black\",\" White\",\" White\",\" White\",\" White\",\" White\",\" White\",\" White\",\" White\",\" Asian-Pac-Islander\",\" White\",\" White\",\" White\",\" White\",\" White\",\" White\",\" White\",\" Amer-Indian-Eskimo\",\" White\",\" Black\",\" White\",\" White\",\" White\",\" White\",\" White\",\" White\",\" White\",\" White\",\" White\",\" White\",\" White\",\" White\",\" White\",\" White\",\" White\",\" White\",\" White\",\" White\",\" White\",\" White\",\" White\",\" Asian-Pac-Islander\",\" White\",\" White\",\" White\",\" White\",\" White\",\" White\",\" White\",\" White\",\" White\",\" White\",\" White\",\" White\",\" White\",\" White\",\" White\",\" White\",\" White\",\" White\",\" White\",\" White\",\" Black\",\" Black\",\" White\",\" White\",\" White\",\" White\",\" White\",\" White\",\" White\",\" White\",\" White\",\" White\",\" White\",\" White\",\" White\",\" White\",\" White\",\" White\",\" White\",\" White\",\" Amer-Indian-Eskimo\",\" White\",\" Other\",\" White\",\" White\",\" White\",\" White\",\" White\",\" White\",\" White\",\" White\",\" White\",\" White\",\" Asian-Pac-Islander\",\" White\",\" White\",\" White\",\" White\",\" White\",\" White\",\" White\",\" White\",\" White\",\" White\",\" Black\",\" Black\",\" White\",\" White\",\" White\",\" White\",\" White\",\" White\",\" Asian-Pac-Islander\",\" Black\",\" White\",\" Asian-Pac-Islander\",\" White\",\" White\",\" White\",\" White\",\" White\",\" White\",\" Black\",\" White\",\" White\",\" White\",\" White\",\" White\",\" White\",\" White\",\" White\",\" White\",\" Black\",\" White\",\" Black\",\" White\",\" White\",\" White\",\" White\",\" Asian-Pac-Islander\",\" White\",\" White\",\" White\",\" White\",\" White\",\" White\",\" White\",\" Black\",\" White\",\" Black\",\" Asian-Pac-Islander\",\" Black\",\" White\",\" White\",\" White\",\" White\",\" White\",\" White\",\" White\",\" White\",\" White\",\" White\",\" White\",\" White\",\" White\",\" White\",\" White\",\" White\",\" White\",\" White\",\" White\",\" White\",\" Black\",\" White\",\" White\",\" Black\",\" White\",\" White\",\" White\",\" White\",\" White\",\" White\",\" White\",\" White\",\" White\",\" White\",\" White\",\" White\",\" White\",\" White\",\" White\",\" White\",\" White\",\" White\",\" White\",\" White\",\" White\",\" White\",\" White\",\" White\",\" Amer-Indian-Eskimo\",\" White\",\" White\",\" White\",\" White\",\" Black\",\" White\",\" White\",\" White\",\" White\",\" White\",\" White\",\" White\",\" White\",\" White\",\" White\",\" White\",\" White\",\" White\",\" White\",\" White\",\" White\",\" White\",\" Black\",\" Black\",\" White\",\" Black\",\" White\",\" White\",\" White\",\" White\",\" White\",\" Asian-Pac-Islander\",\" Black\",\" White\",\" White\",\" White\",\" White\",\" White\",\" White\",\" White\",\" White\",\" White\",\" White\",\" Black\",\" Black\",\" White\",\" White\",\" Black\",\" Other\",\" White\",\" White\",\" White\",\" White\",\" White\",\" White\",\" White\",\" White\",\" Black\",\" White\",\" White\",\" White\",\" White\",\" Amer-Indian-Eskimo\",\" White\",\" White\",\" White\",\" Asian-Pac-Islander\",\" White\",\" White\",\" Black\",\" White\",\" White\",\" White\",\" White\",\" White\",\" White\",\" Black\",\" White\",\" White\",\" White\",\" White\",\" White\",\" White\",\" White\",\" White\",\" White\",\" White\",\" Black\",\" White\",\" White\",\" White\",\" White\",\" White\",\" White\",\" White\",\" White\",\" White\",\" Black\",\" White\",\" White\",\" White\",\" White\",\" White\",\" White\",\" White\",\" White\",\" Black\",\" White\",\" White\",\" White\",\" White\",\" White\",\" Amer-Indian-Eskimo\",\" White\",\" Asian-Pac-Islander\",\" White\",\" White\",\" White\",\" White\",\" Black\",\" White\",\" White\",\" White\",\" White\",\" Black\",\" White\",\" White\",\" White\",\" White\",\" White\",\" White\",\" White\",\" White\",\" White\",\" White\",\" Other\",\" White\",\" White\",\" Amer-Indian-Eskimo\",\" White\",\" White\",\" White\",\" White\",\" White\",\" Asian-Pac-Islander\",\" White\",\" Black\",\" Black\",\" White\",\" White\",\" White\",\" White\",\" Black\",\" White\",\" Black\",\" White\",\" Black\",\" White\",\" Black\",\" Asian-Pac-Islander\",\" White\",\" White\",\" Black\",\" White\",\" White\",\" Black\",\" White\",\" White\",\" White\",\" White\",\" White\",\" White\",\" White\",\" White\",\" White\",\" White\",\" White\",\" White\",\" White\",\" White\",\" White\",\" White\",\" White\",\" White\",\" White\",\" White\",\" White\",\" White\",\" White\",\" White\",\" White\",\" Other\",\" White\",\" White\",\" White\",\" White\",\" White\",\" White\",\" White\",\" White\",\" Black\",\" White\",\" White\",\" White\",\" White\",\" Black\",\" White\",\" White\",\" White\",\" Black\",\" White\",\" Black\",\" White\",\" White\",\" White\",\" White\",\" White\",\" White\",\" White\",\" Asian-Pac-Islander\",\" White\",\" White\",\" Black\",\" White\",\" White\",\" Black\",\" White\",\" White\",\" White\",\" White\",\" White\",\" White\",\" White\",\" White\",\" White\",\" White\",\" White\",\" White\",\" White\",\" White\",\" White\",\" Black\",\" White\",\" White\",\" White\",\" White\",\" White\",\" White\",\" White\",\" White\",\" White\",\" White\",\" White\",\" White\",\" White\",\" White\",\" White\",\" White\",\" White\",\" White\",\" White\",\" White\",\" White\",\" White\",\" White\",\" White\",\" White\",\" White\",\" White\",\" White\",\" White\",\" White\",\" White\",\" White\",\" Black\",\" White\",\" Black\",\" White\",\" White\",\" Black\",\" White\",\" White\",\" White\",\" White\",\" White\",\" White\",\" White\",\" White\",\" White\",\" White\",\" White\",\" Amer-Indian-Eskimo\",\" White\",\" White\",\" White\",\" White\",\" White\",\" White\",\" White\",\" White\",\" White\",\" White\",\" White\",\" White\",\" White\",\" White\",\" White\",\" White\",\" White\",\" White\",\" White\",\" White\",\" White\",\" White\",\" Black\",\" White\",\" White\",\" White\",\" White\",\" White\",\" White\",\" Black\",\" White\",\" Black\",\" White\",\" White\",\" White\",\" White\",\" White\",\" White\",\" White\",\" White\",\" White\",\" White\",\" White\",\" White\",\" White\",\" White\",\" White\",\" White\",\" White\",\" White\",\" White\",\" White\",\" White\",\" White\",\" White\",\" White\",\" White\",\" White\",\" White\",\" Black\",\" White\",\" White\",\" White\",\" White\",\" White\",\" White\",\" White\",\" White\",\" White\",\" White\",\" White\",\" White\",\" White\",\" Asian-Pac-Islander\",\" White\",\" White\",\" White\",\" White\",\" Asian-Pac-Islander\",\" Black\",\" White\",\" Other\",\" White\",\" White\",\" White\",\" White\",\" White\",\" White\",\" Black\",\" White\",\" White\",\" White\",\" White\",\" White\",\" White\",\" White\",\" White\",\" White\",\" White\",\" Black\",\" White\",\" Black\",\" White\",\" White\",\" White\",\" White\",\" Asian-Pac-Islander\",\" White\",\" White\",\" White\",\" White\",\" White\",\" White\",\" White\",\" White\",\" White\",\" White\",\" White\",\" Black\",\" White\",\" White\",\" White\",\" White\",\" White\",\" Black\",\" White\",\" White\",\" White\",\" White\",\" White\",\" White\",\" White\",\" White\",\" White\",\" White\",\" Amer-Indian-Eskimo\",\" White\",\" Asian-Pac-Islander\",\" White\",\" White\",\" White\",\" White\",\" White\",\" White\",\" White\",\" White\",\" White\",\" White\",\" White\",\" White\",\" White\",\" White\",\" White\",\" White\",\" Black\",\" White\",\" White\",\" White\",\" Black\",\" White\",\" White\",\" White\",\" White\",\" White\",\" White\",\" White\",\" White\",\" White\",\" White\",\" White\",\" White\",\" White\",\" White\",\" White\",\" White\",\" White\",\" White\",\" White\",\" White\",\" Asian-Pac-Islander\",\" White\",\" White\",\" White\",\" White\",\" White\",\" White\",\" White\",\" White\",\" White\",\" Black\",\" White\",\" White\",\" White\",\" White\",\" White\",\" White\",\" White\",\" Black\",\" White\",\" White\",\" White\",\" White\",\" White\",\" White\",\" Other\",\" White\",\" White\",\" White\",\" White\",\" White\",\" White\",\" White\",\" White\",\" White\",\" White\",\" Black\",\" White\",\" White\",\" White\",\" White\",\" White\",\" Black\",\" White\",\" White\",\" White\",\" White\",\" Black\",\" Black\",\" White\",\" White\",\" White\",\" Black\",\" White\",\" Black\",\" White\",\" White\",\" White\",\" Black\",\" White\",\" Black\",\" Black\",\" White\",\" White\",\" White\",\" White\",\" White\",\" White\",\" White\",\" White\",\" White\",\" White\",\" White\",\" White\",\" White\",\" White\",\" White\",\" Black\",\" White\",\" White\",\" White\",\" White\",\" White\",\" Asian-Pac-Islander\",\" White\",\" White\",\" White\",\" White\",\" White\",\" White\",\" White\",\" White\",\" White\",\" White\",\" White\",\" White\",\" White\",\" White\",\" White\",\" White\",\" White\",\" White\",\" White\",\" White\",\" White\",\" White\",\" White\",\" White\",\" White\",\" White\",\" White\",\" White\",\" White\",\" White\",\" White\",\" White\",\" White\",\" Black\",\" White\",\" White\",\" White\",\" Black\",\" Black\",\" White\",\" White\",\" White\",\" White\",\" White\",\" White\",\" White\",\" White\",\" White\",\" White\",\" White\",\" White\",\" White\",\" White\",\" Other\",\" White\",\" White\",\" White\",\" White\",\" White\",\" White\",\" White\",\" White\",\" White\",\" White\",\" White\",\" White\",\" White\",\" White\",\" White\",\" White\",\" White\",\" Black\",\" Asian-Pac-Islander\",\" White\",\" White\",\" White\",\" White\",\" Black\",\" White\",\" White\",\" White\",\" White\",\" White\",\" White\",\" Black\",\" White\",\" White\",\" White\",\" White\",\" White\",\" Black\",\" Black\",\" White\",\" White\",\" White\",\" Black\",\" White\",\" White\",\" Black\",\" White\",\" White\",\" White\",\" White\",\" White\",\" White\",\" White\",\" White\",\" White\",\" White\",\" White\",\" Black\",\" White\",\" Black\",\" White\",\" White\",\" White\",\" White\",\" White\",\" White\",\" White\",\" White\",\" Asian-Pac-Islander\",\" White\",\" White\",\" White\",\" White\",\" Black\",\" White\",\" White\",\" White\",\" White\",\" White\",\" White\",\" White\",\" White\",\" White\",\" White\",\" White\",\" White\",\" Black\",\" White\",\" Black\",\" White\",\" Black\",\" White\",\" White\",\" White\",\" Black\",\" Amer-Indian-Eskimo\",\" White\",\" White\",\" White\",\" White\",\" White\",\" White\",\" Black\",\" Black\",\" White\",\" White\",\" White\",\" White\",\" Asian-Pac-Islander\",\" Asian-Pac-Islander\",\" White\",\" White\",\" White\",\" White\",\" White\",\" White\",\" Asian-Pac-Islander\",\" White\",\" White\",\" White\",\" White\",\" White\",\" White\",\" White\",\" White\",\" White\",\" White\",\" White\",\" White\",\" White\",\" Asian-Pac-Islander\",\" White\",\" White\",\" White\",\" White\",\" White\",\" White\",\" White\",\" Asian-Pac-Islander\",\" White\",\" White\",\" White\",\" White\",\" Black\",\" Amer-Indian-Eskimo\",\" White\",\" White\",\" White\",\" White\",\" White\",\" White\",\" White\",\" White\",\" White\",\" White\",\" White\",\" Other\",\" White\",\" Amer-Indian-Eskimo\",\" White\",\" Black\",\" White\",\" White\",\" White\",\" White\",\" White\",\" White\",\" White\",\" White\",\" White\",\" White\",\" White\",\" White\",\" White\",\" White\",\" Amer-Indian-Eskimo\",\" Black\",\" White\",\" White\",\" White\",\" White\",\" Black\",\" White\",\" White\",\" White\",\" White\",\" White\",\" White\",\" White\",\" White\",\" White\",\" White\",\" White\",\" White\",\" White\",\" White\",\" White\",\" White\",\" Amer-Indian-Eskimo\",\" White\",\" White\",\" White\",\" White\",\" White\",\" White\",\" White\",\" White\",\" White\",\" White\",\" White\",\" White\",\" White\",\" White\",\" White\",\" White\",\" White\",\" White\",\" Black\",\" White\",\" White\",\" White\",\" White\",\" Black\",\" White\",\" Black\",\" White\",\" White\",\" White\",\" White\",\" Asian-Pac-Islander\",\" White\",\" White\",\" White\",\" Asian-Pac-Islander\",\" White\",\" White\",\" White\",\" White\",\" White\",\" Black\",\" White\",\" White\",\" White\",\" Black\",\" Black\",\" White\",\" Asian-Pac-Islander\",\" White\",\" White\",\" White\",\" White\",\" White\",\" Black\",\" Amer-Indian-Eskimo\",\" White\",\" White\",\" White\",\" White\",\" White\",\" White\",\" White\",\" Black\",\" White\",\" White\",\" White\",\" Black\",\" White\",\" White\",\" Asian-Pac-Islander\",\" White\",\" White\",\" White\",\" White\",\" White\",\" White\",\" White\",\" White\",\" White\",\" White\",\" White\",\" White\",\" Asian-Pac-Islander\",\" White\",\" White\",\" White\",\" White\",\" Black\",\" White\",\" White\",\" White\",\" White\",\" White\",\" White\",\" White\",\" White\",\" White\",\" Amer-Indian-Eskimo\",\" White\",\" White\",\" White\",\" White\",\" White\",\" White\",\" White\",\" White\",\" White\",\" White\",\" White\",\" White\",\" Black\",\" White\",\" White\",\" White\",\" Black\",\" White\",\" White\",\" White\",\" White\",\" White\",\" White\",\" Asian-Pac-Islander\",\" White\",\" White\",\" Amer-Indian-Eskimo\",\" White\",\" White\",\" White\",\" White\",\" White\",\" White\",\" White\",\" White\",\" White\",\" Black\",\" White\",\" White\",\" Black\",\" White\",\" Black\",\" White\",\" White\",\" White\",\" White\",\" White\",\" White\",\" Black\",\" White\",\" White\",\" White\",\" White\",\" White\",\" White\",\" Black\",\" White\",\" White\",\" Asian-Pac-Islander\",\" White\",\" White\",\" White\",\" Asian-Pac-Islander\",\" White\",\" White\",\" White\",\" White\",\" Black\",\" White\",\" Asian-Pac-Islander\",\" White\",\" White\",\" White\",\" White\",\" White\",\" White\",\" White\",\" White\",\" White\",\" Asian-Pac-Islander\",\" White\",\" White\",\" White\",\" Black\",\" White\",\" White\",\" White\",\" White\",\" Black\",\" Asian-Pac-Islander\",\" White\",\" White\",\" White\",\" White\",\" Black\",\" White\",\" White\",\" White\",\" White\",\" White\",\" White\",\" White\",\" White\",\" White\",\" White\",\" White\",\" White\",\" Black\",\" White\",\" Black\",\" White\",\" White\",\" White\",\" White\",\" White\",\" White\",\" Black\",\" White\",\" White\",\" White\",\" White\",\" White\",\" White\",\" White\",\" White\",\" White\",\" White\",\" White\",\" White\",\" White\",\" White\",\" Black\",\" White\",\" White\",\" White\",\" White\",\" White\",\" White\",\" Black\",\" White\",\" White\",\" White\",\" White\",\" White\",\" White\",\" White\",\" White\",\" White\",\" White\",\" White\",\" Asian-Pac-Islander\",\" White\",\" White\",\" Black\",\" White\",\" White\",\" White\",\" Black\",\" White\",\" White\",\" White\",\" White\",\" White\",\" White\",\" Black\",\" Black\",\" White\",\" White\",\" White\",\" White\",\" White\",\" White\",\" White\",\" White\",\" White\",\" White\",\" White\",\" White\",\" White\",\" White\",\" White\",\" Asian-Pac-Islander\",\" White\",\" White\",\" White\",\" White\",\" White\",\" White\",\" White\",\" White\",\" Other\",\" White\",\" White\",\" White\",\" White\",\" White\",\" White\",\" Other\",\" White\",\" White\",\" White\",\" Black\",\" White\",\" White\",\" White\",\" White\",\" White\",\" Asian-Pac-Islander\",\" White\",\" White\",\" White\",\" White\",\" White\",\" White\",\" Black\",\" White\",\" White\",\" White\",\" White\",\" White\",\" White\",\" White\",\" White\",\" Black\",\" White\",\" Black\",\" White\",\" White\",\" White\",\" White\",\" White\",\" White\",\" White\",\" White\",\" Black\",\" White\",\" White\",\" White\",\" White\",\" White\",\" White\",\" White\",\" White\",\" White\",\" White\",\" White\",\" White\",\" White\",\" White\",\" White\",\" White\",\" White\",\" Asian-Pac-Islander\",\" White\",\" Asian-Pac-Islander\",\" White\",\" White\",\" White\",\" White\",\" White\",\" White\",\" White\",\" White\",\" White\",\" White\",\" White\",\" White\",\" White\",\" White\",\" White\",\" White\",\" Black\",\" White\",\" White\",\" White\",\" White\",\" White\",\" Black\",\" White\",\" White\",\" White\",\" White\",\" Black\",\" White\",\" White\",\" White\",\" White\",\" White\",\" White\",\" White\",\" White\",\" Amer-Indian-Eskimo\",\" White\",\" White\",\" Asian-Pac-Islander\",\" White\",\" White\",\" Asian-Pac-Islander\",\" White\",\" Black\",\" White\",\" White\",\" White\",\" White\",\" White\",\" White\",\" White\",\" White\",\" White\",\" White\",\" White\",\" White\",\" White\",\" White\",\" White\",\" White\",\" White\",\" White\",\" White\",\" White\",\" Black\",\" White\",\" White\",\" White\",\" White\",\" White\",\" White\",\" White\",\" White\",\" White\",\" White\",\" White\",\" White\",\" Black\",\" White\",\" Black\",\" White\",\" White\",\" White\",\" White\",\" White\",\" White\",\" White\",\" White\",\" White\",\" Black\",\" White\",\" Black\",\" White\",\" White\",\" White\",\" White\",\" White\",\" Black\",\" White\",\" Black\",\" White\",\" White\",\" White\",\" Black\",\" White\",\" White\",\" White\",\" Black\",\" White\",\" White\",\" White\",\" White\",\" White\",\" White\",\" White\",\" White\",\" White\",\" White\",\" Black\",\" White\",\" White\",\" White\",\" White\",\" White\",\" Black\",\" White\",\" White\",\" White\",\" White\",\" White\",\" White\",\" White\",\" White\",\" White\",\" White\",\" White\",\" Asian-Pac-Islander\",\" White\",\" White\",\" White\",\" Asian-Pac-Islander\",\" White\",\" White\",\" White\",\" White\",\" White\",\" White\",\" White\",\" White\",\" White\",\" White\",\" White\",\" Asian-Pac-Islander\",\" White\",\" White\",\" White\",\" White\",\" Black\",\" Black\",\" White\",\" White\",\" White\",\" White\",\" White\",\" White\",\" White\",\" Black\",\" White\",\" White\",\" White\",\" White\",\" White\",\" White\",\" White\",\" White\",\" White\",\" White\",\" White\",\" Black\",\" White\",\" White\",\" White\",\" White\",\" White\",\" White\",\" White\",\" White\",\" White\",\" White\",\" White\",\" White\",\" Black\",\" White\",\" White\",\" Asian-Pac-Islander\",\" White\",\" White\",\" White\",\" White\",\" White\",\" White\",\" White\",\" White\",\" White\",\" Black\",\" White\",\" White\",\" White\",\" White\",\" White\",\" White\",\" Asian-Pac-Islander\",\" White\",\" White\",\" White\",\" White\",\" White\",\" White\",\" White\",\" White\",\" White\",\" Other\",\" Amer-Indian-Eskimo\",\" White\",\" Black\",\" White\",\" White\",\" White\",\" White\",\" White\",\" White\",\" White\",\" White\",\" White\",\" Black\",\" White\",\" White\",\" Black\",\" Black\",\" White\",\" White\",\" White\",\" White\",\" White\",\" White\",\" White\",\" Other\",\" White\",\" White\",\" White\",\" White\",\" Black\",\" White\",\" White\",\" Black\",\" Black\",\" White\",\" White\",\" White\",\" White\",\" White\",\" White\",\" White\",\" White\",\" White\",\" Black\",\" White\",\" White\",\" White\",\" White\",\" White\",\" Black\",\" White\",\" White\",\" White\",\" White\",\" Black\",\" White\",\" White\",\" White\",\" White\",\" White\",\" White\",\" White\",\" White\",\" White\",\" White\",\" Black\",\" White\",\" White\",\" White\",\" White\",\" White\",\" White\",\" White\",\" White\",\" White\",\" White\",\" White\",\" White\",\" White\",\" White\",\" White\",\" White\",\" White\",\" White\",\" White\",\" White\",\" White\",\" White\",\" White\",\" White\",\" White\",\" White\",\" Asian-Pac-Islander\",\" White\",\" White\",\" White\",\" Asian-Pac-Islander\",\" White\",\" White\",\" White\",\" White\",\" White\",\" White\",\" Black\",\" White\",\" Asian-Pac-Islander\",\" White\",\" White\",\" White\",\" Asian-Pac-Islander\",\" Amer-Indian-Eskimo\",\" White\",\" White\",\" White\",\" White\",\" White\",\" White\",\" White\",\" White\",\" Asian-Pac-Islander\",\" White\",\" White\",\" White\",\" White\",\" White\",\" White\",\" White\",\" White\",\" White\",\" White\",\" White\",\" White\",\" White\",\" White\",\" White\",\" White\",\" White\",\" White\",\" White\",\" White\",\" White\",\" White\",\" Black\",\" White\",\" Black\",\" White\",\" White\",\" White\",\" White\",\" White\",\" White\",\" White\",\" White\",\" White\",\" White\",\" White\",\" White\",\" White\",\" White\",\" White\",\" White\",\" White\",\" White\",\" White\",\" White\",\" White\",\" White\",\" White\",\" White\",\" Asian-Pac-Islander\",\" White\",\" Black\",\" White\",\" White\",\" White\",\" White\",\" White\",\" White\",\" White\",\" White\",\" White\",\" White\",\" White\",\" White\",\" White\",\" White\",\" White\",\" White\",\" White\",\" White\",\" White\",\" White\",\" White\",\" White\",\" Asian-Pac-Islander\",\" Black\",\" White\",\" White\",\" White\",\" White\",\" White\",\" Black\",\" Black\",\" Asian-Pac-Islander\",\" White\",\" White\",\" White\",\" White\",\" White\",\" White\",\" Black\",\" White\",\" White\",\" Black\",\" White\",\" White\",\" White\",\" White\",\" White\",\" White\",\" Black\",\" White\",\" White\",\" White\",\" White\",\" White\",\" Asian-Pac-Islander\",\" White\",\" Black\",\" White\",\" White\",\" White\",\" White\",\" White\",\" White\",\" Black\",\" White\",\" White\",\" Black\",\" White\",\" White\",\" White\",\" White\",\" White\",\" White\",\" White\",\" White\",\" White\",\" White\",\" White\",\" Asian-Pac-Islander\",\" Other\",\" Asian-Pac-Islander\",\" White\",\" White\",\" White\",\" White\",\" White\",\" White\",\" Black\",\" White\",\" White\",\" White\",\" White\",\" White\",\" White\",\" Black\",\" White\",\" White\",\" White\",\" White\",\" White\",\" Black\",\" White\",\" White\",\" White\",\" White\",\" White\",\" White\",\" White\",\" White\",\" White\",\" White\",\" Black\",\" White\",\" White\",\" White\",\" Black\",\" White\",\" White\",\" White\",\" White\",\" White\",\" White\",\" White\",\" Black\",\" White\",\" White\",\" White\",\" Asian-Pac-Islander\",\" White\",\" White\",\" White\",\" White\",\" White\",\" White\",\" White\",\" White\",\" Black\",\" White\",\" White\",\" White\",\" White\",\" Black\",\" White\",\" White\",\" White\",\" White\",\" White\",\" White\",\" White\",\" Black\",\" White\",\" White\",\" Black\",\" White\",\" Black\",\" White\",\" Asian-Pac-Islander\",\" White\",\" White\",\" White\",\" White\",\" White\",\" White\",\" White\",\" White\",\" Black\",\" White\",\" Black\",\" White\",\" White\",\" White\",\" Asian-Pac-Islander\",\" White\",\" White\",\" White\",\" Asian-Pac-Islander\",\" White\",\" White\",\" White\",\" Black\",\" White\",\" White\",\" White\",\" White\",\" White\",\" White\",\" White\",\" White\",\" Asian-Pac-Islander\",\" White\",\" White\",\" White\",\" White\",\" White\",\" White\",\" White\",\" White\",\" White\",\" White\",\" Asian-Pac-Islander\",\" White\",\" White\",\" White\",\" White\",\" White\",\" White\",\" White\",\" White\",\" White\",\" White\",\" White\",\" White\",\" White\",\" White\",\" White\",\" White\",\" White\",\" White\",\" White\",\" White\",\" White\",\" White\",\" White\",\" White\",\" Amer-Indian-Eskimo\",\" White\",\" White\",\" White\",\" White\",\" White\",\" White\",\" Black\",\" White\",\" White\",\" White\",\" Black\",\" Black\",\" Black\",\" White\",\" White\",\" White\",\" White\",\" White\",\" White\",\" White\",\" White\",\" White\",\" White\",\" White\",\" White\",\" White\",\" White\",\" White\",\" Black\",\" White\",\" White\",\" White\",\" White\",\" Black\",\" White\",\" White\",\" White\",\" White\",\" White\",\" White\",\" White\",\" White\",\" White\",\" White\",\" Black\",\" White\",\" White\",\" Asian-Pac-Islander\",\" White\",\" Amer-Indian-Eskimo\",\" White\",\" White\",\" White\",\" White\",\" White\",\" White\",\" White\",\" White\",\" White\",\" White\",\" White\",\" White\",\" White\",\" White\",\" White\",\" White\",\" White\",\" White\",\" White\",\" White\",\" White\",\" White\",\" White\",\" White\",\" White\",\" White\",\" Black\",\" White\",\" White\",\" White\",\" White\",\" White\",\" White\",\" White\",\" White\",\" White\",\" White\",\" White\",\" White\",\" Black\",\" White\",\" White\",\" White\",\" White\",\" White\",\" White\",\" White\",\" White\",\" White\",\" White\",\" White\",\" White\",\" White\",\" White\",\" White\",\" White\",\" Asian-Pac-Islander\",\" White\",\" Asian-Pac-Islander\",\" White\",\" Black\",\" White\",\" Amer-Indian-Eskimo\",\" White\",\" White\",\" White\",\" White\",\" White\",\" White\",\" Black\",\" White\",\" Black\",\" Amer-Indian-Eskimo\",\" White\",\" White\",\" Black\",\" White\",\" White\",\" White\",\" Amer-Indian-Eskimo\",\" White\",\" Black\",\" White\",\" White\",\" White\",\" White\",\" White\",\" Black\",\" White\",\" White\",\" White\",\" White\",\" White\",\" White\",\" White\",\" Black\",\" White\",\" White\",\" White\",\" White\",\" White\",\" White\",\" Amer-Indian-Eskimo\",\" White\",\" White\",\" White\",\" White\",\" White\",\" White\",\" White\",\" White\",\" Black\",\" White\",\" White\",\" White\",\" White\",\" White\",\" White\",\" White\",\" White\",\" White\",\" White\",\" White\",\" White\",\" White\",\" White\",\" White\",\" White\",\" Black\",\" White\",\" White\",\" Black\",\" White\",\" White\",\" White\",\" White\",\" White\",\" White\",\" White\",\" White\",\" White\",\" White\",\" White\",\" White\",\" Black\",\" White\",\" White\",\" White\",\" White\",\" Amer-Indian-Eskimo\",\" Black\",\" White\",\" White\",\" White\",\" White\",\" White\",\" White\",\" White\",\" Black\",\" White\",\" White\",\" White\",\" White\",\" White\",\" White\",\" Asian-Pac-Islander\",\" White\",\" White\",\" White\",\" White\",\" White\",\" White\",\" White\",\" White\",\" White\",\" White\",\" White\",\" Black\",\" White\",\" White\",\" White\",\" White\",\" White\",\" White\",\" White\",\" Other\",\" White\",\" White\",\" White\",\" White\",\" White\",\" White\",\" White\",\" White\",\" White\",\" Black\",\" White\",\" White\",\" White\",\" White\",\" White\",\" White\",\" White\",\" White\",\" White\",\" White\",\" White\",\" White\",\" White\",\" White\",\" White\",\" Asian-Pac-Islander\",\" White\",\" White\",\" White\",\" White\",\" White\",\" White\",\" White\",\" White\",\" White\",\" White\",\" White\",\" White\",\" White\",\" White\",\" White\",\" Asian-Pac-Islander\",\" White\",\" White\",\" White\",\" White\",\" White\",\" White\",\" White\",\" White\",\" White\",\" White\",\" White\",\" White\",\" White\",\" White\",\" White\",\" White\",\" White\",\" White\",\" White\",\" White\",\" White\",\" White\",\" White\",\" White\",\" White\",\" White\",\" White\",\" White\",\" White\",\" White\",\" White\",\" White\",\" White\",\" White\",\" Asian-Pac-Islander\",\" Black\",\" White\",\" White\",\" White\",\" White\",\" White\",\" White\",\" Black\",\" White\",\" White\",\" White\",\" White\",\" Black\",\" White\",\" White\",\" White\",\" White\",\" White\",\" Black\",\" White\",\" White\",\" White\",\" White\",\" Amer-Indian-Eskimo\",\" White\",\" White\",\" White\",\" White\",\" White\",\" White\",\" White\",\" White\",\" White\",\" White\",\" White\",\" White\",\" Black\",\" White\",\" Black\",\" White\",\" White\",\" White\",\" White\",\" Asian-Pac-Islander\",\" White\",\" White\",\" White\",\" Black\",\" White\",\" White\",\" White\",\" White\",\" White\",\" White\",\" White\",\" White\",\" White\",\" White\",\" White\",\" White\",\" White\",\" White\",\" White\",\" White\",\" White\",\" White\",\" White\",\" White\",\" Amer-Indian-Eskimo\",\" White\",\" White\",\" White\",\" White\",\" White\",\" White\",\" Asian-Pac-Islander\",\" White\",\" White\",\" White\",\" White\",\" White\",\" White\",\" White\",\" White\",\" White\",\" White\",\" White\",\" White\",\" White\",\" White\",\" Asian-Pac-Islander\",\" Black\",\" Black\",\" White\",\" Black\",\" White\",\" White\",\" White\",\" White\",\" White\",\" Asian-Pac-Islander\",\" White\",\" White\",\" Black\",\" White\",\" White\",\" White\",\" Black\",\" White\",\" White\",\" White\",\" White\",\" White\",\" White\",\" White\",\" White\",\" White\",\" White\",\" Black\",\" Asian-Pac-Islander\",\" White\",\" White\",\" White\",\" White\",\" White\",\" White\",\" White\",\" White\",\" Black\",\" White\",\" White\",\" White\",\" White\",\" Black\",\" White\",\" White\",\" White\",\" Asian-Pac-Islander\",\" White\",\" White\",\" White\",\" White\",\" White\",\" White\",\" White\",\" White\",\" Other\",\" Black\",\" White\",\" White\",\" White\",\" White\",\" White\",\" White\",\" White\",\" White\",\" Black\",\" White\",\" White\",\" White\",\" White\",\" Black\",\" White\",\" White\",\" White\",\" White\",\" White\",\" White\",\" White\",\" Black\",\" White\",\" White\",\" Black\",\" White\",\" Black\",\" Black\",\" White\",\" White\",\" White\",\" Black\",\" White\",\" White\",\" White\",\" White\",\" White\",\" White\",\" White\",\" White\",\" Asian-Pac-Islander\",\" White\",\" White\",\" White\",\" White\",\" White\",\" White\",\" Black\",\" White\",\" White\",\" White\",\" White\",\" White\",\" White\",\" White\",\" White\",\" Black\",\" White\",\" White\",\" White\",\" White\",\" Black\",\" White\",\" Asian-Pac-Islander\",\" White\",\" White\",\" White\",\" White\",\" Black\",\" Black\",\" White\",\" White\",\" White\",\" White\",\" Black\",\" Other\",\" White\",\" White\",\" Black\",\" White\",\" White\",\" White\",\" White\",\" Other\",\" Amer-Indian-Eskimo\",\" White\",\" White\",\" White\",\" Black\",\" White\",\" White\",\" White\",\" White\",\" White\",\" White\",\" White\",\" White\",\" White\",\" Black\",\" White\",\" White\",\" Asian-Pac-Islander\",\" White\",\" White\",\" White\",\" Black\",\" White\",\" Black\",\" Black\",\" White\",\" White\",\" Black\",\" White\",\" White\",\" White\",\" Black\",\" Black\",\" White\",\" White\",\" White\",\" White\",\" White\",\" White\",\" White\",\" White\",\" White\",\" White\",\" White\",\" White\",\" White\",\" White\",\" White\",\" White\",\" White\",\" White\",\" White\",\" White\",\" White\",\" White\",\" Black\",\" White\",\" White\",\" White\",\" White\",\" Asian-Pac-Islander\",\" White\",\" Other\",\" White\",\" White\",\" White\",\" White\",\" White\",\" White\",\" Black\",\" Other\",\" White\",\" White\",\" White\",\" White\",\" White\",\" White\",\" White\",\" White\",\" White\",\" White\",\" White\",\" White\",\" White\",\" White\",\" White\",\" Black\",\" White\",\" White\",\" White\",\" White\",\" White\",\" White\",\" White\",\" White\",\" White\",\" White\",\" Asian-Pac-Islander\",\" Black\",\" Asian-Pac-Islander\",\" White\",\" White\",\" White\",\" Black\",\" Black\",\" White\",\" White\",\" White\",\" White\",\" White\",\" White\",\" White\",\" White\",\" White\",\" White\",\" White\",\" White\",\" White\",\" White\",\" White\",\" White\",\" White\",\" White\",\" White\",\" White\",\" White\",\" White\",\" White\",\" White\",\" White\",\" Black\",\" White\",\" White\",\" White\",\" White\",\" White\",\" White\",\" White\",\" White\",\" Asian-Pac-Islander\",\" White\",\" White\",\" White\",\" White\",\" White\",\" White\",\" White\",\" White\",\" White\",\" White\",\" White\",\" White\",\" White\",\" White\",\" White\",\" White\",\" White\",\" White\",\" White\",\" White\",\" White\",\" White\",\" White\",\" White\",\" White\",\" Asian-Pac-Islander\",\" White\",\" White\",\" White\",\" White\",\" White\",\" White\",\" White\",\" Asian-Pac-Islander\",\" Black\",\" White\",\" White\",\" White\",\" White\",\" White\",\" White\",\" White\",\" White\",\" White\",\" White\",\" White\",\" White\",\" White\",\" Asian-Pac-Islander\",\" White\",\" White\",\" White\",\" Black\",\" White\",\" White\",\" White\",\" White\",\" Black\",\" White\",\" White\",\" White\",\" White\",\" Black\",\" Asian-Pac-Islander\",\" White\",\" Black\",\" White\",\" White\",\" White\",\" White\",\" White\",\" White\",\" White\",\" White\",\" White\",\" White\",\" White\",\" White\",\" White\",\" White\",\" White\",\" White\",\" White\",\" White\",\" White\",\" White\",\" White\",\" White\",\" Black\",\" White\",\" White\",\" Black\",\" Black\",\" White\",\" White\",\" White\",\" White\",\" White\",\" White\",\" White\",\" White\",\" White\",\" White\",\" White\",\" Black\",\" White\",\" White\",\" White\",\" White\",\" White\",\" White\",\" White\",\" Black\",\" White\",\" White\",\" White\",\" White\",\" White\",\" White\",\" Black\",\" White\",\" White\",\" White\",\" Black\",\" White\",\" White\",\" Black\",\" White\",\" White\",\" White\",\" White\",\" White\",\" White\",\" Asian-Pac-Islander\",\" White\",\" White\",\" White\",\" White\",\" Black\",\" Black\",\" Black\",\" White\",\" White\",\" White\",\" White\",\" White\",\" White\",\" White\",\" White\",\" Asian-Pac-Islander\",\" Asian-Pac-Islander\",\" White\",\" White\",\" White\",\" White\",\" White\",\" White\",\" White\",\" White\",\" White\",\" White\",\" White\",\" White\",\" White\",\" White\",\" White\",\" Black\",\" White\",\" White\",\" Other\",\" White\",\" Black\",\" Amer-Indian-Eskimo\",\" Asian-Pac-Islander\",\" White\",\" Asian-Pac-Islander\",\" White\",\" White\",\" Black\",\" White\",\" Black\",\" Black\",\" White\",\" White\",\" White\",\" White\",\" White\",\" White\",\" White\",\" Black\",\" White\",\" White\",\" White\",\" Asian-Pac-Islander\",\" White\",\" Black\",\" White\",\" Black\",\" White\",\" Black\",\" White\",\" White\",\" Black\",\" White\",\" White\",\" White\",\" White\",\" White\",\" White\",\" White\",\" White\",\" White\",\" White\",\" White\",\" White\",\" White\",\" White\",\" White\",\" White\",\" White\",\" White\",\" White\",\" White\",\" White\",\" White\",\" White\",\" Black\",\" White\",\" White\",\" White\",\" White\",\" White\",\" White\",\" White\",\" White\",\" White\",\" Black\",\" White\",\" White\",\" White\",\" White\",\" White\",\" White\",\" Asian-Pac-Islander\",\" White\",\" White\",\" White\",\" White\",\" White\",\" White\",\" Black\",\" White\",\" White\",\" White\",\" White\",\" Other\",\" White\",\" White\",\" White\",\" White\",\" White\",\" White\",\" Black\",\" White\",\" White\",\" White\",\" White\",\" White\",\" White\",\" Black\",\" Black\",\" White\",\" White\",\" Asian-Pac-Islander\",\" White\",\" White\",\" White\",\" Black\",\" Asian-Pac-Islander\",\" White\",\" White\",\" White\",\" White\",\" White\",\" White\",\" White\",\" White\",\" White\",\" White\",\" Black\",\" White\",\" White\",\" White\",\" White\",\" White\",\" White\",\" Black\",\" Asian-Pac-Islander\",\" White\",\" White\",\" Black\",\" White\",\" White\",\" White\",\" Asian-Pac-Islander\",\" White\",\" White\",\" White\",\" White\",\" White\",\" White\",\" White\",\" White\",\" White\",\" Black\",\" White\",\" White\",\" Asian-Pac-Islander\",\" White\",\" White\",\" White\",\" White\",\" White\",\" White\",\" White\",\" White\",\" White\",\" Asian-Pac-Islander\",\" White\",\" White\",\" White\",\" White\",\" White\",\" White\",\" White\",\" Black\",\" White\",\" Black\",\" White\",\" White\",\" White\",\" White\",\" Asian-Pac-Islander\",\" Other\",\" White\",\" White\",\" White\",\" White\",\" White\",\" White\",\" Black\",\" White\",\" White\",\" White\",\" Amer-Indian-Eskimo\",\" White\",\" White\",\" Black\",\" White\",\" White\",\" White\",\" White\",\" White\",\" White\",\" White\",\" White\",\" White\",\" White\",\" Black\",\" White\",\" White\",\" White\",\" White\",\" White\",\" White\",\" Black\",\" White\",\" White\",\" Black\",\" White\",\" White\",\" White\",\" White\",\" White\",\" White\",\" Black\",\" White\",\" White\",\" White\",\" White\",\" White\",\" White\",\" Black\",\" White\",\" White\",\" White\",\" White\",\" White\",\" White\",\" White\",\" White\",\" White\",\" White\",\" White\",\" White\",\" White\",\" Asian-Pac-Islander\",\" White\",\" White\",\" White\",\" White\",\" White\",\" White\",\" White\",\" White\",\" Black\",\" Black\",\" White\",\" White\",\" Black\",\" White\",\" White\",\" White\",\" White\",\" White\",\" White\",\" Black\",\" White\",\" White\",\" White\",\" White\",\" White\",\" White\",\" White\",\" White\",\" White\",\" White\",\" White\",\" White\",\" White\",\" Black\",\" Asian-Pac-Islander\",\" White\",\" White\",\" White\",\" White\",\" White\",\" White\",\" Black\",\" White\",\" White\",\" Other\",\" White\",\" White\",\" White\",\" White\",\" Black\",\" White\",\" White\",\" White\",\" White\",\" White\",\" White\",\" White\",\" White\",\" White\",\" White\",\" White\",\" White\",\" White\",\" White\",\" White\",\" White\",\" White\",\" White\",\" Black\",\" Black\",\" Black\",\" Amer-Indian-Eskimo\",\" White\",\" White\",\" White\",\" White\",\" White\",\" White\",\" Asian-Pac-Islander\",\" White\",\" White\",\" White\",\" White\",\" White\",\" White\",\" White\",\" White\",\" White\",\" Black\",\" White\",\" White\",\" Black\",\" White\",\" White\",\" White\",\" White\",\" White\",\" White\",\" White\",\" White\",\" White\",\" White\",\" White\",\" Black\",\" White\",\" Black\",\" White\",\" Black\",\" Asian-Pac-Islander\",\" White\",\" Asian-Pac-Islander\",\" White\",\" White\",\" Black\",\" White\",\" White\",\" White\",\" White\",\" White\",\" White\",\" White\",\" White\",\" White\",\" White\",\" White\",\" White\",\" White\",\" White\",\" White\",\" Black\",\" White\",\" White\",\" White\",\" White\",\" White\",\" White\",\" White\",\" Black\",\" White\",\" White\",\" White\",\" Other\",\" White\",\" White\",\" White\",\" White\",\" White\",\" Black\",\" White\",\" White\",\" White\",\" White\",\" Black\",\" Other\",\" White\",\" White\",\" White\",\" White\",\" White\",\" White\",\" White\",\" White\",\" Black\",\" White\",\" White\",\" Black\",\" Black\",\" White\",\" White\",\" White\",\" Asian-Pac-Islander\",\" White\",\" White\",\" Black\",\" Black\",\" White\",\" Other\",\" White\",\" White\",\" Asian-Pac-Islander\",\" White\",\" White\",\" Black\",\" White\",\" White\",\" White\",\" White\",\" White\",\" White\",\" White\",\" White\",\" White\",\" White\",\" Asian-Pac-Islander\",\" White\",\" White\",\" White\",\" White\",\" White\",\" White\",\" White\",\" Black\",\" Asian-Pac-Islander\",\" White\",\" White\",\" White\",\" Black\",\" White\",\" White\",\" White\",\" White\",\" White\",\" White\",\" Black\",\" Black\",\" Black\",\" White\",\" White\",\" White\",\" Asian-Pac-Islander\",\" White\",\" Black\",\" White\",\" Black\",\" White\",\" White\",\" White\",\" White\",\" White\",\" White\",\" White\",\" Black\",\" White\",\" White\",\" White\",\" White\",\" Black\",\" White\",\" Asian-Pac-Islander\",\" White\",\" White\",\" White\",\" White\",\" White\",\" White\",\" White\",\" White\",\" Black\",\" White\",\" White\",\" White\",\" White\",\" White\",\" White\",\" White\",\" White\",\" White\",\" Black\",\" White\",\" Black\",\" White\",\" White\",\" White\",\" White\",\" White\",\" White\",\" White\",\" White\",\" Black\",\" White\",\" White\",\" White\",\" Black\",\" White\",\" Black\",\" White\",\" White\",\" White\",\" White\",\" White\",\" White\",\" White\",\" White\",\" White\",\" White\",\" White\",\" White\",\" White\",\" Black\",\" White\",\" Black\",\" White\",\" White\",\" White\",\" White\",\" White\",\" White\",\" Asian-Pac-Islander\",\" White\",\" White\",\" White\",\" White\",\" White\",\" White\",\" Black\",\" White\",\" White\",\" White\",\" White\",\" White\",\" White\",\" White\",\" White\",\" White\",\" White\",\" White\",\" White\",\" White\",\" Black\",\" White\",\" White\",\" White\",\" White\",\" White\",\" Other\",\" White\",\" White\",\" White\",\" White\",\" White\",\" White\",\" White\",\" White\",\" White\",\" Black\",\" White\",\" White\",\" White\",\" White\",\" White\",\" White\",\" White\",\" White\",\" White\",\" Asian-Pac-Islander\",\" White\",\" White\",\" White\",\" White\",\" White\",\" White\",\" White\",\" White\",\" White\",\" White\",\" White\",\" White\",\" White\",\" White\",\" White\",\" Amer-Indian-Eskimo\",\" White\",\" White\",\" White\",\" White\",\" White\",\" White\",\" White\",\" White\",\" Other\",\" White\",\" White\",\" White\",\" White\",\" White\",\" White\",\" Asian-Pac-Islander\",\" Black\",\" White\",\" White\",\" White\",\" White\",\" White\",\" White\",\" White\",\" White\",\" White\",\" White\",\" White\",\" Asian-Pac-Islander\",\" White\",\" White\",\" White\",\" White\",\" White\",\" White\",\" Black\",\" White\",\" White\",\" Black\",\" White\",\" White\",\" White\",\" White\",\" White\",\" White\",\" White\",\" White\",\" White\",\" White\",\" White\",\" White\",\" White\",\" White\",\" White\",\" White\",\" White\",\" White\",\" White\",\" Black\",\" White\",\" White\",\" White\",\" White\",\" White\",\" White\",\" White\",\" White\",\" White\",\" White\",\" White\",\" White\",\" White\",\" Black\",\" White\",\" White\",\" White\",\" Black\",\" White\",\" Black\",\" White\",\" White\",\" White\",\" White\",\" White\",\" White\",\" White\",\" White\",\" White\",\" White\",\" White\",\" White\",\" White\",\" White\",\" White\",\" White\",\" White\",\" White\",\" White\",\" White\",\" White\",\" White\",\" White\",\" White\",\" White\",\" Black\",\" Asian-Pac-Islander\",\" White\",\" White\",\" White\",\" Black\",\" White\",\" White\",\" White\",\" White\",\" White\",\" White\",\" White\",\" White\",\" White\",\" White\",\" White\",\" White\",\" White\",\" White\",\" White\",\" White\",\" Amer-Indian-Eskimo\",\" Black\",\" White\",\" White\",\" White\",\" Black\",\" White\",\" White\",\" White\",\" White\",\" White\",\" White\",\" White\",\" White\",\" White\",\" White\",\" White\",\" White\",\" White\",\" Asian-Pac-Islander\",\" White\",\" Black\",\" White\",\" White\",\" Asian-Pac-Islander\",\" Other\",\" White\",\" White\",\" White\",\" White\",\" White\",\" White\",\" White\",\" White\",\" Amer-Indian-Eskimo\",\" White\",\" Asian-Pac-Islander\",\" White\",\" Asian-Pac-Islander\",\" White\",\" White\",\" White\",\" White\",\" White\",\" White\",\" White\",\" White\",\" Asian-Pac-Islander\",\" White\",\" White\",\" White\",\" White\",\" White\",\" Black\",\" White\",\" White\",\" White\",\" White\",\" White\",\" White\",\" White\",\" White\",\" Black\",\" Black\",\" Black\",\" Black\",\" Black\",\" White\",\" White\",\" White\",\" White\",\" White\",\" White\",\" White\",\" White\",\" White\",\" White\",\" White\",\" White\",\" Black\",\" White\",\" White\",\" White\",\" White\",\" Black\",\" White\",\" White\",\" White\",\" White\",\" White\",\" White\",\" Asian-Pac-Islander\",\" White\",\" White\",\" White\",\" White\",\" White\",\" Black\",\" White\",\" White\",\" White\",\" White\",\" White\",\" White\",\" White\",\" White\",\" White\",\" Black\",\" White\",\" White\",\" White\",\" White\",\" White\",\" White\",\" White\",\" Black\",\" White\",\" White\",\" White\",\" White\",\" White\",\" White\",\" White\",\" White\",\" White\",\" White\",\" White\",\" White\",\" White\",\" White\",\" White\",\" Black\",\" White\",\" White\",\" White\",\" White\",\" Black\",\" White\",\" White\",\" White\",\" White\",\" White\",\" White\",\" White\",\" Amer-Indian-Eskimo\",\" White\",\" White\",\" White\",\" Black\",\" Black\",\" White\",\" White\",\" Black\",\" White\",\" White\",\" White\",\" White\",\" White\",\" White\",\" White\",\" White\",\" White\",\" White\",\" Black\",\" White\",\" White\",\" White\",\" White\",\" White\",\" White\",\" White\",\" White\",\" Black\",\" White\",\" White\",\" White\",\" Asian-Pac-Islander\",\" White\",\" White\",\" White\",\" White\",\" Asian-Pac-Islander\",\" White\",\" White\",\" White\",\" Asian-Pac-Islander\",\" Black\",\" White\",\" White\",\" White\",\" White\",\" White\",\" White\",\" White\",\" Asian-Pac-Islander\",\" White\",\" White\",\" Asian-Pac-Islander\",\" White\",\" White\",\" White\",\" White\",\" White\",\" White\",\" White\",\" Black\",\" White\",\" White\",\" White\",\" White\",\" White\",\" White\",\" White\",\" White\",\" White\",\" White\",\" White\",\" White\",\" White\",\" White\",\" White\",\" White\",\" White\",\" Asian-Pac-Islander\",\" White\",\" White\",\" White\",\" White\",\" White\",\" White\",\" Black\",\" White\",\" White\",\" White\",\" Black\",\" White\",\" White\",\" White\",\" White\",\" White\",\" White\",\" White\",\" White\",\" White\",\" Asian-Pac-Islander\",\" White\",\" Black\",\" White\",\" White\",\" White\",\" White\",\" Asian-Pac-Islander\",\" Black\",\" White\",\" White\",\" White\",\" White\",\" White\",\" White\",\" Black\",\" White\",\" White\",\" White\",\" White\",\" White\",\" White\",\" White\",\" White\",\" White\",\" White\",\" White\",\" White\",\" White\",\" White\",\" White\",\" White\",\" Black\",\" White\",\" White\",\" White\",\" Black\",\" Asian-Pac-Islander\",\" White\",\" White\",\" White\",\" White\",\" White\",\" White\",\" Amer-Indian-Eskimo\",\" White\",\" White\",\" White\",\" White\",\" White\",\" White\",\" White\",\" White\",\" White\",\" White\",\" White\",\" White\",\" White\",\" White\",\" White\",\" White\",\" White\",\" White\",\" White\",\" White\",\" White\",\" White\",\" Black\",\" White\",\" Black\",\" Black\",\" White\",\" White\",\" Black\",\" White\",\" White\",\" Black\",\" White\",\" White\",\" White\",\" White\",\" White\",\" Black\",\" White\",\" White\",\" White\",\" White\",\" White\",\" White\",\" White\",\" Black\",\" White\",\" White\",\" White\",\" White\",\" White\",\" White\",\" White\",\" White\",\" White\",\" White\",\" White\",\" White\",\" White\",\" White\",\" White\",\" White\",\" Asian-Pac-Islander\",\" White\",\" White\",\" Amer-Indian-Eskimo\",\" White\",\" White\",\" White\",\" White\",\" White\",\" White\",\" White\",\" White\",\" White\",\" White\",\" White\",\" Black\",\" White\",\" White\",\" White\",\" White\",\" White\",\" White\",\" White\",\" White\",\" White\",\" White\",\" White\",\" White\",\" Asian-Pac-Islander\",\" White\",\" White\",\" White\",\" White\",\" White\",\" White\",\" White\",\" White\",\" White\",\" White\",\" White\",\" Black\",\" White\",\" White\",\" White\",\" White\",\" White\",\" White\",\" White\",\" White\",\" White\",\" White\",\" Black\",\" White\",\" White\",\" White\",\" White\",\" White\",\" White\",\" White\",\" White\",\" Black\",\" White\",\" White\",\" White\",\" White\",\" White\",\" White\",\" White\",\" White\",\" Black\",\" Black\",\" White\",\" White\",\" White\",\" White\",\" Asian-Pac-Islander\",\" White\",\" White\",\" White\",\" Black\",\" White\",\" White\",\" White\",\" Black\",\" White\",\" White\",\" Other\",\" White\",\" White\",\" White\",\" White\",\" White\",\" White\",\" White\",\" White\",\" White\",\" Black\",\" White\",\" White\",\" Black\",\" Black\",\" Black\",\" White\",\" White\",\" Black\",\" Black\",\" White\",\" White\",\" White\",\" White\",\" Black\",\" White\",\" Black\",\" White\",\" Asian-Pac-Islander\",\" White\",\" Black\",\" White\",\" White\",\" Black\",\" White\",\" White\",\" White\",\" White\",\" White\",\" White\",\" White\",\" White\",\" White\",\" White\",\" White\",\" Black\",\" White\",\" White\",\" White\",\" White\",\" White\",\" White\",\" White\",\" Black\",\" White\",\" White\",\" White\",\" Black\",\" White\",\" White\",\" White\",\" White\",\" White\",\" White\",\" White\",\" White\",\" White\",\" White\",\" White\",\" White\",\" White\",\" White\",\" White\",\" White\",\" Black\",\" White\",\" White\",\" White\",\" Black\",\" White\",\" White\",\" White\",\" White\",\" White\",\" White\",\" White\",\" White\",\" White\",\" White\",\" Black\",\" White\",\" Amer-Indian-Eskimo\",\" White\",\" White\",\" White\",\" White\",\" White\",\" White\",\" White\",\" White\",\" Black\",\" White\",\" White\",\" White\",\" White\",\" White\",\" White\",\" Black\",\" White\",\" Black\",\" White\",\" Black\",\" White\",\" White\",\" White\",\" White\",\" White\",\" White\",\" White\",\" White\",\" White\",\" White\",\" White\",\" White\",\" White\",\" White\",\" White\",\" White\",\" White\",\" White\",\" White\",\" White\",\" White\",\" White\",\" White\",\" Asian-Pac-Islander\",\" White\",\" White\",\" White\",\" White\",\" White\",\" White\",\" White\",\" White\",\" White\",\" White\",\" White\",\" White\",\" White\",\" White\",\" White\",\" White\",\" White\",\" White\",\" White\",\" White\",\" White\",\" Black\",\" White\",\" Black\",\" White\",\" White\",\" White\",\" Black\",\" Black\",\" Black\",\" White\",\" White\",\" White\",\" White\",\" White\",\" White\",\" White\",\" White\",\" White\",\" White\",\" White\",\" White\",\" White\",\" White\",\" Black\",\" White\",\" White\",\" White\",\" White\",\" Asian-Pac-Islander\",\" Black\",\" Black\",\" Amer-Indian-Eskimo\",\" White\",\" White\",\" White\",\" Black\",\" White\",\" White\",\" White\",\" White\",\" White\",\" White\",\" White\",\" White\",\" White\",\" White\",\" White\",\" Other\",\" White\",\" White\",\" White\",\" White\",\" White\",\" Asian-Pac-Islander\",\" Black\",\" White\",\" White\",\" White\",\" Black\",\" White\",\" White\",\" Amer-Indian-Eskimo\",\" Black\",\" White\",\" Black\",\" White\",\" White\",\" White\",\" White\",\" White\",\" White\",\" White\",\" White\",\" White\",\" White\",\" White\",\" White\",\" White\",\" Asian-Pac-Islander\",\" White\",\" Amer-Indian-Eskimo\",\" White\",\" White\",\" White\",\" White\",\" White\",\" White\",\" White\",\" White\",\" Black\",\" White\",\" White\",\" White\",\" White\",\" White\",\" White\",\" White\",\" White\",\" White\",\" White\",\" Black\",\" Black\",\" White\",\" White\",\" White\",\" White\",\" Black\",\" White\",\" White\",\" White\",\" White\",\" White\",\" White\",\" White\",\" White\",\" White\",\" White\",\" White\",\" Asian-Pac-Islander\",\" Black\",\" White\",\" White\",\" White\",\" White\",\" White\",\" White\",\" White\",\" White\",\" White\",\" White\",\" White\",\" White\",\" White\",\" Black\",\" Black\",\" White\",\" White\",\" White\",\" White\",\" White\",\" White\",\" White\",\" White\",\" White\",\" White\",\" White\",\" White\",\" White\",\" White\",\" White\",\" White\",\" White\",\" White\",\" White\",\" White\",\" White\",\" White\",\" Black\",\" White\",\" White\",\" White\",\" White\",\" White\",\" Black\",\" White\",\" White\",\" White\",\" White\",\" White\",\" White\",\" White\",\" White\",\" White\",\" White\",\" White\",\" White\",\" White\",\" White\",\" Black\",\" White\",\" White\",\" Amer-Indian-Eskimo\",\" White\",\" White\",\" White\",\" White\",\" White\",\" Black\",\" White\",\" White\",\" White\",\" White\",\" Black\",\" Black\",\" White\",\" White\",\" White\",\" White\",\" White\",\" White\",\" White\",\" White\",\" White\",\" White\",\" White\",\" Other\",\" White\",\" White\",\" White\",\" Black\",\" White\",\" White\",\" White\",\" White\",\" Black\",\" White\",\" Asian-Pac-Islander\",\" Black\",\" White\",\" White\",\" White\",\" White\",\" White\",\" White\",\" White\",\" White\",\" White\",\" White\",\" Black\",\" White\",\" White\",\" White\",\" Black\",\" White\",\" White\",\" Asian-Pac-Islander\",\" White\",\" White\",\" White\",\" White\",\" White\",\" White\",\" White\",\" White\",\" White\",\" White\",\" White\",\" White\",\" Black\",\" Black\",\" White\",\" White\",\" White\",\" White\",\" White\",\" White\",\" White\",\" Black\",\" White\",\" White\",\" White\",\" White\",\" White\",\" White\",\" White\",\" White\",\" White\",\" Asian-Pac-Islander\",\" White\",\" White\",\" White\",\" White\",\" White\",\" Black\",\" White\",\" White\",\" White\",\" White\",\" Black\",\" White\",\" Black\",\" White\",\" White\",\" Black\",\" White\",\" White\",\" White\",\" White\",\" White\",\" White\",\" White\",\" White\",\" White\",\" White\",\" Asian-Pac-Islander\",\" White\",\" White\",\" White\",\" Black\",\" White\",\" White\",\" White\",\" White\",\" White\",\" White\",\" White\",\" White\",\" White\",\" White\",\" White\",\" White\",\" White\",\" White\",\" White\",\" White\",\" White\",\" White\",\" White\",\" White\",\" White\",\" White\",\" White\",\" White\",\" White\",\" White\",\" Black\",\" White\",\" White\",\" White\",\" White\",\" Black\",\" White\",\" White\",\" White\",\" White\",\" White\",\" White\",\" White\",\" White\",\" White\",\" Asian-Pac-Islander\",\" White\",\" White\",\" Black\",\" White\",\" White\",\" White\",\" Asian-Pac-Islander\",\" White\",\" White\",\" White\",\" White\",\" White\",\" White\",\" White\",\" White\",\" White\",\" Black\",\" White\",\" White\",\" White\",\" White\",\" Black\",\" White\",\" Asian-Pac-Islander\",\" White\",\" White\",\" White\",\" White\",\" White\",\" White\",\" White\",\" Black\",\" White\",\" White\",\" White\",\" White\",\" White\",\" White\",\" White\",\" Other\",\" White\",\" White\",\" White\",\" White\",\" White\",\" White\",\" White\",\" White\",\" White\",\" White\",\" White\",\" White\",\" White\",\" White\",\" Black\",\" White\",\" White\",\" Black\",\" White\",\" Black\",\" Black\",\" White\",\" White\",\" White\",\" White\",\" White\",\" White\",\" White\",\" White\",\" White\",\" White\",\" White\",\" White\",\" Other\",\" White\",\" White\",\" White\",\" White\",\" White\",\" White\",\" White\",\" Black\",\" White\",\" White\",\" White\",\" White\",\" White\",\" White\",\" White\",\" White\",\" Amer-Indian-Eskimo\",\" White\",\" White\",\" Asian-Pac-Islander\",\" White\",\" White\",\" White\",\" White\",\" White\",\" White\",\" White\",\" Asian-Pac-Islander\",\" White\",\" White\",\" White\",\" White\",\" Black\",\" Asian-Pac-Islander\",\" White\",\" White\",\" White\",\" White\",\" Black\",\" White\",\" White\",\" White\",\" White\",\" White\",\" White\",\" White\",\" White\",\" White\",\" White\",\" White\",\" White\",\" Other\",\" White\",\" White\",\" White\",\" White\",\" White\",\" White\",\" White\",\" Black\",\" White\",\" Asian-Pac-Islander\",\" White\",\" White\",\" White\",\" White\",\" White\",\" White\",\" White\",\" White\",\" White\",\" White\",\" White\",\" White\",\" White\",\" White\",\" White\",\" White\",\" Black\",\" White\",\" White\",\" White\",\" White\",\" White\",\" White\",\" White\",\" White\",\" Black\",\" White\",\" White\",\" Black\",\" White\",\" White\",\" White\",\" White\",\" White\",\" Black\",\" White\",\" White\",\" White\",\" White\",\" White\",\" White\",\" White\",\" White\",\" Black\",\" White\",\" White\",\" White\",\" White\",\" Amer-Indian-Eskimo\",\" White\",\" White\",\" White\",\" White\",\" White\",\" White\",\" Asian-Pac-Islander\",\" White\",\" White\",\" White\",\" White\",\" White\",\" White\",\" Other\",\" White\",\" White\",\" White\",\" White\",\" Black\",\" White\",\" White\",\" White\",\" White\",\" White\",\" White\",\" White\",\" Other\",\" White\",\" Black\",\" White\",\" Asian-Pac-Islander\",\" Asian-Pac-Islander\",\" White\",\" White\",\" White\",\" White\",\" White\",\" White\",\" Asian-Pac-Islander\",\" White\",\" White\",\" Black\",\" Amer-Indian-Eskimo\",\" White\",\" White\",\" White\",\" White\",\" White\",\" White\",\" White\",\" White\",\" White\",\" White\",\" Black\",\" White\",\" Asian-Pac-Islander\",\" White\",\" Asian-Pac-Islander\",\" White\",\" White\",\" White\",\" White\",\" White\",\" White\",\" White\",\" White\",\" White\",\" White\",\" Black\",\" White\",\" White\",\" White\",\" White\",\" Asian-Pac-Islander\",\" White\",\" White\",\" Black\",\" White\",\" White\",\" White\",\" White\",\" White\",\" White\",\" Black\",\" White\",\" Black\",\" White\",\" White\",\" White\",\" White\",\" White\",\" White\",\" Asian-Pac-Islander\",\" White\",\" White\",\" White\",\" White\",\" White\",\" White\",\" White\",\" White\",\" White\",\" Black\",\" White\",\" White\",\" White\",\" White\",\" White\",\" White\",\" White\",\" White\",\" White\",\" White\",\" White\",\" Black\",\" White\",\" White\",\" White\",\" White\",\" White\",\" White\",\" Black\",\" White\",\" White\",\" White\",\" Black\",\" Black\",\" White\",\" White\",\" White\",\" White\",\" White\",\" White\",\" White\",\" White\",\" White\",\" White\",\" White\",\" White\",\" White\",\" White\",\" Asian-Pac-Islander\",\" White\",\" White\",\" White\",\" White\",\" White\",\" White\",\" White\",\" White\",\" White\",\" Black\",\" White\",\" White\",\" White\",\" White\",\" White\",\" White\",\" White\",\" White\",\" White\",\" White\",\" White\",\" Black\",\" White\",\" Amer-Indian-Eskimo\",\" White\",\" White\",\" White\",\" White\",\" White\",\" Black\",\" Asian-Pac-Islander\",\" White\",\" White\",\" White\",\" White\",\" Asian-Pac-Islander\",\" White\",\" Asian-Pac-Islander\",\" White\",\" Asian-Pac-Islander\",\" Asian-Pac-Islander\",\" White\",\" White\",\" White\",\" White\",\" White\",\" White\",\" White\",\" White\",\" White\",\" White\",\" White\",\" White\",\" Asian-Pac-Islander\",\" White\",\" White\",\" White\",\" Asian-Pac-Islander\",\" White\",\" White\",\" White\",\" White\",\" White\",\" White\",\" White\",\" White\",\" White\",\" White\",\" White\",\" White\",\" White\",\" White\",\" White\",\" Black\",\" White\",\" Black\",\" White\",\" White\",\" White\",\" White\",\" Black\",\" White\",\" White\",\" White\",\" Other\",\" White\",\" White\",\" White\",\" Amer-Indian-Eskimo\",\" White\",\" White\",\" White\",\" White\",\" White\",\" White\",\" White\",\" White\",\" White\",\" White\",\" White\",\" White\",\" White\",\" White\",\" White\",\" White\",\" White\",\" White\",\" White\",\" White\",\" White\",\" Asian-Pac-Islander\",\" White\",\" Asian-Pac-Islander\",\" White\",\" White\",\" White\",\" White\",\" White\",\" White\",\" White\",\" White\",\" White\",\" White\",\" Black\",\" White\",\" White\",\" White\",\" White\",\" White\",\" White\",\" Other\",\" White\",\" White\",\" White\",\" White\",\" White\",\" Amer-Indian-Eskimo\",\" White\",\" White\",\" White\",\" White\",\" Asian-Pac-Islander\",\" Black\",\" White\",\" Asian-Pac-Islander\",\" White\",\" White\",\" White\",\" White\",\" White\",\" White\",\" White\",\" White\",\" Black\",\" White\",\" White\",\" White\",\" White\",\" White\",\" White\",\" White\",\" Asian-Pac-Islander\",\" White\",\" White\",\" White\",\" White\",\" White\",\" White\",\" White\",\" White\",\" White\",\" White\",\" White\",\" White\",\" White\",\" White\",\" White\",\" White\",\" White\",\" White\",\" White\",\" White\",\" White\",\" White\",\" White\",\" White\",\" White\",\" White\",\" White\",\" Black\",\" White\",\" White\",\" White\",\" White\",\" White\",\" White\",\" Black\",\" White\",\" White\",\" White\",\" White\",\" White\",\" White\",\" Black\",\" White\",\" Black\",\" White\",\" White\",\" White\",\" White\",\" White\",\" White\",\" White\",\" Other\",\" White\",\" White\",\" White\",\" White\",\" White\",\" Asian-Pac-Islander\",\" White\",\" White\",\" White\",\" White\",\" White\",\" White\",\" White\",\" White\",\" White\",\" White\",\" White\",\" White\",\" White\",\" White\",\" White\",\" White\",\" White\",\" White\",\" White\",\" White\",\" White\",\" White\",\" White\",\" White\",\" White\",\" White\",\" White\",\" White\",\" Amer-Indian-Eskimo\",\" White\",\" White\",\" Black\",\" White\",\" White\",\" White\",\" White\",\" Black\",\" White\",\" White\",\" White\",\" White\",\" White\",\" White\",\" White\",\" White\",\" White\",\" White\",\" White\",\" White\",\" White\",\" White\",\" White\",\" White\",\" Asian-Pac-Islander\",\" White\",\" White\",\" White\",\" White\",\" White\",\" Black\",\" White\",\" White\",\" White\",\" White\",\" White\",\" White\",\" White\",\" White\",\" White\",\" White\",\" White\",\" Black\",\" White\",\" White\",\" White\",\" Black\",\" White\",\" White\",\" White\",\" Other\",\" White\",\" Black\",\" White\",\" White\",\" White\",\" White\",\" White\",\" White\",\" White\",\" White\",\" Black\",\" White\",\" White\",\" White\",\" White\",\" White\",\" White\",\" White\",\" White\",\" White\",\" White\",\" White\",\" Asian-Pac-Islander\",\" White\",\" White\",\" White\",\" White\",\" Black\",\" White\",\" White\",\" White\",\" White\",\" White\",\" White\",\" White\",\" White\",\" White\",\" Black\",\" White\",\" White\",\" White\",\" White\",\" White\",\" White\",\" White\",\" White\",\" White\",\" White\",\" White\",\" White\",\" White\",\" White\",\" White\",\" White\",\" White\",\" White\",\" White\",\" White\",\" White\",\" White\",\" White\",\" White\",\" White\",\" White\",\" White\",\" White\",\" White\",\" White\",\" White\",\" White\",\" Asian-Pac-Islander\",\" Black\",\" White\",\" White\",\" White\",\" Amer-Indian-Eskimo\",\" Black\",\" White\",\" White\",\" White\",\" White\",\" White\",\" White\",\" White\",\" White\",\" White\",\" White\",\" White\",\" White\",\" White\",\" White\",\" White\",\" White\",\" White\",\" White\",\" White\",\" White\",\" White\",\" White\",\" White\",\" White\",\" White\",\" White\",\" White\",\" White\",\" Asian-Pac-Islander\",\" White\",\" White\",\" White\",\" White\",\" White\",\" White\",\" White\",\" White\",\" White\",\" White\",\" White\",\" White\",\" White\",\" White\",\" White\",\" White\",\" Black\",\" White\",\" Black\",\" Black\",\" Asian-Pac-Islander\",\" White\",\" White\",\" White\",\" White\",\" White\",\" White\",\" White\",\" White\",\" White\",\" White\",\" White\",\" White\",\" White\",\" White\",\" White\",\" White\",\" White\",\" White\",\" Black\",\" White\",\" White\",\" White\",\" White\",\" White\",\" White\",\" Black\",\" Other\",\" Black\",\" White\",\" White\",\" Black\",\" Asian-Pac-Islander\",\" White\",\" White\",\" Black\",\" Black\",\" White\",\" Black\",\" White\",\" White\",\" White\",\" White\",\" White\",\" White\",\" White\",\" White\",\" White\",\" White\",\" White\",\" White\",\" White\",\" White\",\" White\",\" White\",\" White\",\" White\",\" White\",\" White\",\" Black\",\" White\",\" White\",\" White\",\" White\",\" White\",\" White\",\" Asian-Pac-Islander\",\" White\",\" White\",\" White\",\" Black\",\" White\",\" White\",\" White\",\" White\",\" White\",\" White\",\" White\",\" White\",\" White\",\" White\",\" White\",\" Asian-Pac-Islander\",\" Black\",\" White\",\" Black\",\" Black\",\" White\",\" White\",\" White\",\" White\",\" White\",\" Amer-Indian-Eskimo\",\" White\",\" White\",\" Asian-Pac-Islander\",\" Black\",\" Amer-Indian-Eskimo\",\" White\",\" White\",\" White\",\" White\",\" White\",\" White\",\" White\",\" White\",\" White\",\" White\",\" White\",\" Black\",\" White\",\" White\",\" White\",\" White\",\" Black\",\" White\",\" White\",\" White\",\" White\",\" White\",\" White\",\" White\",\" White\",\" White\",\" White\",\" White\",\" White\",\" White\",\" White\",\" White\",\" White\",\" White\",\" White\",\" White\",\" Black\",\" White\",\" White\",\" White\",\" White\",\" White\",\" White\",\" White\",\" White\",\" White\",\" White\",\" White\",\" White\",\" White\",\" White\",\" White\",\" White\",\" White\",\" White\",\" White\",\" White\",\" White\",\" White\",\" White\",\" White\",\" White\",\" White\",\" White\",\" White\",\" White\",\" Black\",\" White\",\" White\",\" White\",\" White\",\" Black\",\" White\",\" Black\",\" White\",\" Black\",\" White\",\" Black\",\" White\",\" Asian-Pac-Islander\",\" White\",\" White\",\" White\",\" White\",\" White\",\" White\",\" White\",\" Asian-Pac-Islander\",\" White\",\" White\",\" White\",\" Black\",\" White\",\" White\",\" White\",\" White\",\" White\",\" White\",\" White\",\" White\",\" White\",\" White\",\" White\",\" White\",\" White\",\" White\",\" White\",\" Asian-Pac-Islander\",\" White\",\" White\",\" Black\",\" White\",\" White\",\" White\",\" Black\",\" White\",\" White\",\" White\",\" White\",\" Black\",\" White\",\" Black\",\" White\",\" White\",\" White\",\" White\",\" White\",\" White\",\" Amer-Indian-Eskimo\",\" White\",\" Black\",\" White\",\" White\",\" White\",\" White\",\" White\",\" White\",\" White\",\" Asian-Pac-Islander\",\" White\",\" White\",\" White\",\" Black\",\" Asian-Pac-Islander\",\" Asian-Pac-Islander\",\" Asian-Pac-Islander\",\" White\",\" White\",\" White\",\" White\",\" White\",\" White\",\" White\",\" White\",\" White\",\" White\",\" White\",\" White\",\" White\",\" White\",\" White\",\" White\",\" White\",\" Black\",\" Black\",\" White\",\" White\",\" White\",\" White\",\" White\",\" Black\",\" White\",\" White\",\" White\",\" White\",\" White\",\" White\",\" Black\",\" White\",\" White\",\" White\",\" White\",\" White\",\" White\",\" White\",\" White\",\" White\",\" White\",\" White\",\" White\",\" White\",\" Black\",\" White\",\" White\",\" White\",\" White\",\" White\",\" White\",\" White\",\" White\",\" White\",\" Black\",\" White\",\" Black\",\" White\",\" White\",\" White\",\" White\",\" White\",\" White\",\" White\",\" White\",\" Black\",\" White\",\" White\",\" White\",\" Black\",\" White\",\" White\",\" White\",\" White\",\" White\",\" Asian-Pac-Islander\",\" White\",\" Asian-Pac-Islander\",\" White\",\" White\",\" White\",\" White\",\" White\",\" White\",\" White\",\" White\",\" White\",\" White\",\" White\",\" White\",\" White\",\" White\",\" White\",\" White\",\" White\",\" White\",\" White\",\" White\",\" White\",\" White\",\" White\",\" White\",\" White\",\" White\",\" White\",\" White\",\" White\",\" White\",\" White\",\" White\",\" White\",\" White\",\" White\",\" White\",\" White\",\" White\",\" White\",\" White\",\" White\",\" White\",\" White\",\" White\",\" White\",\" White\",\" White\",\" White\",\" Black\",\" Black\",\" White\",\" White\",\" White\",\" White\",\" White\",\" White\",\" White\",\" White\",\" White\",\" White\",\" White\",\" White\",\" White\",\" White\",\" White\",\" White\",\" White\",\" White\",\" White\",\" White\",\" White\",\" White\",\" White\",\" White\",\" White\",\" White\",\" White\",\" White\",\" White\",\" White\",\" Black\",\" Black\",\" White\",\" White\",\" White\",\" White\",\" White\",\" Asian-Pac-Islander\",\" White\",\" White\",\" White\",\" White\",\" White\",\" White\",\" Asian-Pac-Islander\",\" White\",\" Black\",\" White\",\" White\",\" White\",\" White\",\" White\",\" White\",\" White\",\" Black\",\" Black\",\" White\",\" White\",\" White\",\" White\",\" Black\",\" White\",\" White\",\" White\",\" White\",\" White\",\" Black\",\" White\",\" White\",\" White\",\" White\",\" White\",\" White\",\" White\",\" White\",\" White\",\" White\",\" White\",\" White\",\" White\",\" White\",\" White\",\" White\",\" White\",\" Black\",\" White\",\" White\",\" White\",\" White\",\" White\",\" White\",\" White\",\" White\",\" Asian-Pac-Islander\",\" White\",\" White\",\" White\",\" White\",\" White\",\" White\",\" White\",\" White\",\" Asian-Pac-Islander\",\" White\",\" White\",\" White\",\" White\",\" White\",\" White\",\" White\",\" White\",\" White\",\" White\",\" White\",\" White\",\" Black\",\" White\",\" Black\",\" White\",\" White\",\" Black\",\" White\",\" White\",\" White\",\" White\",\" White\",\" White\",\" White\",\" White\",\" White\",\" White\",\" White\",\" White\",\" White\",\" White\",\" White\",\" White\",\" White\",\" White\",\" White\",\" Black\",\" White\",\" White\",\" White\",\" White\",\" White\",\" White\",\" White\",\" White\",\" White\",\" White\",\" White\",\" White\",\" White\",\" White\",\" White\",\" White\",\" White\",\" White\",\" White\",\" White\",\" Black\",\" White\",\" White\",\" White\",\" White\",\" White\",\" White\",\" White\",\" White\",\" White\",\" White\",\" Black\",\" White\",\" White\",\" White\",\" White\",\" White\",\" Black\",\" White\",\" Amer-Indian-Eskimo\",\" White\",\" White\",\" White\",\" White\",\" White\",\" White\",\" White\",\" White\",\" Other\",\" White\",\" White\",\" White\",\" White\",\" White\",\" White\",\" White\",\" White\",\" White\",\" White\",\" White\",\" White\",\" White\",\" White\",\" White\",\" White\",\" White\",\" White\",\" White\",\" White\",\" White\",\" White\",\" White\",\" White\",\" Black\",\" White\",\" White\",\" White\",\" White\",\" White\",\" White\",\" White\",\" White\",\" White\",\" White\",\" White\",\" White\",\" White\",\" White\",\" White\",\" Black\",\" White\",\" White\",\" Black\",\" Black\",\" White\",\" White\",\" White\",\" White\",\" White\",\" White\",\" White\",\" White\",\" White\",\" White\",\" Asian-Pac-Islander\",\" White\",\" White\",\" White\",\" White\",\" White\",\" White\",\" Asian-Pac-Islander\",\" White\",\" White\",\" White\",\" White\",\" White\",\" White\",\" White\",\" White\",\" White\",\" White\",\" White\",\" White\",\" White\",\" White\",\" White\",\" White\",\" White\",\" White\",\" White\",\" White\",\" White\",\" White\",\" White\",\" White\",\" Black\",\" White\",\" White\",\" White\",\" White\",\" White\",\" White\",\" Black\",\" White\",\" White\",\" White\",\" White\",\" White\",\" Black\",\" White\",\" White\",\" White\",\" Black\",\" White\",\" White\",\" White\",\" White\",\" White\",\" White\",\" White\",\" White\",\" White\",\" White\",\" White\",\" Amer-Indian-Eskimo\",\" Black\",\" White\",\" White\",\" White\",\" White\",\" Asian-Pac-Islander\",\" White\",\" White\",\" White\",\" White\",\" Black\",\" White\",\" White\",\" White\",\" White\",\" White\",\" Black\",\" White\",\" White\",\" White\",\" White\",\" White\",\" White\",\" Black\",\" White\",\" White\",\" Black\",\" White\",\" White\",\" White\",\" White\",\" White\",\" White\",\" White\",\" White\",\" White\",\" White\",\" White\",\" White\",\" White\",\" White\",\" White\",\" White\",\" White\",\" Black\",\" White\",\" White\",\" White\",\" Black\",\" White\",\" White\",\" White\",\" White\",\" White\",\" White\",\" White\",\" White\",\" White\",\" White\",\" Black\",\" Black\",\" White\",\" White\",\" Black\",\" White\",\" White\",\" Amer-Indian-Eskimo\",\" White\",\" Black\",\" White\",\" White\",\" Black\",\" White\",\" White\",\" White\",\" White\",\" White\",\" Black\",\" Black\",\" White\",\" Black\",\" White\",\" White\",\" Black\",\" White\",\" White\",\" White\",\" White\",\" White\",\" White\",\" White\",\" White\",\" White\",\" White\",\" White\",\" White\",\" Black\",\" Black\",\" White\",\" White\",\" White\",\" White\",\" White\",\" White\",\" White\",\" White\",\" Black\",\" White\",\" White\",\" White\",\" Black\",\" White\",\" White\",\" White\",\" White\",\" White\",\" White\",\" White\",\" White\",\" White\",\" White\",\" White\",\" White\",\" White\",\" Amer-Indian-Eskimo\",\" White\",\" White\",\" White\",\" White\",\" White\",\" White\",\" Black\",\" White\",\" White\",\" White\",\" White\",\" White\",\" White\",\" White\",\" White\",\" White\",\" White\",\" White\",\" White\",\" Asian-Pac-Islander\",\" White\",\" White\",\" White\",\" White\",\" White\",\" White\",\" White\",\" White\",\" White\",\" White\",\" White\",\" White\",\" White\",\" White\",\" White\",\" White\",\" Asian-Pac-Islander\",\" White\",\" White\",\" White\",\" White\",\" White\",\" White\",\" White\",\" White\",\" White\",\" White\",\" White\",\" White\",\" White\",\" White\",\" White\",\" Black\",\" White\",\" White\",\" White\",\" White\",\" White\",\" White\",\" White\",\" White\",\" White\",\" White\",\" White\",\" White\",\" Black\",\" White\",\" Black\",\" White\",\" White\",\" White\",\" Black\",\" White\",\" White\",\" White\",\" White\",\" White\",\" White\",\" White\",\" White\",\" White\",\" White\",\" White\",\" White\",\" Asian-Pac-Islander\",\" White\",\" White\",\" White\",\" White\",\" White\",\" White\",\" White\",\" White\",\" Black\",\" White\",\" White\",\" White\",\" White\",\" White\",\" White\",\" White\",\" White\",\" White\",\" White\",\" White\",\" White\",\" White\",\" White\",\" White\",\" White\",\" White\",\" White\",\" White\",\" White\",\" Asian-Pac-Islander\",\" White\",\" White\",\" White\",\" Black\",\" White\",\" White\",\" White\",\" White\",\" White\",\" White\",\" Black\",\" White\",\" White\",\" White\",\" White\",\" White\",\" White\",\" White\",\" White\",\" White\",\" White\",\" White\",\" White\",\" White\",\" White\",\" White\",\" White\",\" White\",\" Black\",\" White\",\" White\",\" White\",\" White\",\" White\",\" White\",\" White\",\" White\",\" White\",\" White\",\" White\",\" White\",\" Other\",\" White\",\" White\",\" White\",\" White\",\" White\",\" Black\",\" White\",\" White\",\" White\",\" White\",\" White\",\" White\",\" White\",\" White\",\" Black\",\" White\",\" Asian-Pac-Islander\",\" White\",\" Black\",\" White\",\" White\",\" White\",\" White\",\" White\",\" White\",\" White\",\" White\",\" White\",\" Asian-Pac-Islander\",\" White\",\" White\",\" Black\",\" White\",\" White\",\" White\",\" White\",\" White\",\" Black\",\" White\",\" White\",\" White\",\" White\",\" White\",\" Black\",\" White\",\" White\",\" White\",\" Black\",\" White\",\" White\",\" White\",\" White\",\" Asian-Pac-Islander\",\" Asian-Pac-Islander\",\" White\",\" White\",\" White\",\" White\",\" White\",\" Black\",\" White\",\" White\",\" White\",\" White\",\" White\",\" Asian-Pac-Islander\",\" White\",\" White\",\" White\",\" White\",\" White\",\" White\",\" White\",\" White\",\" Asian-Pac-Islander\",\" White\",\" Black\",\" White\",\" White\",\" White\",\" White\",\" White\",\" White\",\" White\",\" White\",\" White\",\" White\",\" Black\",\" White\",\" White\",\" White\",\" White\",\" White\",\" White\",\" White\",\" Black\",\" White\",\" White\",\" White\",\" White\",\" White\",\" White\",\" White\",\" White\",\" White\",\" Black\",\" White\",\" White\",\" White\",\" Amer-Indian-Eskimo\",\" White\",\" White\",\" White\",\" White\",\" White\",\" White\",\" White\",\" Black\",\" Black\",\" White\",\" White\",\" White\",\" White\",\" White\",\" White\",\" White\",\" White\",\" White\",\" White\",\" White\",\" White\",\" White\",\" White\",\" White\",\" White\",\" White\",\" White\",\" White\",\" White\",\" White\",\" White\",\" White\",\" White\",\" White\",\" White\",\" White\",\" White\",\" White\",\" White\",\" White\",\" White\",\" White\",\" White\",\" White\",\" White\",\" White\",\" White\",\" White\",\" White\",\" White\",\" White\",\" White\",\" White\",\" White\",\" White\",\" White\",\" White\",\" White\",\" Black\",\" White\",\" Black\",\" White\",\" White\",\" White\",\" Black\",\" White\",\" Black\",\" White\",\" White\",\" White\",\" White\",\" Black\",\" Asian-Pac-Islander\",\" White\",\" White\",\" White\",\" White\",\" White\",\" White\",\" White\",\" White\",\" Black\",\" White\",\" White\",\" White\",\" White\",\" Black\",\" White\",\" White\",\" White\",\" Black\",\" Black\",\" White\",\" Black\",\" White\",\" White\",\" White\",\" White\",\" White\",\" White\",\" White\",\" White\",\" White\",\" White\",\" White\",\" Black\",\" White\",\" White\",\" White\",\" Black\",\" Black\",\" White\",\" White\",\" White\",\" White\",\" White\",\" Black\",\" White\",\" White\",\" White\",\" White\",\" White\",\" White\",\" Black\",\" Black\",\" Black\",\" White\",\" White\",\" White\",\" White\",\" White\",\" White\",\" White\",\" White\",\" White\",\" White\",\" White\",\" White\",\" Black\",\" White\",\" Black\",\" Other\",\" White\",\" White\",\" White\",\" Black\",\" White\",\" White\",\" White\",\" White\",\" Asian-Pac-Islander\",\" White\",\" White\",\" White\",\" White\",\" White\",\" Black\",\" White\",\" White\",\" White\",\" White\",\" White\",\" White\",\" White\",\" White\",\" White\",\" White\",\" White\",\" Other\",\" White\",\" White\",\" White\",\" White\",\" White\",\" White\",\" White\",\" White\",\" White\",\" White\",\" White\",\" White\",\" White\",\" White\",\" White\",\" White\",\" White\",\" White\",\" White\",\" White\",\" White\",\" White\",\" White\",\" White\",\" White\",\" Black\",\" White\",\" Amer-Indian-Eskimo\",\" White\",\" Black\",\" Black\",\" White\",\" Asian-Pac-Islander\",\" White\",\" Amer-Indian-Eskimo\",\" White\",\" White\",\" White\",\" White\",\" Amer-Indian-Eskimo\",\" White\",\" White\",\" White\",\" White\",\" White\",\" White\",\" White\",\" White\",\" White\",\" White\",\" White\",\" White\",\" White\",\" White\",\" White\",\" White\",\" White\",\" Black\",\" White\",\" Black\",\" White\",\" White\",\" White\",\" White\",\" White\",\" White\",\" White\",\" White\",\" White\",\" White\",\" White\",\" White\",\" White\",\" White\",\" White\",\" White\",\" White\",\" White\",\" Black\",\" White\",\" White\",\" White\",\" White\",\" Black\",\" White\",\" White\",\" White\",\" White\",\" White\",\" White\",\" White\",\" White\",\" White\",\" White\",\" White\",\" White\",\" White\",\" White\",\" White\",\" White\",\" White\",\" White\",\" White\",\" White\",\" White\",\" White\",\" White\",\" White\",\" White\",\" White\",\" White\",\" White\",\" White\",\" White\",\" Black\",\" White\",\" White\",\" White\",\" White\",\" White\",\" White\",\" White\",\" White\",\" Black\",\" White\",\" White\",\" White\",\" Black\",\" White\",\" White\",\" White\",\" White\",\" White\",\" White\",\" White\",\" White\",\" White\",\" White\",\" White\",\" White\",\" White\",\" White\",\" White\",\" White\",\" White\",\" White\",\" White\",\" White\",\" White\",\" White\",\" White\",\" White\",\" White\",\" White\",\" White\",\" White\",\" White\",\" White\",\" White\",\" White\",\" White\",\" White\",\" White\",\" White\",\" White\",\" White\",\" Black\",\" White\",\" White\",\" White\",\" White\",\" Black\",\" White\",\" White\",\" White\",\" White\",\" White\",\" Black\",\" White\",\" White\",\" Asian-Pac-Islander\",\" White\",\" White\",\" Asian-Pac-Islander\",\" White\",\" White\",\" White\",\" White\",\" White\",\" White\",\" White\",\" Other\",\" White\",\" White\",\" White\",\" White\",\" White\",\" White\",\" White\",\" White\",\" White\",\" White\",\" White\",\" White\",\" White\",\" Amer-Indian-Eskimo\",\" White\",\" Black\",\" Black\",\" White\",\" White\",\" White\",\" Black\",\" White\",\" White\",\" White\",\" White\",\" White\",\" Black\",\" White\",\" White\",\" White\",\" White\",\" Amer-Indian-Eskimo\",\" White\",\" White\",\" White\",\" White\",\" White\",\" Black\",\" Amer-Indian-Eskimo\",\" White\",\" Other\",\" White\",\" White\",\" White\",\" White\",\" White\",\" Asian-Pac-Islander\",\" White\",\" White\",\" White\",\" White\",\" White\",\" White\",\" Black\",\" White\",\" White\",\" Black\",\" White\",\" Other\",\" White\",\" White\",\" White\",\" Black\",\" White\",\" White\",\" White\",\" White\",\" White\",\" White\",\" White\",\" White\",\" White\",\" White\",\" Black\",\" White\",\" White\",\" White\",\" White\",\" White\",\" White\",\" White\",\" White\",\" White\",\" White\",\" White\",\" White\",\" White\",\" White\",\" White\",\" Asian-Pac-Islander\",\" White\",\" White\",\" White\",\" White\",\" White\",\" White\",\" White\",\" White\",\" White\",\" White\",\" White\",\" White\",\" White\",\" White\",\" White\",\" Black\",\" White\",\" White\",\" White\",\" White\",\" White\",\" White\",\" White\",\" White\",\" White\",\" Black\",\" White\",\" White\",\" White\",\" Black\",\" Amer-Indian-Eskimo\",\" White\",\" White\",\" Black\",\" White\",\" White\",\" White\",\" Asian-Pac-Islander\",\" White\",\" White\",\" White\",\" Black\",\" White\",\" Black\",\" White\",\" White\",\" White\",\" White\",\" White\",\" Black\",\" White\",\" White\",\" White\",\" White\",\" White\",\" White\",\" White\",\" White\",\" White\",\" White\",\" Black\",\" White\",\" Black\",\" White\",\" White\",\" White\",\" White\",\" White\",\" White\",\" Black\",\" White\",\" White\",\" White\",\" White\",\" White\",\" White\",\" White\",\" Black\",\" White\",\" White\",\" White\",\" White\",\" White\",\" White\",\" White\",\" White\",\" White\",\" White\",\" White\",\" White\",\" White\",\" Asian-Pac-Islander\",\" White\",\" Black\",\" White\",\" White\",\" Black\",\" White\",\" White\",\" White\",\" White\",\" Black\",\" Black\",\" White\",\" Amer-Indian-Eskimo\",\" White\",\" White\",\" White\",\" White\",\" White\",\" White\",\" White\",\" White\",\" White\",\" White\",\" Other\",\" White\",\" White\",\" White\",\" Black\",\" Black\",\" White\",\" White\",\" White\",\" White\",\" White\",\" White\",\" Black\",\" White\",\" Black\",\" White\",\" Black\",\" White\",\" White\",\" Amer-Indian-Eskimo\",\" White\",\" White\",\" White\",\" White\",\" White\",\" Asian-Pac-Islander\",\" Asian-Pac-Islander\",\" White\",\" White\",\" White\",\" White\",\" Asian-Pac-Islander\",\" White\",\" White\",\" White\",\" White\",\" White\",\" Amer-Indian-Eskimo\",\" White\",\" White\",\" Asian-Pac-Islander\",\" White\",\" White\",\" White\",\" White\",\" White\",\" White\",\" White\",\" Amer-Indian-Eskimo\",\" White\",\" White\",\" White\",\" White\",\" Asian-Pac-Islander\",\" Asian-Pac-Islander\",\" White\",\" White\",\" White\",\" White\",\" White\",\" White\",\" White\",\" White\",\" White\",\" White\",\" White\",\" White\",\" White\",\" White\",\" White\",\" Black\",\" White\",\" Black\",\" White\",\" Black\",\" White\",\" White\",\" White\",\" White\",\" White\",\" White\",\" White\",\" White\",\" White\",\" Black\",\" White\",\" White\",\" White\",\" Black\",\" Black\",\" White\",\" White\",\" White\",\" White\",\" White\",\" White\",\" White\",\" White\",\" Asian-Pac-Islander\",\" White\",\" White\",\" White\",\" Black\",\" White\",\" White\",\" White\",\" White\",\" White\",\" White\",\" White\",\" White\",\" Asian-Pac-Islander\",\" Asian-Pac-Islander\",\" White\",\" White\",\" White\",\" White\",\" White\",\" White\",\" White\",\" White\",\" White\",\" White\",\" White\",\" White\",\" White\",\" White\",\" White\",\" White\",\" White\",\" Asian-Pac-Islander\",\" White\",\" White\",\" White\",\" White\",\" White\",\" White\",\" White\",\" Amer-Indian-Eskimo\",\" White\",\" White\",\" White\",\" White\",\" White\",\" White\",\" Black\",\" White\",\" White\",\" White\",\" White\",\" White\",\" White\",\" White\",\" White\",\" White\",\" White\",\" White\",\" White\",\" White\",\" White\",\" Black\",\" White\",\" Black\",\" White\",\" White\",\" White\",\" White\",\" White\",\" White\",\" White\",\" Black\",\" White\",\" White\",\" White\",\" Black\",\" White\",\" White\",\" White\",\" White\",\" White\",\" White\",\" White\",\" White\",\" Asian-Pac-Islander\",\" White\",\" White\",\" White\",\" White\",\" White\",\" White\",\" White\",\" White\",\" Black\",\" White\",\" White\",\" White\",\" White\",\" White\",\" White\",\" White\",\" White\",\" Black\",\" White\",\" White\",\" White\",\" White\",\" White\",\" White\",\" White\",\" Black\",\" White\",\" White\",\" White\",\" White\",\" White\",\" White\",\" White\",\" White\",\" White\",\" White\",\" White\",\" White\",\" White\",\" White\",\" Black\",\" White\",\" White\",\" White\",\" White\",\" White\",\" White\",\" White\",\" Asian-Pac-Islander\",\" White\",\" White\",\" White\",\" Asian-Pac-Islander\",\" White\",\" White\",\" White\",\" White\",\" White\",\" White\",\" White\",\" White\",\" White\",\" White\",\" White\",\" White\",\" White\",\" White\",\" White\",\" White\",\" White\",\" White\",\" White\",\" Black\",\" Black\",\" White\",\" White\",\" White\",\" White\",\" White\",\" White\",\" White\",\" Black\",\" Black\",\" White\",\" White\",\" White\",\" White\",\" White\",\" White\",\" Black\",\" White\",\" White\",\" Black\",\" White\",\" White\",\" White\",\" Black\",\" White\",\" Black\",\" White\",\" White\",\" White\",\" White\",\" White\",\" White\",\" White\",\" Black\",\" White\",\" White\",\" White\",\" Asian-Pac-Islander\",\" White\",\" White\",\" Black\",\" White\",\" White\",\" White\",\" White\",\" White\",\" White\",\" White\",\" White\",\" White\",\" White\",\" Black\",\" White\",\" White\",\" White\",\" White\",\" White\",\" White\",\" White\",\" White\",\" White\",\" White\",\" White\",\" White\",\" White\",\" White\",\" Asian-Pac-Islander\",\" White\",\" White\",\" White\",\" White\",\" White\",\" White\",\" White\",\" White\",\" White\",\" Asian-Pac-Islander\",\" White\",\" White\",\" White\",\" White\",\" White\",\" White\",\" White\",\" White\",\" White\",\" Asian-Pac-Islander\",\" White\",\" White\",\" White\",\" White\",\" White\",\" Other\",\" White\",\" White\",\" White\",\" Asian-Pac-Islander\",\" White\",\" White\",\" White\",\" White\",\" White\",\" Black\",\" White\",\" White\",\" White\",\" White\",\" Black\",\" Black\",\" White\",\" White\",\" White\",\" Black\",\" White\",\" White\",\" White\",\" White\",\" White\",\" White\",\" Black\",\" White\",\" Asian-Pac-Islander\",\" White\",\" White\",\" Black\",\" White\",\" Asian-Pac-Islander\",\" White\",\" Black\",\" White\",\" Black\",\" White\",\" White\",\" White\",\" White\",\" White\",\" White\",\" White\",\" White\",\" White\",\" White\",\" White\",\" White\",\" White\",\" White\",\" White\",\" White\",\" White\",\" White\",\" White\",\" White\",\" Asian-Pac-Islander\",\" Amer-Indian-Eskimo\",\" Black\",\" Black\",\" White\",\" White\",\" White\",\" White\",\" White\",\" Black\",\" White\",\" Other\",\" Black\",\" White\",\" White\",\" White\",\" White\",\" White\",\" White\",\" White\",\" Asian-Pac-Islander\",\" White\",\" White\",\" White\",\" White\",\" White\",\" White\",\" Black\",\" White\",\" White\",\" White\",\" White\",\" White\",\" White\",\" White\",\" White\",\" White\",\" White\",\" White\",\" White\",\" White\",\" White\",\" White\",\" White\",\" White\",\" Black\",\" White\",\" White\",\" White\",\" White\",\" Black\",\" White\",\" White\",\" White\",\" White\",\" White\",\" White\",\" White\",\" Black\",\" Black\",\" White\",\" Asian-Pac-Islander\",\" White\",\" White\",\" White\",\" White\",\" White\",\" White\",\" Asian-Pac-Islander\",\" White\",\" White\",\" White\",\" Asian-Pac-Islander\",\" White\",\" White\",\" White\",\" White\",\" White\",\" White\",\" White\",\" White\",\" Black\",\" White\",\" Black\",\" White\",\" White\",\" White\",\" White\",\" White\",\" White\",\" White\",\" White\",\" White\",\" White\",\" White\",\" White\",\" White\",\" White\",\" White\",\" White\",\" White\",\" White\",\" White\",\" White\",\" White\",\" White\",\" White\",\" White\",\" White\",\" White\",\" White\",\" Black\",\" White\",\" White\",\" White\",\" White\",\" White\",\" White\",\" White\",\" White\",\" White\",\" White\",\" Black\",\" White\",\" White\",\" White\",\" White\",\" White\",\" White\",\" Black\",\" White\",\" White\",\" White\",\" White\",\" Asian-Pac-Islander\",\" Black\",\" White\",\" White\",\" Black\",\" White\",\" White\",\" White\",\" White\",\" White\",\" White\",\" White\",\" White\",\" Black\",\" White\",\" Asian-Pac-Islander\",\" White\",\" White\",\" White\",\" White\",\" Asian-Pac-Islander\",\" White\",\" White\",\" White\",\" White\",\" White\",\" White\",\" White\",\" White\",\" White\",\" White\",\" White\",\" White\",\" White\",\" Black\",\" White\",\" White\",\" White\",\" White\",\" White\",\" White\",\" White\",\" White\",\" White\",\" White\",\" Black\",\" Asian-Pac-Islander\",\" White\",\" White\",\" White\",\" Black\",\" White\",\" White\",\" Black\",\" White\",\" White\",\" White\",\" White\",\" White\",\" White\",\" White\",\" White\",\" Black\",\" White\",\" White\",\" White\",\" White\",\" White\",\" White\",\" White\",\" White\",\" White\",\" White\",\" Black\",\" White\",\" White\",\" White\",\" Black\",\" White\",\" Black\",\" White\",\" White\",\" White\",\" White\",\" White\",\" White\",\" Black\",\" White\",\" White\",\" White\",\" White\",\" White\",\" White\",\" White\",\" White\",\" White\",\" White\",\" White\",\" White\",\" White\",\" White\",\" White\",\" White\",\" White\",\" White\",\" Asian-Pac-Islander\",\" White\",\" Asian-Pac-Islander\",\" Black\",\" White\",\" White\",\" White\",\" White\",\" White\",\" Other\",\" White\",\" White\",\" White\",\" White\",\" White\",\" White\",\" White\",\" White\",\" White\",\" White\",\" Other\",\" White\",\" White\",\" White\",\" Black\",\" White\",\" White\",\" White\",\" White\",\" White\",\" White\",\" White\",\" White\",\" Asian-Pac-Islander\",\" White\",\" White\",\" White\",\" White\",\" Asian-Pac-Islander\",\" White\",\" White\",\" White\",\" White\",\" White\",\" White\",\" Other\",\" White\",\" White\",\" White\",\" White\",\" White\",\" White\",\" White\",\" White\",\" White\",\" White\",\" White\",\" White\",\" White\",\" White\",\" White\",\" White\",\" White\",\" White\",\" White\",\" White\",\" White\",\" White\",\" White\",\" White\",\" White\",\" White\",\" White\",\" White\",\" White\",\" White\",\" White\",\" Asian-Pac-Islander\",\" White\",\" White\",\" White\",\" White\",\" Black\",\" White\",\" White\",\" White\",\" White\",\" White\",\" White\",\" White\",\" White\",\" White\",\" White\",\" White\",\" White\",\" White\",\" Black\",\" White\",\" White\",\" White\",\" White\",\" Asian-Pac-Islander\",\" White\",\" White\",\" White\",\" Asian-Pac-Islander\",\" White\",\" White\",\" White\",\" White\",\" White\",\" White\",\" White\",\" White\",\" White\",\" White\",\" White\",\" White\",\" Black\",\" White\",\" Black\",\" White\",\" White\",\" White\",\" White\",\" White\",\" White\",\" White\",\" White\",\" Black\",\" White\",\" White\",\" White\",\" White\",\" White\",\" White\",\" White\",\" White\",\" White\",\" White\",\" White\",\" White\",\" White\",\" White\",\" White\",\" Asian-Pac-Islander\",\" White\",\" Black\",\" White\",\" Black\",\" White\",\" White\",\" White\",\" White\",\" White\",\" Asian-Pac-Islander\",\" White\",\" White\",\" White\",\" White\",\" White\",\" Asian-Pac-Islander\",\" White\",\" White\",\" White\",\" White\",\" White\",\" White\",\" White\",\" White\",\" White\",\" White\",\" White\",\" White\",\" Asian-Pac-Islander\",\" White\",\" White\",\" White\",\" White\",\" White\",\" White\",\" White\",\" White\",\" White\",\" White\",\" White\",\" White\",\" White\",\" White\",\" White\",\" White\",\" Asian-Pac-Islander\",\" White\",\" Black\",\" White\",\" White\",\" Black\",\" White\",\" White\",\" Black\",\" Black\",\" White\",\" White\",\" White\",\" White\",\" White\",\" White\",\" White\",\" Black\",\" White\",\" White\",\" White\",\" White\",\" White\",\" White\",\" Black\",\" White\",\" White\",\" White\",\" White\",\" White\",\" White\",\" Asian-Pac-Islander\",\" White\",\" White\",\" White\",\" White\",\" Black\",\" Black\",\" White\",\" White\",\" White\",\" White\",\" White\",\" Asian-Pac-Islander\",\" Other\",\" White\",\" White\",\" White\",\" White\",\" White\",\" White\",\" White\",\" White\",\" White\",\" White\",\" Black\",\" White\",\" White\",\" White\",\" White\",\" White\",\" White\",\" White\",\" White\",\" White\",\" White\",\" White\",\" White\",\" White\",\" White\",\" White\",\" White\",\" White\",\" White\",\" White\",\" White\",\" White\",\" White\",\" White\",\" White\",\" Black\",\" White\",\" White\",\" White\",\" White\",\" White\",\" Other\",\" White\",\" White\",\" White\",\" White\",\" White\",\" White\",\" White\",\" Asian-Pac-Islander\",\" White\",\" White\",\" White\",\" Black\",\" White\",\" White\",\" White\",\" White\",\" White\",\" White\",\" White\",\" White\",\" White\",\" White\",\" White\",\" Black\",\" White\",\" White\",\" White\",\" White\",\" White\",\" White\",\" White\",\" White\",\" White\",\" White\",\" White\",\" White\",\" Black\",\" White\",\" White\",\" White\",\" White\",\" Amer-Indian-Eskimo\",\" Black\",\" White\",\" Asian-Pac-Islander\",\" White\",\" White\",\" White\",\" White\",\" White\",\" White\",\" White\",\" White\",\" White\",\" White\",\" White\",\" White\",\" White\",\" White\",\" White\",\" White\",\" White\",\" White\",\" White\",\" White\",\" White\",\" White\",\" White\",\" White\",\" White\",\" White\",\" Black\",\" White\",\" White\",\" White\",\" White\",\" White\",\" White\",\" White\",\" White\",\" Black\",\" White\",\" White\",\" White\",\" White\",\" White\",\" White\",\" White\",\" Black\",\" White\",\" Black\",\" Black\",\" White\",\" White\",\" White\",\" Black\",\" White\",\" White\",\" White\",\" Black\",\" White\",\" White\",\" White\",\" White\",\" White\",\" White\",\" White\",\" White\",\" White\",\" White\",\" White\",\" Other\",\" White\",\" White\",\" White\",\" Black\",\" White\",\" White\",\" White\",\" White\",\" White\",\" Black\",\" White\",\" White\",\" Black\",\" White\",\" Black\",\" White\",\" White\",\" White\",\" White\",\" White\",\" White\",\" White\",\" Amer-Indian-Eskimo\",\" White\",\" White\",\" White\",\" White\",\" White\",\" White\",\" White\",\" White\",\" White\",\" White\",\" White\",\" White\",\" Other\",\" White\",\" White\",\" White\",\" White\",\" White\",\" White\",\" White\",\" White\",\" White\",\" White\",\" White\",\" White\",\" White\",\" White\",\" White\",\" White\",\" White\",\" White\",\" Black\",\" White\",\" White\",\" White\",\" Asian-Pac-Islander\",\" Black\",\" White\",\" White\",\" Black\",\" White\",\" White\",\" White\",\" White\",\" White\",\" White\",\" Black\",\" White\",\" White\",\" Black\",\" White\",\" White\",\" White\",\" Asian-Pac-Islander\",\" White\",\" White\",\" White\",\" White\",\" White\",\" White\",\" White\",\" White\",\" White\",\" White\",\" White\",\" White\",\" Other\",\" White\",\" White\",\" White\",\" White\",\" White\",\" White\",\" White\",\" Black\",\" White\",\" White\",\" White\",\" White\",\" Asian-Pac-Islander\",\" White\",\" White\",\" White\",\" White\",\" White\",\" White\",\" White\",\" White\",\" White\",\" White\",\" White\",\" White\",\" White\",\" White\",\" Black\",\" Black\",\" White\",\" White\",\" White\",\" Asian-Pac-Islander\",\" White\",\" White\",\" Black\",\" White\",\" White\",\" White\",\" Asian-Pac-Islander\",\" Black\",\" White\",\" White\",\" White\",\" White\",\" White\",\" White\",\" White\",\" White\",\" White\",\" White\",\" White\",\" White\",\" Asian-Pac-Islander\",\" White\",\" White\",\" White\",\" White\",\" White\",\" White\",\" White\",\" White\",\" White\",\" White\",\" White\",\" White\",\" White\",\" White\",\" White\",\" White\",\" White\",\" White\",\" White\",\" Black\",\" White\",\" White\",\" White\",\" White\",\" White\",\" White\",\" White\",\" White\",\" White\",\" White\",\" White\",\" White\",\" White\",\" White\",\" White\",\" White\",\" Black\",\" White\",\" White\",\" Asian-Pac-Islander\",\" White\",\" White\",\" White\",\" White\",\" White\",\" White\",\" White\",\" White\",\" White\",\" White\",\" White\",\" White\",\" White\",\" White\",\" White\",\" White\",\" White\",\" White\",\" White\",\" White\",\" White\",\" Black\",\" White\",\" White\",\" Black\",\" White\",\" White\",\" White\",\" White\",\" Asian-Pac-Islander\",\" White\",\" White\",\" White\",\" Asian-Pac-Islander\",\" Asian-Pac-Islander\",\" White\",\" White\",\" White\",\" White\",\" White\",\" White\",\" White\",\" White\",\" White\",\" White\",\" White\",\" White\",\" White\",\" White\",\" White\",\" Black\",\" White\",\" White\",\" White\",\" White\",\" White\",\" White\",\" White\",\" White\",\" Black\",\" White\",\" Amer-Indian-Eskimo\",\" Other\",\" White\",\" White\",\" White\",\" White\",\" Black\",\" White\",\" White\",\" White\",\" White\",\" Amer-Indian-Eskimo\",\" White\",\" White\",\" White\",\" White\",\" White\",\" White\",\" Amer-Indian-Eskimo\",\" White\",\" White\",\" White\",\" White\",\" Asian-Pac-Islander\",\" White\",\" White\",\" White\",\" White\",\" White\",\" White\",\" White\",\" White\",\" Other\",\" White\",\" White\",\" White\",\" White\",\" White\",\" Black\",\" White\",\" White\",\" White\",\" Black\",\" White\",\" White\",\" White\",\" White\",\" White\",\" White\",\" White\",\" White\",\" White\",\" White\",\" White\",\" Asian-Pac-Islander\",\" Black\",\" White\",\" Black\",\" White\",\" White\",\" Black\",\" White\",\" White\",\" White\",\" White\",\" White\",\" White\",\" White\",\" White\",\" White\",\" White\",\" White\",\" White\",\" Black\",\" White\",\" White\",\" White\",\" White\",\" White\",\" White\",\" White\",\" White\",\" White\",\" White\",\" White\",\" White\",\" White\",\" White\",\" White\",\" White\",\" White\",\" White\",\" White\",\" White\",\" White\",\" White\",\" Asian-Pac-Islander\",\" White\",\" White\",\" White\",\" White\",\" White\",\" White\",\" White\",\" White\",\" Black\",\" Asian-Pac-Islander\",\" White\",\" White\",\" White\",\" White\",\" Black\",\" White\",\" White\",\" White\",\" White\",\" White\",\" White\",\" Black\",\" White\",\" White\",\" White\",\" White\",\" White\",\" White\",\" White\",\" White\",\" White\",\" Black\",\" White\",\" White\",\" White\",\" White\",\" White\",\" White\",\" White\",\" White\",\" White\",\" White\",\" Asian-Pac-Islander\",\" White\",\" White\",\" White\",\" White\",\" White\",\" Asian-Pac-Islander\",\" White\",\" White\",\" White\",\" White\",\" Black\",\" White\",\" White\",\" White\",\" White\",\" White\",\" White\",\" White\",\" White\",\" White\",\" White\",\" White\",\" White\",\" White\",\" White\",\" Black\",\" White\",\" White\",\" White\",\" White\",\" Black\",\" White\",\" White\",\" White\",\" White\",\" White\",\" White\",\" White\",\" White\",\" White\",\" White\",\" Black\",\" White\",\" White\",\" White\",\" White\",\" White\",\" White\",\" White\",\" White\",\" Black\",\" White\",\" White\",\" White\",\" Amer-Indian-Eskimo\",\" White\",\" White\",\" Asian-Pac-Islander\",\" White\",\" White\",\" White\",\" Other\",\" White\",\" White\",\" White\",\" White\",\" White\",\" White\",\" White\",\" White\",\" White\",\" Black\",\" White\",\" White\",\" Black\",\" Black\",\" White\",\" White\",\" White\",\" Black\",\" White\",\" White\",\" White\",\" White\",\" White\",\" White\",\" Asian-Pac-Islander\",\" White\",\" White\",\" White\",\" White\",\" White\",\" White\",\" White\",\" White\",\" White\",\" White\",\" White\",\" White\",\" White\",\" White\",\" White\",\" White\",\" White\",\" White\",\" White\",\" Black\",\" White\",\" Black\",\" White\",\" White\",\" White\",\" White\",\" White\",\" White\",\" Asian-Pac-Islander\",\" White\",\" White\",\" Black\",\" Black\",\" Black\",\" White\",\" White\",\" White\",\" White\",\" White\",\" White\",\" White\",\" Black\",\" White\",\" White\",\" White\",\" White\",\" White\",\" Black\",\" White\",\" White\",\" Black\",\" White\",\" White\",\" Black\",\" White\",\" White\",\" Black\",\" White\",\" White\",\" White\",\" White\",\" White\",\" White\",\" Black\",\" White\",\" White\",\" White\",\" White\",\" White\",\" White\",\" White\",\" White\",\" White\",\" Asian-Pac-Islander\",\" White\",\" Asian-Pac-Islander\",\" White\",\" Black\",\" White\",\" Black\",\" Black\",\" White\",\" White\",\" Black\",\" White\",\" White\",\" Other\",\" White\",\" White\",\" White\",\" White\",\" White\",\" White\",\" Amer-Indian-Eskimo\",\" White\",\" Asian-Pac-Islander\",\" White\",\" White\",\" White\",\" White\",\" White\",\" White\",\" White\"],\"legendgroup\":\"\",\"name\":\"\",\"showlegend\":true,\"type\":\"pie\"}],                        {\"template\":{\"data\":{\"bar\":[{\"error_x\":{\"color\":\"#2a3f5f\"},\"error_y\":{\"color\":\"#2a3f5f\"},\"marker\":{\"line\":{\"color\":\"#E5ECF6\",\"width\":0.5},\"pattern\":{\"fillmode\":\"overlay\",\"size\":10,\"solidity\":0.2}},\"type\":\"bar\"}],\"barpolar\":[{\"marker\":{\"line\":{\"color\":\"#E5ECF6\",\"width\":0.5},\"pattern\":{\"fillmode\":\"overlay\",\"size\":10,\"solidity\":0.2}},\"type\":\"barpolar\"}],\"carpet\":[{\"aaxis\":{\"endlinecolor\":\"#2a3f5f\",\"gridcolor\":\"white\",\"linecolor\":\"white\",\"minorgridcolor\":\"white\",\"startlinecolor\":\"#2a3f5f\"},\"baxis\":{\"endlinecolor\":\"#2a3f5f\",\"gridcolor\":\"white\",\"linecolor\":\"white\",\"minorgridcolor\":\"white\",\"startlinecolor\":\"#2a3f5f\"},\"type\":\"carpet\"}],\"choropleth\":[{\"colorbar\":{\"outlinewidth\":0,\"ticks\":\"\"},\"type\":\"choropleth\"}],\"contour\":[{\"colorbar\":{\"outlinewidth\":0,\"ticks\":\"\"},\"colorscale\":[[0.0,\"#0d0887\"],[0.1111111111111111,\"#46039f\"],[0.2222222222222222,\"#7201a8\"],[0.3333333333333333,\"#9c179e\"],[0.4444444444444444,\"#bd3786\"],[0.5555555555555556,\"#d8576b\"],[0.6666666666666666,\"#ed7953\"],[0.7777777777777778,\"#fb9f3a\"],[0.8888888888888888,\"#fdca26\"],[1.0,\"#f0f921\"]],\"type\":\"contour\"}],\"contourcarpet\":[{\"colorbar\":{\"outlinewidth\":0,\"ticks\":\"\"},\"type\":\"contourcarpet\"}],\"heatmap\":[{\"colorbar\":{\"outlinewidth\":0,\"ticks\":\"\"},\"colorscale\":[[0.0,\"#0d0887\"],[0.1111111111111111,\"#46039f\"],[0.2222222222222222,\"#7201a8\"],[0.3333333333333333,\"#9c179e\"],[0.4444444444444444,\"#bd3786\"],[0.5555555555555556,\"#d8576b\"],[0.6666666666666666,\"#ed7953\"],[0.7777777777777778,\"#fb9f3a\"],[0.8888888888888888,\"#fdca26\"],[1.0,\"#f0f921\"]],\"type\":\"heatmap\"}],\"heatmapgl\":[{\"colorbar\":{\"outlinewidth\":0,\"ticks\":\"\"},\"colorscale\":[[0.0,\"#0d0887\"],[0.1111111111111111,\"#46039f\"],[0.2222222222222222,\"#7201a8\"],[0.3333333333333333,\"#9c179e\"],[0.4444444444444444,\"#bd3786\"],[0.5555555555555556,\"#d8576b\"],[0.6666666666666666,\"#ed7953\"],[0.7777777777777778,\"#fb9f3a\"],[0.8888888888888888,\"#fdca26\"],[1.0,\"#f0f921\"]],\"type\":\"heatmapgl\"}],\"histogram\":[{\"marker\":{\"pattern\":{\"fillmode\":\"overlay\",\"size\":10,\"solidity\":0.2}},\"type\":\"histogram\"}],\"histogram2d\":[{\"colorbar\":{\"outlinewidth\":0,\"ticks\":\"\"},\"colorscale\":[[0.0,\"#0d0887\"],[0.1111111111111111,\"#46039f\"],[0.2222222222222222,\"#7201a8\"],[0.3333333333333333,\"#9c179e\"],[0.4444444444444444,\"#bd3786\"],[0.5555555555555556,\"#d8576b\"],[0.6666666666666666,\"#ed7953\"],[0.7777777777777778,\"#fb9f3a\"],[0.8888888888888888,\"#fdca26\"],[1.0,\"#f0f921\"]],\"type\":\"histogram2d\"}],\"histogram2dcontour\":[{\"colorbar\":{\"outlinewidth\":0,\"ticks\":\"\"},\"colorscale\":[[0.0,\"#0d0887\"],[0.1111111111111111,\"#46039f\"],[0.2222222222222222,\"#7201a8\"],[0.3333333333333333,\"#9c179e\"],[0.4444444444444444,\"#bd3786\"],[0.5555555555555556,\"#d8576b\"],[0.6666666666666666,\"#ed7953\"],[0.7777777777777778,\"#fb9f3a\"],[0.8888888888888888,\"#fdca26\"],[1.0,\"#f0f921\"]],\"type\":\"histogram2dcontour\"}],\"mesh3d\":[{\"colorbar\":{\"outlinewidth\":0,\"ticks\":\"\"},\"type\":\"mesh3d\"}],\"parcoords\":[{\"line\":{\"colorbar\":{\"outlinewidth\":0,\"ticks\":\"\"}},\"type\":\"parcoords\"}],\"pie\":[{\"automargin\":true,\"type\":\"pie\"}],\"scatter\":[{\"marker\":{\"colorbar\":{\"outlinewidth\":0,\"ticks\":\"\"}},\"type\":\"scatter\"}],\"scatter3d\":[{\"line\":{\"colorbar\":{\"outlinewidth\":0,\"ticks\":\"\"}},\"marker\":{\"colorbar\":{\"outlinewidth\":0,\"ticks\":\"\"}},\"type\":\"scatter3d\"}],\"scattercarpet\":[{\"marker\":{\"colorbar\":{\"outlinewidth\":0,\"ticks\":\"\"}},\"type\":\"scattercarpet\"}],\"scattergeo\":[{\"marker\":{\"colorbar\":{\"outlinewidth\":0,\"ticks\":\"\"}},\"type\":\"scattergeo\"}],\"scattergl\":[{\"marker\":{\"colorbar\":{\"outlinewidth\":0,\"ticks\":\"\"}},\"type\":\"scattergl\"}],\"scattermapbox\":[{\"marker\":{\"colorbar\":{\"outlinewidth\":0,\"ticks\":\"\"}},\"type\":\"scattermapbox\"}],\"scatterpolar\":[{\"marker\":{\"colorbar\":{\"outlinewidth\":0,\"ticks\":\"\"}},\"type\":\"scatterpolar\"}],\"scatterpolargl\":[{\"marker\":{\"colorbar\":{\"outlinewidth\":0,\"ticks\":\"\"}},\"type\":\"scatterpolargl\"}],\"scatterternary\":[{\"marker\":{\"colorbar\":{\"outlinewidth\":0,\"ticks\":\"\"}},\"type\":\"scatterternary\"}],\"surface\":[{\"colorbar\":{\"outlinewidth\":0,\"ticks\":\"\"},\"colorscale\":[[0.0,\"#0d0887\"],[0.1111111111111111,\"#46039f\"],[0.2222222222222222,\"#7201a8\"],[0.3333333333333333,\"#9c179e\"],[0.4444444444444444,\"#bd3786\"],[0.5555555555555556,\"#d8576b\"],[0.6666666666666666,\"#ed7953\"],[0.7777777777777778,\"#fb9f3a\"],[0.8888888888888888,\"#fdca26\"],[1.0,\"#f0f921\"]],\"type\":\"surface\"}],\"table\":[{\"cells\":{\"fill\":{\"color\":\"#EBF0F8\"},\"line\":{\"color\":\"white\"}},\"header\":{\"fill\":{\"color\":\"#C8D4E3\"},\"line\":{\"color\":\"white\"}},\"type\":\"table\"}]},\"layout\":{\"annotationdefaults\":{\"arrowcolor\":\"#2a3f5f\",\"arrowhead\":0,\"arrowwidth\":1},\"autotypenumbers\":\"strict\",\"coloraxis\":{\"colorbar\":{\"outlinewidth\":0,\"ticks\":\"\"}},\"colorscale\":{\"diverging\":[[0,\"#8e0152\"],[0.1,\"#c51b7d\"],[0.2,\"#de77ae\"],[0.3,\"#f1b6da\"],[0.4,\"#fde0ef\"],[0.5,\"#f7f7f7\"],[0.6,\"#e6f5d0\"],[0.7,\"#b8e186\"],[0.8,\"#7fbc41\"],[0.9,\"#4d9221\"],[1,\"#276419\"]],\"sequential\":[[0.0,\"#0d0887\"],[0.1111111111111111,\"#46039f\"],[0.2222222222222222,\"#7201a8\"],[0.3333333333333333,\"#9c179e\"],[0.4444444444444444,\"#bd3786\"],[0.5555555555555556,\"#d8576b\"],[0.6666666666666666,\"#ed7953\"],[0.7777777777777778,\"#fb9f3a\"],[0.8888888888888888,\"#fdca26\"],[1.0,\"#f0f921\"]],\"sequentialminus\":[[0.0,\"#0d0887\"],[0.1111111111111111,\"#46039f\"],[0.2222222222222222,\"#7201a8\"],[0.3333333333333333,\"#9c179e\"],[0.4444444444444444,\"#bd3786\"],[0.5555555555555556,\"#d8576b\"],[0.6666666666666666,\"#ed7953\"],[0.7777777777777778,\"#fb9f3a\"],[0.8888888888888888,\"#fdca26\"],[1.0,\"#f0f921\"]]},\"colorway\":[\"#636efa\",\"#EF553B\",\"#00cc96\",\"#ab63fa\",\"#FFA15A\",\"#19d3f3\",\"#FF6692\",\"#B6E880\",\"#FF97FF\",\"#FECB52\"],\"font\":{\"color\":\"#2a3f5f\"},\"geo\":{\"bgcolor\":\"white\",\"lakecolor\":\"white\",\"landcolor\":\"#E5ECF6\",\"showlakes\":true,\"showland\":true,\"subunitcolor\":\"white\"},\"hoverlabel\":{\"align\":\"left\"},\"hovermode\":\"closest\",\"mapbox\":{\"style\":\"light\"},\"paper_bgcolor\":\"white\",\"plot_bgcolor\":\"#E5ECF6\",\"polar\":{\"angularaxis\":{\"gridcolor\":\"white\",\"linecolor\":\"white\",\"ticks\":\"\"},\"bgcolor\":\"#E5ECF6\",\"radialaxis\":{\"gridcolor\":\"white\",\"linecolor\":\"white\",\"ticks\":\"\"}},\"scene\":{\"xaxis\":{\"backgroundcolor\":\"#E5ECF6\",\"gridcolor\":\"white\",\"gridwidth\":2,\"linecolor\":\"white\",\"showbackground\":true,\"ticks\":\"\",\"zerolinecolor\":\"white\"},\"yaxis\":{\"backgroundcolor\":\"#E5ECF6\",\"gridcolor\":\"white\",\"gridwidth\":2,\"linecolor\":\"white\",\"showbackground\":true,\"ticks\":\"\",\"zerolinecolor\":\"white\"},\"zaxis\":{\"backgroundcolor\":\"#E5ECF6\",\"gridcolor\":\"white\",\"gridwidth\":2,\"linecolor\":\"white\",\"showbackground\":true,\"ticks\":\"\",\"zerolinecolor\":\"white\"}},\"shapedefaults\":{\"line\":{\"color\":\"#2a3f5f\"}},\"ternary\":{\"aaxis\":{\"gridcolor\":\"white\",\"linecolor\":\"white\",\"ticks\":\"\"},\"baxis\":{\"gridcolor\":\"white\",\"linecolor\":\"white\",\"ticks\":\"\"},\"bgcolor\":\"#E5ECF6\",\"caxis\":{\"gridcolor\":\"white\",\"linecolor\":\"white\",\"ticks\":\"\"}},\"title\":{\"x\":0.05},\"xaxis\":{\"automargin\":true,\"gridcolor\":\"white\",\"linecolor\":\"white\",\"ticks\":\"\",\"title\":{\"standoff\":15},\"zerolinecolor\":\"white\",\"zerolinewidth\":2},\"yaxis\":{\"automargin\":true,\"gridcolor\":\"white\",\"linecolor\":\"white\",\"ticks\":\"\",\"title\":{\"standoff\":15},\"zerolinecolor\":\"white\",\"zerolinewidth\":2}}},\"legend\":{\"tracegroupgap\":0},\"margin\":{\"t\":60}},                        {\"responsive\": true}                    ).then(function(){\n",
              "                            \n",
              "var gd = document.getElementById('3df15431-6faf-4f71-a114-295ac8a0b56e');\n",
              "var x = new MutationObserver(function (mutations, observer) {{\n",
              "        var display = window.getComputedStyle(gd).display;\n",
              "        if (!display || display === 'none') {{\n",
              "            console.log([gd, 'removed!']);\n",
              "            Plotly.purge(gd);\n",
              "            observer.disconnect();\n",
              "        }}\n",
              "}});\n",
              "\n",
              "// Listen for the removal of the full notebook cells\n",
              "var notebookContainer = gd.closest('#notebook-container');\n",
              "if (notebookContainer) {{\n",
              "    x.observe(notebookContainer, {childList: true});\n",
              "}}\n",
              "\n",
              "// Listen for the clearing of the current output cell\n",
              "var outputEl = gd.closest('.output');\n",
              "if (outputEl) {{\n",
              "    x.observe(outputEl, {childList: true});\n",
              "}}\n",
              "\n",
              "                        })                };                            </script>        </div>\n",
              "</body>\n",
              "</html>"
            ]
          },
          "metadata": {}
        }
      ]
    },
    {
      "cell_type": "code",
      "source": [],
      "metadata": {
        "id": "bc2YQtJCwbrS"
      },
      "execution_count": 37,
      "outputs": []
    }
  ]
}